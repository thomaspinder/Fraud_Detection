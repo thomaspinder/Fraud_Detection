{
 "cells": [
  {
   "cell_type": "markdown",
   "metadata": {
    "collapsed": true
   },
   "source": [
    "# Exploratory Analysis into The Hut Group's Fraud Dataset\n"
   ]
  },
  {
   "cell_type": "code",
   "execution_count": 3,
   "metadata": {
    "collapsed": false
   },
   "outputs": [
    {
     "name": "stdout",
     "output_type": "stream",
     "text": [
      "MAIN_chargeback_data.csv\n",
      "country_code_lookup.csv\n",
      "payment_method_lookup.csv\n",
      "medium_lookup.csv\n",
      "locale_lookup.csv\n",
      "MAIN_customer_data.csv\n",
      "MAIN_transaction_data.csv\n",
      "payment_status_lookup.csv\n",
      "payment_provider_lookup.csv\n",
      "delivery_option_lookup.csv\n",
      "Read me.docx\n"
     ]
    }
   ],
   "source": [
    "from glob import glob\n",
    "import os\n",
    "\n",
    "dir = \"/home/tpin3694/Documents/university/MSc/fundamental/THG-Jarvis/\"\n",
    "for file in glob(os.path.join(dir, \"*.*\")):\n",
    "    print(file.replace(dir, \"\"))"
   ]
  },
  {
   "cell_type": "code",
   "execution_count": null,
   "metadata": {
    "collapsed": true
   },
   "outputs": [],
   "source": []
  }
 ],
 "metadata": {
  "anaconda-cloud": {},
  "kernelspec": {
   "display_name": "Python 3",
   "language": "python",
   "name": "python3"
  },
  "language_info": {
   "codemirror_mode": {
    "name": "ipython",
    "version": 3
   },
   "file_extension": ".py",
   "mimetype": "text/x-python",
   "name": "python",
   "nbconvert_exporter": "python",
   "pygments_lexer": "ipython3",
   "version": "3.5.2"
  }
 },
 "nbformat": 4,
 "nbformat_minor": 0
}
