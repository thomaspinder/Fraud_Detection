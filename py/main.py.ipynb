{
 "cells": [
  {
   "cell_type": "markdown",
   "metadata": {
    "collapsed": true
   },
   "source": [
    "# Exploratory Analysis into The Hut Group's Fraud Dataset\n",
    "\n",
    "It makes sense to first look at what data, lookups and meta-descriptions are included in the data."
   ]
  },
  {
   "cell_type": "code",
   "execution_count": 1,
   "metadata": {
    "collapsed": false
   },
   "outputs": [
    {
     "name": "stdout",
     "output_type": "stream",
     "text": [
      "MAIN_chargeback_data.csv\n",
      "country_code_lookup.csv\n",
      "payment_method_lookup.csv\n",
      "medium_lookup.csv\n",
      "locale_lookup.csv\n",
      "MAIN_customer_data.csv\n",
      "MAIN_transaction_data.csv\n",
      "payment_status_lookup.csv\n",
      "payment_provider_lookup.csv\n",
      "delivery_option_lookup.csv\n",
      "Read me.docx\n"
     ]
    }
   ],
   "source": [
    "from glob import glob\n",
    "import os\n",
    "\n",
    "%matplotlib inline\n",
    "\n",
    "\n",
    "dir = \"/home/tpin3694/Documents/university/MSc/fundamental/THG-Jarvis/\"\n",
    "for file in glob(os.path.join(dir, \"*.*\")):\n",
    "    print(file.replace(dir, \"\"))"
   ]
  },
  {
   "cell_type": "markdown",
   "metadata": {},
   "source": [
    "We're immediately interested in the customer and transaction datasets.\n",
    "\n",
    "## Transaction Data\n",
    "\n",
    "It appears there are a few errors in the file, namely in the later few columns nd with the files encryption. To get around this a few extra arguments need to be passed to the read_csv argument."
   ]
  },
  {
   "cell_type": "code",
   "execution_count": 2,
   "metadata": {
    "collapsed": false
   },
   "outputs": [
    {
     "name": "stdout",
     "output_type": "stream",
     "text": [
      "(418334, 23)\n",
      "<class 'pandas.core.frame.DataFrame'>\n",
      "RangeIndex: 418334 entries, 0 to 418333\n",
      "Data columns (total 23 columns):\n",
      "Order_Number                     418334 non-null int64\n",
      "Account_Key                      418334 non-null int64\n",
      "Delivery_Option_Type_Key         418334 non-null int64\n",
      "Order_Date_Key                   418334 non-null int64\n",
      "Payment_Method_Key               418334 non-null int64\n",
      "Locale_Key                       418334 non-null int64\n",
      "Order_Sequence_No                418334 non-null int64\n",
      "Medium_Key                       418334 non-null int64\n",
      "Campaign_Key                     418334 non-null int64\n",
      "Order_Payment_Status_Key         418334 non-null int64\n",
      "Payment_Provider_Key             418334 non-null int64\n",
      "Ordered_Product_Key              418334 non-null int64\n",
      "Category_Level_2                 418182 non-null object\n",
      "Category_Level_3                 418182 non-null object\n",
      "Product_Charge_Price             418334 non-null float64\n",
      "Ordered_Qty                      418334 non-null int64\n",
      "Cancelled_Qty                    418334 non-null int64\n",
      "Cancelled_Date_Key               418334 non-null int64\n",
      "customer_ip_address              418334 non-null object\n",
      "Postcode_Shipping_Address        418142 non-null object\n",
      "Country_Code_Shipping_Address    418332 non-null object\n",
      "Postcode_Billing_Address         418147 non-null object\n",
      "Country_Code_Billing_Address     418327 non-null object\n",
      "dtypes: float64(1), int64(15), object(7)\n",
      "memory usage: 73.4+ MB\n",
      "None\n"
     ]
    }
   ],
   "source": [
    "import pandas as pd\n",
    "\n",
    "customer_trans = pd.read_csv(dir+\"MAIN_transaction_data.csv\", parse_dates=True,\n",
    "                             encoding = \"ISO-8859-1\", usecols = list(range(23)))\n",
    "\n",
    "print(customer_trans.shape)\n",
    "print(customer_trans.info())"
   ]
  },
  {
   "cell_type": "markdown",
   "metadata": {},
   "source": [
    "It would make sense to first take a look at the distributions of certain vairables, particurly the charge price. Within the dataset, charge price is the sum of the number of times that the respective product is in a customer's basket, so it must first be divided."
   ]
  },
  {
   "cell_type": "code",
   "execution_count": 3,
   "metadata": {
    "collapsed": false
   },
   "outputs": [
    {
     "name": "stderr",
     "output_type": "stream",
     "text": [
      "/home/tpin3694/anaconda3/lib/python3.5/site-packages/sklearn/utils/validation.py:429: DataConversionWarning: Data with input dtype int64 was converted to float64 by the scale function.\n",
      "  warnings.warn(msg, _DataConversionWarning)\n",
      "/home/tpin3694/anaconda3/lib/python3.5/site-packages/statsmodels/nonparametric/kdetools.py:20: VisibleDeprecationWarning: using a non-integer number instead of an integer will result in an error in the future\n",
      "  y = X[:m/2+1] + np.r_[0,X[m/2+1:],0]*1j\n"
     ]
    },
    {
     "name": "stdout",
     "output_type": "stream",
     "text": [
      "55.0\n",
      "64.6\n",
      "74.99\n",
      "109.67\n",
      "212.429502\n",
      "12749.99\n"
     ]
    },
    {
     "data": {
      "image/png": "[encoded data removed]",
      "text/plain": [
       "<matplotlib.figure.Figure at 0x7ff0dd8b7ef0>"
      ]
     },
     "metadata": {},
     "output_type": "display_data"
    }
   ],
   "source": [
    "import seaborn as sns\n",
    "from sklearn import preprocessing\n",
    "import numpy as np\n",
    "\n",
    "\n",
    "def pd_std(df_col):\n",
    "    vec_col = df_col.as_matrix().astype(int)\n",
    "    std_vec = preprocessing.scale(vec_col)\n",
    "    return std_vec\n",
    "\n",
    "charge_by_order = pd_std(customer_trans['Product_Charge_Price']/customer_trans[\"Ordered_Qty\"])\n",
    "sns.distplot(charge_by_order)\n",
    "\n",
    "import numpy as np\n",
    "top_perc = list(np.percentile(customer_trans['Product_Charge_Price'], q = list(range(95, 101))))\n",
    "print(*top_perc, sep = \"\\n\")\n"
   ]
  },
  {
   "cell_type": "markdown",
   "metadata": {},
   "source": [
    "So it appears there are some rather large outliers in terms of price, it could be useful to seperate out these high pricing orders into a seperate dataframe."
   ]
  },
  {
   "cell_type": "code",
   "execution_count": 4,
   "metadata": {
    "collapsed": false
   },
   "outputs": [
    {
     "ename": "ValueError",
     "evalue": "cannot convert float NaN to integer",
     "output_type": "error",
     "traceback": [
      "\u001b[0;31m---------------------------------------------------------------------------\u001b[0m",
      "\u001b[0;31mValueError\u001b[0m                                Traceback (most recent call last)",
      "\u001b[0;32m<ipython-input-4-6ca0774416dd>\u001b[0m in \u001b[0;36m<module>\u001b[0;34m()\u001b[0m\n\u001b[1;32m      4\u001b[0m \u001b[0mlow_pricing\u001b[0m \u001b[0;34m=\u001b[0m \u001b[0mcustomer_trans\u001b[0m\u001b[0;34m.\u001b[0m\u001b[0mnsmallest\u001b[0m\u001b[0;34m(\u001b[0m\u001b[0mlen\u001b[0m\u001b[0;34m(\u001b[0m\u001b[0mcustomer_trans\u001b[0m\u001b[0;34m)\u001b[0m\u001b[0;34m-\u001b[0m\u001b[0mthresh\u001b[0m\u001b[0;34m,\u001b[0m \u001b[0;34m\"Product_Charge_Price\"\u001b[0m\u001b[0;34m)\u001b[0m\u001b[0;34m\u001b[0m\u001b[0m\n\u001b[1;32m      5\u001b[0m \u001b[0;34m\u001b[0m\u001b[0m\n\u001b[0;32m----> 6\u001b[0;31m \u001b[0mlow_price_std\u001b[0m \u001b[0;34m=\u001b[0m \u001b[0mpd_std\u001b[0m\u001b[0;34m(\u001b[0m\u001b[0mlow_pricing\u001b[0m\u001b[0;34m)\u001b[0m\u001b[0;34m\u001b[0m\u001b[0m\n\u001b[0m\u001b[1;32m      7\u001b[0m \u001b[0;34m\u001b[0m\u001b[0m\n\u001b[1;32m      8\u001b[0m \u001b[0msns\u001b[0m\u001b[0;34m.\u001b[0m\u001b[0mdistplot\u001b[0m\u001b[0;34m(\u001b[0m\u001b[0mlow_pricing\u001b[0m\u001b[0;34m)\u001b[0m\u001b[0;34m\u001b[0m\u001b[0m\n",
      "\u001b[0;32m<ipython-input-3-89ba2fb9a585>\u001b[0m in \u001b[0;36mpd_std\u001b[0;34m(df_col)\u001b[0m\n\u001b[1;32m      5\u001b[0m \u001b[0;34m\u001b[0m\u001b[0m\n\u001b[1;32m      6\u001b[0m \u001b[0;32mdef\u001b[0m \u001b[0mpd_std\u001b[0m\u001b[0;34m(\u001b[0m\u001b[0mdf_col\u001b[0m\u001b[0;34m)\u001b[0m\u001b[0;34m:\u001b[0m\u001b[0;34m\u001b[0m\u001b[0m\n\u001b[0;32m----> 7\u001b[0;31m     \u001b[0mvec_col\u001b[0m \u001b[0;34m=\u001b[0m \u001b[0mdf_col\u001b[0m\u001b[0;34m.\u001b[0m\u001b[0mas_matrix\u001b[0m\u001b[0;34m(\u001b[0m\u001b[0;34m)\u001b[0m\u001b[0;34m.\u001b[0m\u001b[0mastype\u001b[0m\u001b[0;34m(\u001b[0m\u001b[0mint\u001b[0m\u001b[0;34m)\u001b[0m\u001b[0;34m\u001b[0m\u001b[0m\n\u001b[0m\u001b[1;32m      8\u001b[0m     \u001b[0mstd_vec\u001b[0m \u001b[0;34m=\u001b[0m \u001b[0mpreprocessing\u001b[0m\u001b[0;34m.\u001b[0m\u001b[0mscale\u001b[0m\u001b[0;34m(\u001b[0m\u001b[0mvec_col\u001b[0m\u001b[0;34m)\u001b[0m\u001b[0;34m\u001b[0m\u001b[0m\n\u001b[1;32m      9\u001b[0m     \u001b[0;32mreturn\u001b[0m \u001b[0mstd_vec\u001b[0m\u001b[0;34m\u001b[0m\u001b[0m\n",
      "\u001b[0;31mValueError\u001b[0m: cannot convert float NaN to integer"
     ]
    }
   ],
   "source": [
    "import math\n",
    "thresh = math.floor(len(customer_trans)*0.01)\n",
    "high_pricing = customer_trans.nlargest(thresh, \"Product_Charge_Price\")\n",
    "low_pricing = customer_trans.nsmallest(len(customer_trans)-thresh, \"Product_Charge_Price\")\n",
    "\n",
    "low_price_std = pd_std(low_pricing)\n",
    "\n",
    "sns.distplot(low_pricing)"
   ]
  }
 ],
 "metadata": {
  "anaconda-cloud": {},
  "kernelspec": {
   "display_name": "Python [conda root]",
   "language": "python",
   "name": "conda-root-py"
  },
  "language_info": {
   "codemirror_mode": {
    "name": "ipython",
    "version": 3
   },
   "file_extension": ".py",
   "mimetype": "text/x-python",
   "name": "python",
   "nbconvert_exporter": "python",
   "pygments_lexer": "ipython3",
   "version": "3.5.2"
  }
 },
 "nbformat": 4,
 "nbformat_minor": 0
}
