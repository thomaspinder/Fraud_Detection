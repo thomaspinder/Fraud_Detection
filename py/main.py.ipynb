{
 "cells": [
  {
   "cell_type": "markdown",
   "metadata": {
    "collapsed": true
   },
   "source": [
    "# Exploratory Analysis into The Hut Group's Fraud Dataset\n",
    "\n",
    "It makes sense to first look at what data, lookups and meta-descriptions are included in the data."
   ]
  },
  {
   "cell_type": "code",
   "execution_count": 2,
   "metadata": {},
   "outputs": [
    {
     "name": "stdout",
     "output_type": "stream",
     "text": [
      "MAIN_chargeback_data.csv\ncountry_code_lookup.csv\npayment_method_lookup.csv\nmedium_lookup.csv\nlocale_lookup.csv\nMAIN_customer_data.csv\nMAIN_transaction_data.csv\npayment_status_lookup.csv\npayment_provider_lookup.csv\ndelivery_option_lookup.csv\nRead me.docx\n"
     ]
    }
   ],
   "source": [
    "from glob import glob\n",
    "import os\n",
    "\n",
    "%matplotlib inline\n",
    "\n",
    "\n",
    "dir = \"/home/tpin3694/Documents/university/MSc/fundamental/THG-Jarvis/\"\n",
    "for file in glob(os.path.join(dir, \"*.*\")):\n",
    "    print(file.replace(dir, \"\"))"
   ]
  },
  {
   "cell_type": "markdown",
   "metadata": {},
   "source": [
    "We're immediately interested in the customer and transaction datasets.\n",
    "\n",
    "## Transaction Data\n",
    "\n",
    "It appears there are a few errors in the file, namely in the later few columns nd with the files encryption. To get around this a few extra arguments need to be passed to the read_csv argument."
   ]
  },
  {
   "cell_type": "code",
   "execution_count": null,
   "metadata": {},
   "outputs": [],
   "source": [
    "import pandas as pd\n",
    "\n",
    "customer_trans = pd.read_csv(dir+\"MAIN_transaction_data.csv\", parse_dates=True,\n",
    "                             encoding = \"ISO-8859-1\", usecols = list(range(23)))\n",
    "\n",
    "print(customer_trans.shape)\n",
    "print(customer_trans.info())"
   ]
  },
  {
   "cell_type": "markdown",
   "metadata": {},
   "source": [
    "It would make sense to first take a look at the distributions of certain vairables, particurly the charge price. Within the dataset, charge price is the sum of the number of times that the respective product is in a customer's basket, so it must first be divided."
   ]
  },
  {
   "cell_type": "code",
   "execution_count": null,
   "metadata": {},
   "outputs": [],
   "source": [
    "import seaborn as sns\n",
    "from sklearn import preprocessing\n",
    "import numpy as np\n",
    "\n",
    "\n",
    "def pd_std(df_col):\n",
    "    vec_col = df_col.as_matrix().astype(int)\n",
    "    std_vec = preprocessing.scale(vec_col)\n",
    "    return std_vec\n",
    "\n",
    "charge_by_order = pd_std(customer_trans['Product_Charge_Price']/customer_trans[\"Ordered_Qty\"])\n",
    "sns.distplot(charge_by_order)\n",
    "\n",
    "import numpy as np\n",
    "top_perc = list(np.percentile(customer_trans['Product_Charge_Price'], q = list(range(95, 101))))\n",
    "print(*top_perc, sep = \"\\n\")"
   ]
  },
  {
   "cell_type": "markdown",
   "metadata": {},
   "source": [
    "So it appears there are some rather large outliers in terms of price, it could be useful to seperate out these high pricing orders into a seperate dataframe."
   ]
  },
  {
   "cell_type": "code",
   "execution_count": null,
   "metadata": {},
   "outputs": [],
   "source": [
    "import math\n",
    "thresh = math.floor(len(customer_trans)*0.01)\n",
    "high_pricing = customer_trans.nlargest(thresh, \"Product_Charge_Price\")\n",
    "low_pricing = customer_trans.nsmallest(len(customer_trans)-thresh, \"Product_Charge_Price\")\n",
    "\n",
    "low_price_std = pd_std(low_pricing)\n",
    "\n",
    "sns.distplot(low_pricing)"
   ]
  }
 ],
 "metadata": {
  "kernelspec": {
   "display_name": "Python 2",
   "language": "python",
   "name": "python2"
  },
  "language_info": {
   "codemirror_mode": {
    "name": "ipython",
    "version": 2.0
   },
   "file_extension": ".py",
   "mimetype": "text/x-python",
   "name": "python",
   "nbconvert_exporter": "python",
   "pygments_lexer": "ipython2",
   "version": "2.7.6"
  }
 },
 "nbformat": 4,
 "nbformat_minor": 0
}