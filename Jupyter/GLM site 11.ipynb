{
 "cells": [
  {
   "cell_type": "markdown",
   "metadata": {},
   "source": [
    "<h1><center>GLM Site 11</center></h1>\n"
   ]
  },
  {
   "cell_type": "markdown",
   "metadata": {},
   "source": [
    "### Import all the packages that we need "
   ]
  },
  {
   "cell_type": "code",
   "execution_count": 2,
   "metadata": {},
   "outputs": [],
   "source": [
    "options(warn = -1)\n",
    "library(caret)\n",
    "library(dplyr)\n",
    "library(corrplot)\n",
    "library(DMwR)\n",
    "library(unbalanced)\n",
    "library(ROCR)\n",
    "library(pROC)\n",
    "library(boot)"
   ]
  },
  {
   "cell_type": "markdown",
   "metadata": {},
   "source": [
    "### Set working directory and load data"
   ]
  },
  {
   "cell_type": "code",
   "execution_count": 20,
   "metadata": {},
   "outputs": [
    {
     "data": {
      "text/html": [
       "<table>\n",
       "<thead><tr><th scope=col>Category_Level_2Accessories</th><th scope=col>Category_Level_2Bags</th><th scope=col>Category_Level_2Beauty.Boxes</th><th scope=col>Category_Level_2Body.Care</th><th scope=col>Category_Level_2Books</th><th scope=col>Category_Level_2Clothing</th><th scope=col>Category_Level_2DVD.and.Blu.Ray</th><th scope=col>Category_Level_2Footwear</th><th scope=col>Category_Level_2Fragrance</th><th scope=col>Category_Level_2Games</th><th scope=col>⋯</th><th scope=col>num_valid</th><th scope=col>count</th><th scope=col>prop</th><th scope=col>customer_status</th><th scope=col>canc_prop</th><th scope=col>ship_status</th><th scope=col>fraud_status</th><th scope=col>destination_int</th><th scope=col>priority_int</th><th scope=col>occupation_int</th></tr></thead>\n",
       "<tbody>\n",
       "\t<tr><td>0</td><td>0</td><td>0</td><td>0</td><td>0</td><td>0</td><td>0</td><td>1</td><td>0</td><td>0</td><td>⋯</td><td>1</td><td>1</td><td>1</td><td>2</td><td>0</td><td>1</td><td>0</td><td>2</td><td>2</td><td>1</td></tr>\n",
       "\t<tr><td>0</td><td>0</td><td>0</td><td>0</td><td>0</td><td>0</td><td>0</td><td>1</td><td>0</td><td>0</td><td>⋯</td><td>1</td><td>1</td><td>1</td><td>2</td><td>0</td><td>1</td><td>0</td><td>2</td><td>2</td><td>1</td></tr>\n",
       "\t<tr><td>0</td><td>0</td><td>0</td><td>0</td><td>0</td><td>0</td><td>0</td><td>1</td><td>0</td><td>0</td><td>⋯</td><td>0</td><td>2</td><td>0</td><td>3</td><td>1</td><td>1</td><td>0</td><td>1</td><td>1</td><td>1</td></tr>\n",
       "\t<tr><td>0</td><td>0</td><td>0</td><td>0</td><td>0</td><td>0</td><td>0</td><td>1</td><td>0</td><td>0</td><td>⋯</td><td>2</td><td>2</td><td>1</td><td>2</td><td>0</td><td>1</td><td>0</td><td>1</td><td>1</td><td>1</td></tr>\n",
       "\t<tr><td>0</td><td>0</td><td>0</td><td>0</td><td>0</td><td>0</td><td>0</td><td>1</td><td>0</td><td>0</td><td>⋯</td><td>2</td><td>2</td><td>1</td><td>2</td><td>0</td><td>1</td><td>0</td><td>1</td><td>1</td><td>1</td></tr>\n",
       "\t<tr><td>0</td><td>0</td><td>0</td><td>0</td><td>0</td><td>0</td><td>0</td><td>1</td><td>0</td><td>0</td><td>⋯</td><td>0</td><td>2</td><td>0</td><td>3</td><td>1</td><td>1</td><td>0</td><td>2</td><td>1</td><td>1</td></tr>\n",
       "</tbody>\n",
       "</table>\n"
      ],
      "text/latex": [
       "\\begin{tabular}{r|llllllllllllllllllllllllllllllllllllllllllllllllll}\n",
       " Category\\_Level\\_2Accessories & Category\\_Level\\_2Bags & Category\\_Level\\_2Beauty.Boxes & Category\\_Level\\_2Body.Care & Category\\_Level\\_2Books & Category\\_Level\\_2Clothing & Category\\_Level\\_2DVD.and.Blu.Ray & Category\\_Level\\_2Footwear & Category\\_Level\\_2Fragrance & Category\\_Level\\_2Games & ⋯ & num\\_valid & count & prop & customer\\_status & canc\\_prop & ship\\_status & fraud\\_status & destination\\_int & priority\\_int & occupation\\_int\\\\\n",
       "\\hline\n",
       "\t 0 & 0 & 0 & 0 & 0 & 0 & 0 & 1 & 0 & 0 & ⋯ & 1 & 1 & 1 & 2 & 0 & 1 & 0 & 2 & 2 & 1\\\\\n",
       "\t 0 & 0 & 0 & 0 & 0 & 0 & 0 & 1 & 0 & 0 & ⋯ & 1 & 1 & 1 & 2 & 0 & 1 & 0 & 2 & 2 & 1\\\\\n",
       "\t 0 & 0 & 0 & 0 & 0 & 0 & 0 & 1 & 0 & 0 & ⋯ & 0 & 2 & 0 & 3 & 1 & 1 & 0 & 1 & 1 & 1\\\\\n",
       "\t 0 & 0 & 0 & 0 & 0 & 0 & 0 & 1 & 0 & 0 & ⋯ & 2 & 2 & 1 & 2 & 0 & 1 & 0 & 1 & 1 & 1\\\\\n",
       "\t 0 & 0 & 0 & 0 & 0 & 0 & 0 & 1 & 0 & 0 & ⋯ & 2 & 2 & 1 & 2 & 0 & 1 & 0 & 1 & 1 & 1\\\\\n",
       "\t 0 & 0 & 0 & 0 & 0 & 0 & 0 & 1 & 0 & 0 & ⋯ & 0 & 2 & 0 & 3 & 1 & 1 & 0 & 2 & 1 & 1\\\\\n",
       "\\end{tabular}\n"
      ],
      "text/markdown": [
       "\n",
       "Category_Level_2Accessories | Category_Level_2Bags | Category_Level_2Beauty.Boxes | Category_Level_2Body.Care | Category_Level_2Books | Category_Level_2Clothing | Category_Level_2DVD.and.Blu.Ray | Category_Level_2Footwear | Category_Level_2Fragrance | Category_Level_2Games | ⋯ | num_valid | count | prop | customer_status | canc_prop | ship_status | fraud_status | destination_int | priority_int | occupation_int | \n",
       "|---|---|---|---|---|---|\n",
       "| 0 | 0 | 0 | 0 | 0 | 0 | 0 | 1 | 0 | 0 | ⋯ | 1 | 1 | 1 | 2 | 0 | 1 | 0 | 2 | 2 | 1 | \n",
       "| 0 | 0 | 0 | 0 | 0 | 0 | 0 | 1 | 0 | 0 | ⋯ | 1 | 1 | 1 | 2 | 0 | 1 | 0 | 2 | 2 | 1 | \n",
       "| 0 | 0 | 0 | 0 | 0 | 0 | 0 | 1 | 0 | 0 | ⋯ | 0 | 2 | 0 | 3 | 1 | 1 | 0 | 1 | 1 | 1 | \n",
       "| 0 | 0 | 0 | 0 | 0 | 0 | 0 | 1 | 0 | 0 | ⋯ | 2 | 2 | 1 | 2 | 0 | 1 | 0 | 1 | 1 | 1 | \n",
       "| 0 | 0 | 0 | 0 | 0 | 0 | 0 | 1 | 0 | 0 | ⋯ | 2 | 2 | 1 | 2 | 0 | 1 | 0 | 1 | 1 | 1 | \n",
       "| 0 | 0 | 0 | 0 | 0 | 0 | 0 | 1 | 0 | 0 | ⋯ | 0 | 2 | 0 | 3 | 1 | 1 | 0 | 2 | 1 | 1 | \n",
       "\n",
       "\n"
      ],
      "text/plain": [
       "  Category_Level_2Accessories Category_Level_2Bags Category_Level_2Beauty.Boxes\n",
       "1 0                           0                    0                           \n",
       "2 0                           0                    0                           \n",
       "3 0                           0                    0                           \n",
       "4 0                           0                    0                           \n",
       "5 0                           0                    0                           \n",
       "6 0                           0                    0                           \n",
       "  Category_Level_2Body.Care Category_Level_2Books Category_Level_2Clothing\n",
       "1 0                         0                     0                       \n",
       "2 0                         0                     0                       \n",
       "3 0                         0                     0                       \n",
       "4 0                         0                     0                       \n",
       "5 0                         0                     0                       \n",
       "6 0                         0                     0                       \n",
       "  Category_Level_2DVD.and.Blu.Ray Category_Level_2Footwear\n",
       "1 0                               1                       \n",
       "2 0                               1                       \n",
       "3 0                               1                       \n",
       "4 0                               1                       \n",
       "5 0                               1                       \n",
       "6 0                               1                       \n",
       "  Category_Level_2Fragrance Category_Level_2Games ⋯ num_valid count prop\n",
       "1 0                         0                     ⋯ 1         1     1   \n",
       "2 0                         0                     ⋯ 1         1     1   \n",
       "3 0                         0                     ⋯ 0         2     0   \n",
       "4 0                         0                     ⋯ 2         2     1   \n",
       "5 0                         0                     ⋯ 2         2     1   \n",
       "6 0                         0                     ⋯ 0         2     0   \n",
       "  customer_status canc_prop ship_status fraud_status destination_int\n",
       "1 2               0         1           0            2              \n",
       "2 2               0         1           0            2              \n",
       "3 3               1         1           0            1              \n",
       "4 2               0         1           0            1              \n",
       "5 2               0         1           0            1              \n",
       "6 3               1         1           0            2              \n",
       "  priority_int occupation_int\n",
       "1 2            1             \n",
       "2 2            1             \n",
       "3 1            1             \n",
       "4 1            1             \n",
       "5 1            1             \n",
       "6 1            1             "
      ]
     },
     "metadata": {},
     "output_type": "display_data"
    }
   ],
   "source": [
    "setwd(\"/Users/sunmengnan/Documents/Github2/thgfd/data/stratified\")\n",
    "glm_data <- read.csv(\"dataset_11.csv\")\n",
    "glm_data$fraud_status <- as.factor((glm_data$fraud_status))\n",
    "glm_data <- select(glm_data, -Site_Key, -Ordered_Product_Key)\n",
    "head(glm_data)"
   ]
  },
  {
   "cell_type": "markdown",
   "metadata": {},
   "source": [
    "### Show the fraud status table"
   ]
  },
  {
   "cell_type": "code",
   "execution_count": 21,
   "metadata": {},
   "outputs": [
    {
     "data": {
      "text/plain": [
       "\n",
       "   0    1 \n",
       "8600  146 "
      ]
     },
     "metadata": {},
     "output_type": "display_data"
    }
   ],
   "source": [
    "table(glm_data$fraud_status)"
   ]
  },
  {
   "cell_type": "markdown",
   "metadata": {},
   "source": [
    "### Firstly, in the data cleaning process, use the Tlink to find the nearest point between fraud and non-fraud instance, which should be considered as noise and remove these data, show the sum of fraud counts, the number decreases"
   ]
  },
  {
   "cell_type": "code",
   "execution_count": 23,
   "metadata": {},
   "outputs": [
    {
     "name": "stdout",
     "output_type": "stream",
     "text": [
      "Instances removed 64 : 0.75 % of 0 class ; 0.74 % of training ; Time needed 0.02 \n"
     ]
    },
    {
     "data": {
      "text/html": [
       "<table>\n",
       "<thead><tr><th scope=col>Category_Level_2Accessories</th><th scope=col>Category_Level_2Bags</th><th scope=col>Category_Level_2Beauty.Boxes</th><th scope=col>Category_Level_2Body.Care</th><th scope=col>Category_Level_2Books</th><th scope=col>Category_Level_2Clothing</th><th scope=col>Category_Level_2DVD.and.Blu.Ray</th><th scope=col>Category_Level_2Footwear</th><th scope=col>Category_Level_2Fragrance</th><th scope=col>Category_Level_2Games</th><th scope=col>⋯</th><th scope=col>num_valid</th><th scope=col>count</th><th scope=col>prop</th><th scope=col>customer_status</th><th scope=col>canc_prop</th><th scope=col>ship_status</th><th scope=col>destination_int</th><th scope=col>priority_int</th><th scope=col>occupation_int</th><th scope=col>fraud_status</th></tr></thead>\n",
       "<tbody>\n",
       "\t<tr><td>0</td><td>0</td><td>0</td><td>0</td><td>0</td><td>0</td><td>0</td><td>1</td><td>0</td><td>0</td><td>⋯</td><td>1</td><td>1</td><td>1</td><td>2</td><td>0</td><td>1</td><td>2</td><td>2</td><td>1</td><td>0</td></tr>\n",
       "\t<tr><td>0</td><td>0</td><td>0</td><td>0</td><td>0</td><td>0</td><td>0</td><td>1</td><td>0</td><td>0</td><td>⋯</td><td>1</td><td>1</td><td>1</td><td>2</td><td>0</td><td>1</td><td>2</td><td>2</td><td>1</td><td>0</td></tr>\n",
       "\t<tr><td>0</td><td>0</td><td>0</td><td>0</td><td>0</td><td>0</td><td>0</td><td>1</td><td>0</td><td>0</td><td>⋯</td><td>0</td><td>2</td><td>0</td><td>3</td><td>1</td><td>1</td><td>1</td><td>1</td><td>1</td><td>0</td></tr>\n",
       "\t<tr><td>0</td><td>0</td><td>0</td><td>0</td><td>0</td><td>0</td><td>0</td><td>1</td><td>0</td><td>0</td><td>⋯</td><td>2</td><td>2</td><td>1</td><td>2</td><td>0</td><td>1</td><td>1</td><td>1</td><td>1</td><td>0</td></tr>\n",
       "\t<tr><td>0</td><td>0</td><td>0</td><td>0</td><td>0</td><td>0</td><td>0</td><td>1</td><td>0</td><td>0</td><td>⋯</td><td>2</td><td>2</td><td>1</td><td>2</td><td>0</td><td>1</td><td>1</td><td>1</td><td>1</td><td>0</td></tr>\n",
       "\t<tr><td>0</td><td>0</td><td>0</td><td>0</td><td>0</td><td>0</td><td>0</td><td>1</td><td>0</td><td>0</td><td>⋯</td><td>0</td><td>2</td><td>0</td><td>3</td><td>1</td><td>1</td><td>2</td><td>1</td><td>1</td><td>0</td></tr>\n",
       "</tbody>\n",
       "</table>\n"
      ],
      "text/latex": [
       "\\begin{tabular}{r|llllllllllllllllllllllllllllllllllllllllllllllllll}\n",
       " Category\\_Level\\_2Accessories & Category\\_Level\\_2Bags & Category\\_Level\\_2Beauty.Boxes & Category\\_Level\\_2Body.Care & Category\\_Level\\_2Books & Category\\_Level\\_2Clothing & Category\\_Level\\_2DVD.and.Blu.Ray & Category\\_Level\\_2Footwear & Category\\_Level\\_2Fragrance & Category\\_Level\\_2Games & ⋯ & num\\_valid & count & prop & customer\\_status & canc\\_prop & ship\\_status & destination\\_int & priority\\_int & occupation\\_int & fraud\\_status\\\\\n",
       "\\hline\n",
       "\t 0 & 0 & 0 & 0 & 0 & 0 & 0 & 1 & 0 & 0 & ⋯ & 1 & 1 & 1 & 2 & 0 & 1 & 2 & 2 & 1 & 0\\\\\n",
       "\t 0 & 0 & 0 & 0 & 0 & 0 & 0 & 1 & 0 & 0 & ⋯ & 1 & 1 & 1 & 2 & 0 & 1 & 2 & 2 & 1 & 0\\\\\n",
       "\t 0 & 0 & 0 & 0 & 0 & 0 & 0 & 1 & 0 & 0 & ⋯ & 0 & 2 & 0 & 3 & 1 & 1 & 1 & 1 & 1 & 0\\\\\n",
       "\t 0 & 0 & 0 & 0 & 0 & 0 & 0 & 1 & 0 & 0 & ⋯ & 2 & 2 & 1 & 2 & 0 & 1 & 1 & 1 & 1 & 0\\\\\n",
       "\t 0 & 0 & 0 & 0 & 0 & 0 & 0 & 1 & 0 & 0 & ⋯ & 2 & 2 & 1 & 2 & 0 & 1 & 1 & 1 & 1 & 0\\\\\n",
       "\t 0 & 0 & 0 & 0 & 0 & 0 & 0 & 1 & 0 & 0 & ⋯ & 0 & 2 & 0 & 3 & 1 & 1 & 2 & 1 & 1 & 0\\\\\n",
       "\\end{tabular}\n"
      ],
      "text/markdown": [
       "\n",
       "Category_Level_2Accessories | Category_Level_2Bags | Category_Level_2Beauty.Boxes | Category_Level_2Body.Care | Category_Level_2Books | Category_Level_2Clothing | Category_Level_2DVD.and.Blu.Ray | Category_Level_2Footwear | Category_Level_2Fragrance | Category_Level_2Games | ⋯ | num_valid | count | prop | customer_status | canc_prop | ship_status | destination_int | priority_int | occupation_int | fraud_status | \n",
       "|---|---|---|---|---|---|\n",
       "| 0 | 0 | 0 | 0 | 0 | 0 | 0 | 1 | 0 | 0 | ⋯ | 1 | 1 | 1 | 2 | 0 | 1 | 2 | 2 | 1 | 0 | \n",
       "| 0 | 0 | 0 | 0 | 0 | 0 | 0 | 1 | 0 | 0 | ⋯ | 1 | 1 | 1 | 2 | 0 | 1 | 2 | 2 | 1 | 0 | \n",
       "| 0 | 0 | 0 | 0 | 0 | 0 | 0 | 1 | 0 | 0 | ⋯ | 0 | 2 | 0 | 3 | 1 | 1 | 1 | 1 | 1 | 0 | \n",
       "| 0 | 0 | 0 | 0 | 0 | 0 | 0 | 1 | 0 | 0 | ⋯ | 2 | 2 | 1 | 2 | 0 | 1 | 1 | 1 | 1 | 0 | \n",
       "| 0 | 0 | 0 | 0 | 0 | 0 | 0 | 1 | 0 | 0 | ⋯ | 2 | 2 | 1 | 2 | 0 | 1 | 1 | 1 | 1 | 0 | \n",
       "| 0 | 0 | 0 | 0 | 0 | 0 | 0 | 1 | 0 | 0 | ⋯ | 0 | 2 | 0 | 3 | 1 | 1 | 2 | 1 | 1 | 0 | \n",
       "\n",
       "\n"
      ],
      "text/plain": [
       "  Category_Level_2Accessories Category_Level_2Bags Category_Level_2Beauty.Boxes\n",
       "1 0                           0                    0                           \n",
       "2 0                           0                    0                           \n",
       "3 0                           0                    0                           \n",
       "4 0                           0                    0                           \n",
       "5 0                           0                    0                           \n",
       "6 0                           0                    0                           \n",
       "  Category_Level_2Body.Care Category_Level_2Books Category_Level_2Clothing\n",
       "1 0                         0                     0                       \n",
       "2 0                         0                     0                       \n",
       "3 0                         0                     0                       \n",
       "4 0                         0                     0                       \n",
       "5 0                         0                     0                       \n",
       "6 0                         0                     0                       \n",
       "  Category_Level_2DVD.and.Blu.Ray Category_Level_2Footwear\n",
       "1 0                               1                       \n",
       "2 0                               1                       \n",
       "3 0                               1                       \n",
       "4 0                               1                       \n",
       "5 0                               1                       \n",
       "6 0                               1                       \n",
       "  Category_Level_2Fragrance Category_Level_2Games ⋯ num_valid count prop\n",
       "1 0                         0                     ⋯ 1         1     1   \n",
       "2 0                         0                     ⋯ 1         1     1   \n",
       "3 0                         0                     ⋯ 0         2     0   \n",
       "4 0                         0                     ⋯ 2         2     1   \n",
       "5 0                         0                     ⋯ 2         2     1   \n",
       "6 0                         0                     ⋯ 0         2     0   \n",
       "  customer_status canc_prop ship_status destination_int priority_int\n",
       "1 2               0         1           2               2           \n",
       "2 2               0         1           2               2           \n",
       "3 3               1         1           1               1           \n",
       "4 2               0         1           1               1           \n",
       "5 2               0         1           1               1           \n",
       "6 3               1         1           2               1           \n",
       "  occupation_int fraud_status\n",
       "1 1              0           \n",
       "2 1              0           \n",
       "3 1              0           \n",
       "4 1              0           \n",
       "5 1              0           \n",
       "6 1              0           "
      ]
     },
     "metadata": {},
     "output_type": "display_data"
    },
    {
     "data": {
      "text/plain": [
       "\n",
       "   0    1 \n",
       "8464  146 "
      ]
     },
     "metadata": {},
     "output_type": "display_data"
    }
   ],
   "source": [
    "set.seed(123)\n",
    "Tomek <- ubTomek(select(glm_data, -fraud_status), glm_data$fraud_status, verbose = TRUE)\n",
    "glm_data <- cbind(Tomek$X, Tomek$Y)\n",
    "glm_data <- rename(glm_data, fraud_status = \"Tomek$Y\")\n",
    "head(glm_data)\n",
    "table(glm_data$fraud_status)"
   ]
  },
  {
   "cell_type": "markdown",
   "metadata": {},
   "source": [
    "### select the data that we want to turn into factor type, turn all the variable type into factor, keep the factor which has more than two factor levels, then combine them together again"
   ]
  },
  {
   "cell_type": "code",
   "execution_count": 24,
   "metadata": {
    "collapsed": true
   },
   "outputs": [],
   "source": [
    "temp <- select(glm_data, -prop, -canc_prop, -Product_Charge_Price, -num_valid, \n",
    "               -count, -Order_Sequence_No, -Ordered_Qty, -Cancelled_Qty)\n",
    "temp[,(1:ncol(temp))] <- lapply(temp[,(1:ncol(temp))],as.factor)\n",
    "temp <- temp[, sapply(temp, nlevels) > 1]\n",
    "nums <- select(glm_data, prop, canc_prop, Product_Charge_Price, num_valid, \n",
    "               count, Order_Sequence_No, Ordered_Qty, Cancelled_Qty)\n",
    "glm_data <- cbind(temp, nums)"
   ]
  },
  {
   "cell_type": "markdown",
   "metadata": {},
   "source": [
    "### Omitting some conlumns which we do not need and view that top rows of the data "
   ]
  },
  {
   "cell_type": "code",
   "execution_count": 25,
   "metadata": {
    "collapsed": true
   },
   "outputs": [],
   "source": [
    "glm_data <- select(glm_data, -Campaign_Key, -Delivery_Option_Type_Key, -Payment_Method_Key,\n",
    "                   -Medium_Key, -pay_key_num, -Payment_Provider_Key, \n",
    "                   -Order_Payment_Status_Key, -occupation_int,\n",
    "                   -canc_prop, -Ordered_Qty, -priority_int, -Cancelled_Qty, -prop,\n",
    "                   -Order_Sequence_No, -count)\n"
   ]
  },
  {
   "cell_type": "code",
   "execution_count": 26,
   "metadata": {},
   "outputs": [],
   "source": [
    "glm_data <- select(glm_data, -Category_Level_2Accessories, \n",
    "                   -Category_Level_2Bags, -Category_Level_2Gifting)\n"
   ]
  },
  {
   "cell_type": "code",
   "execution_count": 27,
   "metadata": {
    "collapsed": true
   },
   "outputs": [],
   "source": [
    "new_data <- glm_data\n"
   ]
  },
  {
   "cell_type": "markdown",
   "metadata": {},
   "source": [
    "### Create a partition to seperate the data into training part and test part\n"
   ]
  },
  {
   "cell_type": "code",
   "execution_count": 28,
   "metadata": {
    "collapsed": true
   },
   "outputs": [],
   "source": [
    "set.seed(123)\n",
    "index <- createDataPartition(glm_data$fraud_status, p = 0.7, list = FALSE)\n",
    "train <- new_data[index, ]\n",
    "test <- new_data[-index, ]"
   ]
  },
  {
   "cell_type": "markdown",
   "metadata": {},
   "source": [
    "### Train our model using SOMTE, in each iteration, samples one minority class element , then one of its nearest neighbors. Both points are now interpolated / convex-combined, resulting in a new virtual data point for the minority class, we compare the two tables before and after SOMTE, we can see that the fraud transaction times enlarge by 10 times\n"
   ]
  },
  {
   "cell_type": "code",
   "execution_count": 35,
   "metadata": {},
   "outputs": [
    {
     "data": {
      "text/plain": [
       "\n",
       "   0    1 \n",
       "8464  146 "
      ]
     },
     "metadata": {},
     "output_type": "display_data"
    },
    {
     "data": {
      "text/plain": [
       "\n",
       "         0          1 \n",
       "0.98304297 0.01695703 "
      ]
     },
     "metadata": {},
     "output_type": "display_data"
    },
    {
     "data": {
      "text/plain": [
       "\n",
       "   0    1 \n",
       "2190 1606 "
      ]
     },
     "metadata": {},
     "output_type": "display_data"
    },
    {
     "data": {
      "text/plain": [
       "\n",
       "        0         1 \n",
       "0.5769231 0.4230769 "
      ]
     },
     "metadata": {},
     "output_type": "display_data"
    }
   ],
   "source": [
    "set.seed(123)\n",
    "train <- SMOTE(fraud_status ~., new_data, perc.over = 1000, perc.under = 150)\n",
    "table(new_data$fraud_status)\n",
    "prop.table(table(new_data$fraud_status))\n",
    "table(train$fraud_status)\n",
    "prop.table(table(train$fraud_status))"
   ]
  },
  {
   "cell_type": "markdown",
   "metadata": {},
   "source": [
    "### Bulid a GLM model, using binomial logit link function, and also calculate the running time"
   ]
  },
  {
   "cell_type": "code",
   "execution_count": 13,
   "metadata": {},
   "outputs": [
    {
     "data": {
      "text/plain": [
       "Time difference of 0.05064011 secs"
      ]
     },
     "metadata": {},
     "output_type": "display_data"
    },
    {
     "data": {
      "text/plain": [
       "\n",
       "Call:\n",
       "glm(formula = fraud_status ~ ., family = binomial(link = \"logit\"), \n",
       "    data = train)\n",
       "\n",
       "Deviance Residuals: \n",
       "    Min       1Q   Median       3Q      Max  \n",
       "-4.0321  -0.4750  -0.3227   0.2569   3.5294  \n",
       "\n",
       "Coefficients:\n",
       "                           Estimate Std. Error z value Pr(>|z|)    \n",
       "(Intercept)                5.112165   0.252882  20.216  < 2e-16 ***\n",
       "Category_Level_2Clothing1  2.954720   0.197469  14.963  < 2e-16 ***\n",
       "Category_Level_2Footwear1 -2.721310   0.170857 -15.927  < 2e-16 ***\n",
       "customer_status2          -3.402626   0.167737 -20.286  < 2e-16 ***\n",
       "customer_status3          -3.180352   0.247008 -12.876  < 2e-16 ***\n",
       "customer_status4          -1.468917   0.188669  -7.786 6.93e-15 ***\n",
       "ship_status2               0.506519   0.158377   3.198  0.00138 ** \n",
       "destination_int2          -0.573440   0.109921  -5.217 1.82e-07 ***\n",
       "Product_Charge_Price      -0.017966   0.001869  -9.613  < 2e-16 ***\n",
       "num_valid                  0.020605   0.011167   1.845  0.06500 .  \n",
       "---\n",
       "Signif. codes:  0 ‘***’ 0.001 ‘**’ 0.01 ‘*’ 0.05 ‘.’ 0.1 ‘ ’ 1\n",
       "\n",
       "(Dispersion parameter for binomial family taken to be 1)\n",
       "\n",
       "    Null deviance: 5172.2  on 3795  degrees of freedom\n",
       "Residual deviance: 2377.8  on 3786  degrees of freedom\n",
       "AIC: 2397.8\n",
       "\n",
       "Number of Fisher Scoring iterations: 6\n"
      ]
     },
     "metadata": {},
     "output_type": "display_data"
    }
   ],
   "source": [
    "start <- Sys.time()\n",
    "model <- glm(fraud_status ~., data = train, family = binomial(link = \"logit\"))\n",
    "end <- Sys.time()\n",
    "time <- end - start\n",
    "time\n",
    "summary(model)"
   ]
  },
  {
   "cell_type": "markdown",
   "metadata": {},
   "source": [
    "### Then, choose a model by AIC in a Stepwise Algorithm, in this process, we gradually delete 2footwear, charge price and ship status, because these variables AIC are lower than others\n"
   ]
  },
  {
   "cell_type": "code",
   "execution_count": 14,
   "metadata": {},
   "outputs": [
    {
     "name": "stdout",
     "output_type": "stream",
     "text": [
      "Start:  AIC=2397.78\n",
      "fraud_status ~ Category_Level_2Clothing + Category_Level_2Footwear + \n",
      "    customer_status + ship_status + destination_int + Product_Charge_Price + \n",
      "    num_valid\n",
      "\n",
      "                           Df Deviance    AIC\n",
      "<none>                          2377.8 2397.8\n",
      "- num_valid                 1   2380.8 2398.8\n",
      "- ship_status               1   2387.8 2405.8\n",
      "- destination_int           1   2405.1 2423.1\n",
      "- Product_Charge_Price      1   2490.5 2508.5\n",
      "- Category_Level_2Clothing  1   2709.7 2727.7\n",
      "- Category_Level_2Footwear  1   2713.9 2731.9\n",
      "- customer_status           3   3046.7 3060.7\n"
     ]
    },
    {
     "data": {
      "text/plain": [
       "\n",
       "Call:\n",
       "glm(formula = fraud_status ~ Category_Level_2Clothing + Category_Level_2Footwear + \n",
       "    customer_status + ship_status + destination_int + Product_Charge_Price + \n",
       "    num_valid, family = binomial(link = \"logit\"), data = train)\n",
       "\n",
       "Deviance Residuals: \n",
       "    Min       1Q   Median       3Q      Max  \n",
       "-4.0321  -0.4750  -0.3227   0.2569   3.5294  \n",
       "\n",
       "Coefficients:\n",
       "                           Estimate Std. Error z value Pr(>|z|)    \n",
       "(Intercept)                5.112165   0.252882  20.216  < 2e-16 ***\n",
       "Category_Level_2Clothing1  2.954720   0.197469  14.963  < 2e-16 ***\n",
       "Category_Level_2Footwear1 -2.721310   0.170857 -15.927  < 2e-16 ***\n",
       "customer_status2          -3.402626   0.167737 -20.286  < 2e-16 ***\n",
       "customer_status3          -3.180352   0.247008 -12.876  < 2e-16 ***\n",
       "customer_status4          -1.468917   0.188669  -7.786 6.93e-15 ***\n",
       "ship_status2               0.506519   0.158377   3.198  0.00138 ** \n",
       "destination_int2          -0.573440   0.109921  -5.217 1.82e-07 ***\n",
       "Product_Charge_Price      -0.017966   0.001869  -9.613  < 2e-16 ***\n",
       "num_valid                  0.020605   0.011167   1.845  0.06500 .  \n",
       "---\n",
       "Signif. codes:  0 ‘***’ 0.001 ‘**’ 0.01 ‘*’ 0.05 ‘.’ 0.1 ‘ ’ 1\n",
       "\n",
       "(Dispersion parameter for binomial family taken to be 1)\n",
       "\n",
       "    Null deviance: 5172.2  on 3795  degrees of freedom\n",
       "Residual deviance: 2377.8  on 3786  degrees of freedom\n",
       "AIC: 2397.8\n",
       "\n",
       "Number of Fisher Scoring iterations: 6\n"
      ]
     },
     "metadata": {},
     "output_type": "display_data"
    }
   ],
   "source": [
    "model <- step(model)\n",
    "summary(model)\n"
   ]
  },
  {
   "cell_type": "markdown",
   "metadata": {},
   "source": [
    "### We delete the first clothing variable then, and see the model evaluation, it's more significant for all the variables"
   ]
  },
  {
   "cell_type": "code",
   "execution_count": 15,
   "metadata": {},
   "outputs": [
    {
     "data": {
      "text/plain": [
       "\n",
       "Call:\n",
       "glm(formula = fraud_status ~ customer_status + ship_status + \n",
       "    destination_int + Product_Charge_Price + num_valid, family = binomial(link = \"logit\"), \n",
       "    data = train)\n",
       "\n",
       "Deviance Residuals: \n",
       "    Min       1Q   Median       3Q      Max  \n",
       "-2.8775  -0.6719  -0.3616   0.5392   4.0284  \n",
       "\n",
       "Coefficients:\n",
       "                      Estimate Std. Error z value Pr(>|z|)    \n",
       "(Intercept)           4.076222   0.193282  21.090  < 2e-16 ***\n",
       "customer_status2     -3.748983   0.161387 -23.230  < 2e-16 ***\n",
       "customer_status3     -3.138873   0.207338 -15.139  < 2e-16 ***\n",
       "customer_status4     -1.558727   0.178529  -8.731  < 2e-16 ***\n",
       "ship_status2          0.611844   0.131570   4.650 3.31e-06 ***\n",
       "destination_int2     -0.662527   0.090870  -7.291 3.08e-13 ***\n",
       "Product_Charge_Price -0.029968   0.001708 -17.541  < 2e-16 ***\n",
       "num_valid             0.015923   0.010424   1.528    0.127    \n",
       "---\n",
       "Signif. codes:  0 ‘***’ 0.001 ‘**’ 0.01 ‘*’ 0.05 ‘.’ 0.1 ‘ ’ 1\n",
       "\n",
       "(Dispersion parameter for binomial family taken to be 1)\n",
       "\n",
       "    Null deviance: 5172.2  on 3795  degrees of freedom\n",
       "Residual deviance: 3256.5  on 3788  degrees of freedom\n",
       "AIC: 3272.5\n",
       "\n",
       "Number of Fisher Scoring iterations: 5\n"
      ]
     },
     "metadata": {},
     "output_type": "display_data"
    }
   ],
   "source": [
    "model <- update(model, .~. -Category_Level_2Clothing-Category_Level_2Footwear)\n",
    "summary(model)"
   ]
  },
  {
   "cell_type": "markdown",
   "metadata": {},
   "source": [
    "### Use our model to test our test data set, calculate the curve area value"
   ]
  },
  {
   "cell_type": "code",
   "execution_count": 16,
   "metadata": {},
   "outputs": [
    {
     "data": {
      "text/html": [
       "0.780542575049542"
      ],
      "text/latex": [
       "0.780542575049542"
      ],
      "text/markdown": [
       "0.780542575049542"
      ],
      "text/plain": [
       "[1] 0.7805426"
      ]
     },
     "metadata": {},
     "output_type": "display_data"
    },
    {
     "data": {
      "image/png": "[encoded data removed]",
      "text/plain": [
       "plot without title"
      ]
     },
     "metadata": {},
     "output_type": "display_data"
    }
   ],
   "source": [
    "model_predict <- predict(model, test, type = \"response\")\n",
    "ROC_predict <- prediction(model_predict, test$fraud_status)\n",
    "ROC_performance <- performance(ROC_predict, \"tpr\", \"fpr\")\n",
    "plot(ROC_performance, colorize = TRUE, text.adj = c(-0.2,1.7), lwd = 5)\n",
    "area_under_curve <- performance(ROC_predict, measure = \"auc\")\n",
    "area_under_curve@y.values[[1]]"
   ]
  },
  {
   "cell_type": "markdown",
   "metadata": {},
   "source": [
    "### Set training control parameter and use this model to predict the fraud status, ouput  the confusion matrix as well"
   ]
  },
  {
   "cell_type": "code",
   "execution_count": 17,
   "metadata": {},
   "outputs": [
    {
     "data": {
      "text/plain": [
       "Confusion Matrix and Statistics\n",
       "\n",
       "          Reference\n",
       "Prediction    0    1\n",
       "         0 2308   20\n",
       "         1  250   23\n",
       "                                          \n",
       "               Accuracy : 0.8962          \n",
       "                 95% CI : (0.8838, 0.9077)\n",
       "    No Information Rate : 0.9835          \n",
       "    P-Value [Acc > NIR] : 1               \n",
       "                                          \n",
       "                  Kappa : 0.1204          \n",
       " Mcnemar's Test P-Value : <2e-16          \n",
       "                                          \n",
       "            Sensitivity : 0.90227         \n",
       "            Specificity : 0.53488         \n",
       "         Pos Pred Value : 0.99141         \n",
       "         Neg Pred Value : 0.08425         \n",
       "             Prevalence : 0.98347         \n",
       "         Detection Rate : 0.88735         \n",
       "   Detection Prevalence : 0.89504         \n",
       "      Balanced Accuracy : 0.71858         \n",
       "                                          \n",
       "       'Positive' Class : 0               \n",
       "                                          "
      ]
     },
     "metadata": {},
     "output_type": "display_data"
    },
    {
     "data": {
      "text/html": [
       "<dl class=dl-horizontal>\n",
       "\t<dt>Sensitivity</dt>\n",
       "\t\t<dd>0.90226739640344</dd>\n",
       "\t<dt>Specificity</dt>\n",
       "\t\t<dd>0.534883720930233</dd>\n",
       "\t<dt>Pos Pred Value</dt>\n",
       "\t\t<dd>0.991408934707904</dd>\n",
       "\t<dt>Neg Pred Value</dt>\n",
       "\t\t<dd>0.0842490842490843</dd>\n",
       "\t<dt>Precision</dt>\n",
       "\t\t<dd>0.991408934707904</dd>\n",
       "\t<dt>Recall</dt>\n",
       "\t\t<dd>0.90226739640344</dd>\n",
       "\t<dt>F1</dt>\n",
       "\t\t<dd>0.944740073679902</dd>\n",
       "\t<dt>Prevalence</dt>\n",
       "\t\t<dd>0.983467896962707</dd>\n",
       "\t<dt>Detection Rate</dt>\n",
       "\t\t<dd>0.887351018838908</dd>\n",
       "\t<dt>Detection Prevalence</dt>\n",
       "\t\t<dd>0.895040369088812</dd>\n",
       "\t<dt>Balanced Accuracy</dt>\n",
       "\t\t<dd>0.718575558666836</dd>\n",
       "</dl>\n"
      ],
      "text/latex": [
       "\\begin{description*}\n",
       "\\item[Sensitivity] 0.90226739640344\n",
       "\\item[Specificity] 0.534883720930233\n",
       "\\item[Pos Pred Value] 0.991408934707904\n",
       "\\item[Neg Pred Value] 0.0842490842490843\n",
       "\\item[Precision] 0.991408934707904\n",
       "\\item[Recall] 0.90226739640344\n",
       "\\item[F1] 0.944740073679902\n",
       "\\item[Prevalence] 0.983467896962707\n",
       "\\item[Detection Rate] 0.887351018838908\n",
       "\\item[Detection Prevalence] 0.895040369088812\n",
       "\\item[Balanced Accuracy] 0.718575558666836\n",
       "\\end{description*}\n"
      ],
      "text/markdown": [
       "Sensitivity\n",
       ":   0.90226739640344Specificity\n",
       ":   0.534883720930233Pos Pred Value\n",
       ":   0.991408934707904Neg Pred Value\n",
       ":   0.0842490842490843Precision\n",
       ":   0.991408934707904Recall\n",
       ":   0.90226739640344F1\n",
       ":   0.944740073679902Prevalence\n",
       ":   0.983467896962707Detection Rate\n",
       ":   0.887351018838908Detection Prevalence\n",
       ":   0.895040369088812Balanced Accuracy\n",
       ":   0.718575558666836\n",
       "\n"
      ],
      "text/plain": [
       "         Sensitivity          Specificity       Pos Pred Value \n",
       "          0.90226740           0.53488372           0.99140893 \n",
       "      Neg Pred Value            Precision               Recall \n",
       "          0.08424908           0.99140893           0.90226740 \n",
       "                  F1           Prevalence       Detection Rate \n",
       "          0.94474007           0.98346790           0.88735102 \n",
       "Detection Prevalence    Balanced Accuracy \n",
       "          0.89504037           0.71857556 "
      ]
     },
     "metadata": {},
     "output_type": "display_data"
    }
   ],
   "source": [
    "ctrl <- trainControl(method = \"repeatedcv\", number = 10, savePredictions = TRUE)\n",
    "model_fit <- caret::train(fraud_status ~ customer_status + ship_status + destination_int + \n",
    "                     Product_Charge_Price + num_valid,\n",
    "                   data = train, method = \"glm\", family = binomial(link =\"logit\"),\n",
    "                   trControl = ctrl, tuneLength = 10)\n",
    "pred <- predict(model_fit, newdata = select(test, -fraud_status))\n",
    "conf <- confusionMatrix(data = pred, test$fraud_status)\n",
    "conf\n",
    "conf$byClass"
   ]
  }
 ],
 "metadata": {
  "kernelspec": {
   "display_name": "R",
   "language": "R",
   "name": "ir"
  },
  "language_info": {
   "codemirror_mode": "r",
   "file_extension": ".r",
   "mimetype": "text/x-r-source",
   "name": "R",
   "pygments_lexer": "r",
   "version": "3.4.3"
  }
 },
 "nbformat": 4,
 "nbformat_minor": 2
}
