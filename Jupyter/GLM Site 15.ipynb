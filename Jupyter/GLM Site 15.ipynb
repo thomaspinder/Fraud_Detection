{
 "cells": [
  {
   "cell_type": "markdown",
   "metadata": {},
   "source": [
    "<h1><center>GLM Site 15</center></h1>\n",
    "\n"
   ]
  },
  {
   "cell_type": "markdown",
   "metadata": {},
   "source": [
    "### Import all the packages that we need "
   ]
  },
  {
   "cell_type": "code",
   "execution_count": 19,
   "metadata": {},
   "outputs": [],
   "source": [
    "options(warn = -1)\n",
    "library(caret)\n",
    "library(dplyr)\n",
    "library(corrplot)\n",
    "library(DMwR)\n",
    "library(unbalanced)\n",
    "library(ROCR)\n",
    "library(pROC)\n",
    "library(boot)"
   ]
  },
  {
   "cell_type": "markdown",
   "metadata": {},
   "source": [
    "### Set working directory and load data"
   ]
  },
  {
   "cell_type": "code",
   "execution_count": 20,
   "metadata": {},
   "outputs": [
    {
     "data": {
      "text/html": [
       "<table>\n",
       "<thead><tr><th scope=col>Category_Level_2Accessories</th><th scope=col>Category_Level_2Bags</th><th scope=col>Category_Level_2Beauty.Boxes</th><th scope=col>Category_Level_2Body.Care</th><th scope=col>Category_Level_2Books</th><th scope=col>Category_Level_2Clothing</th><th scope=col>Category_Level_2DVD.and.Blu.Ray</th><th scope=col>Category_Level_2Footwear</th><th scope=col>Category_Level_2Fragrance</th><th scope=col>Category_Level_2Games</th><th scope=col>⋯</th><th scope=col>num_valid</th><th scope=col>count</th><th scope=col>prop</th><th scope=col>customer_status</th><th scope=col>canc_prop</th><th scope=col>ship_status</th><th scope=col>fraud_status</th><th scope=col>destination_int</th><th scope=col>priority_int</th><th scope=col>occupation_int</th></tr></thead>\n",
       "<tbody>\n",
       "\t<tr><td>0 </td><td>0 </td><td>0 </td><td>0 </td><td>0 </td><td>0 </td><td>0 </td><td>0 </td><td>0 </td><td>0 </td><td>⋯ </td><td> 4</td><td> 4</td><td>1 </td><td>2 </td><td>0 </td><td>1 </td><td>0 </td><td>1 </td><td>1 </td><td>1 </td></tr>\n",
       "\t<tr><td>0 </td><td>0 </td><td>0 </td><td>0 </td><td>0 </td><td>0 </td><td>0 </td><td>0 </td><td>0 </td><td>0 </td><td>⋯ </td><td> 4</td><td> 4</td><td>1 </td><td>2 </td><td>0 </td><td>1 </td><td>0 </td><td>1 </td><td>1 </td><td>1 </td></tr>\n",
       "\t<tr><td>0 </td><td>0 </td><td>0 </td><td>0 </td><td>0 </td><td>0 </td><td>0 </td><td>0 </td><td>0 </td><td>0 </td><td>⋯ </td><td>21</td><td>21</td><td>1 </td><td>2 </td><td>0 </td><td>2 </td><td>0 </td><td>1 </td><td>1 </td><td>1 </td></tr>\n",
       "\t<tr><td>0 </td><td>0 </td><td>0 </td><td>0 </td><td>0 </td><td>0 </td><td>0 </td><td>0 </td><td>0 </td><td>0 </td><td>⋯ </td><td>21</td><td>21</td><td>1 </td><td>2 </td><td>0 </td><td>2 </td><td>0 </td><td>1 </td><td>1 </td><td>1 </td></tr>\n",
       "\t<tr><td>0 </td><td>0 </td><td>0 </td><td>0 </td><td>0 </td><td>0 </td><td>0 </td><td>0 </td><td>0 </td><td>0 </td><td>⋯ </td><td>21</td><td>21</td><td>1 </td><td>2 </td><td>0 </td><td>2 </td><td>0 </td><td>1 </td><td>1 </td><td>1 </td></tr>\n",
       "\t<tr><td>0 </td><td>0 </td><td>0 </td><td>0 </td><td>0 </td><td>0 </td><td>0 </td><td>0 </td><td>0 </td><td>0 </td><td>⋯ </td><td> 5</td><td> 5</td><td>1 </td><td>2 </td><td>0 </td><td>1 </td><td>0 </td><td>1 </td><td>1 </td><td>1 </td></tr>\n",
       "</tbody>\n",
       "</table>\n"
      ],
      "text/latex": [
       "\\begin{tabular}{r|llllllllllllllllllllllllllllllllllllllllllllllllll}\n",
       " Category\\_Level\\_2Accessories & Category\\_Level\\_2Bags & Category\\_Level\\_2Beauty.Boxes & Category\\_Level\\_2Body.Care & Category\\_Level\\_2Books & Category\\_Level\\_2Clothing & Category\\_Level\\_2DVD.and.Blu.Ray & Category\\_Level\\_2Footwear & Category\\_Level\\_2Fragrance & Category\\_Level\\_2Games & ⋯ & num\\_valid & count & prop & customer\\_status & canc\\_prop & ship\\_status & fraud\\_status & destination\\_int & priority\\_int & occupation\\_int\\\\\n",
       "\\hline\n",
       "\t 0  & 0  & 0  & 0  & 0  & 0  & 0  & 0  & 0  & 0  & ⋯  &  4 &  4 & 1  & 2  & 0  & 1  & 0  & 1  & 1  & 1 \\\\\n",
       "\t 0  & 0  & 0  & 0  & 0  & 0  & 0  & 0  & 0  & 0  & ⋯  &  4 &  4 & 1  & 2  & 0  & 1  & 0  & 1  & 1  & 1 \\\\\n",
       "\t 0  & 0  & 0  & 0  & 0  & 0  & 0  & 0  & 0  & 0  & ⋯  & 21 & 21 & 1  & 2  & 0  & 2  & 0  & 1  & 1  & 1 \\\\\n",
       "\t 0  & 0  & 0  & 0  & 0  & 0  & 0  & 0  & 0  & 0  & ⋯  & 21 & 21 & 1  & 2  & 0  & 2  & 0  & 1  & 1  & 1 \\\\\n",
       "\t 0  & 0  & 0  & 0  & 0  & 0  & 0  & 0  & 0  & 0  & ⋯  & 21 & 21 & 1  & 2  & 0  & 2  & 0  & 1  & 1  & 1 \\\\\n",
       "\t 0  & 0  & 0  & 0  & 0  & 0  & 0  & 0  & 0  & 0  & ⋯  &  5 &  5 & 1  & 2  & 0  & 1  & 0  & 1  & 1  & 1 \\\\\n",
       "\\end{tabular}\n"
      ],
      "text/markdown": [
       "\n",
       "Category_Level_2Accessories | Category_Level_2Bags | Category_Level_2Beauty.Boxes | Category_Level_2Body.Care | Category_Level_2Books | Category_Level_2Clothing | Category_Level_2DVD.and.Blu.Ray | Category_Level_2Footwear | Category_Level_2Fragrance | Category_Level_2Games | ⋯ | num_valid | count | prop | customer_status | canc_prop | ship_status | fraud_status | destination_int | priority_int | occupation_int | \n",
       "|---|---|---|---|---|---|\n",
       "| 0  | 0  | 0  | 0  | 0  | 0  | 0  | 0  | 0  | 0  | ⋯  |  4 |  4 | 1  | 2  | 0  | 1  | 0  | 1  | 1  | 1  | \n",
       "| 0  | 0  | 0  | 0  | 0  | 0  | 0  | 0  | 0  | 0  | ⋯  |  4 |  4 | 1  | 2  | 0  | 1  | 0  | 1  | 1  | 1  | \n",
       "| 0  | 0  | 0  | 0  | 0  | 0  | 0  | 0  | 0  | 0  | ⋯  | 21 | 21 | 1  | 2  | 0  | 2  | 0  | 1  | 1  | 1  | \n",
       "| 0  | 0  | 0  | 0  | 0  | 0  | 0  | 0  | 0  | 0  | ⋯  | 21 | 21 | 1  | 2  | 0  | 2  | 0  | 1  | 1  | 1  | \n",
       "| 0  | 0  | 0  | 0  | 0  | 0  | 0  | 0  | 0  | 0  | ⋯  | 21 | 21 | 1  | 2  | 0  | 2  | 0  | 1  | 1  | 1  | \n",
       "| 0  | 0  | 0  | 0  | 0  | 0  | 0  | 0  | 0  | 0  | ⋯  |  5 |  5 | 1  | 2  | 0  | 1  | 0  | 1  | 1  | 1  | \n",
       "\n",
       "\n"
      ],
      "text/plain": [
       "  Category_Level_2Accessories Category_Level_2Bags Category_Level_2Beauty.Boxes\n",
       "1 0                           0                    0                           \n",
       "2 0                           0                    0                           \n",
       "3 0                           0                    0                           \n",
       "4 0                           0                    0                           \n",
       "5 0                           0                    0                           \n",
       "6 0                           0                    0                           \n",
       "  Category_Level_2Body.Care Category_Level_2Books Category_Level_2Clothing\n",
       "1 0                         0                     0                       \n",
       "2 0                         0                     0                       \n",
       "3 0                         0                     0                       \n",
       "4 0                         0                     0                       \n",
       "5 0                         0                     0                       \n",
       "6 0                         0                     0                       \n",
       "  Category_Level_2DVD.and.Blu.Ray Category_Level_2Footwear\n",
       "1 0                               0                       \n",
       "2 0                               0                       \n",
       "3 0                               0                       \n",
       "4 0                               0                       \n",
       "5 0                               0                       \n",
       "6 0                               0                       \n",
       "  Category_Level_2Fragrance Category_Level_2Games ⋯ num_valid count prop\n",
       "1 0                         0                     ⋯  4         4    1   \n",
       "2 0                         0                     ⋯  4         4    1   \n",
       "3 0                         0                     ⋯ 21        21    1   \n",
       "4 0                         0                     ⋯ 21        21    1   \n",
       "5 0                         0                     ⋯ 21        21    1   \n",
       "6 0                         0                     ⋯  5         5    1   \n",
       "  customer_status canc_prop ship_status fraud_status destination_int\n",
       "1 2               0         1           0            1              \n",
       "2 2               0         1           0            1              \n",
       "3 2               0         2           0            1              \n",
       "4 2               0         2           0            1              \n",
       "5 2               0         2           0            1              \n",
       "6 2               0         1           0            1              \n",
       "  priority_int occupation_int\n",
       "1 1            1             \n",
       "2 1            1             \n",
       "3 1            1             \n",
       "4 1            1             \n",
       "5 1            1             \n",
       "6 1            1             "
      ]
     },
     "metadata": {},
     "output_type": "display_data"
    }
   ],
   "source": [
    "setwd(\"/Users/sunmengnan/Documents/Github2/thgfd/data/stratified\")\n",
    "glm_data <- read.csv(\"dataset_15.csv\")\n",
    "glm_data$fraud_status <- as.factor((glm_data$fraud_status))\n",
    "glm_data <- select(glm_data, -Site_Key, -Ordered_Product_Key)\n",
    "head(glm_data)"
   ]
  },
  {
   "cell_type": "markdown",
   "metadata": {},
   "source": [
    "### Show the fraud status table"
   ]
  },
  {
   "cell_type": "code",
   "execution_count": 5,
   "metadata": {},
   "outputs": [
    {
     "data": {
      "text/plain": [
       "\n",
       "    0     1 \n",
       "63387   166 "
      ]
     },
     "metadata": {},
     "output_type": "display_data"
    }
   ],
   "source": [
    "table(glm_data$fraud_status)"
   ]
  },
  {
   "cell_type": "markdown",
   "metadata": {},
   "source": [
    "### Firstly, in the data cleaning process, use the Tlink to find the nearest point between fraud and non-fraud instance, which should be considered as noise and remove these data, show the sum of fraud counts, the number decreases"
   ]
  },
  {
   "cell_type": "code",
   "execution_count": 21,
   "metadata": {},
   "outputs": [
    {
     "name": "stdout",
     "output_type": "stream",
     "text": [
      "Instances removed 88 : 0.14 % of 0 class ; 0.14 % of training ; Time needed 0.68 \n"
     ]
    },
    {
     "data": {
      "text/html": [
       "<table>\n",
       "<thead><tr><th scope=col>Category_Level_2Accessories</th><th scope=col>Category_Level_2Bags</th><th scope=col>Category_Level_2Beauty.Boxes</th><th scope=col>Category_Level_2Body.Care</th><th scope=col>Category_Level_2Books</th><th scope=col>Category_Level_2Clothing</th><th scope=col>Category_Level_2DVD.and.Blu.Ray</th><th scope=col>Category_Level_2Footwear</th><th scope=col>Category_Level_2Fragrance</th><th scope=col>Category_Level_2Games</th><th scope=col>⋯</th><th scope=col>num_valid</th><th scope=col>count</th><th scope=col>prop</th><th scope=col>customer_status</th><th scope=col>canc_prop</th><th scope=col>ship_status</th><th scope=col>destination_int</th><th scope=col>priority_int</th><th scope=col>occupation_int</th><th scope=col>fraud_status</th></tr></thead>\n",
       "<tbody>\n",
       "\t<tr><td>0 </td><td>0 </td><td>0 </td><td>0 </td><td>0 </td><td>0 </td><td>0 </td><td>0 </td><td>0 </td><td>0 </td><td>⋯ </td><td> 4</td><td> 4</td><td>1 </td><td>2 </td><td>0 </td><td>1 </td><td>1 </td><td>1 </td><td>1 </td><td>0 </td></tr>\n",
       "\t<tr><td>0 </td><td>0 </td><td>0 </td><td>0 </td><td>0 </td><td>0 </td><td>0 </td><td>0 </td><td>0 </td><td>0 </td><td>⋯ </td><td> 4</td><td> 4</td><td>1 </td><td>2 </td><td>0 </td><td>1 </td><td>1 </td><td>1 </td><td>1 </td><td>0 </td></tr>\n",
       "\t<tr><td>0 </td><td>0 </td><td>0 </td><td>0 </td><td>0 </td><td>0 </td><td>0 </td><td>0 </td><td>0 </td><td>0 </td><td>⋯ </td><td>21</td><td>21</td><td>1 </td><td>2 </td><td>0 </td><td>2 </td><td>1 </td><td>1 </td><td>1 </td><td>0 </td></tr>\n",
       "\t<tr><td>0 </td><td>0 </td><td>0 </td><td>0 </td><td>0 </td><td>0 </td><td>0 </td><td>0 </td><td>0 </td><td>0 </td><td>⋯ </td><td>21</td><td>21</td><td>1 </td><td>2 </td><td>0 </td><td>2 </td><td>1 </td><td>1 </td><td>1 </td><td>0 </td></tr>\n",
       "\t<tr><td>0 </td><td>0 </td><td>0 </td><td>0 </td><td>0 </td><td>0 </td><td>0 </td><td>0 </td><td>0 </td><td>0 </td><td>⋯ </td><td>21</td><td>21</td><td>1 </td><td>2 </td><td>0 </td><td>2 </td><td>1 </td><td>1 </td><td>1 </td><td>0 </td></tr>\n",
       "\t<tr><td>0 </td><td>0 </td><td>0 </td><td>0 </td><td>0 </td><td>0 </td><td>0 </td><td>0 </td><td>0 </td><td>0 </td><td>⋯ </td><td> 5</td><td> 5</td><td>1 </td><td>2 </td><td>0 </td><td>1 </td><td>1 </td><td>1 </td><td>1 </td><td>0 </td></tr>\n",
       "</tbody>\n",
       "</table>\n"
      ],
      "text/latex": [
       "\\begin{tabular}{r|llllllllllllllllllllllllllllllllllllllllllllllllll}\n",
       " Category\\_Level\\_2Accessories & Category\\_Level\\_2Bags & Category\\_Level\\_2Beauty.Boxes & Category\\_Level\\_2Body.Care & Category\\_Level\\_2Books & Category\\_Level\\_2Clothing & Category\\_Level\\_2DVD.and.Blu.Ray & Category\\_Level\\_2Footwear & Category\\_Level\\_2Fragrance & Category\\_Level\\_2Games & ⋯ & num\\_valid & count & prop & customer\\_status & canc\\_prop & ship\\_status & destination\\_int & priority\\_int & occupation\\_int & fraud\\_status\\\\\n",
       "\\hline\n",
       "\t 0  & 0  & 0  & 0  & 0  & 0  & 0  & 0  & 0  & 0  & ⋯  &  4 &  4 & 1  & 2  & 0  & 1  & 1  & 1  & 1  & 0 \\\\\n",
       "\t 0  & 0  & 0  & 0  & 0  & 0  & 0  & 0  & 0  & 0  & ⋯  &  4 &  4 & 1  & 2  & 0  & 1  & 1  & 1  & 1  & 0 \\\\\n",
       "\t 0  & 0  & 0  & 0  & 0  & 0  & 0  & 0  & 0  & 0  & ⋯  & 21 & 21 & 1  & 2  & 0  & 2  & 1  & 1  & 1  & 0 \\\\\n",
       "\t 0  & 0  & 0  & 0  & 0  & 0  & 0  & 0  & 0  & 0  & ⋯  & 21 & 21 & 1  & 2  & 0  & 2  & 1  & 1  & 1  & 0 \\\\\n",
       "\t 0  & 0  & 0  & 0  & 0  & 0  & 0  & 0  & 0  & 0  & ⋯  & 21 & 21 & 1  & 2  & 0  & 2  & 1  & 1  & 1  & 0 \\\\\n",
       "\t 0  & 0  & 0  & 0  & 0  & 0  & 0  & 0  & 0  & 0  & ⋯  &  5 &  5 & 1  & 2  & 0  & 1  & 1  & 1  & 1  & 0 \\\\\n",
       "\\end{tabular}\n"
      ],
      "text/markdown": [
       "\n",
       "Category_Level_2Accessories | Category_Level_2Bags | Category_Level_2Beauty.Boxes | Category_Level_2Body.Care | Category_Level_2Books | Category_Level_2Clothing | Category_Level_2DVD.and.Blu.Ray | Category_Level_2Footwear | Category_Level_2Fragrance | Category_Level_2Games | ⋯ | num_valid | count | prop | customer_status | canc_prop | ship_status | destination_int | priority_int | occupation_int | fraud_status | \n",
       "|---|---|---|---|---|---|\n",
       "| 0  | 0  | 0  | 0  | 0  | 0  | 0  | 0  | 0  | 0  | ⋯  |  4 |  4 | 1  | 2  | 0  | 1  | 1  | 1  | 1  | 0  | \n",
       "| 0  | 0  | 0  | 0  | 0  | 0  | 0  | 0  | 0  | 0  | ⋯  |  4 |  4 | 1  | 2  | 0  | 1  | 1  | 1  | 1  | 0  | \n",
       "| 0  | 0  | 0  | 0  | 0  | 0  | 0  | 0  | 0  | 0  | ⋯  | 21 | 21 | 1  | 2  | 0  | 2  | 1  | 1  | 1  | 0  | \n",
       "| 0  | 0  | 0  | 0  | 0  | 0  | 0  | 0  | 0  | 0  | ⋯  | 21 | 21 | 1  | 2  | 0  | 2  | 1  | 1  | 1  | 0  | \n",
       "| 0  | 0  | 0  | 0  | 0  | 0  | 0  | 0  | 0  | 0  | ⋯  | 21 | 21 | 1  | 2  | 0  | 2  | 1  | 1  | 1  | 0  | \n",
       "| 0  | 0  | 0  | 0  | 0  | 0  | 0  | 0  | 0  | 0  | ⋯  |  5 |  5 | 1  | 2  | 0  | 1  | 1  | 1  | 1  | 0  | \n",
       "\n",
       "\n"
      ],
      "text/plain": [
       "  Category_Level_2Accessories Category_Level_2Bags Category_Level_2Beauty.Boxes\n",
       "1 0                           0                    0                           \n",
       "2 0                           0                    0                           \n",
       "3 0                           0                    0                           \n",
       "4 0                           0                    0                           \n",
       "5 0                           0                    0                           \n",
       "6 0                           0                    0                           \n",
       "  Category_Level_2Body.Care Category_Level_2Books Category_Level_2Clothing\n",
       "1 0                         0                     0                       \n",
       "2 0                         0                     0                       \n",
       "3 0                         0                     0                       \n",
       "4 0                         0                     0                       \n",
       "5 0                         0                     0                       \n",
       "6 0                         0                     0                       \n",
       "  Category_Level_2DVD.and.Blu.Ray Category_Level_2Footwear\n",
       "1 0                               0                       \n",
       "2 0                               0                       \n",
       "3 0                               0                       \n",
       "4 0                               0                       \n",
       "5 0                               0                       \n",
       "6 0                               0                       \n",
       "  Category_Level_2Fragrance Category_Level_2Games ⋯ num_valid count prop\n",
       "1 0                         0                     ⋯  4         4    1   \n",
       "2 0                         0                     ⋯  4         4    1   \n",
       "3 0                         0                     ⋯ 21        21    1   \n",
       "4 0                         0                     ⋯ 21        21    1   \n",
       "5 0                         0                     ⋯ 21        21    1   \n",
       "6 0                         0                     ⋯  5         5    1   \n",
       "  customer_status canc_prop ship_status destination_int priority_int\n",
       "1 2               0         1           1               1           \n",
       "2 2               0         1           1               1           \n",
       "3 2               0         2           1               1           \n",
       "4 2               0         2           1               1           \n",
       "5 2               0         2           1               1           \n",
       "6 2               0         1           1               1           \n",
       "  occupation_int fraud_status\n",
       "1 1              0           \n",
       "2 1              0           \n",
       "3 1              0           \n",
       "4 1              0           \n",
       "5 1              0           \n",
       "6 1              0           "
      ]
     },
     "metadata": {},
     "output_type": "display_data"
    },
    {
     "data": {
      "text/plain": [
       "\n",
       "    0     1 \n",
       "63299   166 "
      ]
     },
     "metadata": {},
     "output_type": "display_data"
    }
   ],
   "source": [
    "set.seed(123)\n",
    "Tomek <- ubTomek(select(glm_data, -fraud_status), glm_data$fraud_status, verbose = TRUE)\n",
    "glm_data <- cbind(Tomek$X, Tomek$Y)\n",
    "glm_data <- rename(glm_data, fraud_status = \"Tomek$Y\")\n",
    "head(glm_data)\n",
    "table(glm_data$fraud_status)"
   ]
  },
  {
   "cell_type": "markdown",
   "metadata": {},
   "source": [
    "### select the data that we want to turn into factor type, turn all the variable type into factor, keep the factor which has more than two factor levels, then combine them together again"
   ]
  },
  {
   "cell_type": "code",
   "execution_count": 22,
   "metadata": {},
   "outputs": [],
   "source": [
    "temp <- select(glm_data, -prop, -canc_prop, -Product_Charge_Price, -num_valid, \n",
    "               -count, -Order_Sequence_No, -Ordered_Qty, -Cancelled_Qty)\n",
    "temp[,(1:ncol(temp))] <- lapply(temp[,(1:ncol(temp))],as.factor)\n",
    "temp <- temp[, sapply(temp, nlevels) > 1]\n",
    "nums <- select(glm_data, prop, canc_prop, Product_Charge_Price, num_valid, \n",
    "               count, Order_Sequence_No, Ordered_Qty, Cancelled_Qty)\n",
    "glm_data <- cbind(temp, nums)"
   ]
  },
  {
   "cell_type": "markdown",
   "metadata": {},
   "source": [
    "### Omitting some conlumns which we do not need and view that top rows of the data "
   ]
  },
  {
   "cell_type": "code",
   "execution_count": 23,
   "metadata": {
    "collapsed": true
   },
   "outputs": [],
   "source": [
    "glm_data <- select(glm_data, -Campaign_Key, -Delivery_Option_Type_Key, -Payment_Method_Key,\n",
    "                   -Medium_Key, -pay_key_num, -Payment_Provider_Key, \n",
    "                   -Order_Payment_Status_Key, -occupation_int,\n",
    "                   -canc_prop, -Ordered_Qty, -priority_int, -Cancelled_Qty, -prop,\n",
    "                   -Order_Sequence_No, -count)\n"
   ]
  },
  {
   "cell_type": "markdown",
   "metadata": {},
   "source": [
    "###  Check the value of each variable"
   ]
  },
  {
   "cell_type": "code",
   "execution_count": 29,
   "metadata": {},
   "outputs": [
    {
     "name": "stdout",
     "output_type": "stream",
     "text": [
      "[1] \"Category_Level_2Beauty.Boxes\"\n",
      "\n",
      "    0     1 \n",
      "63438    27 \n",
      "[1] \"Category_Level_2Body.Care\"\n",
      "\n",
      "    0     1 \n",
      "51945 11520 \n",
      "[1] \"Category_Level_2Books\"\n",
      "\n",
      "    0     1 \n",
      "63268   197 \n",
      "[1] \"Category_Level_2Fragrance\"\n",
      "\n",
      "    0     1 \n",
      "63160   305 \n",
      "[1] \"Category_Level_2Gifts\"\n",
      "\n",
      "    0     1 \n",
      "63441    24 \n",
      "[1] \"Category_Level_2Hair.Care\"\n",
      "\n",
      "    0     1 \n",
      "57196  6269 \n",
      "[1] \"Category_Level_2Health.and.Beauty.Electricals\"\n",
      "\n",
      "    0     1 \n",
      "62767   698 \n",
      "[1] \"Category_Level_2Health.and.Beauty.Gift.Sets\"\n",
      "\n",
      "    0     1 \n",
      "62636   829 \n",
      "[1] \"Category_Level_2Homeware\"\n",
      "\n",
      "    0     1 \n",
      "63462     3 \n",
      "[1] \"Category_Level_2Make.Up\"\n",
      "\n",
      "    0     1 \n",
      "59182  4283 \n",
      "[1] \"Category_Level_2Nail.Care\"\n",
      "\n",
      "    0     1 \n",
      "62965   500 \n",
      "[1] \"Category_Level_2Shaving\"\n",
      "\n",
      "    0     1 \n",
      "63410    55 \n",
      "[1] \"Category_Level_2Skin.Care\"\n",
      "\n",
      "    0     1 \n",
      "27349 36116 \n",
      "[1] \"Category_Level_2Sports.Nutrition\"\n",
      "\n",
      "    0     1 \n",
      "63318   147 \n",
      "[1] \"customer_status\"\n",
      "\n",
      "    1     2     3     4 \n",
      "  257 62561   133   514 \n",
      "[1] \"ship_status\"\n",
      "\n",
      "    1     2 \n",
      "56345  7120 \n",
      "[1] \"destination_int\"\n",
      "\n",
      "    1     2 \n",
      "31658 31807 \n"
     ]
    }
   ],
   "source": [
    "for (i in 1:17){\n",
    "  print(colnames(glm_data[i]))\n",
    "  print(table(glm_data[,i]))\n",
    "}"
   ]
  },
  {
   "cell_type": "markdown",
   "metadata": {},
   "source": [
    "### Delete the variables which are not important in the matrix"
   ]
  },
  {
   "cell_type": "code",
   "execution_count": 33,
   "metadata": {},
   "outputs": [
    {
     "data": {
      "text/html": [
       "<table>\n",
       "<thead><tr><th scope=col>Category_Level_2Body.Care</th><th scope=col>Category_Level_2Health.and.Beauty.Electricals</th><th scope=col>Category_Level_2Make.Up</th><th scope=col>Category_Level_2Skin.Care</th><th scope=col>customer_status</th><th scope=col>ship_status</th><th scope=col>destination_int</th><th scope=col>fraud_status</th><th scope=col>Product_Charge_Price</th><th scope=col>num_valid</th></tr></thead>\n",
       "<tbody>\n",
       "\t<tr><td>0   </td><td>0   </td><td>0   </td><td>1   </td><td>2   </td><td>1   </td><td>1   </td><td>0   </td><td> 0.0</td><td> 4  </td></tr>\n",
       "\t<tr><td>0   </td><td>0   </td><td>0   </td><td>1   </td><td>2   </td><td>1   </td><td>1   </td><td>0   </td><td>35.0</td><td> 4  </td></tr>\n",
       "\t<tr><td>0   </td><td>0   </td><td>0   </td><td>1   </td><td>2   </td><td>2   </td><td>1   </td><td>0   </td><td> 0.0</td><td>21  </td></tr>\n",
       "\t<tr><td>0   </td><td>0   </td><td>0   </td><td>1   </td><td>2   </td><td>2   </td><td>1   </td><td>0   </td><td>22.4</td><td>21  </td></tr>\n",
       "\t<tr><td>0   </td><td>0   </td><td>0   </td><td>1   </td><td>2   </td><td>2   </td><td>1   </td><td>0   </td><td>36.0</td><td>21  </td></tr>\n",
       "\t<tr><td>0   </td><td>0   </td><td>0   </td><td>1   </td><td>2   </td><td>1   </td><td>1   </td><td>0   </td><td> 0.0</td><td> 5  </td></tr>\n",
       "</tbody>\n",
       "</table>\n"
      ],
      "text/latex": [
       "\\begin{tabular}{r|llllllllll}\n",
       " Category\\_Level\\_2Body.Care & Category\\_Level\\_2Health.and.Beauty.Electricals & Category\\_Level\\_2Make.Up & Category\\_Level\\_2Skin.Care & customer\\_status & ship\\_status & destination\\_int & fraud\\_status & Product\\_Charge\\_Price & num\\_valid\\\\\n",
       "\\hline\n",
       "\t 0    & 0    & 0    & 1    & 2    & 1    & 1    & 0    &  0.0 &  4  \\\\\n",
       "\t 0    & 0    & 0    & 1    & 2    & 1    & 1    & 0    & 35.0 &  4  \\\\\n",
       "\t 0    & 0    & 0    & 1    & 2    & 2    & 1    & 0    &  0.0 & 21  \\\\\n",
       "\t 0    & 0    & 0    & 1    & 2    & 2    & 1    & 0    & 22.4 & 21  \\\\\n",
       "\t 0    & 0    & 0    & 1    & 2    & 2    & 1    & 0    & 36.0 & 21  \\\\\n",
       "\t 0    & 0    & 0    & 1    & 2    & 1    & 1    & 0    &  0.0 &  5  \\\\\n",
       "\\end{tabular}\n"
      ],
      "text/markdown": [
       "\n",
       "Category_Level_2Body.Care | Category_Level_2Health.and.Beauty.Electricals | Category_Level_2Make.Up | Category_Level_2Skin.Care | customer_status | ship_status | destination_int | fraud_status | Product_Charge_Price | num_valid | \n",
       "|---|---|---|---|---|---|\n",
       "| 0    | 0    | 0    | 1    | 2    | 1    | 1    | 0    |  0.0 |  4   | \n",
       "| 0    | 0    | 0    | 1    | 2    | 1    | 1    | 0    | 35.0 |  4   | \n",
       "| 0    | 0    | 0    | 1    | 2    | 2    | 1    | 0    |  0.0 | 21   | \n",
       "| 0    | 0    | 0    | 1    | 2    | 2    | 1    | 0    | 22.4 | 21   | \n",
       "| 0    | 0    | 0    | 1    | 2    | 2    | 1    | 0    | 36.0 | 21   | \n",
       "| 0    | 0    | 0    | 1    | 2    | 1    | 1    | 0    |  0.0 |  5   | \n",
       "\n",
       "\n"
      ],
      "text/plain": [
       "  Category_Level_2Body.Care Category_Level_2Health.and.Beauty.Electricals\n",
       "1 0                         0                                            \n",
       "2 0                         0                                            \n",
       "3 0                         0                                            \n",
       "4 0                         0                                            \n",
       "5 0                         0                                            \n",
       "6 0                         0                                            \n",
       "  Category_Level_2Make.Up Category_Level_2Skin.Care customer_status ship_status\n",
       "1 0                       1                         2               1          \n",
       "2 0                       1                         2               1          \n",
       "3 0                       1                         2               2          \n",
       "4 0                       1                         2               2          \n",
       "5 0                       1                         2               2          \n",
       "6 0                       1                         2               1          \n",
       "  destination_int fraud_status Product_Charge_Price num_valid\n",
       "1 1               0             0.0                  4       \n",
       "2 1               0            35.0                  4       \n",
       "3 1               0             0.0                 21       \n",
       "4 1               0            22.4                 21       \n",
       "5 1               0            36.0                 21       \n",
       "6 1               0             0.0                  5       "
      ]
     },
     "metadata": {},
     "output_type": "display_data"
    }
   ],
   "source": [
    "glm_data <- select(glm_data,-Category_Level_2Beauty.Boxes,\n",
    "                   -Category_Level_2Books,-Category_Level_2Gifts,\n",
    "                   -Category_Level_2Health.and.Beauty.Gift.Sets, -Category_Level_2Homeware,\n",
    "                   -Category_Level_2Nail.Care, -Category_Level_2Shaving, \n",
    "                   -Category_Level_2Sports.Nutrition, -Category_Level_2Fragrance,\n",
    "                   -Category_Level_2Hair.Care)\n",
    "\n",
    "new_data <- glm_data\n",
    "head(new_data)\n"
   ]
  },
  {
   "cell_type": "markdown",
   "metadata": {},
   "source": [
    "### Create a partition to seperate the data into training part and test part\n",
    "\n"
   ]
  },
  {
   "cell_type": "code",
   "execution_count": 34,
   "metadata": {
    "collapsed": true
   },
   "outputs": [],
   "source": [
    "set.seed(123)\n",
    "index <- createDataPartition(glm_data$fraud_status, p = 0.7, list = FALSE)\n",
    "train <- new_data[index, ]\n",
    "test <- new_data[-index, ]"
   ]
  },
  {
   "cell_type": "markdown",
   "metadata": {},
   "source": [
    "### Train our model using SOMTE, in each iteration, samples one minority class element , then one of its nearest neighbors. Both points are now interpolated / convex-combined, resulting in a new virtual data point for the minority class, we compare the two tables before and after SOMTE, we can see that the fraud transaction times enlarge by 10 times"
   ]
  },
  {
   "cell_type": "code",
   "execution_count": 35,
   "metadata": {},
   "outputs": [
    {
     "data": {
      "text/plain": [
       "\n",
       "    0     1 \n",
       "63299   166 "
      ]
     },
     "metadata": {},
     "output_type": "display_data"
    },
    {
     "data": {
      "text/plain": [
       "\n",
       "          0           1 \n",
       "0.997384385 0.002615615 "
      ]
     },
     "metadata": {},
     "output_type": "display_data"
    },
    {
     "data": {
      "text/plain": [
       "\n",
       "   0    1 \n",
       "2490 1826 "
      ]
     },
     "metadata": {},
     "output_type": "display_data"
    },
    {
     "data": {
      "text/plain": [
       "\n",
       "        0         1 \n",
       "0.5769231 0.4230769 "
      ]
     },
     "metadata": {},
     "output_type": "display_data"
    }
   ],
   "source": [
    "set.seed(123)\n",
    "train <- SMOTE(fraud_status ~., new_data, perc.over = 1000, perc.under = 150)\n",
    "table(new_data$fraud_status)\n",
    "prop.table(table(new_data$fraud_status))\n",
    "table(train$fraud_status)\n",
    "prop.table(table(train$fraud_status))"
   ]
  },
  {
   "cell_type": "markdown",
   "metadata": {},
   "source": [
    "### Bulid a GLM model, using binomial logit link function, and also calculate the running time"
   ]
  },
  {
   "cell_type": "code",
   "execution_count": 36,
   "metadata": {},
   "outputs": [
    {
     "data": {
      "text/plain": [
       "Time difference of 0.06852603 secs"
      ]
     },
     "metadata": {},
     "output_type": "display_data"
    },
    {
     "data": {
      "text/plain": [
       "\n",
       "Call:\n",
       "glm(formula = fraud_status ~ ., family = binomial(link = \"logit\"), \n",
       "    data = train)\n",
       "\n",
       "Deviance Residuals: \n",
       "    Min       1Q   Median       3Q      Max  \n",
       "-3.6611  -0.6677  -0.4705   0.4339   2.2767  \n",
       "\n",
       "Coefficients:\n",
       "                                                Estimate Std. Error z value\n",
       "(Intercept)                                     3.062728   0.356002   8.603\n",
       "Category_Level_2Body.Care1                     -0.057923   0.118804  -0.488\n",
       "Category_Level_2Health.and.Beauty.Electricals1  2.536183   0.212041  11.961\n",
       "Category_Level_2Make.Up1                        0.691445   0.142416   4.855\n",
       "Category_Level_2Skin.Care1                     -0.667680   0.094809  -7.042\n",
       "customer_status2                               -4.242317   0.346774 -12.234\n",
       "customer_status3                               -1.773744   0.540837  -3.280\n",
       "customer_status4                               -0.592404   0.415968  -1.424\n",
       "ship_status2                                    1.805908   0.101192  17.846\n",
       "destination_int2                               -0.212006   0.085455  -2.481\n",
       "Product_Charge_Price                            0.011563   0.001394   8.294\n",
       "num_valid                                      -0.021496   0.003476  -6.184\n",
       "                                               Pr(>|z|)    \n",
       "(Intercept)                                     < 2e-16 ***\n",
       "Category_Level_2Body.Care1                      0.62587    \n",
       "Category_Level_2Health.and.Beauty.Electricals1  < 2e-16 ***\n",
       "Category_Level_2Make.Up1                       1.20e-06 ***\n",
       "Category_Level_2Skin.Care1                     1.89e-12 ***\n",
       "customer_status2                                < 2e-16 ***\n",
       "customer_status3                                0.00104 ** \n",
       "customer_status4                                0.15440    \n",
       "ship_status2                                    < 2e-16 ***\n",
       "destination_int2                                0.01310 *  \n",
       "Product_Charge_Price                            < 2e-16 ***\n",
       "num_valid                                      6.26e-10 ***\n",
       "---\n",
       "Signif. codes:  0 ‘***’ 0.001 ‘**’ 0.01 ‘*’ 0.05 ‘.’ 0.1 ‘ ’ 1\n",
       "\n",
       "(Dispersion parameter for binomial family taken to be 1)\n",
       "\n",
       "    Null deviance: 5880.7  on 4315  degrees of freedom\n",
       "Residual deviance: 3581.1  on 4304  degrees of freedom\n",
       "AIC: 3605.1\n",
       "\n",
       "Number of Fisher Scoring iterations: 7\n"
      ]
     },
     "metadata": {},
     "output_type": "display_data"
    }
   ],
   "source": [
    "\n",
    "start <- Sys.time()\n",
    "model <- glm(fraud_status ~., data = train, family = binomial(link = \"logit\"))\n",
    "end <- Sys.time()\n",
    "time <- end - start\n",
    "time\n",
    "summary(model)\n"
   ]
  },
  {
   "cell_type": "markdown",
   "metadata": {},
   "source": [
    "### Use our model to test our test data set, calculate the curve area value\n",
    "\n"
   ]
  },
  {
   "cell_type": "code",
   "execution_count": 37,
   "metadata": {},
   "outputs": [
    {
     "data": {
      "text/html": [
       "0.803872489013499"
      ],
      "text/latex": [
       "0.803872489013499"
      ],
      "text/markdown": [
       "0.803872489013499"
      ],
      "text/plain": [
       "[1] 0.8038725"
      ]
     },
     "metadata": {},
     "output_type": "display_data"
    },
    {
     "data": {
      "image/png": "[encoded data removed]",
      "text/plain": [
       "plot without title"
      ]
     },
     "metadata": {},
     "output_type": "display_data"
    }
   ],
   "source": [
    "model_predict <- predict(model, test, type = \"response\")\n",
    "ROC_predict <- prediction(model_predict, test$fraud_status)\n",
    "ROC_performance <- performance(ROC_predict, \"tpr\", \"fpr\")\n",
    "plot(ROC_performance, colorize = TRUE, text.adj = c(-0.2,1.7), lwd = 5)\n",
    "area_under_curve <- performance(ROC_predict, measure = \"auc\")\n",
    "area_under_curve@y.values[[1]]"
   ]
  },
  {
   "cell_type": "markdown",
   "metadata": {},
   "source": [
    "### Set training control parameter with 10 folder corss varidation and use this model to predict the fraud status, ouput  the confusion matrix as well"
   ]
  },
  {
   "cell_type": "code",
   "execution_count": 38,
   "metadata": {},
   "outputs": [
    {
     "data": {
      "text/plain": [
       "Confusion Matrix and Statistics\n",
       "\n",
       "          Reference\n",
       "Prediction     0     1\n",
       "         0 17349    19\n",
       "         1  1640    30\n",
       "                                          \n",
       "               Accuracy : 0.9129          \n",
       "                 95% CI : (0.9088, 0.9168)\n",
       "    No Information Rate : 0.9974          \n",
       "    P-Value [Acc > NIR] : 1               \n",
       "                                          \n",
       "                  Kappa : 0.0301          \n",
       " Mcnemar's Test P-Value : <2e-16          \n",
       "                                          \n",
       "            Sensitivity : 0.91363         \n",
       "            Specificity : 0.61224         \n",
       "         Pos Pred Value : 0.99891         \n",
       "         Neg Pred Value : 0.01796         \n",
       "             Prevalence : 0.99743         \n",
       "         Detection Rate : 0.91128         \n",
       "   Detection Prevalence : 0.91228         \n",
       "      Balanced Accuracy : 0.76294         \n",
       "                                          \n",
       "       'Positive' Class : 0               \n",
       "                                          "
      ]
     },
     "metadata": {},
     "output_type": "display_data"
    },
    {
     "data": {
      "text/html": [
       "<dl class=dl-horizontal>\n",
       "\t<dt>Sensitivity</dt>\n",
       "\t\t<dd>0.913634209279056</dd>\n",
       "\t<dt>Specificity</dt>\n",
       "\t\t<dd>0.612244897959184</dd>\n",
       "\t<dt>Pos Pred Value</dt>\n",
       "\t\t<dd>0.998906034085675</dd>\n",
       "\t<dt>Neg Pred Value</dt>\n",
       "\t\t<dd>0.0179640718562874</dd>\n",
       "\t<dt>Precision</dt>\n",
       "\t\t<dd>0.998906034085675</dd>\n",
       "\t<dt>Recall</dt>\n",
       "\t\t<dd>0.913634209279056</dd>\n",
       "\t<dt>F1</dt>\n",
       "\t\t<dd>0.954369172373958</dd>\n",
       "\t<dt>Prevalence</dt>\n",
       "\t\t<dd>0.997426200231117</dd>\n",
       "\t<dt>Detection Rate</dt>\n",
       "\t\t<dd>0.91128269776237</dd>\n",
       "\t<dt>Detection Prevalence</dt>\n",
       "\t\t<dd>0.912280701754386</dd>\n",
       "\t<dt>Balanced Accuracy</dt>\n",
       "\t\t<dd>0.76293955361912</dd>\n",
       "</dl>\n"
      ],
      "text/latex": [
       "\\begin{description*}\n",
       "\\item[Sensitivity] 0.913634209279056\n",
       "\\item[Specificity] 0.612244897959184\n",
       "\\item[Pos Pred Value] 0.998906034085675\n",
       "\\item[Neg Pred Value] 0.0179640718562874\n",
       "\\item[Precision] 0.998906034085675\n",
       "\\item[Recall] 0.913634209279056\n",
       "\\item[F1] 0.954369172373958\n",
       "\\item[Prevalence] 0.997426200231117\n",
       "\\item[Detection Rate] 0.91128269776237\n",
       "\\item[Detection Prevalence] 0.912280701754386\n",
       "\\item[Balanced Accuracy] 0.76293955361912\n",
       "\\end{description*}\n"
      ],
      "text/markdown": [
       "Sensitivity\n",
       ":   0.913634209279056Specificity\n",
       ":   0.612244897959184Pos Pred Value\n",
       ":   0.998906034085675Neg Pred Value\n",
       ":   0.0179640718562874Precision\n",
       ":   0.998906034085675Recall\n",
       ":   0.913634209279056F1\n",
       ":   0.954369172373958Prevalence\n",
       ":   0.997426200231117Detection Rate\n",
       ":   0.91128269776237Detection Prevalence\n",
       ":   0.912280701754386Balanced Accuracy\n",
       ":   0.76293955361912\n",
       "\n"
      ],
      "text/plain": [
       "         Sensitivity          Specificity       Pos Pred Value \n",
       "          0.91363421           0.61224490           0.99890603 \n",
       "      Neg Pred Value            Precision               Recall \n",
       "          0.01796407           0.99890603           0.91363421 \n",
       "                  F1           Prevalence       Detection Rate \n",
       "          0.95436917           0.99742620           0.91128270 \n",
       "Detection Prevalence    Balanced Accuracy \n",
       "          0.91228070           0.76293955 "
      ]
     },
     "metadata": {},
     "output_type": "display_data"
    }
   ],
   "source": [
    "ctrl <- trainControl(method = \"repeatedcv\", number = 10, savePredictions = TRUE)\n",
    "model_fit <- caret::train(fraud_status ~ Category_Level_2Skin.Care + Category_Level_2Make.Up +\n",
    "                            Category_Level_2Health.and.Beauty.Electricals + \n",
    "                            customer_status + Category_Level_2Body.Care +\n",
    "                            ship_status + destination_int + Product_Charge_Price + num_valid,\n",
    "                   data = train, method = \"glm\", family = binomial(link =\"logit\"),\n",
    "                   trControl = ctrl, tuneLength = 10)\n",
    "pred <- predict(model_fit, newdata = test)\n",
    "conf <- confusionMatrix(data = pred, test$fraud_status)\n",
    "conf\n",
    "conf$byClass\n"
   ]
  }
 ],
 "metadata": {
  "kernelspec": {
   "display_name": "R",
   "language": "R",
   "name": "ir"
  },
  "language_info": {
   "codemirror_mode": "r",
   "file_extension": ".r",
   "mimetype": "text/x-r-source",
   "name": "R",
   "pygments_lexer": "r",
   "version": "3.4.3"
  }
 },
 "nbformat": 4,
 "nbformat_minor": 2
}
