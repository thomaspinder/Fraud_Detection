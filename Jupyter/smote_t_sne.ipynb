{
 "cells": [
  {
   "cell_type": "markdown",
   "metadata": {},
   "source": [
    "# Smote t-sne"
   ]
  },
  {
   "cell_type": "markdown",
   "metadata": {},
   "source": [
    "### Import the library that we need"
   ]
  },
  {
   "cell_type": "code",
   "execution_count": 13,
   "metadata": {
    "collapsed": true
   },
   "outputs": [],
   "source": [
    "library(\"Rtsne\")\n"
   ]
  },
  {
   "cell_type": "markdown",
   "metadata": {},
   "source": [
    "### Set working directory and read data"
   ]
  },
  {
   "cell_type": "code",
   "execution_count": 2,
   "metadata": {},
   "outputs": [],
   "source": [
    "setwd(\"/Users/sunmengnan/Documents/Github2/thgfd/data/stratified/tsne_data\")\n",
    "features<-read.csv(\"features.csv\")\n",
    "features.smote<-read.csv(\"features_smoted.csv\")\n",
    "labels<-read.csv(\"labels.csv\", header = F)\n",
    "labels.smote<-read.csv(\"labels_smoted.csv\", header = F)"
   ]
  },
  {
   "cell_type": "markdown",
   "metadata": {},
   "source": [
    "### Remove the first column of features and labels"
   ]
  },
  {
   "cell_type": "code",
   "execution_count": 3,
   "metadata": {},
   "outputs": [
    {
     "data": {
      "text/html": [
       "<table>\n",
       "<thead><tr><th scope=col>X</th><th scope=col>Category_Level_2Accessories</th><th scope=col>Category_Level_2Bags</th><th scope=col>Category_Level_2Beauty.Boxes</th><th scope=col>Category_Level_2Body.Care</th><th scope=col>Category_Level_2Books</th><th scope=col>Category_Level_2Clothing</th><th scope=col>Category_Level_2DVD.and.Blu.Ray</th><th scope=col>Category_Level_2Footwear</th><th scope=col>Category_Level_2Fragrance</th><th scope=col>⋯</th><th scope=col>num_valid</th><th scope=col>count</th><th scope=col>prop</th><th scope=col>status</th><th scope=col>canc_prop</th><th scope=col>ship_status</th><th scope=col>destination_int</th><th scope=col>priority_int</th><th scope=col>occupation_int</th><th scope=col>Site_Key</th></tr></thead>\n",
       "<tbody>\n",
       "\t<tr><td>0  </td><td>0  </td><td>0  </td><td>0  </td><td>0  </td><td>0  </td><td>1  </td><td>0  </td><td>0  </td><td>0  </td><td>⋯  </td><td>0  </td><td>22 </td><td>0  </td><td>4  </td><td>1  </td><td>1  </td><td>2  </td><td>1  </td><td>1  </td><td>120</td></tr>\n",
       "\t<tr><td>1  </td><td>0  </td><td>0  </td><td>0  </td><td>0  </td><td>0  </td><td>1  </td><td>0  </td><td>0  </td><td>0  </td><td>⋯  </td><td>0  </td><td>22 </td><td>0  </td><td>4  </td><td>1  </td><td>1  </td><td>2  </td><td>1  </td><td>1  </td><td>120</td></tr>\n",
       "\t<tr><td>2  </td><td>0  </td><td>0  </td><td>0  </td><td>0  </td><td>0  </td><td>1  </td><td>0  </td><td>0  </td><td>0  </td><td>⋯  </td><td>0  </td><td>22 </td><td>0  </td><td>4  </td><td>1  </td><td>1  </td><td>2  </td><td>1  </td><td>1  </td><td>120</td></tr>\n",
       "\t<tr><td>3  </td><td>0  </td><td>0  </td><td>0  </td><td>0  </td><td>0  </td><td>1  </td><td>0  </td><td>0  </td><td>0  </td><td>⋯  </td><td>0  </td><td>22 </td><td>0  </td><td>4  </td><td>1  </td><td>1  </td><td>2  </td><td>1  </td><td>1  </td><td>120</td></tr>\n",
       "\t<tr><td>4  </td><td>0  </td><td>0  </td><td>0  </td><td>0  </td><td>0  </td><td>1  </td><td>0  </td><td>0  </td><td>0  </td><td>⋯  </td><td>0  </td><td>22 </td><td>0  </td><td>4  </td><td>1  </td><td>1  </td><td>2  </td><td>1  </td><td>1  </td><td>120</td></tr>\n",
       "\t<tr><td>5  </td><td>0  </td><td>0  </td><td>0  </td><td>0  </td><td>0  </td><td>1  </td><td>0  </td><td>0  </td><td>0  </td><td>⋯  </td><td>0  </td><td>22 </td><td>0  </td><td>4  </td><td>1  </td><td>1  </td><td>2  </td><td>1  </td><td>1  </td><td>120</td></tr>\n",
       "</tbody>\n",
       "</table>\n"
      ],
      "text/latex": [
       "\\begin{tabular}{r|llllllllllllllllllllllllllllllllllllllllllllllllll}\n",
       " X & Category\\_Level\\_2Accessories & Category\\_Level\\_2Bags & Category\\_Level\\_2Beauty.Boxes & Category\\_Level\\_2Body.Care & Category\\_Level\\_2Books & Category\\_Level\\_2Clothing & Category\\_Level\\_2DVD.and.Blu.Ray & Category\\_Level\\_2Footwear & Category\\_Level\\_2Fragrance & ⋯ & num\\_valid & count & prop & status & canc\\_prop & ship\\_status & destination\\_int & priority\\_int & occupation\\_int & Site\\_Key\\\\\n",
       "\\hline\n",
       "\t 0   & 0   & 0   & 0   & 0   & 0   & 1   & 0   & 0   & 0   & ⋯   & 0   & 22  & 0   & 4   & 1   & 1   & 2   & 1   & 1   & 120\\\\\n",
       "\t 1   & 0   & 0   & 0   & 0   & 0   & 1   & 0   & 0   & 0   & ⋯   & 0   & 22  & 0   & 4   & 1   & 1   & 2   & 1   & 1   & 120\\\\\n",
       "\t 2   & 0   & 0   & 0   & 0   & 0   & 1   & 0   & 0   & 0   & ⋯   & 0   & 22  & 0   & 4   & 1   & 1   & 2   & 1   & 1   & 120\\\\\n",
       "\t 3   & 0   & 0   & 0   & 0   & 0   & 1   & 0   & 0   & 0   & ⋯   & 0   & 22  & 0   & 4   & 1   & 1   & 2   & 1   & 1   & 120\\\\\n",
       "\t 4   & 0   & 0   & 0   & 0   & 0   & 1   & 0   & 0   & 0   & ⋯   & 0   & 22  & 0   & 4   & 1   & 1   & 2   & 1   & 1   & 120\\\\\n",
       "\t 5   & 0   & 0   & 0   & 0   & 0   & 1   & 0   & 0   & 0   & ⋯   & 0   & 22  & 0   & 4   & 1   & 1   & 2   & 1   & 1   & 120\\\\\n",
       "\\end{tabular}\n"
      ],
      "text/markdown": [
       "\n",
       "X | Category_Level_2Accessories | Category_Level_2Bags | Category_Level_2Beauty.Boxes | Category_Level_2Body.Care | Category_Level_2Books | Category_Level_2Clothing | Category_Level_2DVD.and.Blu.Ray | Category_Level_2Footwear | Category_Level_2Fragrance | ⋯ | num_valid | count | prop | status | canc_prop | ship_status | destination_int | priority_int | occupation_int | Site_Key | \n",
       "|---|---|---|---|---|---|\n",
       "| 0   | 0   | 0   | 0   | 0   | 0   | 1   | 0   | 0   | 0   | ⋯   | 0   | 22  | 0   | 4   | 1   | 1   | 2   | 1   | 1   | 120 | \n",
       "| 1   | 0   | 0   | 0   | 0   | 0   | 1   | 0   | 0   | 0   | ⋯   | 0   | 22  | 0   | 4   | 1   | 1   | 2   | 1   | 1   | 120 | \n",
       "| 2   | 0   | 0   | 0   | 0   | 0   | 1   | 0   | 0   | 0   | ⋯   | 0   | 22  | 0   | 4   | 1   | 1   | 2   | 1   | 1   | 120 | \n",
       "| 3   | 0   | 0   | 0   | 0   | 0   | 1   | 0   | 0   | 0   | ⋯   | 0   | 22  | 0   | 4   | 1   | 1   | 2   | 1   | 1   | 120 | \n",
       "| 4   | 0   | 0   | 0   | 0   | 0   | 1   | 0   | 0   | 0   | ⋯   | 0   | 22  | 0   | 4   | 1   | 1   | 2   | 1   | 1   | 120 | \n",
       "| 5   | 0   | 0   | 0   | 0   | 0   | 1   | 0   | 0   | 0   | ⋯   | 0   | 22  | 0   | 4   | 1   | 1   | 2   | 1   | 1   | 120 | \n",
       "\n",
       "\n"
      ],
      "text/plain": [
       "  X Category_Level_2Accessories Category_Level_2Bags\n",
       "1 0 0                           0                   \n",
       "2 1 0                           0                   \n",
       "3 2 0                           0                   \n",
       "4 3 0                           0                   \n",
       "5 4 0                           0                   \n",
       "6 5 0                           0                   \n",
       "  Category_Level_2Beauty.Boxes Category_Level_2Body.Care Category_Level_2Books\n",
       "1 0                            0                         0                    \n",
       "2 0                            0                         0                    \n",
       "3 0                            0                         0                    \n",
       "4 0                            0                         0                    \n",
       "5 0                            0                         0                    \n",
       "6 0                            0                         0                    \n",
       "  Category_Level_2Clothing Category_Level_2DVD.and.Blu.Ray\n",
       "1 1                        0                              \n",
       "2 1                        0                              \n",
       "3 1                        0                              \n",
       "4 1                        0                              \n",
       "5 1                        0                              \n",
       "6 1                        0                              \n",
       "  Category_Level_2Footwear Category_Level_2Fragrance ⋯ num_valid count prop\n",
       "1 0                        0                         ⋯ 0         22    0   \n",
       "2 0                        0                         ⋯ 0         22    0   \n",
       "3 0                        0                         ⋯ 0         22    0   \n",
       "4 0                        0                         ⋯ 0         22    0   \n",
       "5 0                        0                         ⋯ 0         22    0   \n",
       "6 0                        0                         ⋯ 0         22    0   \n",
       "  status canc_prop ship_status destination_int priority_int occupation_int\n",
       "1 4      1         1           2               1            1             \n",
       "2 4      1         1           2               1            1             \n",
       "3 4      1         1           2               1            1             \n",
       "4 4      1         1           2               1            1             \n",
       "5 4      1         1           2               1            1             \n",
       "6 4      1         1           2               1            1             \n",
       "  Site_Key\n",
       "1 120     \n",
       "2 120     \n",
       "3 120     \n",
       "4 120     \n",
       "5 120     \n",
       "6 120     "
      ]
     },
     "metadata": {},
     "output_type": "display_data"
    },
    {
     "data": {
      "text/html": [
       "<table>\n",
       "<thead><tr><th scope=col>X</th><th scope=col>Category_Level_2Accessories</th><th scope=col>Category_Level_2Bags</th><th scope=col>Category_Level_2Beauty.Boxes</th><th scope=col>Category_Level_2Body.Care</th><th scope=col>Category_Level_2Books</th><th scope=col>Category_Level_2Clothing</th><th scope=col>Category_Level_2DVD.and.Blu.Ray</th><th scope=col>Category_Level_2Footwear</th><th scope=col>Category_Level_2Fragrance</th><th scope=col>⋯</th><th scope=col>num_valid</th><th scope=col>count</th><th scope=col>prop</th><th scope=col>status</th><th scope=col>canc_prop</th><th scope=col>ship_status</th><th scope=col>destination_int</th><th scope=col>priority_int</th><th scope=col>occupation_int</th><th scope=col>Site_Key</th></tr></thead>\n",
       "<tbody>\n",
       "\t<tr><td>0  </td><td>0  </td><td>0  </td><td>0  </td><td>0  </td><td>0  </td><td>1  </td><td>0  </td><td>0  </td><td>0  </td><td>⋯  </td><td>0  </td><td>22 </td><td>0  </td><td>4  </td><td>1  </td><td>1  </td><td>2  </td><td>1  </td><td>1  </td><td>120</td></tr>\n",
       "\t<tr><td>1  </td><td>0  </td><td>0  </td><td>0  </td><td>0  </td><td>0  </td><td>1  </td><td>0  </td><td>0  </td><td>0  </td><td>⋯  </td><td>0  </td><td>22 </td><td>0  </td><td>4  </td><td>1  </td><td>1  </td><td>2  </td><td>1  </td><td>1  </td><td>120</td></tr>\n",
       "\t<tr><td>2  </td><td>0  </td><td>0  </td><td>0  </td><td>0  </td><td>0  </td><td>1  </td><td>0  </td><td>0  </td><td>0  </td><td>⋯  </td><td>0  </td><td>22 </td><td>0  </td><td>4  </td><td>1  </td><td>1  </td><td>2  </td><td>1  </td><td>1  </td><td>120</td></tr>\n",
       "\t<tr><td>3  </td><td>0  </td><td>0  </td><td>0  </td><td>0  </td><td>0  </td><td>1  </td><td>0  </td><td>0  </td><td>0  </td><td>⋯  </td><td>0  </td><td>22 </td><td>0  </td><td>4  </td><td>1  </td><td>1  </td><td>2  </td><td>1  </td><td>1  </td><td>120</td></tr>\n",
       "\t<tr><td>4  </td><td>0  </td><td>0  </td><td>0  </td><td>0  </td><td>0  </td><td>1  </td><td>0  </td><td>0  </td><td>0  </td><td>⋯  </td><td>0  </td><td>22 </td><td>0  </td><td>4  </td><td>1  </td><td>1  </td><td>2  </td><td>1  </td><td>1  </td><td>120</td></tr>\n",
       "\t<tr><td>5  </td><td>0  </td><td>0  </td><td>0  </td><td>0  </td><td>0  </td><td>1  </td><td>0  </td><td>0  </td><td>0  </td><td>⋯  </td><td>0  </td><td>22 </td><td>0  </td><td>4  </td><td>1  </td><td>1  </td><td>2  </td><td>1  </td><td>1  </td><td>120</td></tr>\n",
       "</tbody>\n",
       "</table>\n"
      ],
      "text/latex": [
       "\\begin{tabular}{r|llllllllllllllllllllllllllllllllllllllllllllllllll}\n",
       " X & Category\\_Level\\_2Accessories & Category\\_Level\\_2Bags & Category\\_Level\\_2Beauty.Boxes & Category\\_Level\\_2Body.Care & Category\\_Level\\_2Books & Category\\_Level\\_2Clothing & Category\\_Level\\_2DVD.and.Blu.Ray & Category\\_Level\\_2Footwear & Category\\_Level\\_2Fragrance & ⋯ & num\\_valid & count & prop & status & canc\\_prop & ship\\_status & destination\\_int & priority\\_int & occupation\\_int & Site\\_Key\\\\\n",
       "\\hline\n",
       "\t 0   & 0   & 0   & 0   & 0   & 0   & 1   & 0   & 0   & 0   & ⋯   & 0   & 22  & 0   & 4   & 1   & 1   & 2   & 1   & 1   & 120\\\\\n",
       "\t 1   & 0   & 0   & 0   & 0   & 0   & 1   & 0   & 0   & 0   & ⋯   & 0   & 22  & 0   & 4   & 1   & 1   & 2   & 1   & 1   & 120\\\\\n",
       "\t 2   & 0   & 0   & 0   & 0   & 0   & 1   & 0   & 0   & 0   & ⋯   & 0   & 22  & 0   & 4   & 1   & 1   & 2   & 1   & 1   & 120\\\\\n",
       "\t 3   & 0   & 0   & 0   & 0   & 0   & 1   & 0   & 0   & 0   & ⋯   & 0   & 22  & 0   & 4   & 1   & 1   & 2   & 1   & 1   & 120\\\\\n",
       "\t 4   & 0   & 0   & 0   & 0   & 0   & 1   & 0   & 0   & 0   & ⋯   & 0   & 22  & 0   & 4   & 1   & 1   & 2   & 1   & 1   & 120\\\\\n",
       "\t 5   & 0   & 0   & 0   & 0   & 0   & 1   & 0   & 0   & 0   & ⋯   & 0   & 22  & 0   & 4   & 1   & 1   & 2   & 1   & 1   & 120\\\\\n",
       "\\end{tabular}\n"
      ],
      "text/markdown": [
       "\n",
       "X | Category_Level_2Accessories | Category_Level_2Bags | Category_Level_2Beauty.Boxes | Category_Level_2Body.Care | Category_Level_2Books | Category_Level_2Clothing | Category_Level_2DVD.and.Blu.Ray | Category_Level_2Footwear | Category_Level_2Fragrance | ⋯ | num_valid | count | prop | status | canc_prop | ship_status | destination_int | priority_int | occupation_int | Site_Key | \n",
       "|---|---|---|---|---|---|\n",
       "| 0   | 0   | 0   | 0   | 0   | 0   | 1   | 0   | 0   | 0   | ⋯   | 0   | 22  | 0   | 4   | 1   | 1   | 2   | 1   | 1   | 120 | \n",
       "| 1   | 0   | 0   | 0   | 0   | 0   | 1   | 0   | 0   | 0   | ⋯   | 0   | 22  | 0   | 4   | 1   | 1   | 2   | 1   | 1   | 120 | \n",
       "| 2   | 0   | 0   | 0   | 0   | 0   | 1   | 0   | 0   | 0   | ⋯   | 0   | 22  | 0   | 4   | 1   | 1   | 2   | 1   | 1   | 120 | \n",
       "| 3   | 0   | 0   | 0   | 0   | 0   | 1   | 0   | 0   | 0   | ⋯   | 0   | 22  | 0   | 4   | 1   | 1   | 2   | 1   | 1   | 120 | \n",
       "| 4   | 0   | 0   | 0   | 0   | 0   | 1   | 0   | 0   | 0   | ⋯   | 0   | 22  | 0   | 4   | 1   | 1   | 2   | 1   | 1   | 120 | \n",
       "| 5   | 0   | 0   | 0   | 0   | 0   | 1   | 0   | 0   | 0   | ⋯   | 0   | 22  | 0   | 4   | 1   | 1   | 2   | 1   | 1   | 120 | \n",
       "\n",
       "\n"
      ],
      "text/plain": [
       "  X Category_Level_2Accessories Category_Level_2Bags\n",
       "1 0 0                           0                   \n",
       "2 1 0                           0                   \n",
       "3 2 0                           0                   \n",
       "4 3 0                           0                   \n",
       "5 4 0                           0                   \n",
       "6 5 0                           0                   \n",
       "  Category_Level_2Beauty.Boxes Category_Level_2Body.Care Category_Level_2Books\n",
       "1 0                            0                         0                    \n",
       "2 0                            0                         0                    \n",
       "3 0                            0                         0                    \n",
       "4 0                            0                         0                    \n",
       "5 0                            0                         0                    \n",
       "6 0                            0                         0                    \n",
       "  Category_Level_2Clothing Category_Level_2DVD.and.Blu.Ray\n",
       "1 1                        0                              \n",
       "2 1                        0                              \n",
       "3 1                        0                              \n",
       "4 1                        0                              \n",
       "5 1                        0                              \n",
       "6 1                        0                              \n",
       "  Category_Level_2Footwear Category_Level_2Fragrance ⋯ num_valid count prop\n",
       "1 0                        0                         ⋯ 0         22    0   \n",
       "2 0                        0                         ⋯ 0         22    0   \n",
       "3 0                        0                         ⋯ 0         22    0   \n",
       "4 0                        0                         ⋯ 0         22    0   \n",
       "5 0                        0                         ⋯ 0         22    0   \n",
       "6 0                        0                         ⋯ 0         22    0   \n",
       "  status canc_prop ship_status destination_int priority_int occupation_int\n",
       "1 4      1         1           2               1            1             \n",
       "2 4      1         1           2               1            1             \n",
       "3 4      1         1           2               1            1             \n",
       "4 4      1         1           2               1            1             \n",
       "5 4      1         1           2               1            1             \n",
       "6 4      1         1           2               1            1             \n",
       "  Site_Key\n",
       "1 120     \n",
       "2 120     \n",
       "3 120     \n",
       "4 120     \n",
       "5 120     \n",
       "6 120     "
      ]
     },
     "metadata": {},
     "output_type": "display_data"
    }
   ],
   "source": [
    "head(features)\n",
    "head(features.smote)\n",
    "features<-features[,-1]\n",
    "features.smote<-features.smote[,-1]\n",
    "labels<-labels[,-1]\n",
    "labels.smote<-labels.smote[,-1]\n",
    "\n",
    "\n"
   ]
  },
  {
   "cell_type": "markdown",
   "metadata": {},
   "source": [
    "### Combine the features together and select the unique feature"
   ]
  },
  {
   "cell_type": "code",
   "execution_count": 4,
   "metadata": {},
   "outputs": [
    {
     "data": {
      "text/html": [
       "'integer'"
      ],
      "text/latex": [
       "'integer'"
      ],
      "text/markdown": [
       "'integer'"
      ],
      "text/plain": [
       "[1] \"integer\""
      ]
     },
     "metadata": {},
     "output_type": "display_data"
    },
    {
     "data": {
      "text/html": [
       "'factor'"
      ],
      "text/latex": [
       "'factor'"
      ],
      "text/markdown": [
       "'factor'"
      ],
      "text/plain": [
       "[1] \"factor\""
      ]
     },
     "metadata": {},
     "output_type": "display_data"
    }
   ],
   "source": [
    "features<-cbind(features, labels)\n",
    "\n",
    "unique.features<-unique(features)\n",
    "cols<-cut(unique.features$labels, 2, c(\"cadetblue2\", \"red\"))\n",
    "class(unique.features$labels)\n",
    "unique.features$labels<-as.factor(unique.features$labels)\n",
    "class(unique.features$labels)\n"
   ]
  },
  {
   "cell_type": "markdown",
   "metadata": {},
   "source": [
    "### Constructing a low dimensional embedding of high-dimensional data, distances or similarities using Tsne, we set the non Smote data dimensions to 2"
   ]
  },
  {
   "cell_type": "code",
   "execution_count": 6,
   "metadata": {},
   "outputs": [
    {
     "name": "stdout",
     "output_type": "stream",
     "text": [
      "Read the 12771 x 49 data matrix successfully!\n",
      "Using no_dims = 2, perplexity = 30.000000, and theta = 0.500000\n",
      "Computing input similarities...\n",
      "Normalizing input...\n",
      "Building tree...\n",
      " - point 0 of 12771\n",
      " - point 10000 of 12771\n",
      "Done in 3.18 seconds (sparsity = 0.009278)!\n",
      "Learning embedding...\n",
      "Iteration 50: error is 101.328020 (50 iterations in 11.26 seconds)\n",
      "Iteration 100: error is 84.709592 (50 iterations in 15.34 seconds)\n",
      "Iteration 150: error is 76.784393 (50 iterations in 12.18 seconds)\n",
      "Iteration 200: error is 73.966975 (50 iterations in 12.43 seconds)\n",
      "Iteration 250: error is 72.387551 (50 iterations in 12.17 seconds)\n",
      "Iteration 300: error is 2.709953 (50 iterations in 9.64 seconds)\n",
      "Iteration 350: error is 2.283634 (50 iterations in 10.65 seconds)\n",
      "Iteration 400: error is 1.999260 (50 iterations in 10.30 seconds)\n",
      "Iteration 450: error is 1.796678 (50 iterations in 10.58 seconds)\n",
      "Iteration 500: error is 1.645636 (50 iterations in 10.82 seconds)\n",
      "Fitting performed in 115.35 seconds.\n"
     ]
    }
   ],
   "source": [
    "NoSmote.tsne <- Rtsne(unique.features[1:49], dims = 2, perplexity=30, verbose=TRUE, max_iter = 500)\n"
   ]
  },
  {
   "cell_type": "markdown",
   "metadata": {},
   "source": [
    "### Similarly, construct a low dimensional embedding of high-dimensional data, distances or similarities using Tsne, we set the Smote data dimensions to 2"
   ]
  },
  {
   "cell_type": "code",
   "execution_count": 10,
   "metadata": {},
   "outputs": [
    {
     "data": {
      "text/html": [
       "'integer'"
      ],
      "text/latex": [
       "'integer'"
      ],
      "text/markdown": [
       "'integer'"
      ],
      "text/plain": [
       "[1] \"integer\""
      ]
     },
     "metadata": {},
     "output_type": "display_data"
    },
    {
     "data": {
      "text/html": [
       "'factor'"
      ],
      "text/latex": [
       "'factor'"
      ],
      "text/markdown": [
       "'factor'"
      ],
      "text/plain": [
       "[1] \"factor\""
      ]
     },
     "metadata": {},
     "output_type": "display_data"
    },
    {
     "name": "stdout",
     "output_type": "stream",
     "text": [
      "Read the 28463 x 49 data matrix successfully!\n",
      "Using no_dims = 2, perplexity = 22.000000, and theta = 0.500000\n",
      "Computing input similarities...\n",
      "Normalizing input...\n",
      "Building tree...\n",
      " - point 0 of 28463\n",
      " - point 10000 of 28463\n",
      " - point 20000 of 28463\n",
      "Done in 7.67 seconds (sparsity = 0.002816)!\n",
      "Learning embedding...\n",
      "Iteration 50: error is 115.127331 (50 iterations in 31.90 seconds)\n",
      "Iteration 100: error is 114.216494 (50 iterations in 38.48 seconds)\n",
      "Iteration 150: error is 93.899645 (50 iterations in 36.53 seconds)\n",
      "Iteration 200: error is 86.875143 (50 iterations in 35.85 seconds)\n",
      "Iteration 250: error is 82.835557 (50 iterations in 35.14 seconds)\n",
      "Iteration 300: error is 3.681638 (50 iterations in 34.44 seconds)\n",
      "Iteration 350: error is 3.233128 (50 iterations in 30.85 seconds)\n",
      "Iteration 400: error is 2.912692 (50 iterations in 30.40 seconds)\n",
      "Iteration 450: error is 2.664830 (50 iterations in 28.00 seconds)\n",
      "Iteration 500: error is 2.464858 (50 iterations in 24.43 seconds)\n",
      "Fitting performed in 326.04 seconds.\n"
     ]
    }
   ],
   "source": [
    "features.smote<-cbind(features.smote, labels.smote)\n",
    "unique.features.smote<-unique(features.smote)\n",
    "cols<-cut(unique.features.smote$labels, 2, c(\"cadetblue2\", \"red\"))\n",
    "class(unique.features.smote$labels)\n",
    "unique.features.smote$labels.smote<-as.factor(unique.features.smote$labels.smote)\n",
    "class(unique.features.smote$labels)\n",
    "\n",
    "Smote.tsne <- Rtsne(unique.features.smote[1:49], dims = 2, perplexity=22, verbose=TRUE, max_iter = 500)\n"
   ]
  }
 ],
 "metadata": {
  "kernelspec": {
   "display_name": "R",
   "language": "R",
   "name": "ir"
  },
  "language_info": {
   "codemirror_mode": "r",
   "file_extension": ".r",
   "mimetype": "text/x-r-source",
   "name": "R",
   "pygments_lexer": "r",
   "version": "3.4.3"
  }
 },
 "nbformat": 4,
 "nbformat_minor": 2
}
