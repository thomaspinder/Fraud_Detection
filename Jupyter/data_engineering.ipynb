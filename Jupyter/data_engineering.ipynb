{
 "cells": [
  {
   "cell_type": "markdown",
   "metadata": {},
   "source": [
    "# Data Engineering"
   ]
  },
  {
   "cell_type": "markdown",
   "metadata": {},
   "source": [
    "## Transactions with delivery information"
   ]
  },
  {
   "cell_type": "markdown",
   "metadata": {},
   "source": [
    "#### 1. load packages"
   ]
  },
  {
   "cell_type": "code",
   "execution_count": 16,
   "metadata": {},
   "outputs": [],
   "source": [
    "library(data.table)\n",
    "library(dplyr)\n",
    "library(ggplot2)\n",
    "library(lubridate)\n",
    "options(warn=-1)"
   ]
  },
  {
   "cell_type": "markdown",
   "metadata": {
    "collapsed": true
   },
   "source": [
    "#### 2. set working directory and load data"
   ]
  },
  {
   "cell_type": "code",
   "execution_count": 18,
   "metadata": {
    "collapsed": true
   },
   "outputs": [],
   "source": [
    "setwd(\"/Users/sunmengnan/Documents/GitHub/thgfd/data\")\n",
    "trans <- fread(\"MAIN_transaction_data.csv\")\n",
    "fraud_trans <- fread(\"MAIN_chargeback_data.csv\")\n",
    "customers <- read.csv(\"MAIN_customer_data.csv\")"
   ]
  },
  {
   "cell_type": "markdown",
   "metadata": {},
   "source": [
    "#### 3. read delivery key file and change the column name to match main transaction file"
   ]
  },
  {
   "cell_type": "code",
   "execution_count": 19,
   "metadata": {
    "collapsed": true
   },
   "outputs": [],
   "source": [
    "del_key <- fread(\"delivery_option_lookup.csv\")\n",
    "colnames(del_key) <- c(\"Delivery_Option_Type_Key\", \"Name\")"
   ]
  },
  {
   "cell_type": "markdown",
   "metadata": {},
   "source": [
    "#### 4. Combine the delivery file and main transaction file together by \"Name\", Creat a new dataframe, calculate the times of Delivery name in the main transction"
   ]
  },
  {
   "cell_type": "code",
   "execution_count": 21,
   "metadata": {},
   "outputs": [
    {
     "name": "stderr",
     "output_type": "stream",
     "text": [
      "Joining, by = \"Delivery_Option_Type_Key\"\n"
     ]
    },
    {
     "data": {
      "text/html": [
       "<table>\n",
       "<thead><tr><th scope=col>Name</th><th scope=col>n</th></tr></thead>\n",
       "<tbody>\n",
       "\t<tr><td>Air Express Delivery    </td><td>   223                  </td></tr>\n",
       "\t<tr><td>International Standard  </td><td>137528                  </td></tr>\n",
       "\t<tr><td>International Tracked   </td><td> 43539                  </td></tr>\n",
       "\t<tr><td>Next Day                </td><td>  3724                  </td></tr>\n",
       "\t<tr><td>Premium Express Delivery</td><td> 10206                  </td></tr>\n",
       "\t<tr><td>Saturday                </td><td>   362                  </td></tr>\n",
       "\t<tr><td>Standard                </td><td>222377                  </td></tr>\n",
       "\t<tr><td>Sunday                  </td><td>   280                  </td></tr>\n",
       "\t<tr><td>Unknown                 </td><td>    95                  </td></tr>\n",
       "</tbody>\n",
       "</table>\n"
      ],
      "text/latex": [
       "\\begin{tabular}{r|ll}\n",
       " Name & n\\\\\n",
       "\\hline\n",
       "\t Air Express Delivery     &    223                  \\\\\n",
       "\t International Standard   & 137528                  \\\\\n",
       "\t International Tracked    &  43539                  \\\\\n",
       "\t Next Day                 &   3724                  \\\\\n",
       "\t Premium Express Delivery &  10206                  \\\\\n",
       "\t Saturday                 &    362                  \\\\\n",
       "\t Standard                 & 222377                  \\\\\n",
       "\t Sunday                   &    280                  \\\\\n",
       "\t Unknown                  &     95                  \\\\\n",
       "\\end{tabular}\n"
      ],
      "text/markdown": [
       "\n",
       "Name | n | \n",
       "|---|---|---|---|---|---|---|---|---|\n",
       "| Air Express Delivery     |    223                   | \n",
       "| International Standard   | 137528                   | \n",
       "| International Tracked    |  43539                   | \n",
       "| Next Day                 |   3724                   | \n",
       "| Premium Express Delivery |  10206                   | \n",
       "| Saturday                 |    362                   | \n",
       "| Standard                 | 222377                   | \n",
       "| Sunday                   |    280                   | \n",
       "| Unknown                  |     95                   | \n",
       "\n",
       "\n"
      ],
      "text/plain": [
       "  Name                     n     \n",
       "1 Air Express Delivery        223\n",
       "2 International Standard   137528\n",
       "3 International Tracked     43539\n",
       "4 Next Day                   3724\n",
       "5 Premium Express Delivery  10206\n",
       "6 Saturday                    362\n",
       "7 Standard                 222377\n",
       "8 Sunday                      280\n",
       "9 Unknown                      95"
      ]
     },
     "metadata": {},
     "output_type": "display_data"
    }
   ],
   "source": [
    "trans_del <- trans %>% \n",
    "  left_join(del_key) %>% \n",
    "  group_by(Name) %>% \n",
    "  summarise(n = n()) \n",
    "trans_del"
   ]
  },
  {
   "cell_type": "markdown",
   "metadata": {},
   "source": [
    "#### 5. Add a new column to the main transaction table by joining the two tables together"
   ]
  },
  {
   "cell_type": "code",
   "execution_count": 22,
   "metadata": {},
   "outputs": [
    {
     "name": "stderr",
     "output_type": "stream",
     "text": [
      "Joining, by = \"Delivery_Option_Type_Key\"\n"
     ]
    },
    {
     "data": {
      "text/html": [
       "<table>\n",
       "<thead><tr><th scope=col>Order_Number</th><th scope=col>Account_Key</th><th scope=col>Delivery_Option_Type_Key</th><th scope=col>Order_Date_Key</th><th scope=col>Payment_Method_Key</th><th scope=col>Locale_Key</th><th scope=col>Order_Sequence_No</th><th scope=col>Medium_Key</th><th scope=col>Campaign_Key</th><th scope=col>Order_Payment_Status_Key</th><th scope=col>⋯</th><th scope=col>Cancelled_Qty</th><th scope=col>Cancelled_Date_Key</th><th scope=col>customer_ip_address</th><th scope=col>Postcode_Shipping_Address</th><th scope=col>Country_Code_Shipping_Address</th><th scope=col>Postcode_Billing_Address</th><th scope=col>Country_Code_Billing_Address</th><th scope=col>Empty1</th><th scope=col>Empty2</th><th scope=col>Name</th></tr></thead>\n",
       "<tbody>\n",
       "\t<tr><td>67028670              </td><td>19534992              </td><td>5                     </td><td>20160301              </td><td> 7                    </td><td> 9                    </td><td>1                     </td><td> 48                   </td><td>  4659                </td><td>0                     </td><td>⋯                     </td><td>0                     </td><td>-1                    </td><td>121.223.71.121        </td><td>4814                  </td><td>AU                    </td><td>4814                  </td><td>AU                    </td><td>                      </td><td>                      </td><td>International Standard</td></tr>\n",
       "\t<tr><td>67077956              </td><td>19535774              </td><td>1                     </td><td>20160301              </td><td>11                    </td><td> 3                    </td><td>1                     </td><td>106                   </td><td>     2                </td><td>0                     </td><td>⋯                     </td><td>0                     </td><td>-1                    </td><td>80.2.92.22            </td><td>Cf54ts                </td><td>GB                    </td><td>Cf54ts                </td><td>GB                    </td><td>                      </td><td>                      </td><td>Standard              </td></tr>\n",
       "\t<tr><td>67077956              </td><td>19535774              </td><td>1                     </td><td>20160301              </td><td>11                    </td><td> 3                    </td><td>1                     </td><td>106                   </td><td>     2                </td><td>0                     </td><td>⋯                     </td><td>0                     </td><td>-1                    </td><td>80.2.92.22            </td><td>Cf54ts                </td><td>GB                    </td><td>Cf54ts                </td><td>GB                    </td><td>                      </td><td>                      </td><td>Standard              </td></tr>\n",
       "\t<tr><td>67077956              </td><td>19535774              </td><td>1                     </td><td>20160301              </td><td>11                    </td><td> 3                    </td><td>1                     </td><td>106                   </td><td>     2                </td><td>0                     </td><td>⋯                     </td><td>0                     </td><td>-1                    </td><td>80.2.92.22            </td><td>Cf54ts                </td><td>GB                    </td><td>Cf54ts                </td><td>GB                    </td><td>                      </td><td>                      </td><td>Standard              </td></tr>\n",
       "\t<tr><td>67077956              </td><td>19535774              </td><td>1                     </td><td>20160301              </td><td>11                    </td><td> 3                    </td><td>1                     </td><td>106                   </td><td>     2                </td><td>0                     </td><td>⋯                     </td><td>0                     </td><td>-1                    </td><td>80.2.92.22            </td><td>Cf54ts                </td><td>GB                    </td><td>Cf54ts                </td><td>GB                    </td><td>                      </td><td>                      </td><td>Standard              </td></tr>\n",
       "\t<tr><td>67085417              </td><td>19535579              </td><td>5                     </td><td>20160301              </td><td>67                    </td><td>12                    </td><td>1                     </td><td> 48                   </td><td>123588                </td><td>0                     </td><td>⋯                     </td><td>0                     </td><td>-1                    </td><td>99.47.47.34           </td><td>92806                 </td><td>US                    </td><td>92806                 </td><td>US                    </td><td>                      </td><td>                      </td><td>International Standard</td></tr>\n",
       "</tbody>\n",
       "</table>\n"
      ],
      "text/latex": [
       "\\begin{tabular}{r|llllllllllllllllllllllllll}\n",
       " Order\\_Number & Account\\_Key & Delivery\\_Option\\_Type\\_Key & Order\\_Date\\_Key & Payment\\_Method\\_Key & Locale\\_Key & Order\\_Sequence\\_No & Medium\\_Key & Campaign\\_Key & Order\\_Payment\\_Status\\_Key & ⋯ & Cancelled\\_Qty & Cancelled\\_Date\\_Key & customer\\_ip\\_address & Postcode\\_Shipping\\_Address & Country\\_Code\\_Shipping\\_Address & Postcode\\_Billing\\_Address & Country\\_Code\\_Billing\\_Address & Empty1 & Empty2 & Name\\\\\n",
       "\\hline\n",
       "\t 67028670               & 19534992               & 5                      & 20160301               &  7                     &  9                     & 1                      &  48                    &   4659                 & 0                      & ⋯                      & 0                      & -1                     & 121.223.71.121         & 4814                   & AU                     & 4814                   & AU                     &                        &                        & International Standard\\\\\n",
       "\t 67077956               & 19535774               & 1                      & 20160301               & 11                     &  3                     & 1                      & 106                    &      2                 & 0                      & ⋯                      & 0                      & -1                     & 80.2.92.22             & Cf54ts                 & GB                     & Cf54ts                 & GB                     &                        &                        & Standard              \\\\\n",
       "\t 67077956               & 19535774               & 1                      & 20160301               & 11                     &  3                     & 1                      & 106                    &      2                 & 0                      & ⋯                      & 0                      & -1                     & 80.2.92.22             & Cf54ts                 & GB                     & Cf54ts                 & GB                     &                        &                        & Standard              \\\\\n",
       "\t 67077956               & 19535774               & 1                      & 20160301               & 11                     &  3                     & 1                      & 106                    &      2                 & 0                      & ⋯                      & 0                      & -1                     & 80.2.92.22             & Cf54ts                 & GB                     & Cf54ts                 & GB                     &                        &                        & Standard              \\\\\n",
       "\t 67077956               & 19535774               & 1                      & 20160301               & 11                     &  3                     & 1                      & 106                    &      2                 & 0                      & ⋯                      & 0                      & -1                     & 80.2.92.22             & Cf54ts                 & GB                     & Cf54ts                 & GB                     &                        &                        & Standard              \\\\\n",
       "\t 67085417               & 19535579               & 5                      & 20160301               & 67                     & 12                     & 1                      &  48                    & 123588                 & 0                      & ⋯                      & 0                      & -1                     & 99.47.47.34            & 92806                  & US                     & 92806                  & US                     &                        &                        & International Standard\\\\\n",
       "\\end{tabular}\n"
      ],
      "text/markdown": [
       "\n",
       "Order_Number | Account_Key | Delivery_Option_Type_Key | Order_Date_Key | Payment_Method_Key | Locale_Key | Order_Sequence_No | Medium_Key | Campaign_Key | Order_Payment_Status_Key | ⋯ | Cancelled_Qty | Cancelled_Date_Key | customer_ip_address | Postcode_Shipping_Address | Country_Code_Shipping_Address | Postcode_Billing_Address | Country_Code_Billing_Address | Empty1 | Empty2 | Name | \n",
       "|---|---|---|---|---|---|\n",
       "| 67028670               | 19534992               | 5                      | 20160301               |  7                     |  9                     | 1                      |  48                    |   4659                 | 0                      | ⋯                      | 0                      | -1                     | 121.223.71.121         | 4814                   | AU                     | 4814                   | AU                     |                        |                        | International Standard | \n",
       "| 67077956               | 19535774               | 1                      | 20160301               | 11                     |  3                     | 1                      | 106                    |      2                 | 0                      | ⋯                      | 0                      | -1                     | 80.2.92.22             | Cf54ts                 | GB                     | Cf54ts                 | GB                     |                        |                        | Standard               | \n",
       "| 67077956               | 19535774               | 1                      | 20160301               | 11                     |  3                     | 1                      | 106                    |      2                 | 0                      | ⋯                      | 0                      | -1                     | 80.2.92.22             | Cf54ts                 | GB                     | Cf54ts                 | GB                     |                        |                        | Standard               | \n",
       "| 67077956               | 19535774               | 1                      | 20160301               | 11                     |  3                     | 1                      | 106                    |      2                 | 0                      | ⋯                      | 0                      | -1                     | 80.2.92.22             | Cf54ts                 | GB                     | Cf54ts                 | GB                     |                        |                        | Standard               | \n",
       "| 67077956               | 19535774               | 1                      | 20160301               | 11                     |  3                     | 1                      | 106                    |      2                 | 0                      | ⋯                      | 0                      | -1                     | 80.2.92.22             | Cf54ts                 | GB                     | Cf54ts                 | GB                     |                        |                        | Standard               | \n",
       "| 67085417               | 19535579               | 5                      | 20160301               | 67                     | 12                     | 1                      |  48                    | 123588                 | 0                      | ⋯                      | 0                      | -1                     | 99.47.47.34            | 92806                  | US                     | 92806                  | US                     |                        |                        | International Standard | \n",
       "\n",
       "\n"
      ],
      "text/plain": [
       "  Order_Number Account_Key Delivery_Option_Type_Key Order_Date_Key\n",
       "1 67028670     19534992    5                        20160301      \n",
       "2 67077956     19535774    1                        20160301      \n",
       "3 67077956     19535774    1                        20160301      \n",
       "4 67077956     19535774    1                        20160301      \n",
       "5 67077956     19535774    1                        20160301      \n",
       "6 67085417     19535579    5                        20160301      \n",
       "  Payment_Method_Key Locale_Key Order_Sequence_No Medium_Key Campaign_Key\n",
       "1  7                  9         1                  48          4659      \n",
       "2 11                  3         1                 106             2      \n",
       "3 11                  3         1                 106             2      \n",
       "4 11                  3         1                 106             2      \n",
       "5 11                  3         1                 106             2      \n",
       "6 67                 12         1                  48        123588      \n",
       "  Order_Payment_Status_Key ⋯ Cancelled_Qty Cancelled_Date_Key\n",
       "1 0                        ⋯ 0             -1                \n",
       "2 0                        ⋯ 0             -1                \n",
       "3 0                        ⋯ 0             -1                \n",
       "4 0                        ⋯ 0             -1                \n",
       "5 0                        ⋯ 0             -1                \n",
       "6 0                        ⋯ 0             -1                \n",
       "  customer_ip_address Postcode_Shipping_Address Country_Code_Shipping_Address\n",
       "1 121.223.71.121      4814                      AU                           \n",
       "2 80.2.92.22          Cf54ts                    GB                           \n",
       "3 80.2.92.22          Cf54ts                    GB                           \n",
       "4 80.2.92.22          Cf54ts                    GB                           \n",
       "5 80.2.92.22          Cf54ts                    GB                           \n",
       "6 99.47.47.34         92806                     US                           \n",
       "  Postcode_Billing_Address Country_Code_Billing_Address Empty1 Empty2\n",
       "1 4814                     AU                                        \n",
       "2 Cf54ts                   GB                                        \n",
       "3 Cf54ts                   GB                                        \n",
       "4 Cf54ts                   GB                                        \n",
       "5 Cf54ts                   GB                                        \n",
       "6 92806                    US                                        \n",
       "  Name                  \n",
       "1 International Standard\n",
       "2 Standard              \n",
       "3 Standard              \n",
       "4 Standard              \n",
       "5 Standard              \n",
       "6 International Standard"
      ]
     },
     "metadata": {},
     "output_type": "display_data"
    }
   ],
   "source": [
    "trans <- trans %>% \n",
    "  left_join(del_key)\n",
    "head(trans)"
   ]
  },
  {
   "cell_type": "markdown",
   "metadata": {},
   "source": [
    "#### 6. Create a new dataframe named del_features, we classifiy the destination by international or domestic destinatino, and the priotity, here we assume that if they wanted it delivered only on Saturday/Sunday, it was most likely the case that they were going to be working"
   ]
  },
  {
   "cell_type": "code",
   "execution_count": 28,
   "metadata": {},
   "outputs": [
    {
     "data": {
      "text/html": [
       "<table>\n",
       "<thead><tr><th scope=col>Name</th><th scope=col>destination</th><th scope=col>priority</th><th scope=col>occupation</th></tr></thead>\n",
       "<tbody>\n",
       "\t<tr><td>International Standard  </td><td>int                     </td><td>priority                </td><td>unknown                 </td></tr>\n",
       "\t<tr><td>Standard                </td><td>int                     </td><td>slow                    </td><td>unknown                 </td></tr>\n",
       "\t<tr><td>Next Day                </td><td>int                     </td><td>slow                    </td><td>unknown                 </td></tr>\n",
       "\t<tr><td>International Tracked   </td><td>int                     </td><td>priority                </td><td>unknown                 </td></tr>\n",
       "\t<tr><td>Premium Express Delivery</td><td>dom                     </td><td>priority                </td><td>unknown                 </td></tr>\n",
       "\t<tr><td>Air Express Delivery    </td><td>dom                     </td><td>slow                    </td><td>unknown                 </td></tr>\n",
       "\t<tr><td>Unknown                 </td><td>dom                     </td><td>slow                    </td><td>unknown                 </td></tr>\n",
       "\t<tr><td>Saturday                </td><td>dom                     </td><td>slow                    </td><td>working                 </td></tr>\n",
       "\t<tr><td>Sunday                  </td><td>dom                     </td><td>slow                    </td><td>working                 </td></tr>\n",
       "</tbody>\n",
       "</table>\n"
      ],
      "text/latex": [
       "\\begin{tabular}{r|llll}\n",
       " Name & destination & priority & occupation\\\\\n",
       "\\hline\n",
       "\t International Standard   & int                      & priority                 & unknown                 \\\\\n",
       "\t Standard                 & int                      & slow                     & unknown                 \\\\\n",
       "\t Next Day                 & int                      & slow                     & unknown                 \\\\\n",
       "\t International Tracked    & int                      & priority                 & unknown                 \\\\\n",
       "\t Premium Express Delivery & dom                      & priority                 & unknown                 \\\\\n",
       "\t Air Express Delivery     & dom                      & slow                     & unknown                 \\\\\n",
       "\t Unknown                  & dom                      & slow                     & unknown                 \\\\\n",
       "\t Saturday                 & dom                      & slow                     & working                 \\\\\n",
       "\t Sunday                   & dom                      & slow                     & working                 \\\\\n",
       "\\end{tabular}\n"
      ],
      "text/markdown": [
       "\n",
       "Name | destination | priority | occupation | \n",
       "|---|---|---|---|---|---|---|---|---|\n",
       "| International Standard   | int                      | priority                 | unknown                  | \n",
       "| Standard                 | int                      | slow                     | unknown                  | \n",
       "| Next Day                 | int                      | slow                     | unknown                  | \n",
       "| International Tracked    | int                      | priority                 | unknown                  | \n",
       "| Premium Express Delivery | dom                      | priority                 | unknown                  | \n",
       "| Air Express Delivery     | dom                      | slow                     | unknown                  | \n",
       "| Unknown                  | dom                      | slow                     | unknown                  | \n",
       "| Saturday                 | dom                      | slow                     | working                  | \n",
       "| Sunday                   | dom                      | slow                     | working                  | \n",
       "\n",
       "\n"
      ],
      "text/plain": [
       "  Name                     destination priority occupation\n",
       "1 International Standard   int         priority unknown   \n",
       "2 Standard                 int         slow     unknown   \n",
       "3 Next Day                 int         slow     unknown   \n",
       "4 International Tracked    int         priority unknown   \n",
       "5 Premium Express Delivery dom         priority unknown   \n",
       "6 Air Express Delivery     dom         slow     unknown   \n",
       "7 Unknown                  dom         slow     unknown   \n",
       "8 Saturday                 dom         slow     working   \n",
       "9 Sunday                   dom         slow     working   "
      ]
     },
     "metadata": {},
     "output_type": "display_data"
    }
   ],
   "source": [
    "del_features <- data.frame(Name = as.character(unique(trans$Name)), \n",
    "                           destination = c(rep(\"int\", 4), rep(\"dom\", 5)),\n",
    "                           priority = c(\"priority\", rep(\"slow\", 2), rep(\"priority\", 2), rep(\"slow\", 4)),\n",
    "                           occupation = c(rep(\"unknown\", 7), \"working\", \"working\"))\n",
    "del_features"
   ]
  },
  {
   "cell_type": "markdown",
   "metadata": {},
   "source": [
    "#### 7. Combine the new dataframe del_features with the main transaction table through key column  \"Name\""
   ]
  },
  {
   "cell_type": "code",
   "execution_count": 32,
   "metadata": {},
   "outputs": [
    {
     "data": {
      "text/html": [
       "<table>\n",
       "<thead><tr><th scope=col>Order_Number</th><th scope=col>Account_Key</th><th scope=col>Delivery_Option_Type_Key</th><th scope=col>Order_Date_Key</th><th scope=col>Payment_Method_Key</th><th scope=col>Locale_Key</th><th scope=col>Order_Sequence_No</th><th scope=col>Medium_Key</th><th scope=col>Campaign_Key</th><th scope=col>Order_Payment_Status_Key</th><th scope=col>⋯</th><th scope=col>Country_Code_Billing_Address</th><th scope=col>Empty1</th><th scope=col>Empty2</th><th scope=col>Name</th><th scope=col>destination.x</th><th scope=col>priority.x</th><th scope=col>occupation.x</th><th scope=col>destination.y</th><th scope=col>priority.y</th><th scope=col>occupation.y</th></tr></thead>\n",
       "<tbody>\n",
       "\t<tr><td>67028670              </td><td>19534992              </td><td>5                     </td><td>20160301              </td><td> 7                    </td><td> 9                    </td><td>1                     </td><td> 48                   </td><td>  4659                </td><td>0                     </td><td>⋯                     </td><td>AU                    </td><td>                      </td><td>                      </td><td>International Standard</td><td>int                   </td><td>priority              </td><td>unknown               </td><td>int                   </td><td>priority              </td><td>unknown               </td></tr>\n",
       "\t<tr><td>67077956              </td><td>19535774              </td><td>1                     </td><td>20160301              </td><td>11                    </td><td> 3                    </td><td>1                     </td><td>106                   </td><td>     2                </td><td>0                     </td><td>⋯                     </td><td>GB                    </td><td>                      </td><td>                      </td><td>Standard              </td><td>int                   </td><td>slow                  </td><td>unknown               </td><td>int                   </td><td>slow                  </td><td>unknown               </td></tr>\n",
       "\t<tr><td>67077956              </td><td>19535774              </td><td>1                     </td><td>20160301              </td><td>11                    </td><td> 3                    </td><td>1                     </td><td>106                   </td><td>     2                </td><td>0                     </td><td>⋯                     </td><td>GB                    </td><td>                      </td><td>                      </td><td>Standard              </td><td>int                   </td><td>slow                  </td><td>unknown               </td><td>int                   </td><td>slow                  </td><td>unknown               </td></tr>\n",
       "\t<tr><td>67077956              </td><td>19535774              </td><td>1                     </td><td>20160301              </td><td>11                    </td><td> 3                    </td><td>1                     </td><td>106                   </td><td>     2                </td><td>0                     </td><td>⋯                     </td><td>GB                    </td><td>                      </td><td>                      </td><td>Standard              </td><td>int                   </td><td>slow                  </td><td>unknown               </td><td>int                   </td><td>slow                  </td><td>unknown               </td></tr>\n",
       "\t<tr><td>67077956              </td><td>19535774              </td><td>1                     </td><td>20160301              </td><td>11                    </td><td> 3                    </td><td>1                     </td><td>106                   </td><td>     2                </td><td>0                     </td><td>⋯                     </td><td>GB                    </td><td>                      </td><td>                      </td><td>Standard              </td><td>int                   </td><td>slow                  </td><td>unknown               </td><td>int                   </td><td>slow                  </td><td>unknown               </td></tr>\n",
       "\t<tr><td>67085417              </td><td>19535579              </td><td>5                     </td><td>20160301              </td><td>67                    </td><td>12                    </td><td>1                     </td><td> 48                   </td><td>123588                </td><td>0                     </td><td>⋯                     </td><td>US                    </td><td>                      </td><td>                      </td><td>International Standard</td><td>int                   </td><td>priority              </td><td>unknown               </td><td>int                   </td><td>priority              </td><td>unknown               </td></tr>\n",
       "</tbody>\n",
       "</table>\n"
      ],
      "text/latex": [
       "\\begin{tabular}{r|llllllllllllllllllllllllllllllll}\n",
       " Order\\_Number & Account\\_Key & Delivery\\_Option\\_Type\\_Key & Order\\_Date\\_Key & Payment\\_Method\\_Key & Locale\\_Key & Order\\_Sequence\\_No & Medium\\_Key & Campaign\\_Key & Order\\_Payment\\_Status\\_Key & ⋯ & Country\\_Code\\_Billing\\_Address & Empty1 & Empty2 & Name & destination.x & priority.x & occupation.x & destination.y & priority.y & occupation.y\\\\\n",
       "\\hline\n",
       "\t 67028670               & 19534992               & 5                      & 20160301               &  7                     &  9                     & 1                      &  48                    &   4659                 & 0                      & ⋯                      & AU                     &                        &                        & International Standard & int                    & priority               & unknown                & int                    & priority               & unknown               \\\\\n",
       "\t 67077956               & 19535774               & 1                      & 20160301               & 11                     &  3                     & 1                      & 106                    &      2                 & 0                      & ⋯                      & GB                     &                        &                        & Standard               & int                    & slow                   & unknown                & int                    & slow                   & unknown               \\\\\n",
       "\t 67077956               & 19535774               & 1                      & 20160301               & 11                     &  3                     & 1                      & 106                    &      2                 & 0                      & ⋯                      & GB                     &                        &                        & Standard               & int                    & slow                   & unknown                & int                    & slow                   & unknown               \\\\\n",
       "\t 67077956               & 19535774               & 1                      & 20160301               & 11                     &  3                     & 1                      & 106                    &      2                 & 0                      & ⋯                      & GB                     &                        &                        & Standard               & int                    & slow                   & unknown                & int                    & slow                   & unknown               \\\\\n",
       "\t 67077956               & 19535774               & 1                      & 20160301               & 11                     &  3                     & 1                      & 106                    &      2                 & 0                      & ⋯                      & GB                     &                        &                        & Standard               & int                    & slow                   & unknown                & int                    & slow                   & unknown               \\\\\n",
       "\t 67085417               & 19535579               & 5                      & 20160301               & 67                     & 12                     & 1                      &  48                    & 123588                 & 0                      & ⋯                      & US                     &                        &                        & International Standard & int                    & priority               & unknown                & int                    & priority               & unknown               \\\\\n",
       "\\end{tabular}\n"
      ],
      "text/markdown": [
       "\n",
       "Order_Number | Account_Key | Delivery_Option_Type_Key | Order_Date_Key | Payment_Method_Key | Locale_Key | Order_Sequence_No | Medium_Key | Campaign_Key | Order_Payment_Status_Key | ⋯ | Country_Code_Billing_Address | Empty1 | Empty2 | Name | destination.x | priority.x | occupation.x | destination.y | priority.y | occupation.y | \n",
       "|---|---|---|---|---|---|\n",
       "| 67028670               | 19534992               | 5                      | 20160301               |  7                     |  9                     | 1                      |  48                    |   4659                 | 0                      | ⋯                      | AU                     |                        |                        | International Standard | int                    | priority               | unknown                | int                    | priority               | unknown                | \n",
       "| 67077956               | 19535774               | 1                      | 20160301               | 11                     |  3                     | 1                      | 106                    |      2                 | 0                      | ⋯                      | GB                     |                        |                        | Standard               | int                    | slow                   | unknown                | int                    | slow                   | unknown                | \n",
       "| 67077956               | 19535774               | 1                      | 20160301               | 11                     |  3                     | 1                      | 106                    |      2                 | 0                      | ⋯                      | GB                     |                        |                        | Standard               | int                    | slow                   | unknown                | int                    | slow                   | unknown                | \n",
       "| 67077956               | 19535774               | 1                      | 20160301               | 11                     |  3                     | 1                      | 106                    |      2                 | 0                      | ⋯                      | GB                     |                        |                        | Standard               | int                    | slow                   | unknown                | int                    | slow                   | unknown                | \n",
       "| 67077956               | 19535774               | 1                      | 20160301               | 11                     |  3                     | 1                      | 106                    |      2                 | 0                      | ⋯                      | GB                     |                        |                        | Standard               | int                    | slow                   | unknown                | int                    | slow                   | unknown                | \n",
       "| 67085417               | 19535579               | 5                      | 20160301               | 67                     | 12                     | 1                      |  48                    | 123588                 | 0                      | ⋯                      | US                     |                        |                        | International Standard | int                    | priority               | unknown                | int                    | priority               | unknown                | \n",
       "\n",
       "\n"
      ],
      "text/plain": [
       "  Order_Number Account_Key Delivery_Option_Type_Key Order_Date_Key\n",
       "1 67028670     19534992    5                        20160301      \n",
       "2 67077956     19535774    1                        20160301      \n",
       "3 67077956     19535774    1                        20160301      \n",
       "4 67077956     19535774    1                        20160301      \n",
       "5 67077956     19535774    1                        20160301      \n",
       "6 67085417     19535579    5                        20160301      \n",
       "  Payment_Method_Key Locale_Key Order_Sequence_No Medium_Key Campaign_Key\n",
       "1  7                  9         1                  48          4659      \n",
       "2 11                  3         1                 106             2      \n",
       "3 11                  3         1                 106             2      \n",
       "4 11                  3         1                 106             2      \n",
       "5 11                  3         1                 106             2      \n",
       "6 67                 12         1                  48        123588      \n",
       "  Order_Payment_Status_Key ⋯ Country_Code_Billing_Address Empty1 Empty2\n",
       "1 0                        ⋯ AU                                        \n",
       "2 0                        ⋯ GB                                        \n",
       "3 0                        ⋯ GB                                        \n",
       "4 0                        ⋯ GB                                        \n",
       "5 0                        ⋯ GB                                        \n",
       "6 0                        ⋯ US                                        \n",
       "  Name                   destination.x priority.x occupation.x destination.y\n",
       "1 International Standard int           priority   unknown      int          \n",
       "2 Standard               int           slow       unknown      int          \n",
       "3 Standard               int           slow       unknown      int          \n",
       "4 Standard               int           slow       unknown      int          \n",
       "5 Standard               int           slow       unknown      int          \n",
       "6 International Standard int           priority   unknown      int          \n",
       "  priority.y occupation.y\n",
       "1 priority   unknown     \n",
       "2 slow       unknown     \n",
       "3 slow       unknown     \n",
       "4 slow       unknown     \n",
       "5 slow       unknown     \n",
       "6 priority   unknown     "
      ]
     },
     "metadata": {},
     "output_type": "display_data"
    }
   ],
   "source": [
    "trans <- trans %>% \n",
    "  left_join(del_features, by = \"Name\")\n",
    "head(trans)"
   ]
  },
  {
   "cell_type": "markdown",
   "metadata": {},
   "source": [
    "## Reliable Customers"
   ]
  },
  {
   "cell_type": "markdown",
   "metadata": {},
   "source": [
    "#### 1. Count the times of each customer's transaction in main transaction table in a new data frame named customers"
   ]
  },
  {
   "cell_type": "code",
   "execution_count": 33,
   "metadata": {},
   "outputs": [
    {
     "data": {
      "text/html": [
       "<table>\n",
       "<thead><tr><th scope=col>count</th><th scope=col>n</th></tr></thead>\n",
       "<tbody>\n",
       "\t<tr><td>1    </td><td>79487</td></tr>\n",
       "\t<tr><td>2    </td><td>57252</td></tr>\n",
       "\t<tr><td>3    </td><td>42192</td></tr>\n",
       "\t<tr><td>4    </td><td>39276</td></tr>\n",
       "\t<tr><td>5    </td><td>25175</td></tr>\n",
       "\t<tr><td>6    </td><td>22302</td></tr>\n",
       "</tbody>\n",
       "</table>\n"
      ],
      "text/latex": [
       "\\begin{tabular}{r|ll}\n",
       " count & n\\\\\n",
       "\\hline\n",
       "\t 1     & 79487\\\\\n",
       "\t 2     & 57252\\\\\n",
       "\t 3     & 42192\\\\\n",
       "\t 4     & 39276\\\\\n",
       "\t 5     & 25175\\\\\n",
       "\t 6     & 22302\\\\\n",
       "\\end{tabular}\n"
      ],
      "text/markdown": [
       "\n",
       "count | n | \n",
       "|---|---|---|---|---|---|\n",
       "| 1     | 79487 | \n",
       "| 2     | 57252 | \n",
       "| 3     | 42192 | \n",
       "| 4     | 39276 | \n",
       "| 5     | 25175 | \n",
       "| 6     | 22302 | \n",
       "\n",
       "\n"
      ],
      "text/plain": [
       "  count n    \n",
       "1 1     79487\n",
       "2 2     57252\n",
       "3 3     42192\n",
       "4 4     39276\n",
       "5 5     25175\n",
       "6 6     22302"
      ]
     },
     "metadata": {},
     "output_type": "display_data"
    }
   ],
   "source": [
    "customers <- trans %>% \n",
    "  group_by(Account_Key) %>% \n",
    "  mutate(count = n()) %>% \n",
    "  group_by(count) %>% \n",
    "  summarise(n = n()) \n",
    "head(customers)"
   ]
  },
  {
   "cell_type": "markdown",
   "metadata": {},
   "source": [
    "#### 2. Create a new colomun which indicates the proportion of a customer's transaction times in total transaction time"
   ]
  },
  {
   "cell_type": "code",
   "execution_count": 35,
   "metadata": {},
   "outputs": [
    {
     "data": {
      "text/html": [
       "<table>\n",
       "<thead><tr><th scope=col>count</th><th scope=col>n</th><th scope=col>prop</th></tr></thead>\n",
       "<tbody>\n",
       "\t<tr><td>1         </td><td>79487     </td><td>0.19000846</td></tr>\n",
       "\t<tr><td>2         </td><td>57252     </td><td>0.13685715</td></tr>\n",
       "\t<tr><td>3         </td><td>42192     </td><td>0.10085721</td></tr>\n",
       "\t<tr><td>4         </td><td>39276     </td><td>0.09388670</td></tr>\n",
       "\t<tr><td>5         </td><td>25175     </td><td>0.06017919</td></tr>\n",
       "\t<tr><td>6         </td><td>22302     </td><td>0.05331147</td></tr>\n",
       "</tbody>\n",
       "</table>\n"
      ],
      "text/latex": [
       "\\begin{tabular}{r|lll}\n",
       " count & n & prop\\\\\n",
       "\\hline\n",
       "\t 1          & 79487      & 0.19000846\\\\\n",
       "\t 2          & 57252      & 0.13685715\\\\\n",
       "\t 3          & 42192      & 0.10085721\\\\\n",
       "\t 4          & 39276      & 0.09388670\\\\\n",
       "\t 5          & 25175      & 0.06017919\\\\\n",
       "\t 6          & 22302      & 0.05331147\\\\\n",
       "\\end{tabular}\n"
      ],
      "text/markdown": [
       "\n",
       "count | n | prop | \n",
       "|---|---|---|---|---|---|\n",
       "| 1          | 79487      | 0.19000846 | \n",
       "| 2          | 57252      | 0.13685715 | \n",
       "| 3          | 42192      | 0.10085721 | \n",
       "| 4          | 39276      | 0.09388670 | \n",
       "| 5          | 25175      | 0.06017919 | \n",
       "| 6          | 22302      | 0.05331147 | \n",
       "\n",
       "\n"
      ],
      "text/plain": [
       "  count n     prop      \n",
       "1 1     79487 0.19000846\n",
       "2 2     57252 0.13685715\n",
       "3 3     42192 0.10085721\n",
       "4 4     39276 0.09388670\n",
       "5 5     25175 0.06017919\n",
       "6 6     22302 0.05331147"
      ]
     },
     "metadata": {},
     "output_type": "display_data"
    }
   ],
   "source": [
    "customers$prop <- customers$n/dim(trans)[1] \n",
    "head(customers)"
   ]
  },
  {
   "cell_type": "markdown",
   "metadata": {},
   "source": [
    "#### 3. Add a new variable which cumulates the percentage of previous top customers"
   ]
  },
  {
   "cell_type": "code",
   "execution_count": 36,
   "metadata": {},
   "outputs": [
    {
     "data": {
      "text/html": [
       "<table>\n",
       "<thead><tr><th scope=col>count</th><th scope=col>n</th><th scope=col>prop</th><th scope=col>cumulate</th></tr></thead>\n",
       "<tbody>\n",
       "\t<tr><td>1         </td><td>79487     </td><td>0.19000846</td><td>0.1900085 </td></tr>\n",
       "\t<tr><td>2         </td><td>57252     </td><td>0.13685715</td><td>0.3268656 </td></tr>\n",
       "\t<tr><td>3         </td><td>42192     </td><td>0.10085721</td><td>0.4277228 </td></tr>\n",
       "\t<tr><td>4         </td><td>39276     </td><td>0.09388670</td><td>0.5216095 </td></tr>\n",
       "\t<tr><td>5         </td><td>25175     </td><td>0.06017919</td><td>0.5817887 </td></tr>\n",
       "\t<tr><td>6         </td><td>22302     </td><td>0.05331147</td><td>0.6351002 </td></tr>\n",
       "</tbody>\n",
       "</table>\n"
      ],
      "text/latex": [
       "\\begin{tabular}{r|llll}\n",
       " count & n & prop & cumulate\\\\\n",
       "\\hline\n",
       "\t 1          & 79487      & 0.19000846 & 0.1900085 \\\\\n",
       "\t 2          & 57252      & 0.13685715 & 0.3268656 \\\\\n",
       "\t 3          & 42192      & 0.10085721 & 0.4277228 \\\\\n",
       "\t 4          & 39276      & 0.09388670 & 0.5216095 \\\\\n",
       "\t 5          & 25175      & 0.06017919 & 0.5817887 \\\\\n",
       "\t 6          & 22302      & 0.05331147 & 0.6351002 \\\\\n",
       "\\end{tabular}\n"
      ],
      "text/markdown": [
       "\n",
       "count | n | prop | cumulate | \n",
       "|---|---|---|---|---|---|\n",
       "| 1          | 79487      | 0.19000846 | 0.1900085  | \n",
       "| 2          | 57252      | 0.13685715 | 0.3268656  | \n",
       "| 3          | 42192      | 0.10085721 | 0.4277228  | \n",
       "| 4          | 39276      | 0.09388670 | 0.5216095  | \n",
       "| 5          | 25175      | 0.06017919 | 0.5817887  | \n",
       "| 6          | 22302      | 0.05331147 | 0.6351002  | \n",
       "\n",
       "\n"
      ],
      "text/plain": [
       "  count n     prop       cumulate \n",
       "1 1     79487 0.19000846 0.1900085\n",
       "2 2     57252 0.13685715 0.3268656\n",
       "3 3     42192 0.10085721 0.4277228\n",
       "4 4     39276 0.09388670 0.5216095\n",
       "5 5     25175 0.06017919 0.5817887\n",
       "6 6     22302 0.05331147 0.6351002"
      ]
     },
     "metadata": {},
     "output_type": "display_data"
    }
   ],
   "source": [
    "customers$cumulate <- cumsum(customers$prop)\n",
    "head(customers)"
   ]
  },
  {
   "cell_type": "markdown",
   "metadata": {},
   "source": [
    "#### 4. Add new variables including pay_key_num(numeric), num_valid, proportion and status indicating whethere the transcation is frand, here we assume that if the total counts of payment status which is known are larger than 2 or the proportion of valid number is less than 25%, it's quesionable, accordingly, we define the insufficient, adeuate and fine type."
   ]
  },
  {
   "cell_type": "code",
   "execution_count": 40,
   "metadata": {},
   "outputs": [
    {
     "data": {
      "text/html": [
       "<table>\n",
       "<thead><tr><th scope=col>Order_Number</th><th scope=col>Account_Key</th><th scope=col>Delivery_Option_Type_Key</th><th scope=col>Order_Date_Key</th><th scope=col>Payment_Method_Key</th><th scope=col>Locale_Key</th><th scope=col>Order_Sequence_No</th><th scope=col>Medium_Key</th><th scope=col>Campaign_Key</th><th scope=col>Order_Payment_Status_Key</th><th scope=col>⋯</th><th scope=col>priority.x</th><th scope=col>occupation.x</th><th scope=col>destination.y</th><th scope=col>priority.y</th><th scope=col>occupation.y</th><th scope=col>pay_key_num</th><th scope=col>num_valid</th><th scope=col>count</th><th scope=col>prop</th><th scope=col>status</th></tr></thead>\n",
       "<tbody>\n",
       "\t<tr><td>67028670</td><td>19534992</td><td>5       </td><td>20160301</td><td> 7      </td><td> 9      </td><td>  1     </td><td> 48     </td><td>  4659  </td><td>0       </td><td>⋯       </td><td>priority</td><td>unknown </td><td>int     </td><td>priority</td><td>unknown </td><td>0       </td><td> 1      </td><td> 1      </td><td>1       </td><td>fine    </td></tr>\n",
       "\t<tr><td>67077956</td><td>19535774</td><td>1       </td><td>20160301</td><td>11      </td><td> 3      </td><td>  1     </td><td>106     </td><td>     2  </td><td>0       </td><td>⋯       </td><td>slow    </td><td>unknown </td><td>int     </td><td>slow    </td><td>unknown </td><td>0       </td><td> 4      </td><td> 4      </td><td>1       </td><td>fine    </td></tr>\n",
       "\t<tr><td>67077956</td><td>19535774</td><td>1       </td><td>20160301</td><td>11      </td><td> 3      </td><td>  1     </td><td>106     </td><td>     2  </td><td>0       </td><td>⋯       </td><td>slow    </td><td>unknown </td><td>int     </td><td>slow    </td><td>unknown </td><td>0       </td><td> 4      </td><td> 4      </td><td>1       </td><td>fine    </td></tr>\n",
       "\t<tr><td>67077956</td><td>19535774</td><td>1       </td><td>20160301</td><td>11      </td><td> 3      </td><td>  1     </td><td>106     </td><td>     2  </td><td>0       </td><td>⋯       </td><td>slow    </td><td>unknown </td><td>int     </td><td>slow    </td><td>unknown </td><td>0       </td><td> 4      </td><td> 4      </td><td>1       </td><td>fine    </td></tr>\n",
       "\t<tr><td>67077956</td><td>19535774</td><td>1       </td><td>20160301</td><td>11      </td><td> 3      </td><td>  1     </td><td>106     </td><td>     2  </td><td>0       </td><td>⋯       </td><td>slow    </td><td>unknown </td><td>int     </td><td>slow    </td><td>unknown </td><td>0       </td><td> 4      </td><td> 4      </td><td>1       </td><td>fine    </td></tr>\n",
       "\t<tr><td>67085417</td><td>19535579</td><td>5       </td><td>20160301</td><td>67      </td><td>12      </td><td>  1     </td><td> 48     </td><td>123588  </td><td>0       </td><td>⋯       </td><td>priority</td><td>unknown </td><td>int     </td><td>priority</td><td>unknown </td><td>0       </td><td> 1      </td><td> 1      </td><td>1       </td><td>fine    </td></tr>\n",
       "\t<tr><td>67094633</td><td>10805060</td><td>1       </td><td>20160301</td><td> 9      </td><td> 3      </td><td>  9     </td><td> 59     </td><td>125903  </td><td>0       </td><td>⋯       </td><td>slow    </td><td>unknown </td><td>int     </td><td>slow    </td><td>unknown </td><td>0       </td><td> 3      </td><td> 3      </td><td>1       </td><td>fine    </td></tr>\n",
       "\t<tr><td>67094633</td><td>10805060</td><td>1       </td><td>20160301</td><td> 9      </td><td> 3      </td><td>  9     </td><td> 59     </td><td>125903  </td><td>0       </td><td>⋯       </td><td>slow    </td><td>unknown </td><td>int     </td><td>slow    </td><td>unknown </td><td>0       </td><td> 3      </td><td> 3      </td><td>1       </td><td>fine    </td></tr>\n",
       "\t<tr><td>67094633</td><td>10805060</td><td>2       </td><td>20160301</td><td> 9      </td><td> 3      </td><td>  9     </td><td> 59     </td><td>125903  </td><td>0       </td><td>⋯       </td><td>slow    </td><td>unknown </td><td>int     </td><td>slow    </td><td>unknown </td><td>0       </td><td> 3      </td><td> 3      </td><td>1       </td><td>fine    </td></tr>\n",
       "\t<tr><td>67095935</td><td>19534656</td><td>1       </td><td>20160301</td><td>-1      </td><td> 3      </td><td>  1     </td><td>106     </td><td>     2  </td><td>0       </td><td>⋯       </td><td>slow    </td><td>unknown </td><td>int     </td><td>slow    </td><td>unknown </td><td>0       </td><td> 5      </td><td> 5      </td><td>1       </td><td>fine    </td></tr>\n",
       "\t<tr><td>67095935</td><td>19534656</td><td>1       </td><td>20160301</td><td>-1      </td><td> 3      </td><td>  1     </td><td>106     </td><td>     2  </td><td>0       </td><td>⋯       </td><td>slow    </td><td>unknown </td><td>int     </td><td>slow    </td><td>unknown </td><td>0       </td><td> 5      </td><td> 5      </td><td>1       </td><td>fine    </td></tr>\n",
       "\t<tr><td>67095935</td><td>19534656</td><td>1       </td><td>20160301</td><td>-1      </td><td> 3      </td><td>  1     </td><td>106     </td><td>     2  </td><td>0       </td><td>⋯       </td><td>slow    </td><td>unknown </td><td>int     </td><td>slow    </td><td>unknown </td><td>0       </td><td> 5      </td><td> 5      </td><td>1       </td><td>fine    </td></tr>\n",
       "\t<tr><td>67096211</td><td>19534658</td><td>5       </td><td>20160301</td><td>67      </td><td> 3      </td><td>  1     </td><td> 48     </td><td> 80317  </td><td>0       </td><td>⋯       </td><td>priority</td><td>unknown </td><td>int     </td><td>priority</td><td>unknown </td><td>0       </td><td> 1      </td><td> 1      </td><td>1       </td><td>fine    </td></tr>\n",
       "\t<tr><td>67096377</td><td> 8271908</td><td>1       </td><td>20160301</td><td>-1      </td><td> 3      </td><td> 30     </td><td> 59     </td><td>125903  </td><td>0       </td><td>⋯       </td><td>slow    </td><td>unknown </td><td>int     </td><td>slow    </td><td>unknown </td><td>0       </td><td> 1      </td><td> 1      </td><td>1       </td><td>fine    </td></tr>\n",
       "\t<tr><td>67096408</td><td> 3689239</td><td>1       </td><td>20160301</td><td>11      </td><td> 3      </td><td> 15     </td><td>  1     </td><td>     2  </td><td>0       </td><td>⋯       </td><td>slow    </td><td>unknown </td><td>int     </td><td>slow    </td><td>unknown </td><td>0       </td><td>11      </td><td>11      </td><td>1       </td><td>fine    </td></tr>\n",
       "\t<tr><td>67096408</td><td> 3689239</td><td>1       </td><td>20160301</td><td>11      </td><td> 3      </td><td> 15     </td><td>  1     </td><td>     2  </td><td>0       </td><td>⋯       </td><td>slow    </td><td>unknown </td><td>int     </td><td>slow    </td><td>unknown </td><td>0       </td><td>11      </td><td>11      </td><td>1       </td><td>fine    </td></tr>\n",
       "\t<tr><td>67096408</td><td> 3689239</td><td>1       </td><td>20160301</td><td>11      </td><td> 3      </td><td> 15     </td><td>  1     </td><td>     2  </td><td>0       </td><td>⋯       </td><td>slow    </td><td>unknown </td><td>int     </td><td>slow    </td><td>unknown </td><td>0       </td><td>11      </td><td>11      </td><td>1       </td><td>fine    </td></tr>\n",
       "\t<tr><td>67096422</td><td>19150015</td><td>5       </td><td>20160301</td><td>-1      </td><td> 3      </td><td>  6     </td><td> 59     </td><td> 65872  </td><td>0       </td><td>⋯       </td><td>priority</td><td>unknown </td><td>int     </td><td>priority</td><td>unknown </td><td>0       </td><td> 5      </td><td> 5      </td><td>1       </td><td>fine    </td></tr>\n",
       "\t<tr><td>67096449</td><td> 3092816</td><td>1       </td><td>20160301</td><td>11      </td><td> 3      </td><td> 27     </td><td> 13     </td><td>  3601  </td><td>0       </td><td>⋯       </td><td>slow    </td><td>unknown </td><td>int     </td><td>slow    </td><td>unknown </td><td>0       </td><td> 4      </td><td> 4      </td><td>1       </td><td>fine    </td></tr>\n",
       "\t<tr><td>67096449</td><td> 3092816</td><td>1       </td><td>20160301</td><td>11      </td><td> 3      </td><td> 27     </td><td> 13     </td><td>  3601  </td><td>0       </td><td>⋯       </td><td>slow    </td><td>unknown </td><td>int     </td><td>slow    </td><td>unknown </td><td>0       </td><td> 4      </td><td> 4      </td><td>1       </td><td>fine    </td></tr>\n",
       "\t<tr><td>67096449</td><td> 3092816</td><td>1       </td><td>20160301</td><td>11      </td><td> 3      </td><td> 27     </td><td> 13     </td><td>  3601  </td><td>0       </td><td>⋯       </td><td>slow    </td><td>unknown </td><td>int     </td><td>slow    </td><td>unknown </td><td>0       </td><td> 4      </td><td> 4      </td><td>1       </td><td>fine    </td></tr>\n",
       "\t<tr><td>67096449</td><td> 3092816</td><td>1       </td><td>20160301</td><td>11      </td><td> 3      </td><td> 27     </td><td> 13     </td><td>  3601  </td><td>0       </td><td>⋯       </td><td>slow    </td><td>unknown </td><td>int     </td><td>slow    </td><td>unknown </td><td>0       </td><td> 4      </td><td> 4      </td><td>1       </td><td>fine    </td></tr>\n",
       "\t<tr><td>67096450</td><td>13084610</td><td>5       </td><td>20160301</td><td>10      </td><td> 3      </td><td>265     </td><td> 59     </td><td>125919  </td><td>0       </td><td>⋯       </td><td>priority</td><td>unknown </td><td>int     </td><td>priority</td><td>unknown </td><td>0       </td><td>31      </td><td>31      </td><td>1       </td><td>fine    </td></tr>\n",
       "\t<tr><td>67096450</td><td>13084610</td><td>5       </td><td>20160301</td><td>10      </td><td> 3      </td><td>265     </td><td> 59     </td><td>125919  </td><td>0       </td><td>⋯       </td><td>priority</td><td>unknown </td><td>int     </td><td>priority</td><td>unknown </td><td>0       </td><td>31      </td><td>31      </td><td>1       </td><td>fine    </td></tr>\n",
       "\t<tr><td>67096450</td><td>13084610</td><td>5       </td><td>20160301</td><td>10      </td><td> 3      </td><td>265     </td><td> 59     </td><td>125919  </td><td>0       </td><td>⋯       </td><td>priority</td><td>unknown </td><td>int     </td><td>priority</td><td>unknown </td><td>0       </td><td>31      </td><td>31      </td><td>1       </td><td>fine    </td></tr>\n",
       "\t<tr><td>67096450</td><td>13084610</td><td>5       </td><td>20160301</td><td>10      </td><td> 3      </td><td>265     </td><td> 59     </td><td>125919  </td><td>0       </td><td>⋯       </td><td>priority</td><td>unknown </td><td>int     </td><td>priority</td><td>unknown </td><td>0       </td><td>31      </td><td>31      </td><td>1       </td><td>fine    </td></tr>\n",
       "\t<tr><td>67096457</td><td>18271378</td><td>1       </td><td>20160301</td><td>11      </td><td> 3      </td><td>  3     </td><td>106     </td><td>     2  </td><td>0       </td><td>⋯       </td><td>slow    </td><td>unknown </td><td>int     </td><td>slow    </td><td>unknown </td><td>0       </td><td> 4      </td><td> 4      </td><td>1       </td><td>fine    </td></tr>\n",
       "\t<tr><td>67096479</td><td> 6192045</td><td>1       </td><td>20160301</td><td>11      </td><td> 3      </td><td>249     </td><td> 13     </td><td>  3601  </td><td>0       </td><td>⋯       </td><td>slow    </td><td>unknown </td><td>int     </td><td>slow    </td><td>unknown </td><td>0       </td><td>26      </td><td>26      </td><td>1       </td><td>fine    </td></tr>\n",
       "\t<tr><td>67096479</td><td> 6192045</td><td>1       </td><td>20160301</td><td>11      </td><td> 3      </td><td>249     </td><td> 13     </td><td>  3601  </td><td>0       </td><td>⋯       </td><td>slow    </td><td>unknown </td><td>int     </td><td>slow    </td><td>unknown </td><td>0       </td><td>26      </td><td>26      </td><td>1       </td><td>fine    </td></tr>\n",
       "\t<tr><td>67096479</td><td> 6192045</td><td>1       </td><td>20160301</td><td>11      </td><td> 3      </td><td>249     </td><td> 13     </td><td>  3601  </td><td>0       </td><td>⋯       </td><td>slow    </td><td>unknown </td><td>int     </td><td>slow    </td><td>unknown </td><td>0       </td><td>26      </td><td>26      </td><td>1       </td><td>fine    </td></tr>\n",
       "\t<tr><td>⋮</td><td>⋮</td><td>⋮</td><td>⋮</td><td>⋮</td><td>⋮</td><td>⋮</td><td>⋮</td><td>⋮</td><td>⋮</td><td>⋱</td><td>⋮</td><td>⋮</td><td>⋮</td><td>⋮</td><td>⋮</td><td>⋮</td><td>⋮</td><td>⋮</td><td>⋮</td><td>⋮</td></tr>\n",
       "\t<tr><td>71593403    </td><td>20358894    </td><td> 1          </td><td>20160531    </td><td>11          </td><td> 3          </td><td> 2          </td><td> 59         </td><td>145777      </td><td>0           </td><td>⋯           </td><td>slow        </td><td>unknown     </td><td>int         </td><td>slow        </td><td>unknown     </td><td>0           </td><td> 6          </td><td> 6          </td><td>1           </td><td>fine        </td></tr>\n",
       "\t<tr><td>71593421    </td><td>20443037    </td><td> 5          </td><td>20160531    </td><td>10          </td><td> 5          </td><td> 1          </td><td> 13         </td><td> 82461      </td><td>0           </td><td>⋯           </td><td>priority    </td><td>unknown     </td><td>int         </td><td>priority    </td><td>unknown     </td><td>0           </td><td> 1          </td><td> 1          </td><td>1           </td><td>fine        </td></tr>\n",
       "\t<tr><td>71593433    </td><td>18226047    </td><td> 1          </td><td>20160531    </td><td>11          </td><td> 3          </td><td> 4          </td><td> 48         </td><td> 74063      </td><td>0           </td><td>⋯           </td><td>slow        </td><td>unknown     </td><td>int         </td><td>slow        </td><td>unknown     </td><td>0           </td><td>10          </td><td>10          </td><td>1           </td><td>fine        </td></tr>\n",
       "\t<tr><td>71593472    </td><td>20378529    </td><td> 5          </td><td>20160531    </td><td>67          </td><td>12          </td><td> 3          </td><td> 59         </td><td> 53924      </td><td>0           </td><td>⋯           </td><td>priority    </td><td>unknown     </td><td>int         </td><td>priority    </td><td>unknown     </td><td>0           </td><td> 4          </td><td> 4          </td><td>1           </td><td>fine        </td></tr>\n",
       "\t<tr><td>71593509    </td><td>20443136    </td><td> 6          </td><td>20160531    </td><td>-1          </td><td> 3          </td><td> 1          </td><td>  1         </td><td>     2      </td><td>7           </td><td>⋯           </td><td>priority    </td><td>unknown     </td><td>int         </td><td>priority    </td><td>unknown     </td><td>7           </td><td> 0          </td><td> 2          </td><td>0           </td><td>insufficient</td></tr>\n",
       "\t<tr><td>71593509    </td><td>20443136    </td><td> 6          </td><td>20160531    </td><td>-1          </td><td> 3          </td><td> 1          </td><td>  1         </td><td>     2      </td><td>7           </td><td>⋯           </td><td>priority    </td><td>unknown     </td><td>int         </td><td>priority    </td><td>unknown     </td><td>7           </td><td> 0          </td><td> 2          </td><td>0           </td><td>insufficient</td></tr>\n",
       "\t<tr><td>71593540    </td><td>15075431    </td><td> 5          </td><td>20160531    </td><td> 9          </td><td> 3          </td><td>42          </td><td>106         </td><td>     2      </td><td>0           </td><td>⋯           </td><td>priority    </td><td>unknown     </td><td>int         </td><td>priority    </td><td>unknown     </td><td>0           </td><td> 6          </td><td> 6          </td><td>1           </td><td>fine        </td></tr>\n",
       "\t<tr><td>71593583    </td><td>18016687    </td><td> 1          </td><td>20160531    </td><td>10          </td><td> 3          </td><td>29          </td><td> 59         </td><td>145778      </td><td>0           </td><td>⋯           </td><td>slow        </td><td>unknown     </td><td>int         </td><td>slow        </td><td>unknown     </td><td>0           </td><td>11          </td><td>11          </td><td>1           </td><td>fine        </td></tr>\n",
       "\t<tr><td>71593591    </td><td>20443145    </td><td> 1          </td><td>20160531    </td><td>11          </td><td> 3          </td><td> 1          </td><td> 48         </td><td> 74323      </td><td>0           </td><td>⋯           </td><td>slow        </td><td>unknown     </td><td>int         </td><td>slow        </td><td>unknown     </td><td>0           </td><td> 1          </td><td> 1          </td><td>1           </td><td>fine        </td></tr>\n",
       "\t<tr><td>71593636    </td><td>20443150    </td><td> 7          </td><td>20160531    </td><td> 9          </td><td> 3          </td><td> 1          </td><td> 48         </td><td> 74068      </td><td>0           </td><td>⋯           </td><td>priority    </td><td>unknown     </td><td>dom         </td><td>priority    </td><td>unknown     </td><td>0           </td><td> 1          </td><td> 1          </td><td>1           </td><td>fine        </td></tr>\n",
       "\t<tr><td>71593646    </td><td>20443152    </td><td> 5          </td><td>20160531    </td><td>67          </td><td> 3          </td><td> 1          </td><td>106         </td><td>     2      </td><td>0           </td><td>⋯           </td><td>priority    </td><td>unknown     </td><td>int         </td><td>priority    </td><td>unknown     </td><td>0           </td><td> 2          </td><td> 2          </td><td>1           </td><td>fine        </td></tr>\n",
       "\t<tr><td>71593646    </td><td>20443152    </td><td> 5          </td><td>20160531    </td><td>67          </td><td> 3          </td><td> 1          </td><td>106         </td><td>     2      </td><td>0           </td><td>⋯           </td><td>priority    </td><td>unknown     </td><td>int         </td><td>priority    </td><td>unknown     </td><td>0           </td><td> 2          </td><td> 2          </td><td>1           </td><td>fine        </td></tr>\n",
       "\t<tr><td>71593650    </td><td> 9404707    </td><td> 1          </td><td>20160531    </td><td>11          </td><td> 3          </td><td>12          </td><td> 13         </td><td>  3601      </td><td>0           </td><td>⋯           </td><td>slow        </td><td>unknown     </td><td>int         </td><td>slow        </td><td>unknown     </td><td>0           </td><td> 9          </td><td> 9          </td><td>1           </td><td>fine        </td></tr>\n",
       "\t<tr><td>71593650    </td><td> 9404707    </td><td> 1          </td><td>20160531    </td><td>11          </td><td> 3          </td><td>12          </td><td> 13         </td><td>  3601      </td><td>0           </td><td>⋯           </td><td>slow        </td><td>unknown     </td><td>int         </td><td>slow        </td><td>unknown     </td><td>0           </td><td> 9          </td><td> 9          </td><td>1           </td><td>fine        </td></tr>\n",
       "\t<tr><td>71593650    </td><td> 9404707    </td><td> 1          </td><td>20160531    </td><td>11          </td><td> 3          </td><td>12          </td><td> 13         </td><td>  3601      </td><td>0           </td><td>⋯           </td><td>slow        </td><td>unknown     </td><td>int         </td><td>slow        </td><td>unknown     </td><td>0           </td><td> 9          </td><td> 9          </td><td>1           </td><td>fine        </td></tr>\n",
       "\t<tr><td>71593689    </td><td>18182417    </td><td> 1          </td><td>20160531    </td><td> 9          </td><td> 3          </td><td> 3          </td><td> 13         </td><td>  3601      </td><td>0           </td><td>⋯           </td><td>slow        </td><td>unknown     </td><td>int         </td><td>slow        </td><td>unknown     </td><td>0           </td><td> 1          </td><td> 1          </td><td>1           </td><td>fine        </td></tr>\n",
       "\t<tr><td>71593712    </td><td>19252015    </td><td> 1          </td><td>20160531    </td><td>11          </td><td> 3          </td><td> 2          </td><td> 13         </td><td>  3601      </td><td>0           </td><td>⋯           </td><td>slow        </td><td>unknown     </td><td>int         </td><td>slow        </td><td>unknown     </td><td>0           </td><td> 1          </td><td> 1          </td><td>1           </td><td>fine        </td></tr>\n",
       "\t<tr><td>71593714    </td><td>20443155    </td><td> 1          </td><td>20160531    </td><td> 9          </td><td> 3          </td><td> 1          </td><td> -1         </td><td> 82900      </td><td>0           </td><td>⋯           </td><td>slow        </td><td>unknown     </td><td>int         </td><td>slow        </td><td>unknown     </td><td>0           </td><td> 2          </td><td> 2          </td><td>1           </td><td>fine        </td></tr>\n",
       "\t<tr><td>71593714    </td><td>20443155    </td><td> 1          </td><td>20160531    </td><td> 9          </td><td> 3          </td><td> 1          </td><td> -1         </td><td> 82900      </td><td>0           </td><td>⋯           </td><td>slow        </td><td>unknown     </td><td>int         </td><td>slow        </td><td>unknown     </td><td>0           </td><td> 2          </td><td> 2          </td><td>1           </td><td>fine        </td></tr>\n",
       "\t<tr><td>71593726    </td><td>20443160    </td><td>12          </td><td>20160531    </td><td>-1          </td><td> 3          </td><td> 1          </td><td>  1         </td><td>     2      </td><td>7           </td><td>⋯           </td><td>slow        </td><td>unknown     </td><td>dom         </td><td>slow        </td><td>unknown     </td><td>7           </td><td> 0          </td><td> 1          </td><td>0           </td><td>insufficient</td></tr>\n",
       "\t<tr><td>71593739    </td><td>20443161    </td><td> 5          </td><td>20160531    </td><td> 9          </td><td> 3          </td><td> 1          </td><td> 48         </td><td> 80149      </td><td>0           </td><td>⋯           </td><td>priority    </td><td>unknown     </td><td>int         </td><td>priority    </td><td>unknown     </td><td>0           </td><td> 1          </td><td> 1          </td><td>1           </td><td>fine        </td></tr>\n",
       "\t<tr><td>71593759    </td><td>11040341    </td><td> 5          </td><td>20160531    </td><td>10          </td><td> 3          </td><td>41          </td><td> 59         </td><td>145778      </td><td>0           </td><td>⋯           </td><td>priority    </td><td>unknown     </td><td>int         </td><td>priority    </td><td>unknown     </td><td>0           </td><td> 2          </td><td> 2          </td><td>1           </td><td>fine        </td></tr>\n",
       "\t<tr><td>71593772    </td><td>18115610    </td><td> 1          </td><td>20160531    </td><td>-1          </td><td> 3          </td><td> 2          </td><td> 13         </td><td>  3601      </td><td>0           </td><td>⋯           </td><td>slow        </td><td>unknown     </td><td>int         </td><td>slow        </td><td>unknown     </td><td>0           </td><td> 1          </td><td> 1          </td><td>1           </td><td>fine        </td></tr>\n",
       "\t<tr><td>71593777    </td><td>20443127    </td><td> 5          </td><td>20160531    </td><td> 1          </td><td> 8          </td><td> 1          </td><td> -1         </td><td> 82900      </td><td>0           </td><td>⋯           </td><td>priority    </td><td>unknown     </td><td>int         </td><td>priority    </td><td>unknown     </td><td>0           </td><td> 3          </td><td> 3          </td><td>1           </td><td>fine        </td></tr>\n",
       "\t<tr><td>71593777    </td><td>20443127    </td><td> 5          </td><td>20160531    </td><td> 1          </td><td> 8          </td><td> 1          </td><td> -1         </td><td> 82900      </td><td>0           </td><td>⋯           </td><td>priority    </td><td>unknown     </td><td>int         </td><td>priority    </td><td>unknown     </td><td>0           </td><td> 3          </td><td> 3          </td><td>1           </td><td>fine        </td></tr>\n",
       "\t<tr><td>71593777    </td><td>20443127    </td><td> 5          </td><td>20160531    </td><td> 1          </td><td> 8          </td><td> 1          </td><td> -1         </td><td> 82900      </td><td>0           </td><td>⋯           </td><td>priority    </td><td>unknown     </td><td>int         </td><td>priority    </td><td>unknown     </td><td>0           </td><td> 3          </td><td> 3          </td><td>1           </td><td>fine        </td></tr>\n",
       "\t<tr><td>71593787    </td><td>16881924    </td><td> 1          </td><td>20160531    </td><td>11          </td><td> 3          </td><td>27          </td><td> 59         </td><td> 53747      </td><td>0           </td><td>⋯           </td><td>slow        </td><td>unknown     </td><td>int         </td><td>slow        </td><td>unknown     </td><td>0           </td><td> 6          </td><td> 6          </td><td>1           </td><td>fine        </td></tr>\n",
       "\t<tr><td>71593787    </td><td>16881924    </td><td> 1          </td><td>20160531    </td><td>11          </td><td> 3          </td><td>27          </td><td> 59         </td><td> 53747      </td><td>0           </td><td>⋯           </td><td>slow        </td><td>unknown     </td><td>int         </td><td>slow        </td><td>unknown     </td><td>0           </td><td> 6          </td><td> 6          </td><td>1           </td><td>fine        </td></tr>\n",
       "\t<tr><td>71593797    </td><td>20443163    </td><td> 7          </td><td>20160531    </td><td>-1          </td><td> 3          </td><td> 1          </td><td>  1         </td><td>     2      </td><td>7           </td><td>⋯           </td><td>priority    </td><td>unknown     </td><td>dom         </td><td>priority    </td><td>unknown     </td><td>7           </td><td> 0          </td><td> 2          </td><td>0           </td><td>insufficient</td></tr>\n",
       "\t<tr><td>71593797    </td><td>20443163    </td><td> 7          </td><td>20160531    </td><td>-1          </td><td> 3          </td><td> 1          </td><td>  1         </td><td>     2      </td><td>7           </td><td>⋯           </td><td>priority    </td><td>unknown     </td><td>dom         </td><td>priority    </td><td>unknown     </td><td>7           </td><td> 0          </td><td> 2          </td><td>0           </td><td>insufficient</td></tr>\n",
       "</tbody>\n",
       "</table>\n"
      ],
      "text/latex": [
       "\\begin{tabular}{r|lllllllllllllllllllllllllllllllllllll}\n",
       " Order\\_Number & Account\\_Key & Delivery\\_Option\\_Type\\_Key & Order\\_Date\\_Key & Payment\\_Method\\_Key & Locale\\_Key & Order\\_Sequence\\_No & Medium\\_Key & Campaign\\_Key & Order\\_Payment\\_Status\\_Key & ⋯ & priority.x & occupation.x & destination.y & priority.y & occupation.y & pay\\_key\\_num & num\\_valid & count & prop & status\\\\\n",
       "\\hline\n",
       "\t 67028670 & 19534992 & 5        & 20160301 &  7       &  9       &   1      &  48      &   4659   & 0        & ⋯        & priority & unknown  & int      & priority & unknown  & 0        &  1       &  1       & 1        & fine    \\\\\n",
       "\t 67077956 & 19535774 & 1        & 20160301 & 11       &  3       &   1      & 106      &      2   & 0        & ⋯        & slow     & unknown  & int      & slow     & unknown  & 0        &  4       &  4       & 1        & fine    \\\\\n",
       "\t 67077956 & 19535774 & 1        & 20160301 & 11       &  3       &   1      & 106      &      2   & 0        & ⋯        & slow     & unknown  & int      & slow     & unknown  & 0        &  4       &  4       & 1        & fine    \\\\\n",
       "\t 67077956 & 19535774 & 1        & 20160301 & 11       &  3       &   1      & 106      &      2   & 0        & ⋯        & slow     & unknown  & int      & slow     & unknown  & 0        &  4       &  4       & 1        & fine    \\\\\n",
       "\t 67077956 & 19535774 & 1        & 20160301 & 11       &  3       &   1      & 106      &      2   & 0        & ⋯        & slow     & unknown  & int      & slow     & unknown  & 0        &  4       &  4       & 1        & fine    \\\\\n",
       "\t 67085417 & 19535579 & 5        & 20160301 & 67       & 12       &   1      &  48      & 123588   & 0        & ⋯        & priority & unknown  & int      & priority & unknown  & 0        &  1       &  1       & 1        & fine    \\\\\n",
       "\t 67094633 & 10805060 & 1        & 20160301 &  9       &  3       &   9      &  59      & 125903   & 0        & ⋯        & slow     & unknown  & int      & slow     & unknown  & 0        &  3       &  3       & 1        & fine    \\\\\n",
       "\t 67094633 & 10805060 & 1        & 20160301 &  9       &  3       &   9      &  59      & 125903   & 0        & ⋯        & slow     & unknown  & int      & slow     & unknown  & 0        &  3       &  3       & 1        & fine    \\\\\n",
       "\t 67094633 & 10805060 & 2        & 20160301 &  9       &  3       &   9      &  59      & 125903   & 0        & ⋯        & slow     & unknown  & int      & slow     & unknown  & 0        &  3       &  3       & 1        & fine    \\\\\n",
       "\t 67095935 & 19534656 & 1        & 20160301 & -1       &  3       &   1      & 106      &      2   & 0        & ⋯        & slow     & unknown  & int      & slow     & unknown  & 0        &  5       &  5       & 1        & fine    \\\\\n",
       "\t 67095935 & 19534656 & 1        & 20160301 & -1       &  3       &   1      & 106      &      2   & 0        & ⋯        & slow     & unknown  & int      & slow     & unknown  & 0        &  5       &  5       & 1        & fine    \\\\\n",
       "\t 67095935 & 19534656 & 1        & 20160301 & -1       &  3       &   1      & 106      &      2   & 0        & ⋯        & slow     & unknown  & int      & slow     & unknown  & 0        &  5       &  5       & 1        & fine    \\\\\n",
       "\t 67096211 & 19534658 & 5        & 20160301 & 67       &  3       &   1      &  48      &  80317   & 0        & ⋯        & priority & unknown  & int      & priority & unknown  & 0        &  1       &  1       & 1        & fine    \\\\\n",
       "\t 67096377 &  8271908 & 1        & 20160301 & -1       &  3       &  30      &  59      & 125903   & 0        & ⋯        & slow     & unknown  & int      & slow     & unknown  & 0        &  1       &  1       & 1        & fine    \\\\\n",
       "\t 67096408 &  3689239 & 1        & 20160301 & 11       &  3       &  15      &   1      &      2   & 0        & ⋯        & slow     & unknown  & int      & slow     & unknown  & 0        & 11       & 11       & 1        & fine    \\\\\n",
       "\t 67096408 &  3689239 & 1        & 20160301 & 11       &  3       &  15      &   1      &      2   & 0        & ⋯        & slow     & unknown  & int      & slow     & unknown  & 0        & 11       & 11       & 1        & fine    \\\\\n",
       "\t 67096408 &  3689239 & 1        & 20160301 & 11       &  3       &  15      &   1      &      2   & 0        & ⋯        & slow     & unknown  & int      & slow     & unknown  & 0        & 11       & 11       & 1        & fine    \\\\\n",
       "\t 67096422 & 19150015 & 5        & 20160301 & -1       &  3       &   6      &  59      &  65872   & 0        & ⋯        & priority & unknown  & int      & priority & unknown  & 0        &  5       &  5       & 1        & fine    \\\\\n",
       "\t 67096449 &  3092816 & 1        & 20160301 & 11       &  3       &  27      &  13      &   3601   & 0        & ⋯        & slow     & unknown  & int      & slow     & unknown  & 0        &  4       &  4       & 1        & fine    \\\\\n",
       "\t 67096449 &  3092816 & 1        & 20160301 & 11       &  3       &  27      &  13      &   3601   & 0        & ⋯        & slow     & unknown  & int      & slow     & unknown  & 0        &  4       &  4       & 1        & fine    \\\\\n",
       "\t 67096449 &  3092816 & 1        & 20160301 & 11       &  3       &  27      &  13      &   3601   & 0        & ⋯        & slow     & unknown  & int      & slow     & unknown  & 0        &  4       &  4       & 1        & fine    \\\\\n",
       "\t 67096449 &  3092816 & 1        & 20160301 & 11       &  3       &  27      &  13      &   3601   & 0        & ⋯        & slow     & unknown  & int      & slow     & unknown  & 0        &  4       &  4       & 1        & fine    \\\\\n",
       "\t 67096450 & 13084610 & 5        & 20160301 & 10       &  3       & 265      &  59      & 125919   & 0        & ⋯        & priority & unknown  & int      & priority & unknown  & 0        & 31       & 31       & 1        & fine    \\\\\n",
       "\t 67096450 & 13084610 & 5        & 20160301 & 10       &  3       & 265      &  59      & 125919   & 0        & ⋯        & priority & unknown  & int      & priority & unknown  & 0        & 31       & 31       & 1        & fine    \\\\\n",
       "\t 67096450 & 13084610 & 5        & 20160301 & 10       &  3       & 265      &  59      & 125919   & 0        & ⋯        & priority & unknown  & int      & priority & unknown  & 0        & 31       & 31       & 1        & fine    \\\\\n",
       "\t 67096450 & 13084610 & 5        & 20160301 & 10       &  3       & 265      &  59      & 125919   & 0        & ⋯        & priority & unknown  & int      & priority & unknown  & 0        & 31       & 31       & 1        & fine    \\\\\n",
       "\t 67096457 & 18271378 & 1        & 20160301 & 11       &  3       &   3      & 106      &      2   & 0        & ⋯        & slow     & unknown  & int      & slow     & unknown  & 0        &  4       &  4       & 1        & fine    \\\\\n",
       "\t 67096479 &  6192045 & 1        & 20160301 & 11       &  3       & 249      &  13      &   3601   & 0        & ⋯        & slow     & unknown  & int      & slow     & unknown  & 0        & 26       & 26       & 1        & fine    \\\\\n",
       "\t 67096479 &  6192045 & 1        & 20160301 & 11       &  3       & 249      &  13      &   3601   & 0        & ⋯        & slow     & unknown  & int      & slow     & unknown  & 0        & 26       & 26       & 1        & fine    \\\\\n",
       "\t 67096479 &  6192045 & 1        & 20160301 & 11       &  3       & 249      &  13      &   3601   & 0        & ⋯        & slow     & unknown  & int      & slow     & unknown  & 0        & 26       & 26       & 1        & fine    \\\\\n",
       "\t ⋮ & ⋮ & ⋮ & ⋮ & ⋮ & ⋮ & ⋮ & ⋮ & ⋮ & ⋮ & ⋱ & ⋮ & ⋮ & ⋮ & ⋮ & ⋮ & ⋮ & ⋮ & ⋮ & ⋮ & ⋮\\\\\n",
       "\t 71593403     & 20358894     &  1           & 20160531     & 11           &  3           &  2           &  59          & 145777       & 0            & ⋯            & slow         & unknown      & int          & slow         & unknown      & 0            &  6           &  6           & 1            & fine        \\\\\n",
       "\t 71593421     & 20443037     &  5           & 20160531     & 10           &  5           &  1           &  13          &  82461       & 0            & ⋯            & priority     & unknown      & int          & priority     & unknown      & 0            &  1           &  1           & 1            & fine        \\\\\n",
       "\t 71593433     & 18226047     &  1           & 20160531     & 11           &  3           &  4           &  48          &  74063       & 0            & ⋯            & slow         & unknown      & int          & slow         & unknown      & 0            & 10           & 10           & 1            & fine        \\\\\n",
       "\t 71593472     & 20378529     &  5           & 20160531     & 67           & 12           &  3           &  59          &  53924       & 0            & ⋯            & priority     & unknown      & int          & priority     & unknown      & 0            &  4           &  4           & 1            & fine        \\\\\n",
       "\t 71593509     & 20443136     &  6           & 20160531     & -1           &  3           &  1           &   1          &      2       & 7            & ⋯            & priority     & unknown      & int          & priority     & unknown      & 7            &  0           &  2           & 0            & insufficient\\\\\n",
       "\t 71593509     & 20443136     &  6           & 20160531     & -1           &  3           &  1           &   1          &      2       & 7            & ⋯            & priority     & unknown      & int          & priority     & unknown      & 7            &  0           &  2           & 0            & insufficient\\\\\n",
       "\t 71593540     & 15075431     &  5           & 20160531     &  9           &  3           & 42           & 106          &      2       & 0            & ⋯            & priority     & unknown      & int          & priority     & unknown      & 0            &  6           &  6           & 1            & fine        \\\\\n",
       "\t 71593583     & 18016687     &  1           & 20160531     & 10           &  3           & 29           &  59          & 145778       & 0            & ⋯            & slow         & unknown      & int          & slow         & unknown      & 0            & 11           & 11           & 1            & fine        \\\\\n",
       "\t 71593591     & 20443145     &  1           & 20160531     & 11           &  3           &  1           &  48          &  74323       & 0            & ⋯            & slow         & unknown      & int          & slow         & unknown      & 0            &  1           &  1           & 1            & fine        \\\\\n",
       "\t 71593636     & 20443150     &  7           & 20160531     &  9           &  3           &  1           &  48          &  74068       & 0            & ⋯            & priority     & unknown      & dom          & priority     & unknown      & 0            &  1           &  1           & 1            & fine        \\\\\n",
       "\t 71593646     & 20443152     &  5           & 20160531     & 67           &  3           &  1           & 106          &      2       & 0            & ⋯            & priority     & unknown      & int          & priority     & unknown      & 0            &  2           &  2           & 1            & fine        \\\\\n",
       "\t 71593646     & 20443152     &  5           & 20160531     & 67           &  3           &  1           & 106          &      2       & 0            & ⋯            & priority     & unknown      & int          & priority     & unknown      & 0            &  2           &  2           & 1            & fine        \\\\\n",
       "\t 71593650     &  9404707     &  1           & 20160531     & 11           &  3           & 12           &  13          &   3601       & 0            & ⋯            & slow         & unknown      & int          & slow         & unknown      & 0            &  9           &  9           & 1            & fine        \\\\\n",
       "\t 71593650     &  9404707     &  1           & 20160531     & 11           &  3           & 12           &  13          &   3601       & 0            & ⋯            & slow         & unknown      & int          & slow         & unknown      & 0            &  9           &  9           & 1            & fine        \\\\\n",
       "\t 71593650     &  9404707     &  1           & 20160531     & 11           &  3           & 12           &  13          &   3601       & 0            & ⋯            & slow         & unknown      & int          & slow         & unknown      & 0            &  9           &  9           & 1            & fine        \\\\\n",
       "\t 71593689     & 18182417     &  1           & 20160531     &  9           &  3           &  3           &  13          &   3601       & 0            & ⋯            & slow         & unknown      & int          & slow         & unknown      & 0            &  1           &  1           & 1            & fine        \\\\\n",
       "\t 71593712     & 19252015     &  1           & 20160531     & 11           &  3           &  2           &  13          &   3601       & 0            & ⋯            & slow         & unknown      & int          & slow         & unknown      & 0            &  1           &  1           & 1            & fine        \\\\\n",
       "\t 71593714     & 20443155     &  1           & 20160531     &  9           &  3           &  1           &  -1          &  82900       & 0            & ⋯            & slow         & unknown      & int          & slow         & unknown      & 0            &  2           &  2           & 1            & fine        \\\\\n",
       "\t 71593714     & 20443155     &  1           & 20160531     &  9           &  3           &  1           &  -1          &  82900       & 0            & ⋯            & slow         & unknown      & int          & slow         & unknown      & 0            &  2           &  2           & 1            & fine        \\\\\n",
       "\t 71593726     & 20443160     & 12           & 20160531     & -1           &  3           &  1           &   1          &      2       & 7            & ⋯            & slow         & unknown      & dom          & slow         & unknown      & 7            &  0           &  1           & 0            & insufficient\\\\\n",
       "\t 71593739     & 20443161     &  5           & 20160531     &  9           &  3           &  1           &  48          &  80149       & 0            & ⋯            & priority     & unknown      & int          & priority     & unknown      & 0            &  1           &  1           & 1            & fine        \\\\\n",
       "\t 71593759     & 11040341     &  5           & 20160531     & 10           &  3           & 41           &  59          & 145778       & 0            & ⋯            & priority     & unknown      & int          & priority     & unknown      & 0            &  2           &  2           & 1            & fine        \\\\\n",
       "\t 71593772     & 18115610     &  1           & 20160531     & -1           &  3           &  2           &  13          &   3601       & 0            & ⋯            & slow         & unknown      & int          & slow         & unknown      & 0            &  1           &  1           & 1            & fine        \\\\\n",
       "\t 71593777     & 20443127     &  5           & 20160531     &  1           &  8           &  1           &  -1          &  82900       & 0            & ⋯            & priority     & unknown      & int          & priority     & unknown      & 0            &  3           &  3           & 1            & fine        \\\\\n",
       "\t 71593777     & 20443127     &  5           & 20160531     &  1           &  8           &  1           &  -1          &  82900       & 0            & ⋯            & priority     & unknown      & int          & priority     & unknown      & 0            &  3           &  3           & 1            & fine        \\\\\n",
       "\t 71593777     & 20443127     &  5           & 20160531     &  1           &  8           &  1           &  -1          &  82900       & 0            & ⋯            & priority     & unknown      & int          & priority     & unknown      & 0            &  3           &  3           & 1            & fine        \\\\\n",
       "\t 71593787     & 16881924     &  1           & 20160531     & 11           &  3           & 27           &  59          &  53747       & 0            & ⋯            & slow         & unknown      & int          & slow         & unknown      & 0            &  6           &  6           & 1            & fine        \\\\\n",
       "\t 71593787     & 16881924     &  1           & 20160531     & 11           &  3           & 27           &  59          &  53747       & 0            & ⋯            & slow         & unknown      & int          & slow         & unknown      & 0            &  6           &  6           & 1            & fine        \\\\\n",
       "\t 71593797     & 20443163     &  7           & 20160531     & -1           &  3           &  1           &   1          &      2       & 7            & ⋯            & priority     & unknown      & dom          & priority     & unknown      & 7            &  0           &  2           & 0            & insufficient\\\\\n",
       "\t 71593797     & 20443163     &  7           & 20160531     & -1           &  3           &  1           &   1          &      2       & 7            & ⋯            & priority     & unknown      & dom          & priority     & unknown      & 7            &  0           &  2           & 0            & insufficient\\\\\n",
       "\\end{tabular}\n"
      ],
      "text/markdown": [
       "\n",
       "Order_Number | Account_Key | Delivery_Option_Type_Key | Order_Date_Key | Payment_Method_Key | Locale_Key | Order_Sequence_No | Medium_Key | Campaign_Key | Order_Payment_Status_Key | ⋯ | priority.x | occupation.x | destination.y | priority.y | occupation.y | pay_key_num | num_valid | count | prop | status | \n",
       "|---|---|---|---|---|---|---|---|---|---|---|---|---|---|---|---|---|---|---|---|---|---|---|---|---|---|---|---|---|---|---|---|---|---|---|---|---|---|---|---|---|---|---|---|---|---|---|---|---|---|---|---|---|---|---|---|---|---|---|---|---|\n",
       "| 67028670 | 19534992 | 5        | 20160301 |  7       |  9       |   1      |  48      |   4659   | 0        | ⋯        | priority | unknown  | int      | priority | unknown  | 0        |  1       |  1       | 1        | fine     | \n",
       "| 67077956 | 19535774 | 1        | 20160301 | 11       |  3       |   1      | 106      |      2   | 0        | ⋯        | slow     | unknown  | int      | slow     | unknown  | 0        |  4       |  4       | 1        | fine     | \n",
       "| 67077956 | 19535774 | 1        | 20160301 | 11       |  3       |   1      | 106      |      2   | 0        | ⋯        | slow     | unknown  | int      | slow     | unknown  | 0        |  4       |  4       | 1        | fine     | \n",
       "| 67077956 | 19535774 | 1        | 20160301 | 11       |  3       |   1      | 106      |      2   | 0        | ⋯        | slow     | unknown  | int      | slow     | unknown  | 0        |  4       |  4       | 1        | fine     | \n",
       "| 67077956 | 19535774 | 1        | 20160301 | 11       |  3       |   1      | 106      |      2   | 0        | ⋯        | slow     | unknown  | int      | slow     | unknown  | 0        |  4       |  4       | 1        | fine     | \n",
       "| 67085417 | 19535579 | 5        | 20160301 | 67       | 12       |   1      |  48      | 123588   | 0        | ⋯        | priority | unknown  | int      | priority | unknown  | 0        |  1       |  1       | 1        | fine     | \n",
       "| 67094633 | 10805060 | 1        | 20160301 |  9       |  3       |   9      |  59      | 125903   | 0        | ⋯        | slow     | unknown  | int      | slow     | unknown  | 0        |  3       |  3       | 1        | fine     | \n",
       "| 67094633 | 10805060 | 1        | 20160301 |  9       |  3       |   9      |  59      | 125903   | 0        | ⋯        | slow     | unknown  | int      | slow     | unknown  | 0        |  3       |  3       | 1        | fine     | \n",
       "| 67094633 | 10805060 | 2        | 20160301 |  9       |  3       |   9      |  59      | 125903   | 0        | ⋯        | slow     | unknown  | int      | slow     | unknown  | 0        |  3       |  3       | 1        | fine     | \n",
       "| 67095935 | 19534656 | 1        | 20160301 | -1       |  3       |   1      | 106      |      2   | 0        | ⋯        | slow     | unknown  | int      | slow     | unknown  | 0        |  5       |  5       | 1        | fine     | \n",
       "| 67095935 | 19534656 | 1        | 20160301 | -1       |  3       |   1      | 106      |      2   | 0        | ⋯        | slow     | unknown  | int      | slow     | unknown  | 0        |  5       |  5       | 1        | fine     | \n",
       "| 67095935 | 19534656 | 1        | 20160301 | -1       |  3       |   1      | 106      |      2   | 0        | ⋯        | slow     | unknown  | int      | slow     | unknown  | 0        |  5       |  5       | 1        | fine     | \n",
       "| 67096211 | 19534658 | 5        | 20160301 | 67       |  3       |   1      |  48      |  80317   | 0        | ⋯        | priority | unknown  | int      | priority | unknown  | 0        |  1       |  1       | 1        | fine     | \n",
       "| 67096377 |  8271908 | 1        | 20160301 | -1       |  3       |  30      |  59      | 125903   | 0        | ⋯        | slow     | unknown  | int      | slow     | unknown  | 0        |  1       |  1       | 1        | fine     | \n",
       "| 67096408 |  3689239 | 1        | 20160301 | 11       |  3       |  15      |   1      |      2   | 0        | ⋯        | slow     | unknown  | int      | slow     | unknown  | 0        | 11       | 11       | 1        | fine     | \n",
       "| 67096408 |  3689239 | 1        | 20160301 | 11       |  3       |  15      |   1      |      2   | 0        | ⋯        | slow     | unknown  | int      | slow     | unknown  | 0        | 11       | 11       | 1        | fine     | \n",
       "| 67096408 |  3689239 | 1        | 20160301 | 11       |  3       |  15      |   1      |      2   | 0        | ⋯        | slow     | unknown  | int      | slow     | unknown  | 0        | 11       | 11       | 1        | fine     | \n",
       "| 67096422 | 19150015 | 5        | 20160301 | -1       |  3       |   6      |  59      |  65872   | 0        | ⋯        | priority | unknown  | int      | priority | unknown  | 0        |  5       |  5       | 1        | fine     | \n",
       "| 67096449 |  3092816 | 1        | 20160301 | 11       |  3       |  27      |  13      |   3601   | 0        | ⋯        | slow     | unknown  | int      | slow     | unknown  | 0        |  4       |  4       | 1        | fine     | \n",
       "| 67096449 |  3092816 | 1        | 20160301 | 11       |  3       |  27      |  13      |   3601   | 0        | ⋯        | slow     | unknown  | int      | slow     | unknown  | 0        |  4       |  4       | 1        | fine     | \n",
       "| 67096449 |  3092816 | 1        | 20160301 | 11       |  3       |  27      |  13      |   3601   | 0        | ⋯        | slow     | unknown  | int      | slow     | unknown  | 0        |  4       |  4       | 1        | fine     | \n",
       "| 67096449 |  3092816 | 1        | 20160301 | 11       |  3       |  27      |  13      |   3601   | 0        | ⋯        | slow     | unknown  | int      | slow     | unknown  | 0        |  4       |  4       | 1        | fine     | \n",
       "| 67096450 | 13084610 | 5        | 20160301 | 10       |  3       | 265      |  59      | 125919   | 0        | ⋯        | priority | unknown  | int      | priority | unknown  | 0        | 31       | 31       | 1        | fine     | \n",
       "| 67096450 | 13084610 | 5        | 20160301 | 10       |  3       | 265      |  59      | 125919   | 0        | ⋯        | priority | unknown  | int      | priority | unknown  | 0        | 31       | 31       | 1        | fine     | \n",
       "| 67096450 | 13084610 | 5        | 20160301 | 10       |  3       | 265      |  59      | 125919   | 0        | ⋯        | priority | unknown  | int      | priority | unknown  | 0        | 31       | 31       | 1        | fine     | \n",
       "| 67096450 | 13084610 | 5        | 20160301 | 10       |  3       | 265      |  59      | 125919   | 0        | ⋯        | priority | unknown  | int      | priority | unknown  | 0        | 31       | 31       | 1        | fine     | \n",
       "| 67096457 | 18271378 | 1        | 20160301 | 11       |  3       |   3      | 106      |      2   | 0        | ⋯        | slow     | unknown  | int      | slow     | unknown  | 0        |  4       |  4       | 1        | fine     | \n",
       "| 67096479 |  6192045 | 1        | 20160301 | 11       |  3       | 249      |  13      |   3601   | 0        | ⋯        | slow     | unknown  | int      | slow     | unknown  | 0        | 26       | 26       | 1        | fine     | \n",
       "| 67096479 |  6192045 | 1        | 20160301 | 11       |  3       | 249      |  13      |   3601   | 0        | ⋯        | slow     | unknown  | int      | slow     | unknown  | 0        | 26       | 26       | 1        | fine     | \n",
       "| 67096479 |  6192045 | 1        | 20160301 | 11       |  3       | 249      |  13      |   3601   | 0        | ⋯        | slow     | unknown  | int      | slow     | unknown  | 0        | 26       | 26       | 1        | fine     | \n",
       "| ⋮ | ⋮ | ⋮ | ⋮ | ⋮ | ⋮ | ⋮ | ⋮ | ⋮ | ⋮ | ⋱ | ⋮ | ⋮ | ⋮ | ⋮ | ⋮ | ⋮ | ⋮ | ⋮ | ⋮ | ⋮ | \n",
       "| 71593403     | 20358894     |  1           | 20160531     | 11           |  3           |  2           |  59          | 145777       | 0            | ⋯            | slow         | unknown      | int          | slow         | unknown      | 0            |  6           |  6           | 1            | fine         | \n",
       "| 71593421     | 20443037     |  5           | 20160531     | 10           |  5           |  1           |  13          |  82461       | 0            | ⋯            | priority     | unknown      | int          | priority     | unknown      | 0            |  1           |  1           | 1            | fine         | \n",
       "| 71593433     | 18226047     |  1           | 20160531     | 11           |  3           |  4           |  48          |  74063       | 0            | ⋯            | slow         | unknown      | int          | slow         | unknown      | 0            | 10           | 10           | 1            | fine         | \n",
       "| 71593472     | 20378529     |  5           | 20160531     | 67           | 12           |  3           |  59          |  53924       | 0            | ⋯            | priority     | unknown      | int          | priority     | unknown      | 0            |  4           |  4           | 1            | fine         | \n",
       "| 71593509     | 20443136     |  6           | 20160531     | -1           |  3           |  1           |   1          |      2       | 7            | ⋯            | priority     | unknown      | int          | priority     | unknown      | 7            |  0           |  2           | 0            | insufficient | \n",
       "| 71593509     | 20443136     |  6           | 20160531     | -1           |  3           |  1           |   1          |      2       | 7            | ⋯            | priority     | unknown      | int          | priority     | unknown      | 7            |  0           |  2           | 0            | insufficient | \n",
       "| 71593540     | 15075431     |  5           | 20160531     |  9           |  3           | 42           | 106          |      2       | 0            | ⋯            | priority     | unknown      | int          | priority     | unknown      | 0            |  6           |  6           | 1            | fine         | \n",
       "| 71593583     | 18016687     |  1           | 20160531     | 10           |  3           | 29           |  59          | 145778       | 0            | ⋯            | slow         | unknown      | int          | slow         | unknown      | 0            | 11           | 11           | 1            | fine         | \n",
       "| 71593591     | 20443145     |  1           | 20160531     | 11           |  3           |  1           |  48          |  74323       | 0            | ⋯            | slow         | unknown      | int          | slow         | unknown      | 0            |  1           |  1           | 1            | fine         | \n",
       "| 71593636     | 20443150     |  7           | 20160531     |  9           |  3           |  1           |  48          |  74068       | 0            | ⋯            | priority     | unknown      | dom          | priority     | unknown      | 0            |  1           |  1           | 1            | fine         | \n",
       "| 71593646     | 20443152     |  5           | 20160531     | 67           |  3           |  1           | 106          |      2       | 0            | ⋯            | priority     | unknown      | int          | priority     | unknown      | 0            |  2           |  2           | 1            | fine         | \n",
       "| 71593646     | 20443152     |  5           | 20160531     | 67           |  3           |  1           | 106          |      2       | 0            | ⋯            | priority     | unknown      | int          | priority     | unknown      | 0            |  2           |  2           | 1            | fine         | \n",
       "| 71593650     |  9404707     |  1           | 20160531     | 11           |  3           | 12           |  13          |   3601       | 0            | ⋯            | slow         | unknown      | int          | slow         | unknown      | 0            |  9           |  9           | 1            | fine         | \n",
       "| 71593650     |  9404707     |  1           | 20160531     | 11           |  3           | 12           |  13          |   3601       | 0            | ⋯            | slow         | unknown      | int          | slow         | unknown      | 0            |  9           |  9           | 1            | fine         | \n",
       "| 71593650     |  9404707     |  1           | 20160531     | 11           |  3           | 12           |  13          |   3601       | 0            | ⋯            | slow         | unknown      | int          | slow         | unknown      | 0            |  9           |  9           | 1            | fine         | \n",
       "| 71593689     | 18182417     |  1           | 20160531     |  9           |  3           |  3           |  13          |   3601       | 0            | ⋯            | slow         | unknown      | int          | slow         | unknown      | 0            |  1           |  1           | 1            | fine         | \n",
       "| 71593712     | 19252015     |  1           | 20160531     | 11           |  3           |  2           |  13          |   3601       | 0            | ⋯            | slow         | unknown      | int          | slow         | unknown      | 0            |  1           |  1           | 1            | fine         | \n",
       "| 71593714     | 20443155     |  1           | 20160531     |  9           |  3           |  1           |  -1          |  82900       | 0            | ⋯            | slow         | unknown      | int          | slow         | unknown      | 0            |  2           |  2           | 1            | fine         | \n",
       "| 71593714     | 20443155     |  1           | 20160531     |  9           |  3           |  1           |  -1          |  82900       | 0            | ⋯            | slow         | unknown      | int          | slow         | unknown      | 0            |  2           |  2           | 1            | fine         | \n",
       "| 71593726     | 20443160     | 12           | 20160531     | -1           |  3           |  1           |   1          |      2       | 7            | ⋯            | slow         | unknown      | dom          | slow         | unknown      | 7            |  0           |  1           | 0            | insufficient | \n",
       "| 71593739     | 20443161     |  5           | 20160531     |  9           |  3           |  1           |  48          |  80149       | 0            | ⋯            | priority     | unknown      | int          | priority     | unknown      | 0            |  1           |  1           | 1            | fine         | \n",
       "| 71593759     | 11040341     |  5           | 20160531     | 10           |  3           | 41           |  59          | 145778       | 0            | ⋯            | priority     | unknown      | int          | priority     | unknown      | 0            |  2           |  2           | 1            | fine         | \n",
       "| 71593772     | 18115610     |  1           | 20160531     | -1           |  3           |  2           |  13          |   3601       | 0            | ⋯            | slow         | unknown      | int          | slow         | unknown      | 0            |  1           |  1           | 1            | fine         | \n",
       "| 71593777     | 20443127     |  5           | 20160531     |  1           |  8           |  1           |  -1          |  82900       | 0            | ⋯            | priority     | unknown      | int          | priority     | unknown      | 0            |  3           |  3           | 1            | fine         | \n",
       "| 71593777     | 20443127     |  5           | 20160531     |  1           |  8           |  1           |  -1          |  82900       | 0            | ⋯            | priority     | unknown      | int          | priority     | unknown      | 0            |  3           |  3           | 1            | fine         | \n",
       "| 71593777     | 20443127     |  5           | 20160531     |  1           |  8           |  1           |  -1          |  82900       | 0            | ⋯            | priority     | unknown      | int          | priority     | unknown      | 0            |  3           |  3           | 1            | fine         | \n",
       "| 71593787     | 16881924     |  1           | 20160531     | 11           |  3           | 27           |  59          |  53747       | 0            | ⋯            | slow         | unknown      | int          | slow         | unknown      | 0            |  6           |  6           | 1            | fine         | \n",
       "| 71593787     | 16881924     |  1           | 20160531     | 11           |  3           | 27           |  59          |  53747       | 0            | ⋯            | slow         | unknown      | int          | slow         | unknown      | 0            |  6           |  6           | 1            | fine         | \n",
       "| 71593797     | 20443163     |  7           | 20160531     | -1           |  3           |  1           |   1          |      2       | 7            | ⋯            | priority     | unknown      | dom          | priority     | unknown      | 7            |  0           |  2           | 0            | insufficient | \n",
       "| 71593797     | 20443163     |  7           | 20160531     | -1           |  3           |  1           |   1          |      2       | 7            | ⋯            | priority     | unknown      | dom          | priority     | unknown      | 7            |  0           |  2           | 0            | insufficient | \n",
       "\n",
       "\n"
      ],
      "text/plain": [
       "       Order_Number Account_Key Delivery_Option_Type_Key Order_Date_Key\n",
       "1      67028670     19534992    5                        20160301      \n",
       "2      67077956     19535774    1                        20160301      \n",
       "3      67077956     19535774    1                        20160301      \n",
       "4      67077956     19535774    1                        20160301      \n",
       "5      67077956     19535774    1                        20160301      \n",
       "6      67085417     19535579    5                        20160301      \n",
       "7      67094633     10805060    1                        20160301      \n",
       "8      67094633     10805060    1                        20160301      \n",
       "9      67094633     10805060    2                        20160301      \n",
       "10     67095935     19534656    1                        20160301      \n",
       "11     67095935     19534656    1                        20160301      \n",
       "12     67095935     19534656    1                        20160301      \n",
       "13     67096211     19534658    5                        20160301      \n",
       "14     67096377      8271908    1                        20160301      \n",
       "15     67096408      3689239    1                        20160301      \n",
       "16     67096408      3689239    1                        20160301      \n",
       "17     67096408      3689239    1                        20160301      \n",
       "18     67096422     19150015    5                        20160301      \n",
       "19     67096449      3092816    1                        20160301      \n",
       "20     67096449      3092816    1                        20160301      \n",
       "21     67096449      3092816    1                        20160301      \n",
       "22     67096449      3092816    1                        20160301      \n",
       "23     67096450     13084610    5                        20160301      \n",
       "24     67096450     13084610    5                        20160301      \n",
       "25     67096450     13084610    5                        20160301      \n",
       "26     67096450     13084610    5                        20160301      \n",
       "27     67096457     18271378    1                        20160301      \n",
       "28     67096479      6192045    1                        20160301      \n",
       "29     67096479      6192045    1                        20160301      \n",
       "30     67096479      6192045    1                        20160301      \n",
       "⋮      ⋮            ⋮           ⋮                        ⋮             \n",
       "418305 71593403     20358894     1                       20160531      \n",
       "418306 71593421     20443037     5                       20160531      \n",
       "418307 71593433     18226047     1                       20160531      \n",
       "418308 71593472     20378529     5                       20160531      \n",
       "418309 71593509     20443136     6                       20160531      \n",
       "418310 71593509     20443136     6                       20160531      \n",
       "418311 71593540     15075431     5                       20160531      \n",
       "418312 71593583     18016687     1                       20160531      \n",
       "418313 71593591     20443145     1                       20160531      \n",
       "418314 71593636     20443150     7                       20160531      \n",
       "418315 71593646     20443152     5                       20160531      \n",
       "418316 71593646     20443152     5                       20160531      \n",
       "418317 71593650      9404707     1                       20160531      \n",
       "418318 71593650      9404707     1                       20160531      \n",
       "418319 71593650      9404707     1                       20160531      \n",
       "418320 71593689     18182417     1                       20160531      \n",
       "418321 71593712     19252015     1                       20160531      \n",
       "418322 71593714     20443155     1                       20160531      \n",
       "418323 71593714     20443155     1                       20160531      \n",
       "418324 71593726     20443160    12                       20160531      \n",
       "418325 71593739     20443161     5                       20160531      \n",
       "418326 71593759     11040341     5                       20160531      \n",
       "418327 71593772     18115610     1                       20160531      \n",
       "418328 71593777     20443127     5                       20160531      \n",
       "418329 71593777     20443127     5                       20160531      \n",
       "418330 71593777     20443127     5                       20160531      \n",
       "418331 71593787     16881924     1                       20160531      \n",
       "418332 71593787     16881924     1                       20160531      \n",
       "418333 71593797     20443163     7                       20160531      \n",
       "418334 71593797     20443163     7                       20160531      \n",
       "       Payment_Method_Key Locale_Key Order_Sequence_No Medium_Key Campaign_Key\n",
       "1       7                  9           1                48          4659      \n",
       "2      11                  3           1               106             2      \n",
       "3      11                  3           1               106             2      \n",
       "4      11                  3           1               106             2      \n",
       "5      11                  3           1               106             2      \n",
       "6      67                 12           1                48        123588      \n",
       "7       9                  3           9                59        125903      \n",
       "8       9                  3           9                59        125903      \n",
       "9       9                  3           9                59        125903      \n",
       "10     -1                  3           1               106             2      \n",
       "11     -1                  3           1               106             2      \n",
       "12     -1                  3           1               106             2      \n",
       "13     67                  3           1                48         80317      \n",
       "14     -1                  3          30                59        125903      \n",
       "15     11                  3          15                 1             2      \n",
       "16     11                  3          15                 1             2      \n",
       "17     11                  3          15                 1             2      \n",
       "18     -1                  3           6                59         65872      \n",
       "19     11                  3          27                13          3601      \n",
       "20     11                  3          27                13          3601      \n",
       "21     11                  3          27                13          3601      \n",
       "22     11                  3          27                13          3601      \n",
       "23     10                  3         265                59        125919      \n",
       "24     10                  3         265                59        125919      \n",
       "25     10                  3         265                59        125919      \n",
       "26     10                  3         265                59        125919      \n",
       "27     11                  3           3               106             2      \n",
       "28     11                  3         249                13          3601      \n",
       "29     11                  3         249                13          3601      \n",
       "30     11                  3         249                13          3601      \n",
       "⋮      ⋮                  ⋮          ⋮                 ⋮          ⋮           \n",
       "418305 11                  3          2                 59        145777      \n",
       "418306 10                  5          1                 13         82461      \n",
       "418307 11                  3          4                 48         74063      \n",
       "418308 67                 12          3                 59         53924      \n",
       "418309 -1                  3          1                  1             2      \n",
       "418310 -1                  3          1                  1             2      \n",
       "418311  9                  3         42                106             2      \n",
       "418312 10                  3         29                 59        145778      \n",
       "418313 11                  3          1                 48         74323      \n",
       "418314  9                  3          1                 48         74068      \n",
       "418315 67                  3          1                106             2      \n",
       "418316 67                  3          1                106             2      \n",
       "418317 11                  3         12                 13          3601      \n",
       "418318 11                  3         12                 13          3601      \n",
       "418319 11                  3         12                 13          3601      \n",
       "418320  9                  3          3                 13          3601      \n",
       "418321 11                  3          2                 13          3601      \n",
       "418322  9                  3          1                 -1         82900      \n",
       "418323  9                  3          1                 -1         82900      \n",
       "418324 -1                  3          1                  1             2      \n",
       "418325  9                  3          1                 48         80149      \n",
       "418326 10                  3         41                 59        145778      \n",
       "418327 -1                  3          2                 13          3601      \n",
       "418328  1                  8          1                 -1         82900      \n",
       "418329  1                  8          1                 -1         82900      \n",
       "418330  1                  8          1                 -1         82900      \n",
       "418331 11                  3         27                 59         53747      \n",
       "418332 11                  3         27                 59         53747      \n",
       "418333 -1                  3          1                  1             2      \n",
       "418334 -1                  3          1                  1             2      \n",
       "       Order_Payment_Status_Key ⋯ priority.x occupation.x destination.y\n",
       "1      0                        ⋯ priority   unknown      int          \n",
       "2      0                        ⋯ slow       unknown      int          \n",
       "3      0                        ⋯ slow       unknown      int          \n",
       "4      0                        ⋯ slow       unknown      int          \n",
       "5      0                        ⋯ slow       unknown      int          \n",
       "6      0                        ⋯ priority   unknown      int          \n",
       "7      0                        ⋯ slow       unknown      int          \n",
       "8      0                        ⋯ slow       unknown      int          \n",
       "9      0                        ⋯ slow       unknown      int          \n",
       "10     0                        ⋯ slow       unknown      int          \n",
       "11     0                        ⋯ slow       unknown      int          \n",
       "12     0                        ⋯ slow       unknown      int          \n",
       "13     0                        ⋯ priority   unknown      int          \n",
       "14     0                        ⋯ slow       unknown      int          \n",
       "15     0                        ⋯ slow       unknown      int          \n",
       "16     0                        ⋯ slow       unknown      int          \n",
       "17     0                        ⋯ slow       unknown      int          \n",
       "18     0                        ⋯ priority   unknown      int          \n",
       "19     0                        ⋯ slow       unknown      int          \n",
       "20     0                        ⋯ slow       unknown      int          \n",
       "21     0                        ⋯ slow       unknown      int          \n",
       "22     0                        ⋯ slow       unknown      int          \n",
       "23     0                        ⋯ priority   unknown      int          \n",
       "24     0                        ⋯ priority   unknown      int          \n",
       "25     0                        ⋯ priority   unknown      int          \n",
       "26     0                        ⋯ priority   unknown      int          \n",
       "27     0                        ⋯ slow       unknown      int          \n",
       "28     0                        ⋯ slow       unknown      int          \n",
       "29     0                        ⋯ slow       unknown      int          \n",
       "30     0                        ⋯ slow       unknown      int          \n",
       "⋮      ⋮                        ⋱ ⋮          ⋮            ⋮            \n",
       "418305 0                        ⋯ slow       unknown      int          \n",
       "418306 0                        ⋯ priority   unknown      int          \n",
       "418307 0                        ⋯ slow       unknown      int          \n",
       "418308 0                        ⋯ priority   unknown      int          \n",
       "418309 7                        ⋯ priority   unknown      int          \n",
       "418310 7                        ⋯ priority   unknown      int          \n",
       "418311 0                        ⋯ priority   unknown      int          \n",
       "418312 0                        ⋯ slow       unknown      int          \n",
       "418313 0                        ⋯ slow       unknown      int          \n",
       "418314 0                        ⋯ priority   unknown      dom          \n",
       "418315 0                        ⋯ priority   unknown      int          \n",
       "418316 0                        ⋯ priority   unknown      int          \n",
       "418317 0                        ⋯ slow       unknown      int          \n",
       "418318 0                        ⋯ slow       unknown      int          \n",
       "418319 0                        ⋯ slow       unknown      int          \n",
       "418320 0                        ⋯ slow       unknown      int          \n",
       "418321 0                        ⋯ slow       unknown      int          \n",
       "418322 0                        ⋯ slow       unknown      int          \n",
       "418323 0                        ⋯ slow       unknown      int          \n",
       "418324 7                        ⋯ slow       unknown      dom          \n",
       "418325 0                        ⋯ priority   unknown      int          \n",
       "418326 0                        ⋯ priority   unknown      int          \n",
       "418327 0                        ⋯ slow       unknown      int          \n",
       "418328 0                        ⋯ priority   unknown      int          \n",
       "418329 0                        ⋯ priority   unknown      int          \n",
       "418330 0                        ⋯ priority   unknown      int          \n",
       "418331 0                        ⋯ slow       unknown      int          \n",
       "418332 0                        ⋯ slow       unknown      int          \n",
       "418333 7                        ⋯ priority   unknown      dom          \n",
       "418334 7                        ⋯ priority   unknown      dom          \n",
       "       priority.y occupation.y pay_key_num num_valid count prop status      \n",
       "1      priority   unknown      0            1         1    1    fine        \n",
       "2      slow       unknown      0            4         4    1    fine        \n",
       "3      slow       unknown      0            4         4    1    fine        \n",
       "4      slow       unknown      0            4         4    1    fine        \n",
       "5      slow       unknown      0            4         4    1    fine        \n",
       "6      priority   unknown      0            1         1    1    fine        \n",
       "7      slow       unknown      0            3         3    1    fine        \n",
       "8      slow       unknown      0            3         3    1    fine        \n",
       "9      slow       unknown      0            3         3    1    fine        \n",
       "10     slow       unknown      0            5         5    1    fine        \n",
       "11     slow       unknown      0            5         5    1    fine        \n",
       "12     slow       unknown      0            5         5    1    fine        \n",
       "13     priority   unknown      0            1         1    1    fine        \n",
       "14     slow       unknown      0            1         1    1    fine        \n",
       "15     slow       unknown      0           11        11    1    fine        \n",
       "16     slow       unknown      0           11        11    1    fine        \n",
       "17     slow       unknown      0           11        11    1    fine        \n",
       "18     priority   unknown      0            5         5    1    fine        \n",
       "19     slow       unknown      0            4         4    1    fine        \n",
       "20     slow       unknown      0            4         4    1    fine        \n",
       "21     slow       unknown      0            4         4    1    fine        \n",
       "22     slow       unknown      0            4         4    1    fine        \n",
       "23     priority   unknown      0           31        31    1    fine        \n",
       "24     priority   unknown      0           31        31    1    fine        \n",
       "25     priority   unknown      0           31        31    1    fine        \n",
       "26     priority   unknown      0           31        31    1    fine        \n",
       "27     slow       unknown      0            4         4    1    fine        \n",
       "28     slow       unknown      0           26        26    1    fine        \n",
       "29     slow       unknown      0           26        26    1    fine        \n",
       "30     slow       unknown      0           26        26    1    fine        \n",
       "⋮      ⋮          ⋮            ⋮           ⋮         ⋮     ⋮    ⋮           \n",
       "418305 slow       unknown      0            6         6    1    fine        \n",
       "418306 priority   unknown      0            1         1    1    fine        \n",
       "418307 slow       unknown      0           10        10    1    fine        \n",
       "418308 priority   unknown      0            4         4    1    fine        \n",
       "418309 priority   unknown      7            0         2    0    insufficient\n",
       "418310 priority   unknown      7            0         2    0    insufficient\n",
       "418311 priority   unknown      0            6         6    1    fine        \n",
       "418312 slow       unknown      0           11        11    1    fine        \n",
       "418313 slow       unknown      0            1         1    1    fine        \n",
       "418314 priority   unknown      0            1         1    1    fine        \n",
       "418315 priority   unknown      0            2         2    1    fine        \n",
       "418316 priority   unknown      0            2         2    1    fine        \n",
       "418317 slow       unknown      0            9         9    1    fine        \n",
       "418318 slow       unknown      0            9         9    1    fine        \n",
       "418319 slow       unknown      0            9         9    1    fine        \n",
       "418320 slow       unknown      0            1         1    1    fine        \n",
       "418321 slow       unknown      0            1         1    1    fine        \n",
       "418322 slow       unknown      0            2         2    1    fine        \n",
       "418323 slow       unknown      0            2         2    1    fine        \n",
       "418324 slow       unknown      7            0         1    0    insufficient\n",
       "418325 priority   unknown      0            1         1    1    fine        \n",
       "418326 priority   unknown      0            2         2    1    fine        \n",
       "418327 slow       unknown      0            1         1    1    fine        \n",
       "418328 priority   unknown      0            3         3    1    fine        \n",
       "418329 priority   unknown      0            3         3    1    fine        \n",
       "418330 priority   unknown      0            3         3    1    fine        \n",
       "418331 slow       unknown      0            6         6    1    fine        \n",
       "418332 slow       unknown      0            6         6    1    fine        \n",
       "418333 priority   unknown      7            0         2    0    insufficient\n",
       "418334 priority   unknown      7            0         2    0    insufficient"
      ]
     },
     "metadata": {},
     "output_type": "display_data"
    }
   ],
   "source": [
    "payment_hists <- trans %>% \n",
    "  group_by(Account_Key) %>% \n",
    "  mutate(pay_key_num = as.numeric(Order_Payment_Status_Key),\n",
    "         num_valid = length(which(pay_key_num == 0)),\n",
    "         count = n(),\n",
    "         prop = num_valid/count,\n",
    "         status = ifelse(prop <= 0.25 & count > 2, \"questionable\",\n",
    "                         ifelse(prop <= 0.25 & count <= 2, \"insufficient\",\n",
    "                                ifelse(prop > 0.25 & prop < 0.75, \"adequate\", \"fine\"))))\n",
    "head(payment_hists)"
   ]
  },
  {
   "cell_type": "markdown",
   "metadata": {},
   "source": [
    "#### 5. Based on the payment_hists, we add a new feature called cancelled proportion which is cancelled quantity divided by order quantity"
   ]
  },
  {
   "cell_type": "code",
   "execution_count": 42,
   "metadata": {},
   "outputs": [
    {
     "data": {
      "text/html": [
       "<table>\n",
       "<thead><tr><th scope=col>Order_Number</th><th scope=col>Account_Key</th><th scope=col>Delivery_Option_Type_Key</th><th scope=col>Order_Date_Key</th><th scope=col>Payment_Method_Key</th><th scope=col>Locale_Key</th><th scope=col>Order_Sequence_No</th><th scope=col>Medium_Key</th><th scope=col>Campaign_Key</th><th scope=col>Order_Payment_Status_Key</th><th scope=col>⋯</th><th scope=col>occupation.x</th><th scope=col>destination.y</th><th scope=col>priority.y</th><th scope=col>occupation.y</th><th scope=col>pay_key_num</th><th scope=col>num_valid</th><th scope=col>count</th><th scope=col>prop</th><th scope=col>status</th><th scope=col>canc_prop</th></tr></thead>\n",
       "<tbody>\n",
       "\t<tr><td>67028670</td><td>19534992</td><td>5       </td><td>20160301</td><td> 7      </td><td> 9      </td><td>1       </td><td> 48     </td><td>  4659  </td><td>0       </td><td>⋯       </td><td>unknown </td><td>int     </td><td>priority</td><td>unknown </td><td>0       </td><td>1       </td><td>1       </td><td>1       </td><td>fine    </td><td>0       </td></tr>\n",
       "\t<tr><td>67077956</td><td>19535774</td><td>1       </td><td>20160301</td><td>11      </td><td> 3      </td><td>1       </td><td>106     </td><td>     2  </td><td>0       </td><td>⋯       </td><td>unknown </td><td>int     </td><td>slow    </td><td>unknown </td><td>0       </td><td>4       </td><td>4       </td><td>1       </td><td>fine    </td><td>0       </td></tr>\n",
       "\t<tr><td>67077956</td><td>19535774</td><td>1       </td><td>20160301</td><td>11      </td><td> 3      </td><td>1       </td><td>106     </td><td>     2  </td><td>0       </td><td>⋯       </td><td>unknown </td><td>int     </td><td>slow    </td><td>unknown </td><td>0       </td><td>4       </td><td>4       </td><td>1       </td><td>fine    </td><td>0       </td></tr>\n",
       "\t<tr><td>67077956</td><td>19535774</td><td>1       </td><td>20160301</td><td>11      </td><td> 3      </td><td>1       </td><td>106     </td><td>     2  </td><td>0       </td><td>⋯       </td><td>unknown </td><td>int     </td><td>slow    </td><td>unknown </td><td>0       </td><td>4       </td><td>4       </td><td>1       </td><td>fine    </td><td>0       </td></tr>\n",
       "\t<tr><td>67077956</td><td>19535774</td><td>1       </td><td>20160301</td><td>11      </td><td> 3      </td><td>1       </td><td>106     </td><td>     2  </td><td>0       </td><td>⋯       </td><td>unknown </td><td>int     </td><td>slow    </td><td>unknown </td><td>0       </td><td>4       </td><td>4       </td><td>1       </td><td>fine    </td><td>0       </td></tr>\n",
       "\t<tr><td>67085417</td><td>19535579</td><td>5       </td><td>20160301</td><td>67      </td><td>12      </td><td>1       </td><td> 48     </td><td>123588  </td><td>0       </td><td>⋯       </td><td>unknown </td><td>int     </td><td>priority</td><td>unknown </td><td>0       </td><td>1       </td><td>1       </td><td>1       </td><td>fine    </td><td>0       </td></tr>\n",
       "</tbody>\n",
       "</table>\n"
      ],
      "text/latex": [
       "\\begin{tabular}{r|llllllllllllllllllllllllllllllllllllll}\n",
       " Order\\_Number & Account\\_Key & Delivery\\_Option\\_Type\\_Key & Order\\_Date\\_Key & Payment\\_Method\\_Key & Locale\\_Key & Order\\_Sequence\\_No & Medium\\_Key & Campaign\\_Key & Order\\_Payment\\_Status\\_Key & ⋯ & occupation.x & destination.y & priority.y & occupation.y & pay\\_key\\_num & num\\_valid & count & prop & status & canc\\_prop\\\\\n",
       "\\hline\n",
       "\t 67028670 & 19534992 & 5        & 20160301 &  7       &  9       & 1        &  48      &   4659   & 0        & ⋯        & unknown  & int      & priority & unknown  & 0        & 1        & 1        & 1        & fine     & 0       \\\\\n",
       "\t 67077956 & 19535774 & 1        & 20160301 & 11       &  3       & 1        & 106      &      2   & 0        & ⋯        & unknown  & int      & slow     & unknown  & 0        & 4        & 4        & 1        & fine     & 0       \\\\\n",
       "\t 67077956 & 19535774 & 1        & 20160301 & 11       &  3       & 1        & 106      &      2   & 0        & ⋯        & unknown  & int      & slow     & unknown  & 0        & 4        & 4        & 1        & fine     & 0       \\\\\n",
       "\t 67077956 & 19535774 & 1        & 20160301 & 11       &  3       & 1        & 106      &      2   & 0        & ⋯        & unknown  & int      & slow     & unknown  & 0        & 4        & 4        & 1        & fine     & 0       \\\\\n",
       "\t 67077956 & 19535774 & 1        & 20160301 & 11       &  3       & 1        & 106      &      2   & 0        & ⋯        & unknown  & int      & slow     & unknown  & 0        & 4        & 4        & 1        & fine     & 0       \\\\\n",
       "\t 67085417 & 19535579 & 5        & 20160301 & 67       & 12       & 1        &  48      & 123588   & 0        & ⋯        & unknown  & int      & priority & unknown  & 0        & 1        & 1        & 1        & fine     & 0       \\\\\n",
       "\\end{tabular}\n"
      ],
      "text/markdown": [
       "\n",
       "Order_Number | Account_Key | Delivery_Option_Type_Key | Order_Date_Key | Payment_Method_Key | Locale_Key | Order_Sequence_No | Medium_Key | Campaign_Key | Order_Payment_Status_Key | ⋯ | occupation.x | destination.y | priority.y | occupation.y | pay_key_num | num_valid | count | prop | status | canc_prop | \n",
       "|---|---|---|---|---|---|\n",
       "| 67028670 | 19534992 | 5        | 20160301 |  7       |  9       | 1        |  48      |   4659   | 0        | ⋯        | unknown  | int      | priority | unknown  | 0        | 1        | 1        | 1        | fine     | 0        | \n",
       "| 67077956 | 19535774 | 1        | 20160301 | 11       |  3       | 1        | 106      |      2   | 0        | ⋯        | unknown  | int      | slow     | unknown  | 0        | 4        | 4        | 1        | fine     | 0        | \n",
       "| 67077956 | 19535774 | 1        | 20160301 | 11       |  3       | 1        | 106      |      2   | 0        | ⋯        | unknown  | int      | slow     | unknown  | 0        | 4        | 4        | 1        | fine     | 0        | \n",
       "| 67077956 | 19535774 | 1        | 20160301 | 11       |  3       | 1        | 106      |      2   | 0        | ⋯        | unknown  | int      | slow     | unknown  | 0        | 4        | 4        | 1        | fine     | 0        | \n",
       "| 67077956 | 19535774 | 1        | 20160301 | 11       |  3       | 1        | 106      |      2   | 0        | ⋯        | unknown  | int      | slow     | unknown  | 0        | 4        | 4        | 1        | fine     | 0        | \n",
       "| 67085417 | 19535579 | 5        | 20160301 | 67       | 12       | 1        |  48      | 123588   | 0        | ⋯        | unknown  | int      | priority | unknown  | 0        | 1        | 1        | 1        | fine     | 0        | \n",
       "\n",
       "\n"
      ],
      "text/plain": [
       "  Order_Number Account_Key Delivery_Option_Type_Key Order_Date_Key\n",
       "1 67028670     19534992    5                        20160301      \n",
       "2 67077956     19535774    1                        20160301      \n",
       "3 67077956     19535774    1                        20160301      \n",
       "4 67077956     19535774    1                        20160301      \n",
       "5 67077956     19535774    1                        20160301      \n",
       "6 67085417     19535579    5                        20160301      \n",
       "  Payment_Method_Key Locale_Key Order_Sequence_No Medium_Key Campaign_Key\n",
       "1  7                  9         1                  48          4659      \n",
       "2 11                  3         1                 106             2      \n",
       "3 11                  3         1                 106             2      \n",
       "4 11                  3         1                 106             2      \n",
       "5 11                  3         1                 106             2      \n",
       "6 67                 12         1                  48        123588      \n",
       "  Order_Payment_Status_Key ⋯ occupation.x destination.y priority.y occupation.y\n",
       "1 0                        ⋯ unknown      int           priority   unknown     \n",
       "2 0                        ⋯ unknown      int           slow       unknown     \n",
       "3 0                        ⋯ unknown      int           slow       unknown     \n",
       "4 0                        ⋯ unknown      int           slow       unknown     \n",
       "5 0                        ⋯ unknown      int           slow       unknown     \n",
       "6 0                        ⋯ unknown      int           priority   unknown     \n",
       "  pay_key_num num_valid count prop status canc_prop\n",
       "1 0           1         1     1    fine   0        \n",
       "2 0           4         4     1    fine   0        \n",
       "3 0           4         4     1    fine   0        \n",
       "4 0           4         4     1    fine   0        \n",
       "5 0           4         4     1    fine   0        \n",
       "6 0           1         1     1    fine   0        "
      ]
     },
     "metadata": {},
     "output_type": "display_data"
    }
   ],
   "source": [
    "cancelled_items <- payment_hists %>% \n",
    "  group_by(Category_Level_3, Category_Level_2) %>% \n",
    "  mutate(canc_prop = ifelse(Cancelled_Qty == 0, 0, Cancelled_Qty/Ordered_Qty))\n",
    "head(cancelled_items)"
   ]
  },
  {
   "cell_type": "markdown",
   "metadata": {},
   "source": [
    "#### 6. If the order is cancel, we assume it's quesionable and we should check the billing address, to see if it matches the shipping address"
   ]
  },
  {
   "cell_type": "code",
   "execution_count": 45,
   "metadata": {},
   "outputs": [
    {
     "data": {
      "text/html": [
       "<table>\n",
       "<thead><tr><th scope=col>Order_Number</th><th scope=col>Account_Key</th><th scope=col>Delivery_Option_Type_Key</th><th scope=col>Order_Date_Key</th><th scope=col>Payment_Method_Key</th><th scope=col>Locale_Key</th><th scope=col>Order_Sequence_No</th><th scope=col>Medium_Key</th><th scope=col>Campaign_Key</th><th scope=col>Order_Payment_Status_Key</th><th scope=col>⋯</th><th scope=col>occupation.x</th><th scope=col>destination.y</th><th scope=col>priority.y</th><th scope=col>occupation.y</th><th scope=col>pay_key_num</th><th scope=col>num_valid</th><th scope=col>count</th><th scope=col>prop</th><th scope=col>status</th><th scope=col>canc_prop</th></tr></thead>\n",
       "<tbody>\n",
       "\t<tr><td>67028670</td><td>19534992</td><td>5       </td><td>20160301</td><td> 7      </td><td> 9      </td><td>1       </td><td> 48     </td><td>  4659  </td><td>0       </td><td>⋯       </td><td>unknown </td><td>int     </td><td>priority</td><td>unknown </td><td>0       </td><td>1       </td><td>1       </td><td>1       </td><td>fine    </td><td>0       </td></tr>\n",
       "\t<tr><td>67077956</td><td>19535774</td><td>1       </td><td>20160301</td><td>11      </td><td> 3      </td><td>1       </td><td>106     </td><td>     2  </td><td>0       </td><td>⋯       </td><td>unknown </td><td>int     </td><td>slow    </td><td>unknown </td><td>0       </td><td>4       </td><td>4       </td><td>1       </td><td>fine    </td><td>0       </td></tr>\n",
       "\t<tr><td>67077956</td><td>19535774</td><td>1       </td><td>20160301</td><td>11      </td><td> 3      </td><td>1       </td><td>106     </td><td>     2  </td><td>0       </td><td>⋯       </td><td>unknown </td><td>int     </td><td>slow    </td><td>unknown </td><td>0       </td><td>4       </td><td>4       </td><td>1       </td><td>fine    </td><td>0       </td></tr>\n",
       "\t<tr><td>67077956</td><td>19535774</td><td>1       </td><td>20160301</td><td>11      </td><td> 3      </td><td>1       </td><td>106     </td><td>     2  </td><td>0       </td><td>⋯       </td><td>unknown </td><td>int     </td><td>slow    </td><td>unknown </td><td>0       </td><td>4       </td><td>4       </td><td>1       </td><td>fine    </td><td>0       </td></tr>\n",
       "\t<tr><td>67077956</td><td>19535774</td><td>1       </td><td>20160301</td><td>11      </td><td> 3      </td><td>1       </td><td>106     </td><td>     2  </td><td>0       </td><td>⋯       </td><td>unknown </td><td>int     </td><td>slow    </td><td>unknown </td><td>0       </td><td>4       </td><td>4       </td><td>1       </td><td>fine    </td><td>0       </td></tr>\n",
       "\t<tr><td>67085417</td><td>19535579</td><td>5       </td><td>20160301</td><td>67      </td><td>12      </td><td>1       </td><td> 48     </td><td>123588  </td><td>0       </td><td>⋯       </td><td>unknown </td><td>int     </td><td>priority</td><td>unknown </td><td>0       </td><td>1       </td><td>1       </td><td>1       </td><td>fine    </td><td>0       </td></tr>\n",
       "</tbody>\n",
       "</table>\n"
      ],
      "text/latex": [
       "\\begin{tabular}{r|llllllllllllllllllllllllllllllllllllll}\n",
       " Order\\_Number & Account\\_Key & Delivery\\_Option\\_Type\\_Key & Order\\_Date\\_Key & Payment\\_Method\\_Key & Locale\\_Key & Order\\_Sequence\\_No & Medium\\_Key & Campaign\\_Key & Order\\_Payment\\_Status\\_Key & ⋯ & occupation.x & destination.y & priority.y & occupation.y & pay\\_key\\_num & num\\_valid & count & prop & status & canc\\_prop\\\\\n",
       "\\hline\n",
       "\t 67028670 & 19534992 & 5        & 20160301 &  7       &  9       & 1        &  48      &   4659   & 0        & ⋯        & unknown  & int      & priority & unknown  & 0        & 1        & 1        & 1        & fine     & 0       \\\\\n",
       "\t 67077956 & 19535774 & 1        & 20160301 & 11       &  3       & 1        & 106      &      2   & 0        & ⋯        & unknown  & int      & slow     & unknown  & 0        & 4        & 4        & 1        & fine     & 0       \\\\\n",
       "\t 67077956 & 19535774 & 1        & 20160301 & 11       &  3       & 1        & 106      &      2   & 0        & ⋯        & unknown  & int      & slow     & unknown  & 0        & 4        & 4        & 1        & fine     & 0       \\\\\n",
       "\t 67077956 & 19535774 & 1        & 20160301 & 11       &  3       & 1        & 106      &      2   & 0        & ⋯        & unknown  & int      & slow     & unknown  & 0        & 4        & 4        & 1        & fine     & 0       \\\\\n",
       "\t 67077956 & 19535774 & 1        & 20160301 & 11       &  3       & 1        & 106      &      2   & 0        & ⋯        & unknown  & int      & slow     & unknown  & 0        & 4        & 4        & 1        & fine     & 0       \\\\\n",
       "\t 67085417 & 19535579 & 5        & 20160301 & 67       & 12       & 1        &  48      & 123588   & 0        & ⋯        & unknown  & int      & priority & unknown  & 0        & 1        & 1        & 1        & fine     & 0       \\\\\n",
       "\\end{tabular}\n"
      ],
      "text/markdown": [
       "\n",
       "Order_Number | Account_Key | Delivery_Option_Type_Key | Order_Date_Key | Payment_Method_Key | Locale_Key | Order_Sequence_No | Medium_Key | Campaign_Key | Order_Payment_Status_Key | ⋯ | occupation.x | destination.y | priority.y | occupation.y | pay_key_num | num_valid | count | prop | status | canc_prop | \n",
       "|---|---|---|---|---|---|\n",
       "| 67028670 | 19534992 | 5        | 20160301 |  7       |  9       | 1        |  48      |   4659   | 0        | ⋯        | unknown  | int      | priority | unknown  | 0        | 1        | 1        | 1        | fine     | 0        | \n",
       "| 67077956 | 19535774 | 1        | 20160301 | 11       |  3       | 1        | 106      |      2   | 0        | ⋯        | unknown  | int      | slow     | unknown  | 0        | 4        | 4        | 1        | fine     | 0        | \n",
       "| 67077956 | 19535774 | 1        | 20160301 | 11       |  3       | 1        | 106      |      2   | 0        | ⋯        | unknown  | int      | slow     | unknown  | 0        | 4        | 4        | 1        | fine     | 0        | \n",
       "| 67077956 | 19535774 | 1        | 20160301 | 11       |  3       | 1        | 106      |      2   | 0        | ⋯        | unknown  | int      | slow     | unknown  | 0        | 4        | 4        | 1        | fine     | 0        | \n",
       "| 67077956 | 19535774 | 1        | 20160301 | 11       |  3       | 1        | 106      |      2   | 0        | ⋯        | unknown  | int      | slow     | unknown  | 0        | 4        | 4        | 1        | fine     | 0        | \n",
       "| 67085417 | 19535579 | 5        | 20160301 | 67       | 12       | 1        |  48      | 123588   | 0        | ⋯        | unknown  | int      | priority | unknown  | 0        | 1        | 1        | 1        | fine     | 0        | \n",
       "\n",
       "\n"
      ],
      "text/plain": [
       "  Order_Number Account_Key Delivery_Option_Type_Key Order_Date_Key\n",
       "1 67028670     19534992    5                        20160301      \n",
       "2 67077956     19535774    1                        20160301      \n",
       "3 67077956     19535774    1                        20160301      \n",
       "4 67077956     19535774    1                        20160301      \n",
       "5 67077956     19535774    1                        20160301      \n",
       "6 67085417     19535579    5                        20160301      \n",
       "  Payment_Method_Key Locale_Key Order_Sequence_No Medium_Key Campaign_Key\n",
       "1  7                  9         1                  48          4659      \n",
       "2 11                  3         1                 106             2      \n",
       "3 11                  3         1                 106             2      \n",
       "4 11                  3         1                 106             2      \n",
       "5 11                  3         1                 106             2      \n",
       "6 67                 12         1                  48        123588      \n",
       "  Order_Payment_Status_Key ⋯ occupation.x destination.y priority.y occupation.y\n",
       "1 0                        ⋯ unknown      int           priority   unknown     \n",
       "2 0                        ⋯ unknown      int           slow       unknown     \n",
       "3 0                        ⋯ unknown      int           slow       unknown     \n",
       "4 0                        ⋯ unknown      int           slow       unknown     \n",
       "5 0                        ⋯ unknown      int           slow       unknown     \n",
       "6 0                        ⋯ unknown      int           priority   unknown     \n",
       "  pay_key_num num_valid count prop status canc_prop\n",
       "1 0           1         1     1    fine   0        \n",
       "2 0           4         4     1    fine   0        \n",
       "3 0           4         4     1    fine   0        \n",
       "4 0           4         4     1    fine   0        \n",
       "5 0           4         4     1    fine   0        \n",
       "6 0           1         1     1    fine   0        "
      ]
     },
     "metadata": {},
     "output_type": "display_data"
    }
   ],
   "source": [
    "bill_ship_match <- cancelled_items %>% \n",
    "  mutate(status = ifelse(Postcode_Billing_Address != Postcode_Shipping_Address, \"mismatch\", \"fine\"))\n",
    "head(bill_ship_match)\n",
    "trans <- bill_ship_match"
   ]
  },
  {
   "cell_type": "markdown",
   "metadata": {},
   "source": [
    "#### 7. Based on the billing and shipping mismatched table, we extract the related transaction date"
   ]
  },
  {
   "cell_type": "code",
   "execution_count": 47,
   "metadata": {},
   "outputs": [
    {
     "data": {
      "text/html": [
       "<ol class=list-inline>\n",
       "\t<li><time datetime=\"2016-03-01\">2016-03-01</time></li>\n",
       "\t<li><time datetime=\"2016-03-01\">2016-03-01</time></li>\n",
       "\t<li><time datetime=\"2016-03-01\">2016-03-01</time></li>\n",
       "\t<li><time datetime=\"2016-03-01\">2016-03-01</time></li>\n",
       "\t<li><time datetime=\"2016-03-01\">2016-03-01</time></li>\n",
       "\t<li><time datetime=\"2016-03-01\">2016-03-01</time></li>\n",
       "</ol>\n"
      ],
      "text/latex": [
       "\\begin{enumerate*}\n",
       "\\item 2016-03-01\n",
       "\\item 2016-03-01\n",
       "\\item 2016-03-01\n",
       "\\item 2016-03-01\n",
       "\\item 2016-03-01\n",
       "\\item 2016-03-01\n",
       "\\end{enumerate*}\n"
      ],
      "text/markdown": [
       "1. 2016-03-01\n",
       "2. 2016-03-01\n",
       "3. 2016-03-01\n",
       "4. 2016-03-01\n",
       "5. 2016-03-01\n",
       "6. 2016-03-01\n",
       "\n",
       "\n"
      ],
      "text/plain": [
       "[1] \"2016-03-01\" \"2016-03-01\" \"2016-03-01\" \"2016-03-01\" \"2016-03-01\"\n",
       "[6] \"2016-03-01\""
      ]
     },
     "metadata": {},
     "output_type": "display_data"
    },
    {
     "data": {
      "text/html": [
       "<table>\n",
       "<thead><tr><th scope=col>count</th><th scope=col>n</th><th scope=col>prop</th><th scope=col>cumulate</th></tr></thead>\n",
       "<tbody>\n",
       "\t<tr><td>1         </td><td>79487     </td><td>0.19000846</td><td>0.1900085 </td></tr>\n",
       "\t<tr><td>2         </td><td>57252     </td><td>0.13685715</td><td>0.3268656 </td></tr>\n",
       "\t<tr><td>3         </td><td>42192     </td><td>0.10085721</td><td>0.4277228 </td></tr>\n",
       "\t<tr><td>4         </td><td>39276     </td><td>0.09388670</td><td>0.5216095 </td></tr>\n",
       "\t<tr><td>5         </td><td>25175     </td><td>0.06017919</td><td>0.5817887 </td></tr>\n",
       "\t<tr><td>6         </td><td>22302     </td><td>0.05331147</td><td>0.6351002 </td></tr>\n",
       "</tbody>\n",
       "</table>\n"
      ],
      "text/latex": [
       "\\begin{tabular}{r|llll}\n",
       " count & n & prop & cumulate\\\\\n",
       "\\hline\n",
       "\t 1          & 79487      & 0.19000846 & 0.1900085 \\\\\n",
       "\t 2          & 57252      & 0.13685715 & 0.3268656 \\\\\n",
       "\t 3          & 42192      & 0.10085721 & 0.4277228 \\\\\n",
       "\t 4          & 39276      & 0.09388670 & 0.5216095 \\\\\n",
       "\t 5          & 25175      & 0.06017919 & 0.5817887 \\\\\n",
       "\t 6          & 22302      & 0.05331147 & 0.6351002 \\\\\n",
       "\\end{tabular}\n"
      ],
      "text/markdown": [
       "\n",
       "count | n | prop | cumulate | \n",
       "|---|---|---|---|---|---|\n",
       "| 1          | 79487      | 0.19000846 | 0.1900085  | \n",
       "| 2          | 57252      | 0.13685715 | 0.3268656  | \n",
       "| 3          | 42192      | 0.10085721 | 0.4277228  | \n",
       "| 4          | 39276      | 0.09388670 | 0.5216095  | \n",
       "| 5          | 25175      | 0.06017919 | 0.5817887  | \n",
       "| 6          | 22302      | 0.05331147 | 0.6351002  | \n",
       "\n",
       "\n"
      ],
      "text/plain": [
       "  count n     prop       cumulate \n",
       "1 1     79487 0.19000846 0.1900085\n",
       "2 2     57252 0.13685715 0.3268656\n",
       "3 3     42192 0.10085721 0.4277228\n",
       "4 4     39276 0.09388670 0.5216095\n",
       "5 5     25175 0.06017919 0.5817887\n",
       "6 6     22302 0.05331147 0.6351002"
      ]
     },
     "metadata": {},
     "output_type": "display_data"
    }
   ],
   "source": [
    "trans$Order_Date_Key <- ymd(trans$Order_Date_Key)\n",
    "fraud_accounts <- customers\n",
    "colnames(fraud_trans)[1] <- \"Order_Number\"\n",
    "head(trans$Order_Date_Key )\n",
    "head(fraud_accounts)"
   ]
  },
  {
   "cell_type": "markdown",
   "metadata": {},
   "source": [
    "#### 8. Now we connect that table the fraud transaction table together by order number"
   ]
  },
  {
   "cell_type": "code",
   "execution_count": 48,
   "metadata": {
    "collapsed": true
   },
   "outputs": [],
   "source": [
    "fraud <- fraud_trans %>% \n",
    "  inner_join(trans, by = \"Order_Number\")"
   ]
  },
  {
   "cell_type": "markdown",
   "metadata": {},
   "source": [
    "#### 9. Extract the date which is missing in hte fraud transaction table, using the joint previous tables"
   ]
  },
  {
   "cell_type": "code",
   "execution_count": 49,
   "metadata": {},
   "outputs": [
    {
     "data": {
      "text/html": [
       "<table>\n",
       "<thead><tr><th scope=col>Order_Number</th><th scope=col>Date.Logged</th><th scope=col>Released_by</th><th scope=col>Internal.RC</th><th scope=col>Defence.Status</th><th scope=col>GBP.Amount</th><th scope=col>Account_Key</th><th scope=col>Delivery_Option_Type_Key</th><th scope=col>Order_Date_Key</th><th scope=col>Payment_Method_Key</th><th scope=col>⋯</th><th scope=col>occupation.x</th><th scope=col>destination.y</th><th scope=col>priority.y</th><th scope=col>occupation.y</th><th scope=col>pay_key_num</th><th scope=col>num_valid</th><th scope=col>count</th><th scope=col>prop</th><th scope=col>status</th><th scope=col>canc_prop</th></tr></thead>\n",
       "<tbody>\n",
       "\t<tr><td>67028670  </td><td>NA        </td><td>NA        </td><td>NA        </td><td>NA        </td><td>NA        </td><td>19534992  </td><td>5         </td><td>2016-03-01</td><td> 7        </td><td>⋯         </td><td>unknown   </td><td>int       </td><td>priority  </td><td>unknown   </td><td>0         </td><td>1         </td><td>1         </td><td>1         </td><td>fine      </td><td>0         </td></tr>\n",
       "\t<tr><td>67077956  </td><td>NA        </td><td>NA        </td><td>NA        </td><td>NA        </td><td>NA        </td><td>19535774  </td><td>1         </td><td>2016-03-01</td><td>11        </td><td>⋯         </td><td>unknown   </td><td>int       </td><td>slow      </td><td>unknown   </td><td>0         </td><td>4         </td><td>4         </td><td>1         </td><td>fine      </td><td>0         </td></tr>\n",
       "\t<tr><td>67077956  </td><td>NA        </td><td>NA        </td><td>NA        </td><td>NA        </td><td>NA        </td><td>19535774  </td><td>1         </td><td>2016-03-01</td><td>11        </td><td>⋯         </td><td>unknown   </td><td>int       </td><td>slow      </td><td>unknown   </td><td>0         </td><td>4         </td><td>4         </td><td>1         </td><td>fine      </td><td>0         </td></tr>\n",
       "\t<tr><td>67077956  </td><td>NA        </td><td>NA        </td><td>NA        </td><td>NA        </td><td>NA        </td><td>19535774  </td><td>1         </td><td>2016-03-01</td><td>11        </td><td>⋯         </td><td>unknown   </td><td>int       </td><td>slow      </td><td>unknown   </td><td>0         </td><td>4         </td><td>4         </td><td>1         </td><td>fine      </td><td>0         </td></tr>\n",
       "\t<tr><td>67077956  </td><td>NA        </td><td>NA        </td><td>NA        </td><td>NA        </td><td>NA        </td><td>19535774  </td><td>1         </td><td>2016-03-01</td><td>11        </td><td>⋯         </td><td>unknown   </td><td>int       </td><td>slow      </td><td>unknown   </td><td>0         </td><td>4         </td><td>4         </td><td>1         </td><td>fine      </td><td>0         </td></tr>\n",
       "\t<tr><td>67085417  </td><td>NA        </td><td>NA        </td><td>NA        </td><td>NA        </td><td>NA        </td><td>19535579  </td><td>5         </td><td>2016-03-01</td><td>67        </td><td>⋯         </td><td>unknown   </td><td>int       </td><td>priority  </td><td>unknown   </td><td>0         </td><td>1         </td><td>1         </td><td>1         </td><td>fine      </td><td>0         </td></tr>\n",
       "</tbody>\n",
       "</table>\n"
      ],
      "text/latex": [
       "\\begin{tabular}{r|lllllllllllllllllllllllllllllllllllllllllll}\n",
       " Order\\_Number & Date.Logged & Released\\_by & Internal.RC & Defence.Status & GBP.Amount & Account\\_Key & Delivery\\_Option\\_Type\\_Key & Order\\_Date\\_Key & Payment\\_Method\\_Key & ⋯ & occupation.x & destination.y & priority.y & occupation.y & pay\\_key\\_num & num\\_valid & count & prop & status & canc\\_prop\\\\\n",
       "\\hline\n",
       "\t 67028670   & NA         & NA         & NA         & NA         & NA         & 19534992   & 5          & 2016-03-01 &  7         & ⋯          & unknown    & int        & priority   & unknown    & 0          & 1          & 1          & 1          & fine       & 0         \\\\\n",
       "\t 67077956   & NA         & NA         & NA         & NA         & NA         & 19535774   & 1          & 2016-03-01 & 11         & ⋯          & unknown    & int        & slow       & unknown    & 0          & 4          & 4          & 1          & fine       & 0         \\\\\n",
       "\t 67077956   & NA         & NA         & NA         & NA         & NA         & 19535774   & 1          & 2016-03-01 & 11         & ⋯          & unknown    & int        & slow       & unknown    & 0          & 4          & 4          & 1          & fine       & 0         \\\\\n",
       "\t 67077956   & NA         & NA         & NA         & NA         & NA         & 19535774   & 1          & 2016-03-01 & 11         & ⋯          & unknown    & int        & slow       & unknown    & 0          & 4          & 4          & 1          & fine       & 0         \\\\\n",
       "\t 67077956   & NA         & NA         & NA         & NA         & NA         & 19535774   & 1          & 2016-03-01 & 11         & ⋯          & unknown    & int        & slow       & unknown    & 0          & 4          & 4          & 1          & fine       & 0         \\\\\n",
       "\t 67085417   & NA         & NA         & NA         & NA         & NA         & 19535579   & 5          & 2016-03-01 & 67         & ⋯          & unknown    & int        & priority   & unknown    & 0          & 1          & 1          & 1          & fine       & 0         \\\\\n",
       "\\end{tabular}\n"
      ],
      "text/markdown": [
       "\n",
       "Order_Number | Date.Logged | Released_by | Internal.RC | Defence.Status | GBP.Amount | Account_Key | Delivery_Option_Type_Key | Order_Date_Key | Payment_Method_Key | ⋯ | occupation.x | destination.y | priority.y | occupation.y | pay_key_num | num_valid | count | prop | status | canc_prop | \n",
       "|---|---|---|---|---|---|\n",
       "| 67028670   | NA         | NA         | NA         | NA         | NA         | 19534992   | 5          | 2016-03-01 |  7         | ⋯          | unknown    | int        | priority   | unknown    | 0          | 1          | 1          | 1          | fine       | 0          | \n",
       "| 67077956   | NA         | NA         | NA         | NA         | NA         | 19535774   | 1          | 2016-03-01 | 11         | ⋯          | unknown    | int        | slow       | unknown    | 0          | 4          | 4          | 1          | fine       | 0          | \n",
       "| 67077956   | NA         | NA         | NA         | NA         | NA         | 19535774   | 1          | 2016-03-01 | 11         | ⋯          | unknown    | int        | slow       | unknown    | 0          | 4          | 4          | 1          | fine       | 0          | \n",
       "| 67077956   | NA         | NA         | NA         | NA         | NA         | 19535774   | 1          | 2016-03-01 | 11         | ⋯          | unknown    | int        | slow       | unknown    | 0          | 4          | 4          | 1          | fine       | 0          | \n",
       "| 67077956   | NA         | NA         | NA         | NA         | NA         | 19535774   | 1          | 2016-03-01 | 11         | ⋯          | unknown    | int        | slow       | unknown    | 0          | 4          | 4          | 1          | fine       | 0          | \n",
       "| 67085417   | NA         | NA         | NA         | NA         | NA         | 19535579   | 5          | 2016-03-01 | 67         | ⋯          | unknown    | int        | priority   | unknown    | 0          | 1          | 1          | 1          | fine       | 0          | \n",
       "\n",
       "\n"
      ],
      "text/plain": [
       "  Order_Number Date.Logged Released_by Internal.RC Defence.Status GBP.Amount\n",
       "1 67028670     NA          NA          NA          NA             NA        \n",
       "2 67077956     NA          NA          NA          NA             NA        \n",
       "3 67077956     NA          NA          NA          NA             NA        \n",
       "4 67077956     NA          NA          NA          NA             NA        \n",
       "5 67077956     NA          NA          NA          NA             NA        \n",
       "6 67085417     NA          NA          NA          NA             NA        \n",
       "  Account_Key Delivery_Option_Type_Key Order_Date_Key Payment_Method_Key ⋯\n",
       "1 19534992    5                        2016-03-01      7                 ⋯\n",
       "2 19535774    1                        2016-03-01     11                 ⋯\n",
       "3 19535774    1                        2016-03-01     11                 ⋯\n",
       "4 19535774    1                        2016-03-01     11                 ⋯\n",
       "5 19535774    1                        2016-03-01     11                 ⋯\n",
       "6 19535579    5                        2016-03-01     67                 ⋯\n",
       "  occupation.x destination.y priority.y occupation.y pay_key_num num_valid\n",
       "1 unknown      int           priority   unknown      0           1        \n",
       "2 unknown      int           slow       unknown      0           4        \n",
       "3 unknown      int           slow       unknown      0           4        \n",
       "4 unknown      int           slow       unknown      0           4        \n",
       "5 unknown      int           slow       unknown      0           4        \n",
       "6 unknown      int           priority   unknown      0           1        \n",
       "  count prop status canc_prop\n",
       "1 1     1    fine   0        \n",
       "2 4     1    fine   0        \n",
       "3 4     1    fine   0        \n",
       "4 4     1    fine   0        \n",
       "5 4     1    fine   0        \n",
       "6 1     1    fine   0        "
      ]
     },
     "metadata": {},
     "output_type": "display_data"
    }
   ],
   "source": [
    "to_app <- fraud_trans %>% \n",
    "  right_join(trans, by = \"Order_Number\") %>% \n",
    "  filter(is.na(Internal.RC) == TRUE)\n",
    "head(to_app)"
   ]
  },
  {
   "cell_type": "markdown",
   "metadata": {},
   "source": [
    "#### 10. Bind the two tables together and create a new variable to show whether it is fraud"
   ]
  },
  {
   "cell_type": "code",
   "execution_count": 50,
   "metadata": {},
   "outputs": [
    {
     "data": {
      "text/html": [
       "<table>\n",
       "<thead><tr><th scope=col>Order_Number</th><th scope=col>Date.Logged</th><th scope=col>Released_by</th><th scope=col>Internal.RC</th><th scope=col>Defence.Status</th><th scope=col>GBP.Amount</th><th scope=col>Account_Key</th><th scope=col>Delivery_Option_Type_Key</th><th scope=col>Order_Date_Key</th><th scope=col>Payment_Method_Key</th><th scope=col>⋯</th><th scope=col>destination.y</th><th scope=col>priority.y</th><th scope=col>occupation.y</th><th scope=col>pay_key_num</th><th scope=col>num_valid</th><th scope=col>count</th><th scope=col>prop</th><th scope=col>status</th><th scope=col>canc_prop</th><th scope=col>fraud_status</th></tr></thead>\n",
       "<tbody>\n",
       "\t<tr><td>67028670  </td><td>NA        </td><td>NA        </td><td>NA        </td><td>NA        </td><td>NA        </td><td>19534992  </td><td>5         </td><td>2016-03-01</td><td> 7        </td><td>⋯         </td><td>int       </td><td>priority  </td><td>unknown   </td><td>0         </td><td>1         </td><td>1         </td><td>1         </td><td>fine      </td><td>0         </td><td>0         </td></tr>\n",
       "\t<tr><td>67077956  </td><td>NA        </td><td>NA        </td><td>NA        </td><td>NA        </td><td>NA        </td><td>19535774  </td><td>1         </td><td>2016-03-01</td><td>11        </td><td>⋯         </td><td>int       </td><td>slow      </td><td>unknown   </td><td>0         </td><td>4         </td><td>4         </td><td>1         </td><td>fine      </td><td>0         </td><td>0         </td></tr>\n",
       "\t<tr><td>67077956  </td><td>NA        </td><td>NA        </td><td>NA        </td><td>NA        </td><td>NA        </td><td>19535774  </td><td>1         </td><td>2016-03-01</td><td>11        </td><td>⋯         </td><td>int       </td><td>slow      </td><td>unknown   </td><td>0         </td><td>4         </td><td>4         </td><td>1         </td><td>fine      </td><td>0         </td><td>0         </td></tr>\n",
       "\t<tr><td>67077956  </td><td>NA        </td><td>NA        </td><td>NA        </td><td>NA        </td><td>NA        </td><td>19535774  </td><td>1         </td><td>2016-03-01</td><td>11        </td><td>⋯         </td><td>int       </td><td>slow      </td><td>unknown   </td><td>0         </td><td>4         </td><td>4         </td><td>1         </td><td>fine      </td><td>0         </td><td>0         </td></tr>\n",
       "\t<tr><td>67077956  </td><td>NA        </td><td>NA        </td><td>NA        </td><td>NA        </td><td>NA        </td><td>19535774  </td><td>1         </td><td>2016-03-01</td><td>11        </td><td>⋯         </td><td>int       </td><td>slow      </td><td>unknown   </td><td>0         </td><td>4         </td><td>4         </td><td>1         </td><td>fine      </td><td>0         </td><td>0         </td></tr>\n",
       "\t<tr><td>67085417  </td><td>NA        </td><td>NA        </td><td>NA        </td><td>NA        </td><td>NA        </td><td>19535579  </td><td>5         </td><td>2016-03-01</td><td>67        </td><td>⋯         </td><td>int       </td><td>priority  </td><td>unknown   </td><td>0         </td><td>1         </td><td>1         </td><td>1         </td><td>fine      </td><td>0         </td><td>0         </td></tr>\n",
       "</tbody>\n",
       "</table>\n"
      ],
      "text/latex": [
       "\\begin{tabular}{r|llllllllllllllllllllllllllllllllllllllllllll}\n",
       " Order\\_Number & Date.Logged & Released\\_by & Internal.RC & Defence.Status & GBP.Amount & Account\\_Key & Delivery\\_Option\\_Type\\_Key & Order\\_Date\\_Key & Payment\\_Method\\_Key & ⋯ & destination.y & priority.y & occupation.y & pay\\_key\\_num & num\\_valid & count & prop & status & canc\\_prop & fraud\\_status\\\\\n",
       "\\hline\n",
       "\t 67028670   & NA         & NA         & NA         & NA         & NA         & 19534992   & 5          & 2016-03-01 &  7         & ⋯          & int        & priority   & unknown    & 0          & 1          & 1          & 1          & fine       & 0          & 0         \\\\\n",
       "\t 67077956   & NA         & NA         & NA         & NA         & NA         & 19535774   & 1          & 2016-03-01 & 11         & ⋯          & int        & slow       & unknown    & 0          & 4          & 4          & 1          & fine       & 0          & 0         \\\\\n",
       "\t 67077956   & NA         & NA         & NA         & NA         & NA         & 19535774   & 1          & 2016-03-01 & 11         & ⋯          & int        & slow       & unknown    & 0          & 4          & 4          & 1          & fine       & 0          & 0         \\\\\n",
       "\t 67077956   & NA         & NA         & NA         & NA         & NA         & 19535774   & 1          & 2016-03-01 & 11         & ⋯          & int        & slow       & unknown    & 0          & 4          & 4          & 1          & fine       & 0          & 0         \\\\\n",
       "\t 67077956   & NA         & NA         & NA         & NA         & NA         & 19535774   & 1          & 2016-03-01 & 11         & ⋯          & int        & slow       & unknown    & 0          & 4          & 4          & 1          & fine       & 0          & 0         \\\\\n",
       "\t 67085417   & NA         & NA         & NA         & NA         & NA         & 19535579   & 5          & 2016-03-01 & 67         & ⋯          & int        & priority   & unknown    & 0          & 1          & 1          & 1          & fine       & 0          & 0         \\\\\n",
       "\\end{tabular}\n"
      ],
      "text/markdown": [
       "\n",
       "Order_Number | Date.Logged | Released_by | Internal.RC | Defence.Status | GBP.Amount | Account_Key | Delivery_Option_Type_Key | Order_Date_Key | Payment_Method_Key | ⋯ | destination.y | priority.y | occupation.y | pay_key_num | num_valid | count | prop | status | canc_prop | fraud_status | \n",
       "|---|---|---|---|---|---|\n",
       "| 67028670   | NA         | NA         | NA         | NA         | NA         | 19534992   | 5          | 2016-03-01 |  7         | ⋯          | int        | priority   | unknown    | 0          | 1          | 1          | 1          | fine       | 0          | 0          | \n",
       "| 67077956   | NA         | NA         | NA         | NA         | NA         | 19535774   | 1          | 2016-03-01 | 11         | ⋯          | int        | slow       | unknown    | 0          | 4          | 4          | 1          | fine       | 0          | 0          | \n",
       "| 67077956   | NA         | NA         | NA         | NA         | NA         | 19535774   | 1          | 2016-03-01 | 11         | ⋯          | int        | slow       | unknown    | 0          | 4          | 4          | 1          | fine       | 0          | 0          | \n",
       "| 67077956   | NA         | NA         | NA         | NA         | NA         | 19535774   | 1          | 2016-03-01 | 11         | ⋯          | int        | slow       | unknown    | 0          | 4          | 4          | 1          | fine       | 0          | 0          | \n",
       "| 67077956   | NA         | NA         | NA         | NA         | NA         | 19535774   | 1          | 2016-03-01 | 11         | ⋯          | int        | slow       | unknown    | 0          | 4          | 4          | 1          | fine       | 0          | 0          | \n",
       "| 67085417   | NA         | NA         | NA         | NA         | NA         | 19535579   | 5          | 2016-03-01 | 67         | ⋯          | int        | priority   | unknown    | 0          | 1          | 1          | 1          | fine       | 0          | 0          | \n",
       "\n",
       "\n"
      ],
      "text/plain": [
       "  Order_Number Date.Logged Released_by Internal.RC Defence.Status GBP.Amount\n",
       "1 67028670     NA          NA          NA          NA             NA        \n",
       "2 67077956     NA          NA          NA          NA             NA        \n",
       "3 67077956     NA          NA          NA          NA             NA        \n",
       "4 67077956     NA          NA          NA          NA             NA        \n",
       "5 67077956     NA          NA          NA          NA             NA        \n",
       "6 67085417     NA          NA          NA          NA             NA        \n",
       "  Account_Key Delivery_Option_Type_Key Order_Date_Key Payment_Method_Key ⋯\n",
       "1 19534992    5                        2016-03-01      7                 ⋯\n",
       "2 19535774    1                        2016-03-01     11                 ⋯\n",
       "3 19535774    1                        2016-03-01     11                 ⋯\n",
       "4 19535774    1                        2016-03-01     11                 ⋯\n",
       "5 19535774    1                        2016-03-01     11                 ⋯\n",
       "6 19535579    5                        2016-03-01     67                 ⋯\n",
       "  destination.y priority.y occupation.y pay_key_num num_valid count prop status\n",
       "1 int           priority   unknown      0           1         1     1    fine  \n",
       "2 int           slow       unknown      0           4         4     1    fine  \n",
       "3 int           slow       unknown      0           4         4     1    fine  \n",
       "4 int           slow       unknown      0           4         4     1    fine  \n",
       "5 int           slow       unknown      0           4         4     1    fine  \n",
       "6 int           priority   unknown      0           1         1     1    fine  \n",
       "  canc_prop fraud_status\n",
       "1 0         0           \n",
       "2 0         0           \n",
       "3 0         0           \n",
       "4 0         0           \n",
       "5 0         0           \n",
       "6 0         0           "
      ]
     },
     "metadata": {},
     "output_type": "display_data"
    }
   ],
   "source": [
    "trans <- rbindlist(list(to_app, fraud))\n",
    "trans$fraud_status <- ifelse(is.na(trans$Internal.RC) == TRUE, 0, 1)\n",
    "head(trans)"
   ]
  },
  {
   "cell_type": "markdown",
   "metadata": {},
   "source": [
    "#### 11. Extract the informaion we want, exculding order number, realeased_by, internal.RC, defence.statues, GBP.Amount, accout_key, empty1 and empty2 columns"
   ]
  },
  {
   "cell_type": "code",
   "execution_count": 51,
   "metadata": {
    "collapsed": true
   },
   "outputs": [],
   "source": [
    "trans <- select(trans,-c(Order_Number, Released_by, Internal.RC, Defence.Status, GBP.Amount, Account_Key, Empty1, Empty2))\n",
    "write.csv(trans, \"notFinished_transactions_updated.csv\")"
   ]
  }
 ],
 "metadata": {
  "kernelspec": {
   "display_name": "R",
   "language": "R",
   "name": "ir"
  },
  "language_info": {
   "codemirror_mode": "r",
   "file_extension": ".r",
   "mimetype": "text/x-r-source",
   "name": "R",
   "pygments_lexer": "r",
   "version": "3.4.2"
  }
 },
 "nbformat": 4,
 "nbformat_minor": 2
}
