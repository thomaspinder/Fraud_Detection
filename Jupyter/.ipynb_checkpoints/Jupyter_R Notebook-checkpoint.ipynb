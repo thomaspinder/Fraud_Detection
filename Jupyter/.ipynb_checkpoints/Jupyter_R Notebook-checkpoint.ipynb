{
 "cells": [
  {
   "cell_type": "markdown",
   "metadata": {},
   "source": [
    "### Loading library packages"
   ]
  },
  {
   "cell_type": "code",
   "execution_count": 238,
   "metadata": {},
   "outputs": [],
   "source": [
    "options(warn = -1)\n",
    "library(caret)\n",
    "library(data.table)\n",
    "library(dplyr)\n",
    "library(ggplot2)\n",
    "library(lubridate)\n",
    "library(ROSE)\n",
    "library(DMwR)\n",
    "library(unbalanced)\n",
    "library(ROCR)"
   ]
  },
  {
   "cell_type": "markdown",
   "metadata": {},
   "source": [
    "### Set working directory and load data"
   ]
  },
  {
   "cell_type": "code",
   "execution_count": 239,
   "metadata": {
    "collapsed": true
   },
   "outputs": [],
   "source": [
    "working_directory <- \"/Users/omark/Desktop/Jupyter\"\n",
    "setwd(working_directory)\n",
    "trans <- fread(\"MAIN_transaction_data.csv\")\n",
    "fraud_trans <- fread(\"MAIN_chargeback_data.csv\")\n",
    "customers <- read.csv(\"MAIN_customer_data.csv\")\n",
    "del_key <- fread(\"delivery_option_lookup.csv\")"
   ]
  },
  {
   "cell_type": "markdown",
   "metadata": {},
   "source": [
    "### Set the column names of del_key\n"
   ]
  },
  {
   "cell_type": "code",
   "execution_count": 240,
   "metadata": {},
   "outputs": [],
   "source": [
    "colnames(del_key) <- c(\"Delivery_Option_Type_Key\", \"Name\")"
   ]
  },
  {
   "cell_type": "markdown",
   "metadata": {},
   "source": [
    "### Create a new data frame to count times of different delivery type then join to main transaction data\n"
   ]
  },
  {
   "cell_type": "code",
   "execution_count": 241,
   "metadata": {},
   "outputs": [
    {
     "name": "stderr",
     "output_type": "stream",
     "text": [
      "Joining, by = \"Delivery_Option_Type_Key\"\n",
      "Joining, by = \"Delivery_Option_Type_Key\"\n"
     ]
    }
   ],
   "source": [
    "trans_del <- trans %>% \n",
    "  left_join(del_key) %>% \n",
    "  group_by(Name) %>% \n",
    "  summarise(n = n()) \n",
    "\n",
    "trans <- trans %>% \n",
    "  left_join(del_key)"
   ]
  },
  {
   "cell_type": "markdown",
   "metadata": {},
   "source": [
    "### Create new data frame on delivery features then join to transaction data"
   ]
  },
  {
   "cell_type": "code",
   "execution_count": 242,
   "metadata": {
    "collapsed": true
   },
   "outputs": [],
   "source": [
    "del_features <- data.frame(Name = as.character(unique(trans$Name)), \n",
    "                           destination = c(rep(\"int\", 3), rep(\"dom\", 6)),\n",
    "                           priority = c(\"priority\", rep(\"slow\", 2), rep(\"priority\", 2), rep(\"slow\", 4)),\n",
    "                           occupation = c(rep(\"unknown\", 5), \"working\", \"unknown\", \"working\", \"unknown\"))\n",
    "\n",
    "trans <- trans %>% \n",
    "  left_join(del_features, by = \"Name\") "
   ]
  },
  {
   "cell_type": "markdown",
   "metadata": {},
   "source": [
    "### Create site key variable"
   ]
  },
  {
   "cell_type": "code",
   "execution_count": 243,
   "metadata": {},
   "outputs": [],
   "source": [
    "trans_del <- trans %>% \n",
    "  group_by(Name) %>% \n",
    "  summarise(n = n())\n",
    "\n",
    "trans <- trans %>% \n",
    "  left_join(customers[c(\"Account_Key\", \"Site_Key\")], by = \"Account_Key\")\n",
    "trans$Site_Key <-as.character(trans$Site_Key)\n",
    "trans$Site_Key_len <- nchar(trans$Site_Key)"
   ]
  },
  {
   "cell_type": "markdown",
   "metadata": {},
   "source": [
    "### Filter incorrect site keys"
   ]
  },
  {
   "cell_type": "code",
   "execution_count": 244,
   "metadata": {
    "collapsed": true
   },
   "outputs": [],
   "source": [
    "trans <- trans %>% \n",
    "  filter(Site_Key_len <5) %>% \n",
    "  mutate(Site_Key = as.factor(Site_Key)) %>%\n",
    "  select(-Site_Key_len)"
   ]
  },
  {
   "cell_type": "markdown",
   "metadata": {},
   "source": [
    "### Create customer status variable"
   ]
  },
  {
   "cell_type": "code",
   "execution_count": 245,
   "metadata": {
    "collapsed": true
   },
   "outputs": [],
   "source": [
    "customers <- trans %>% \n",
    "  group_by(Account_Key) %>% \n",
    "  mutate(count = n()) %>% \n",
    "  group_by(count) %>% \n",
    "  summarise(n = n()) \n",
    "\n",
    "customers <- trans %>% \n",
    "  group_by(Account_Key) %>% \n",
    "  mutate(count = n()) %>% \n",
    "  group_by(count) %>% \n",
    "  summarise(n = n()) \n",
    "\n",
    "customers$prop <- customers$n/dim(trans)[1]  \n",
    "customers$cumulate <- cumsum(customers$prop)\n",
    "\n",
    "payment_hists <- trans %>% \n",
    "  group_by(Account_Key) %>% \n",
    "  mutate(pay_key_num = as.numeric(Order_Payment_Status_Key),\n",
    "         num_valid = length(which(pay_key_num == 0)),\n",
    "         count = n(),\n",
    "         prop = num_valid/count,\n",
    "         customer_status = ifelse(prop <= 0.25 & count > 2, \"questionable\",\n",
    "                         ifelse(prop <= 0.25 & count <= 2, \"insufficient\",\n",
    "                                ifelse(prop > 0.25 & prop < 0.75, \"adequate\", \"fine\"))))\n",
    "\n",
    "cancelled_items <- payment_hists %>% \n",
    "  group_by(Category_Level_3, Category_Level_2) %>% \n",
    "  mutate(canc_prop = ifelse(Cancelled_Qty == 0, 0, Cancelled_Qty/Ordered_Qty))\n",
    "\n",
    "\n",
    "bill_ship_match <- cancelled_items %>% \n",
    "  mutate(ship_status = ifelse(Postcode_Billing_Address != Postcode_Shipping_Address, \"mismatch\", \"fine\"))\n",
    "\n",
    "trans <- bill_ship_match"
   ]
  },
  {
   "cell_type": "markdown",
   "metadata": {},
   "source": [
    "### Combine the to_app and frand dataframe together, create a new data column named fraud status to show whether it is a fraud transaction"
   ]
  },
  {
   "cell_type": "code",
   "execution_count": 246,
   "metadata": {
    "collapsed": true
   },
   "outputs": [],
   "source": [
    "trans$Order_Date_Key <- ymd(trans$Order_Date_Key)\n",
    "fraud_accounts <- customers\n",
    "colnames(fraud_trans)[1] <- \"Order_Number\"\n",
    "\n",
    "fraud <- fraud_trans %>% \n",
    "  inner_join(trans, by = \"Order_Number\")\n",
    "\n",
    "to_app <- fraud_trans %>% \n",
    "  right_join(trans, by = \"Order_Number\") %>% \n",
    "  filter(is.na(Internal.RC) == TRUE)\n",
    "\n",
    "trans <- rbindlist(list(to_app, fraud))\n",
    "trans$fraud_status <- ifelse(is.na(trans$Internal.RC) == TRUE, 0, 1)\n"
   ]
  },
  {
   "cell_type": "markdown",
   "metadata": {},
   "source": [
    "### Delete necessary variables"
   ]
  },
  {
   "cell_type": "code",
   "execution_count": 247,
   "metadata": {
    "collapsed": true
   },
   "outputs": [],
   "source": [
    "trans <- select(trans,-c(Order_Number, Released_by, Internal.RC, Defence.Status, GBP.Amount, Account_Key, Empty1, Empty2))\n",
    "\n",
    "trans_noNa <- trans %>% \n",
    "  select(-Date.Logged)"
   ]
  },
  {
   "cell_type": "markdown",
   "metadata": {},
   "source": [
    "### Count the amount of missing values in the trancation noNa table"
   ]
  },
  {
   "cell_type": "code",
   "execution_count": 248,
   "metadata": {
    "collapsed": true
   },
   "outputs": [],
   "source": [
    "na.count <- which(sapply(trans_noNa, function(y) sum(length(which(is.na(y)))))>0)"
   ]
  },
  {
   "cell_type": "markdown",
   "metadata": {},
   "source": [
    "### Check if N/A values are fraudulent"
   ]
  },
  {
   "cell_type": "code",
   "execution_count": 249,
   "metadata": {},
   "outputs": [
    {
     "data": {
      "text/html": [
       "0"
      ],
      "text/latex": [
       "0"
      ],
      "text/markdown": [
       "0"
      ],
      "text/plain": [
       "[1] 0"
      ]
     },
     "metadata": {},
     "output_type": "display_data"
    }
   ],
   "source": [
    "na.count <- which(sapply(trans_noNa[trans_noNa$fraud_status==1], function(y) sum(length(which(is.na(y)))))>0)\n",
    "sum(is.na(trans_noNa[trans_noNa$fraud_status==1]))"
   ]
  },
  {
   "cell_type": "markdown",
   "metadata": {},
   "source": [
    "### Remove NAs as they're non-fraudulent"
   ]
  },
  {
   "cell_type": "code",
   "execution_count": 250,
   "metadata": {},
   "outputs": [
    {
     "data": {
      "text/html": [
       "<ol class=list-inline>\n",
       "\t<li>'Delivery_Option_Type_Key'</li>\n",
       "\t<li>'Order_Date_Key'</li>\n",
       "\t<li>'Payment_Method_Key'</li>\n",
       "\t<li>'Locale_Key'</li>\n",
       "\t<li>'Order_Sequence_No'</li>\n",
       "\t<li>'Medium_Key'</li>\n",
       "\t<li>'Campaign_Key'</li>\n",
       "\t<li>'Order_Payment_Status_Key'</li>\n",
       "\t<li>'Payment_Provider_Key'</li>\n",
       "\t<li>'Ordered_Product_Key'</li>\n",
       "\t<li>'Category_Level_2'</li>\n",
       "\t<li>'Category_Level_3'</li>\n",
       "\t<li>'Product_Charge_Price'</li>\n",
       "\t<li>'Ordered_Qty'</li>\n",
       "\t<li>'Cancelled_Qty'</li>\n",
       "\t<li>'Cancelled_Date_Key'</li>\n",
       "\t<li>'customer_ip_address'</li>\n",
       "\t<li>'Postcode_Shipping_Address'</li>\n",
       "\t<li>'Country_Code_Shipping_Address'</li>\n",
       "\t<li>'Postcode_Billing_Address'</li>\n",
       "\t<li>'Country_Code_Billing_Address'</li>\n",
       "\t<li>'Name'</li>\n",
       "\t<li>'destination'</li>\n",
       "\t<li>'priority'</li>\n",
       "\t<li>'occupation'</li>\n",
       "\t<li>'Site_Key'</li>\n",
       "\t<li>'pay_key_num'</li>\n",
       "\t<li>'num_valid'</li>\n",
       "\t<li>'count'</li>\n",
       "\t<li>'prop'</li>\n",
       "\t<li>'customer_status'</li>\n",
       "\t<li>'canc_prop'</li>\n",
       "\t<li>'ship_status'</li>\n",
       "\t<li>'fraud_status'</li>\n",
       "</ol>\n"
      ],
      "text/latex": [
       "\\begin{enumerate*}\n",
       "\\item 'Delivery\\_Option\\_Type\\_Key'\n",
       "\\item 'Order\\_Date\\_Key'\n",
       "\\item 'Payment\\_Method\\_Key'\n",
       "\\item 'Locale\\_Key'\n",
       "\\item 'Order\\_Sequence\\_No'\n",
       "\\item 'Medium\\_Key'\n",
       "\\item 'Campaign\\_Key'\n",
       "\\item 'Order\\_Payment\\_Status\\_Key'\n",
       "\\item 'Payment\\_Provider\\_Key'\n",
       "\\item 'Ordered\\_Product\\_Key'\n",
       "\\item 'Category\\_Level\\_2'\n",
       "\\item 'Category\\_Level\\_3'\n",
       "\\item 'Product\\_Charge\\_Price'\n",
       "\\item 'Ordered\\_Qty'\n",
       "\\item 'Cancelled\\_Qty'\n",
       "\\item 'Cancelled\\_Date\\_Key'\n",
       "\\item 'customer\\_ip\\_address'\n",
       "\\item 'Postcode\\_Shipping\\_Address'\n",
       "\\item 'Country\\_Code\\_Shipping\\_Address'\n",
       "\\item 'Postcode\\_Billing\\_Address'\n",
       "\\item 'Country\\_Code\\_Billing\\_Address'\n",
       "\\item 'Name'\n",
       "\\item 'destination'\n",
       "\\item 'priority'\n",
       "\\item 'occupation'\n",
       "\\item 'Site\\_Key'\n",
       "\\item 'pay\\_key\\_num'\n",
       "\\item 'num\\_valid'\n",
       "\\item 'count'\n",
       "\\item 'prop'\n",
       "\\item 'customer\\_status'\n",
       "\\item 'canc\\_prop'\n",
       "\\item 'ship\\_status'\n",
       "\\item 'fraud\\_status'\n",
       "\\end{enumerate*}\n"
      ],
      "text/markdown": [
       "1. 'Delivery_Option_Type_Key'\n",
       "2. 'Order_Date_Key'\n",
       "3. 'Payment_Method_Key'\n",
       "4. 'Locale_Key'\n",
       "5. 'Order_Sequence_No'\n",
       "6. 'Medium_Key'\n",
       "7. 'Campaign_Key'\n",
       "8. 'Order_Payment_Status_Key'\n",
       "9. 'Payment_Provider_Key'\n",
       "10. 'Ordered_Product_Key'\n",
       "11. 'Category_Level_2'\n",
       "12. 'Category_Level_3'\n",
       "13. 'Product_Charge_Price'\n",
       "14. 'Ordered_Qty'\n",
       "15. 'Cancelled_Qty'\n",
       "16. 'Cancelled_Date_Key'\n",
       "17. 'customer_ip_address'\n",
       "18. 'Postcode_Shipping_Address'\n",
       "19. 'Country_Code_Shipping_Address'\n",
       "20. 'Postcode_Billing_Address'\n",
       "21. 'Country_Code_Billing_Address'\n",
       "22. 'Name'\n",
       "23. 'destination'\n",
       "24. 'priority'\n",
       "25. 'occupation'\n",
       "26. 'Site_Key'\n",
       "27. 'pay_key_num'\n",
       "28. 'num_valid'\n",
       "29. 'count'\n",
       "30. 'prop'\n",
       "31. 'customer_status'\n",
       "32. 'canc_prop'\n",
       "33. 'ship_status'\n",
       "34. 'fraud_status'\n",
       "\n",
       "\n"
      ],
      "text/plain": [
       " [1] \"Delivery_Option_Type_Key\"      \"Order_Date_Key\"               \n",
       " [3] \"Payment_Method_Key\"            \"Locale_Key\"                   \n",
       " [5] \"Order_Sequence_No\"             \"Medium_Key\"                   \n",
       " [7] \"Campaign_Key\"                  \"Order_Payment_Status_Key\"     \n",
       " [9] \"Payment_Provider_Key\"          \"Ordered_Product_Key\"          \n",
       "[11] \"Category_Level_2\"              \"Category_Level_3\"             \n",
       "[13] \"Product_Charge_Price\"          \"Ordered_Qty\"                  \n",
       "[15] \"Cancelled_Qty\"                 \"Cancelled_Date_Key\"           \n",
       "[17] \"customer_ip_address\"           \"Postcode_Shipping_Address\"    \n",
       "[19] \"Country_Code_Shipping_Address\" \"Postcode_Billing_Address\"     \n",
       "[21] \"Country_Code_Billing_Address\"  \"Name\"                         \n",
       "[23] \"destination\"                   \"priority\"                     \n",
       "[25] \"occupation\"                    \"Site_Key\"                     \n",
       "[27] \"pay_key_num\"                   \"num_valid\"                    \n",
       "[29] \"count\"                         \"prop\"                         \n",
       "[31] \"customer_status\"               \"canc_prop\"                    \n",
       "[33] \"ship_status\"                   \"fraud_status\"                 "
      ]
     },
     "metadata": {},
     "output_type": "display_data"
    }
   ],
   "source": [
    "to_model <- trans_noNa %>% \n",
    "  na.omit()\n",
    "names(trans_noNa)"
   ]
  },
  {
   "cell_type": "markdown",
   "metadata": {},
   "source": [
    "### One-Hot Encode Variables"
   ]
  },
  {
   "cell_type": "code",
   "execution_count": 251,
   "metadata": {},
   "outputs": [],
   "source": [
    "# Returns 208 Features\n",
    "to_model <- with(to_model, data.frame(model.matrix(~Category_Level_2 -1), to_model))"
   ]
  },
  {
   "cell_type": "markdown",
   "metadata": {},
   "source": [
    "### Turn the new model data into integer and factor type"
   ]
  },
  {
   "cell_type": "code",
   "execution_count": 252,
   "metadata": {},
   "outputs": [],
   "source": [
    "#1=domestic, 2=international\n",
    "to_model$destination_int <- as.integer(to_model$destination)\n",
    "# 1=priority, 2=slow\n",
    "to_model$priority_int <- as.integer(to_model$priority)\n",
    "# 1=unknown, 2=working\n",
    "to_model$occupation_int <- as.integer(to_model$occupation)\n",
    "#1=fine, 2=questionable 3 =insufficient 4=adequate\n",
    "to_model$customer_status<- as.integer(as.factor(to_model$customer_status))\n",
    "#1=fine, 2=mismatch\n",
    "to_model$ship_status <- as.integer(as.factor(to_model$ship_status))\n",
    "to_model$Site_Key <- as.factor(to_model$Site_Key)"
   ]
  },
  {
   "cell_type": "markdown",
   "metadata": {},
   "source": [
    "### Filter data which are not character and factor type\n"
   ]
  },
  {
   "cell_type": "code",
   "execution_count": 253,
   "metadata": {},
   "outputs": [
    {
     "data": {
      "text/html": [
       "<ol class=list-inline>\n",
       "\t<li>'Category_Level_2Accessories'</li>\n",
       "\t<li>'Category_Level_2Bags'</li>\n",
       "\t<li>'Category_Level_2Beauty.Boxes'</li>\n",
       "\t<li>'Category_Level_2Body.Care'</li>\n",
       "\t<li>'Category_Level_2Books'</li>\n",
       "\t<li>'Category_Level_2Clothing'</li>\n",
       "\t<li>'Category_Level_2DVD.and.Blu.Ray'</li>\n",
       "\t<li>'Category_Level_2Footwear'</li>\n",
       "\t<li>'Category_Level_2Fragrance'</li>\n",
       "\t<li>'Category_Level_2Games'</li>\n",
       "\t<li>'Category_Level_2Garden'</li>\n",
       "\t<li>'Category_Level_2Gifting'</li>\n",
       "\t<li>'Category_Level_2Gifts'</li>\n",
       "\t<li>'Category_Level_2Hair.Care'</li>\n",
       "\t<li>'Category_Level_2Health.and.Beauty.Electricals'</li>\n",
       "\t<li>'Category_Level_2Health.and.Beauty.Gift.Sets'</li>\n",
       "\t<li>'Category_Level_2Homeware'</li>\n",
       "\t<li>'Category_Level_2Make.Up'</li>\n",
       "\t<li>'Category_Level_2Merchandise'</li>\n",
       "\t<li>'Category_Level_2Music'</li>\n",
       "\t<li>'Category_Level_2Nail.Care'</li>\n",
       "\t<li>'Category_Level_2NULL'</li>\n",
       "\t<li>'Category_Level_2Shaving'</li>\n",
       "\t<li>'Category_Level_2Skin.Care'</li>\n",
       "\t<li>'Category_Level_2Sports'</li>\n",
       "\t<li>'Category_Level_2Sports.Nutrition'</li>\n",
       "\t<li>'Category_Level_2Tech'</li>\n",
       "\t<li>'Category_Level_2Toys'</li>\n",
       "\t<li>'Delivery_Option_Type_Key'</li>\n",
       "\t<li>'Order_Date_Key'</li>\n",
       "\t<li>'Payment_Method_Key'</li>\n",
       "\t<li>'Locale_Key'</li>\n",
       "\t<li>'Order_Sequence_No'</li>\n",
       "\t<li>'Medium_Key'</li>\n",
       "\t<li>'Campaign_Key'</li>\n",
       "\t<li>'Order_Payment_Status_Key'</li>\n",
       "\t<li>'Payment_Provider_Key'</li>\n",
       "\t<li>'Ordered_Product_Key'</li>\n",
       "\t<li>'Product_Charge_Price'</li>\n",
       "\t<li>'Ordered_Qty'</li>\n",
       "\t<li>'Cancelled_Qty'</li>\n",
       "\t<li>'Cancelled_Date_Key'</li>\n",
       "\t<li>'destination'</li>\n",
       "\t<li>'priority'</li>\n",
       "\t<li>'occupation'</li>\n",
       "\t<li>'Site_Key'</li>\n",
       "\t<li>'pay_key_num'</li>\n",
       "\t<li>'num_valid'</li>\n",
       "\t<li>'count'</li>\n",
       "\t<li>'prop'</li>\n",
       "\t<li>'customer_status'</li>\n",
       "\t<li>'canc_prop'</li>\n",
       "\t<li>'ship_status'</li>\n",
       "\t<li>'fraud_status'</li>\n",
       "\t<li>'destination_int'</li>\n",
       "\t<li>'priority_int'</li>\n",
       "\t<li>'occupation_int'</li>\n",
       "</ol>\n"
      ],
      "text/latex": [
       "\\begin{enumerate*}\n",
       "\\item 'Category\\_Level\\_2Accessories'\n",
       "\\item 'Category\\_Level\\_2Bags'\n",
       "\\item 'Category\\_Level\\_2Beauty.Boxes'\n",
       "\\item 'Category\\_Level\\_2Body.Care'\n",
       "\\item 'Category\\_Level\\_2Books'\n",
       "\\item 'Category\\_Level\\_2Clothing'\n",
       "\\item 'Category\\_Level\\_2DVD.and.Blu.Ray'\n",
       "\\item 'Category\\_Level\\_2Footwear'\n",
       "\\item 'Category\\_Level\\_2Fragrance'\n",
       "\\item 'Category\\_Level\\_2Games'\n",
       "\\item 'Category\\_Level\\_2Garden'\n",
       "\\item 'Category\\_Level\\_2Gifting'\n",
       "\\item 'Category\\_Level\\_2Gifts'\n",
       "\\item 'Category\\_Level\\_2Hair.Care'\n",
       "\\item 'Category\\_Level\\_2Health.and.Beauty.Electricals'\n",
       "\\item 'Category\\_Level\\_2Health.and.Beauty.Gift.Sets'\n",
       "\\item 'Category\\_Level\\_2Homeware'\n",
       "\\item 'Category\\_Level\\_2Make.Up'\n",
       "\\item 'Category\\_Level\\_2Merchandise'\n",
       "\\item 'Category\\_Level\\_2Music'\n",
       "\\item 'Category\\_Level\\_2Nail.Care'\n",
       "\\item 'Category\\_Level\\_2NULL'\n",
       "\\item 'Category\\_Level\\_2Shaving'\n",
       "\\item 'Category\\_Level\\_2Skin.Care'\n",
       "\\item 'Category\\_Level\\_2Sports'\n",
       "\\item 'Category\\_Level\\_2Sports.Nutrition'\n",
       "\\item 'Category\\_Level\\_2Tech'\n",
       "\\item 'Category\\_Level\\_2Toys'\n",
       "\\item 'Delivery\\_Option\\_Type\\_Key'\n",
       "\\item 'Order\\_Date\\_Key'\n",
       "\\item 'Payment\\_Method\\_Key'\n",
       "\\item 'Locale\\_Key'\n",
       "\\item 'Order\\_Sequence\\_No'\n",
       "\\item 'Medium\\_Key'\n",
       "\\item 'Campaign\\_Key'\n",
       "\\item 'Order\\_Payment\\_Status\\_Key'\n",
       "\\item 'Payment\\_Provider\\_Key'\n",
       "\\item 'Ordered\\_Product\\_Key'\n",
       "\\item 'Product\\_Charge\\_Price'\n",
       "\\item 'Ordered\\_Qty'\n",
       "\\item 'Cancelled\\_Qty'\n",
       "\\item 'Cancelled\\_Date\\_Key'\n",
       "\\item 'destination'\n",
       "\\item 'priority'\n",
       "\\item 'occupation'\n",
       "\\item 'Site\\_Key'\n",
       "\\item 'pay\\_key\\_num'\n",
       "\\item 'num\\_valid'\n",
       "\\item 'count'\n",
       "\\item 'prop'\n",
       "\\item 'customer\\_status'\n",
       "\\item 'canc\\_prop'\n",
       "\\item 'ship\\_status'\n",
       "\\item 'fraud\\_status'\n",
       "\\item 'destination\\_int'\n",
       "\\item 'priority\\_int'\n",
       "\\item 'occupation\\_int'\n",
       "\\end{enumerate*}\n"
      ],
      "text/markdown": [
       "1. 'Category_Level_2Accessories'\n",
       "2. 'Category_Level_2Bags'\n",
       "3. 'Category_Level_2Beauty.Boxes'\n",
       "4. 'Category_Level_2Body.Care'\n",
       "5. 'Category_Level_2Books'\n",
       "6. 'Category_Level_2Clothing'\n",
       "7. 'Category_Level_2DVD.and.Blu.Ray'\n",
       "8. 'Category_Level_2Footwear'\n",
       "9. 'Category_Level_2Fragrance'\n",
       "10. 'Category_Level_2Games'\n",
       "11. 'Category_Level_2Garden'\n",
       "12. 'Category_Level_2Gifting'\n",
       "13. 'Category_Level_2Gifts'\n",
       "14. 'Category_Level_2Hair.Care'\n",
       "15. 'Category_Level_2Health.and.Beauty.Electricals'\n",
       "16. 'Category_Level_2Health.and.Beauty.Gift.Sets'\n",
       "17. 'Category_Level_2Homeware'\n",
       "18. 'Category_Level_2Make.Up'\n",
       "19. 'Category_Level_2Merchandise'\n",
       "20. 'Category_Level_2Music'\n",
       "21. 'Category_Level_2Nail.Care'\n",
       "22. 'Category_Level_2NULL'\n",
       "23. 'Category_Level_2Shaving'\n",
       "24. 'Category_Level_2Skin.Care'\n",
       "25. 'Category_Level_2Sports'\n",
       "26. 'Category_Level_2Sports.Nutrition'\n",
       "27. 'Category_Level_2Tech'\n",
       "28. 'Category_Level_2Toys'\n",
       "29. 'Delivery_Option_Type_Key'\n",
       "30. 'Order_Date_Key'\n",
       "31. 'Payment_Method_Key'\n",
       "32. 'Locale_Key'\n",
       "33. 'Order_Sequence_No'\n",
       "34. 'Medium_Key'\n",
       "35. 'Campaign_Key'\n",
       "36. 'Order_Payment_Status_Key'\n",
       "37. 'Payment_Provider_Key'\n",
       "38. 'Ordered_Product_Key'\n",
       "39. 'Product_Charge_Price'\n",
       "40. 'Ordered_Qty'\n",
       "41. 'Cancelled_Qty'\n",
       "42. 'Cancelled_Date_Key'\n",
       "43. 'destination'\n",
       "44. 'priority'\n",
       "45. 'occupation'\n",
       "46. 'Site_Key'\n",
       "47. 'pay_key_num'\n",
       "48. 'num_valid'\n",
       "49. 'count'\n",
       "50. 'prop'\n",
       "51. 'customer_status'\n",
       "52. 'canc_prop'\n",
       "53. 'ship_status'\n",
       "54. 'fraud_status'\n",
       "55. 'destination_int'\n",
       "56. 'priority_int'\n",
       "57. 'occupation_int'\n",
       "\n",
       "\n"
      ],
      "text/plain": [
       " [1] \"Category_Level_2Accessories\"                  \n",
       " [2] \"Category_Level_2Bags\"                         \n",
       " [3] \"Category_Level_2Beauty.Boxes\"                 \n",
       " [4] \"Category_Level_2Body.Care\"                    \n",
       " [5] \"Category_Level_2Books\"                        \n",
       " [6] \"Category_Level_2Clothing\"                     \n",
       " [7] \"Category_Level_2DVD.and.Blu.Ray\"              \n",
       " [8] \"Category_Level_2Footwear\"                     \n",
       " [9] \"Category_Level_2Fragrance\"                    \n",
       "[10] \"Category_Level_2Games\"                        \n",
       "[11] \"Category_Level_2Garden\"                       \n",
       "[12] \"Category_Level_2Gifting\"                      \n",
       "[13] \"Category_Level_2Gifts\"                        \n",
       "[14] \"Category_Level_2Hair.Care\"                    \n",
       "[15] \"Category_Level_2Health.and.Beauty.Electricals\"\n",
       "[16] \"Category_Level_2Health.and.Beauty.Gift.Sets\"  \n",
       "[17] \"Category_Level_2Homeware\"                     \n",
       "[18] \"Category_Level_2Make.Up\"                      \n",
       "[19] \"Category_Level_2Merchandise\"                  \n",
       "[20] \"Category_Level_2Music\"                        \n",
       "[21] \"Category_Level_2Nail.Care\"                    \n",
       "[22] \"Category_Level_2NULL\"                         \n",
       "[23] \"Category_Level_2Shaving\"                      \n",
       "[24] \"Category_Level_2Skin.Care\"                    \n",
       "[25] \"Category_Level_2Sports\"                       \n",
       "[26] \"Category_Level_2Sports.Nutrition\"             \n",
       "[27] \"Category_Level_2Tech\"                         \n",
       "[28] \"Category_Level_2Toys\"                         \n",
       "[29] \"Delivery_Option_Type_Key\"                     \n",
       "[30] \"Order_Date_Key\"                               \n",
       "[31] \"Payment_Method_Key\"                           \n",
       "[32] \"Locale_Key\"                                   \n",
       "[33] \"Order_Sequence_No\"                            \n",
       "[34] \"Medium_Key\"                                   \n",
       "[35] \"Campaign_Key\"                                 \n",
       "[36] \"Order_Payment_Status_Key\"                     \n",
       "[37] \"Payment_Provider_Key\"                         \n",
       "[38] \"Ordered_Product_Key\"                          \n",
       "[39] \"Product_Charge_Price\"                         \n",
       "[40] \"Ordered_Qty\"                                  \n",
       "[41] \"Cancelled_Qty\"                                \n",
       "[42] \"Cancelled_Date_Key\"                           \n",
       "[43] \"destination\"                                  \n",
       "[44] \"priority\"                                     \n",
       "[45] \"occupation\"                                   \n",
       "[46] \"Site_Key\"                                     \n",
       "[47] \"pay_key_num\"                                  \n",
       "[48] \"num_valid\"                                    \n",
       "[49] \"count\"                                        \n",
       "[50] \"prop\"                                         \n",
       "[51] \"customer_status\"                              \n",
       "[52] \"canc_prop\"                                    \n",
       "[53] \"ship_status\"                                  \n",
       "[54] \"fraud_status\"                                 \n",
       "[55] \"destination_int\"                              \n",
       "[56] \"priority_int\"                                 \n",
       "[57] \"occupation_int\"                               "
      ]
     },
     "metadata": {},
     "output_type": "display_data"
    }
   ],
   "source": [
    "x <- to_model[, sapply(to_model, class) != \"character\"]\n",
    "y <- to_model[, sapply(to_model, class) != \"factor\"]\n",
    "names(x)"
   ]
  },
  {
   "cell_type": "markdown",
   "metadata": {},
   "source": [
    "### Filter out unecessary columns, such as order day key, cancelled date key"
   ]
  },
  {
   "cell_type": "code",
   "execution_count": 254,
   "metadata": {
    "collapsed": true
   },
   "outputs": [],
   "source": [
    "to_model2 <- to_model %>% \n",
    "  select_(.dots = names(x))\n",
    "\n",
    "to_model3 <- to_model2 %>% \n",
    "  select_(.dots = union(intersect(names(to_model2), names(y)), names(trans_noNa)[26]))\n",
    "\n",
    "to_model3 <- to_model3 %>% \n",
    "  select(-c(Order_Date_Key, Cancelled_Date_Key))"
   ]
  },
  {
   "cell_type": "markdown",
   "metadata": {},
   "source": [
    "### Output the new data set for each site key, extracted from the model data that we built,  then output the fraud transaction data into local file"
   ]
  },
  {
   "cell_type": "code",
   "execution_count": 255,
   "metadata": {},
   "outputs": [
    {
     "name": "stdout",
     "output_type": "stream",
     "text": [
      "[1] \"153\"\n",
      "[1] \"121\"\n",
      "[1] \"11\"\n",
      "[1] \"15\"\n",
      "[1] \"120\"\n",
      "[1] \"119\"\n"
     ]
    }
   ],
   "source": [
    "dir.create(\"stratified\")\n",
    "stratified_directory <- paste(working_directory,\"/stratified/\", sep = \"\")\n",
    "setwd(stratified_directory)\n",
    "site_ks <- unique(to_model3$Site_Key)\n",
    "\n",
    "for (i in 1:length(site_ks)){\n",
    "  print(as.character(site_ks[i]))\n",
    "  data <- to_model3 %>% \n",
    "    filter(Site_Key == site_ks[i])\n",
    "  write.csv(data, row.names = F , file = paste0(\"dataset_\", as.character(site_ks[i]), \".csv\"))\n",
    "}\n",
    "\n",
    "fraud_data <- to_model3 %>% \n",
    "  filter(fraud_status == 1)\n",
    "\n",
    "\n",
    "\n",
    "write.csv(fraud_data, row.names = F,\n",
    "          file = paste(stratified_directory, \"/fraud_data.csv\", sep = \"\"))"
   ]
  },
  {
   "cell_type": "markdown",
   "metadata": {},
   "source": [
    "### Create dataset with all the site keys"
   ]
  },
  {
   "cell_type": "code",
   "execution_count": 256,
   "metadata": {
    "collapsed": true
   },
   "outputs": [],
   "source": [
    "setwd(stratified_directory)\n",
    "\n",
    "data11 <- read.csv(\"dataset_11.csv\")\n",
    "data15 <- read.csv(\"dataset_15.csv\")\n",
    "data119 <- read.csv(\"dataset_119.csv\")\n",
    "data120 <- read.csv(\"dataset_120.csv\")\n",
    "data121 <- read.csv(\"dataset_121.csv\")\n",
    "data153 <- read.csv(\"dataset_153.csv\")\n",
    "\n",
    "all_data <- rbind(data11, data15, data119, data120, data121, data153)\n",
    "write.csv(all_data, row.names = F, \"ALL_data.csv\")"
   ]
  },
  {
   "cell_type": "markdown",
   "metadata": {},
   "source": [
    "# GLM models\n",
    "### We build a GLM for site 11 using resampling techniques."
   ]
  },
  {
   "cell_type": "markdown",
   "metadata": {},
   "source": [
    "### We turn the fraud status variable into a factor and remove the column corresponding to site key as it is no longer needed in addition to the product key."
   ]
  },
  {
   "cell_type": "code",
   "execution_count": 257,
   "metadata": {
    "collapsed": true
   },
   "outputs": [],
   "source": [
    "rm(list = ls())\n",
    "glm_data <- read.csv(\"dataset_11.csv\")\n",
    "glm_data$fraud_status <- as.factor((glm_data$fraud_status))\n",
    "glm_data <- select(glm_data, -Site_Key, -Ordered_Product_Key)"
   ]
  },
  {
   "cell_type": "markdown",
   "metadata": {},
   "source": [
    "### Firstly, in the data cleaning process, use the Tomek link to find the nearest point between fraud and non-fraud instance, which should be considered as noise and removed"
   ]
  },
  {
   "cell_type": "code",
   "execution_count": 258,
   "metadata": {},
   "outputs": [
    {
     "name": "stdout",
     "output_type": "stream",
     "text": [
      "Instances removed 72 : 0.84 % of 0 class ; 0.82 % of training ; Time needed 0.03 \n"
     ]
    }
   ],
   "source": [
    "Tomek <- ubTomek(select(glm_data, -fraud_status), glm_data$fraud_status, verbose = TRUE)\n",
    "glm_data <- cbind(Tomek$X, Tomek$Y)\n",
    "glm_data <- rename(glm_data, fraud_status = \"Tomek$Y\")"
   ]
  },
  {
   "cell_type": "markdown",
   "metadata": {},
   "source": [
    "### Select the data that we want to turn into factor type, turn all the variable type into factor, keep the factor which has more than two factor levels, then combine them together again"
   ]
  },
  {
   "cell_type": "code",
   "execution_count": 259,
   "metadata": {
    "collapsed": true
   },
   "outputs": [],
   "source": [
    "temp <- select(glm_data, -prop, -canc_prop, -Product_Charge_Price, -num_valid, \n",
    "               -count, -Order_Sequence_No, -Ordered_Qty, -Cancelled_Qty)\n",
    "temp[,(1:ncol(temp))] <- lapply(temp[,(1:ncol(temp))],as.factor)\n",
    "temp <- temp[, sapply(temp, nlevels) > 1]\n",
    "nums <- select(glm_data, prop, canc_prop, Product_Charge_Price, num_valid, \n",
    "               count, Order_Sequence_No, Ordered_Qty, Cancelled_Qty)\n",
    "glm_data <- cbind(temp, nums)"
   ]
  },
  {
   "cell_type": "markdown",
   "metadata": {},
   "source": [
    "### Omit some conlumns which we do not need"
   ]
  },
  {
   "cell_type": "code",
   "execution_count": 260,
   "metadata": {
    "collapsed": true
   },
   "outputs": [],
   "source": [
    "glm_data <- select(glm_data, -Campaign_Key, -Delivery_Option_Type_Key, -Payment_Method_Key,\n",
    "                   -Medium_Key, -pay_key_num, -Payment_Provider_Key, \n",
    "                   -Order_Payment_Status_Key, -occupation_int,\n",
    "                   -canc_prop, -Ordered_Qty, -priority_int, -Cancelled_Qty, -prop,\n",
    "                   -Order_Sequence_No, -count)\n",
    "\n",
    "glm_data <- select(glm_data, -Category_Level_2Accessories, \n",
    "                   -Category_Level_2Bags, -Category_Level_2Gifting)\n",
    "\n",
    "new_data <- glm_data"
   ]
  },
  {
   "cell_type": "markdown",
   "metadata": {},
   "source": [
    "### Create a partition to seperate the data into training and test parts"
   ]
  },
  {
   "cell_type": "code",
   "execution_count": 261,
   "metadata": {
    "collapsed": true
   },
   "outputs": [],
   "source": [
    "set.seed(123)\n",
    "index <- createDataPartition(glm_data$fraud_status, p = 0.7, list = FALSE)\n",
    "train <- new_data[index, ]\n",
    "test <- new_data[-index, ]"
   ]
  },
  {
   "cell_type": "markdown",
   "metadata": {},
   "source": [
    "### Train our model using SOMTE, in each iteration, samples one minority class element , then one of its nearest neighbors. Both points are now interpolated / convex-combined, resulting in a new virtual data point for the minority class, we compare the two tables before and after SOMTE, we can see that the fraud transaction times enlarge by 10 times\n"
   ]
  },
  {
   "cell_type": "code",
   "execution_count": 262,
   "metadata": {},
   "outputs": [
    {
     "data": {
      "text/plain": [
       "\n",
       "   0    1 \n",
       "8528  146 "
      ]
     },
     "metadata": {},
     "output_type": "display_data"
    },
    {
     "data": {
      "text/plain": [
       "\n",
       "         0          1 \n",
       "0.98316809 0.01683191 "
      ]
     },
     "metadata": {},
     "output_type": "display_data"
    }
   ],
   "source": [
    "set.seed(123)\n",
    "train <- SMOTE(fraud_status ~., new_data, perc.over = 1000, perc.under = 150)\n",
    "table(new_data$fraud_status)\n",
    "prop.table(table(new_data$fraud_status))"
   ]
  },
  {
   "cell_type": "markdown",
   "metadata": {},
   "source": [
    "### Bulid a GLM model, using binomial logit link function, and also calculate the running time"
   ]
  },
  {
   "cell_type": "code",
   "execution_count": 263,
   "metadata": {},
   "outputs": [
    {
     "data": {
      "text/plain": [
       "Time difference of 0.0490489 secs"
      ]
     },
     "metadata": {},
     "output_type": "display_data"
    },
    {
     "data": {
      "text/plain": [
       "\n",
       "Call:\n",
       "glm(formula = fraud_status ~ ., family = binomial(link = \"logit\"), \n",
       "    data = train)\n",
       "\n",
       "Deviance Residuals: \n",
       "    Min       1Q   Median       3Q      Max  \n",
       "-4.0321  -0.4750  -0.3227   0.2569   3.5294  \n",
       "\n",
       "Coefficients:\n",
       "                           Estimate Std. Error z value Pr(>|z|)    \n",
       "(Intercept)                5.112165   0.252882  20.216  < 2e-16 ***\n",
       "Category_Level_2Clothing1  2.954720   0.197469  14.963  < 2e-16 ***\n",
       "Category_Level_2Footwear1 -2.721310   0.170857 -15.927  < 2e-16 ***\n",
       "customer_status2          -3.402626   0.167737 -20.286  < 2e-16 ***\n",
       "customer_status3          -3.180352   0.247008 -12.876  < 2e-16 ***\n",
       "customer_status4          -1.468917   0.188669  -7.786 6.93e-15 ***\n",
       "ship_status2               0.506519   0.158377   3.198  0.00138 ** \n",
       "destination_int2          -0.573440   0.109921  -5.217 1.82e-07 ***\n",
       "Product_Charge_Price      -0.017966   0.001869  -9.613  < 2e-16 ***\n",
       "num_valid                  0.020605   0.011167   1.845  0.06500 .  \n",
       "---\n",
       "Signif. codes:  0 '***' 0.001 '**' 0.01 '*' 0.05 '.' 0.1 ' ' 1\n",
       "\n",
       "(Dispersion parameter for binomial family taken to be 1)\n",
       "\n",
       "    Null deviance: 5172.2  on 3795  degrees of freedom\n",
       "Residual deviance: 2377.8  on 3786  degrees of freedom\n",
       "AIC: 2397.8\n",
       "\n",
       "Number of Fisher Scoring iterations: 6\n"
      ]
     },
     "metadata": {},
     "output_type": "display_data"
    }
   ],
   "source": [
    "start <- Sys.time()\n",
    "model <- glm(fraud_status ~., data = train, family = binomial(link = \"logit\"))\n",
    "end <- Sys.time()\n",
    "time <- end - start\n",
    "time\n",
    "summary(model)"
   ]
  },
  {
   "cell_type": "markdown",
   "metadata": {},
   "source": [
    "### Then, choose a model by AIC in a Stepwise Algorithm, in this process, we gradually delete 2footwear, charge price and ship status, because these variables AIC are lower than others"
   ]
  },
  {
   "cell_type": "code",
   "execution_count": 264,
   "metadata": {},
   "outputs": [
    {
     "name": "stdout",
     "output_type": "stream",
     "text": [
      "Start:  AIC=2397.78\n",
      "fraud_status ~ Category_Level_2Clothing + Category_Level_2Footwear + \n",
      "    customer_status + ship_status + destination_int + Product_Charge_Price + \n",
      "    num_valid\n",
      "\n",
      "                           Df Deviance    AIC\n",
      "<none>                          2377.8 2397.8\n",
      "- num_valid                 1   2380.8 2398.8\n",
      "- ship_status               1   2387.8 2405.8\n",
      "- destination_int           1   2405.1 2423.1\n",
      "- Product_Charge_Price      1   2490.5 2508.5\n",
      "- Category_Level_2Clothing  1   2709.7 2727.7\n",
      "- Category_Level_2Footwear  1   2713.9 2731.9\n",
      "- customer_status           3   3046.7 3060.7\n"
     ]
    },
    {
     "data": {
      "text/plain": [
       "\n",
       "Call:\n",
       "glm(formula = fraud_status ~ Category_Level_2Clothing + Category_Level_2Footwear + \n",
       "    customer_status + ship_status + destination_int + Product_Charge_Price + \n",
       "    num_valid, family = binomial(link = \"logit\"), data = train)\n",
       "\n",
       "Deviance Residuals: \n",
       "    Min       1Q   Median       3Q      Max  \n",
       "-4.0321  -0.4750  -0.3227   0.2569   3.5294  \n",
       "\n",
       "Coefficients:\n",
       "                           Estimate Std. Error z value Pr(>|z|)    \n",
       "(Intercept)                5.112165   0.252882  20.216  < 2e-16 ***\n",
       "Category_Level_2Clothing1  2.954720   0.197469  14.963  < 2e-16 ***\n",
       "Category_Level_2Footwear1 -2.721310   0.170857 -15.927  < 2e-16 ***\n",
       "customer_status2          -3.402626   0.167737 -20.286  < 2e-16 ***\n",
       "customer_status3          -3.180352   0.247008 -12.876  < 2e-16 ***\n",
       "customer_status4          -1.468917   0.188669  -7.786 6.93e-15 ***\n",
       "ship_status2               0.506519   0.158377   3.198  0.00138 ** \n",
       "destination_int2          -0.573440   0.109921  -5.217 1.82e-07 ***\n",
       "Product_Charge_Price      -0.017966   0.001869  -9.613  < 2e-16 ***\n",
       "num_valid                  0.020605   0.011167   1.845  0.06500 .  \n",
       "---\n",
       "Signif. codes:  0 '***' 0.001 '**' 0.01 '*' 0.05 '.' 0.1 ' ' 1\n",
       "\n",
       "(Dispersion parameter for binomial family taken to be 1)\n",
       "\n",
       "    Null deviance: 5172.2  on 3795  degrees of freedom\n",
       "Residual deviance: 2377.8  on 3786  degrees of freedom\n",
       "AIC: 2397.8\n",
       "\n",
       "Number of Fisher Scoring iterations: 6\n"
      ]
     },
     "metadata": {},
     "output_type": "display_data"
    }
   ],
   "source": [
    "model <- step(model)\n",
    "summary(model)"
   ]
  },
  {
   "cell_type": "markdown",
   "metadata": {},
   "source": [
    "### We delete the first clothing variable then, and see the model evaluation, it's more significant for all the variables"
   ]
  },
  {
   "cell_type": "code",
   "execution_count": 265,
   "metadata": {},
   "outputs": [
    {
     "data": {
      "text/plain": [
       "\n",
       "Call:\n",
       "glm(formula = fraud_status ~ customer_status + ship_status + \n",
       "    destination_int + Product_Charge_Price + num_valid, family = binomial(link = \"logit\"), \n",
       "    data = train)\n",
       "\n",
       "Deviance Residuals: \n",
       "    Min       1Q   Median       3Q      Max  \n",
       "-2.8775  -0.6719  -0.3616   0.5392   4.0284  \n",
       "\n",
       "Coefficients:\n",
       "                      Estimate Std. Error z value Pr(>|z|)    \n",
       "(Intercept)           4.076222   0.193282  21.090  < 2e-16 ***\n",
       "customer_status2     -3.748983   0.161387 -23.230  < 2e-16 ***\n",
       "customer_status3     -3.138873   0.207338 -15.139  < 2e-16 ***\n",
       "customer_status4     -1.558727   0.178529  -8.731  < 2e-16 ***\n",
       "ship_status2          0.611844   0.131570   4.650 3.31e-06 ***\n",
       "destination_int2     -0.662527   0.090870  -7.291 3.08e-13 ***\n",
       "Product_Charge_Price -0.029968   0.001708 -17.541  < 2e-16 ***\n",
       "num_valid             0.015923   0.010424   1.528    0.127    \n",
       "---\n",
       "Signif. codes:  0 '***' 0.001 '**' 0.01 '*' 0.05 '.' 0.1 ' ' 1\n",
       "\n",
       "(Dispersion parameter for binomial family taken to be 1)\n",
       "\n",
       "    Null deviance: 5172.2  on 3795  degrees of freedom\n",
       "Residual deviance: 3256.5  on 3788  degrees of freedom\n",
       "AIC: 3272.5\n",
       "\n",
       "Number of Fisher Scoring iterations: 5\n"
      ]
     },
     "metadata": {},
     "output_type": "display_data"
    }
   ],
   "source": [
    "model <- update(model, .~. -Category_Level_2Clothing-Category_Level_2Footwear)\n",
    "summary(model)"
   ]
  },
  {
   "cell_type": "markdown",
   "metadata": {},
   "source": [
    "### Use our model to test our test data set, calculate the area under the ROC curve"
   ]
  },
  {
   "cell_type": "code",
   "execution_count": 266,
   "metadata": {},
   "outputs": [
    {
     "data": {
      "text/html": [
       "0.780542575049542"
      ],
      "text/latex": [
       "0.780542575049542"
      ],
      "text/markdown": [
       "0.780542575049542"
      ],
      "text/plain": [
       "[1] 0.7805426"
      ]
     },
     "metadata": {},
     "output_type": "display_data"
    },
    {
     "data": {
      "image/png": "[encoded data removed]",
      "text/plain": [
       "plot without title"
      ]
     },
     "metadata": {},
     "output_type": "display_data"
    }
   ],
   "source": [
    "model_predict <- predict(model, test, type = \"response\")\n",
    "ROC_predict <- prediction(model_predict, test$fraud_status)\n",
    "ROC_performance <- performance(ROC_predict, \"tpr\", \"fpr\")\n",
    "plot(ROC_performance, colorize = TRUE, text.adj = c(-0.2,1.7), lwd = 5)\n",
    "area_under_curve <- performance(ROC_predict, measure = \"auc\")\n",
    "area_under_curve@y.values[[1]]"
   ]
  },
  {
   "cell_type": "markdown",
   "metadata": {},
   "source": [
    "### Perform 10-fold cross validation"
   ]
  },
  {
   "cell_type": "code",
   "execution_count": 267,
   "metadata": {},
   "outputs": [
    {
     "data": {
      "text/plain": [
       "Confusion Matrix and Statistics\n",
       "\n",
       "          Reference\n",
       "Prediction    0    1\n",
       "         0 2308   20\n",
       "         1  250   23\n",
       "                                          \n",
       "               Accuracy : 0.8962          \n",
       "                 95% CI : (0.8838, 0.9077)\n",
       "    No Information Rate : 0.9835          \n",
       "    P-Value [Acc > NIR] : 1               \n",
       "                                          \n",
       "                  Kappa : 0.1204          \n",
       " Mcnemar's Test P-Value : <2e-16          \n",
       "                                          \n",
       "            Sensitivity : 0.90227         \n",
       "            Specificity : 0.53488         \n",
       "         Pos Pred Value : 0.99141         \n",
       "         Neg Pred Value : 0.08425         \n",
       "             Prevalence : 0.98347         \n",
       "         Detection Rate : 0.88735         \n",
       "   Detection Prevalence : 0.89504         \n",
       "      Balanced Accuracy : 0.71858         \n",
       "                                          \n",
       "       'Positive' Class : 0               \n",
       "                                          "
      ]
     },
     "metadata": {},
     "output_type": "display_data"
    },
    {
     "data": {
      "text/html": [
       "<dl class=dl-horizontal>\n",
       "\t<dt>Sensitivity</dt>\n",
       "\t\t<dd>0.90226739640344</dd>\n",
       "\t<dt>Specificity</dt>\n",
       "\t\t<dd>0.534883720930233</dd>\n",
       "\t<dt>Pos Pred Value</dt>\n",
       "\t\t<dd>0.991408934707904</dd>\n",
       "\t<dt>Neg Pred Value</dt>\n",
       "\t\t<dd>0.0842490842490843</dd>\n",
       "\t<dt>Precision</dt>\n",
       "\t\t<dd>0.991408934707904</dd>\n",
       "\t<dt>Recall</dt>\n",
       "\t\t<dd>0.90226739640344</dd>\n",
       "\t<dt>F1</dt>\n",
       "\t\t<dd>0.944740073679902</dd>\n",
       "\t<dt>Prevalence</dt>\n",
       "\t\t<dd>0.983467896962707</dd>\n",
       "\t<dt>Detection Rate</dt>\n",
       "\t\t<dd>0.887351018838908</dd>\n",
       "\t<dt>Detection Prevalence</dt>\n",
       "\t\t<dd>0.895040369088812</dd>\n",
       "\t<dt>Balanced Accuracy</dt>\n",
       "\t\t<dd>0.718575558666836</dd>\n",
       "</dl>\n"
      ],
      "text/latex": [
       "\\begin{description*}\n",
       "\\item[Sensitivity] 0.90226739640344\n",
       "\\item[Specificity] 0.534883720930233\n",
       "\\item[Pos Pred Value] 0.991408934707904\n",
       "\\item[Neg Pred Value] 0.0842490842490843\n",
       "\\item[Precision] 0.991408934707904\n",
       "\\item[Recall] 0.90226739640344\n",
       "\\item[F1] 0.944740073679902\n",
       "\\item[Prevalence] 0.983467896962707\n",
       "\\item[Detection Rate] 0.887351018838908\n",
       "\\item[Detection Prevalence] 0.895040369088812\n",
       "\\item[Balanced Accuracy] 0.718575558666836\n",
       "\\end{description*}\n"
      ],
      "text/markdown": [
       "Sensitivity\n",
       ":   0.90226739640344Specificity\n",
       ":   0.534883720930233Pos Pred Value\n",
       ":   0.991408934707904Neg Pred Value\n",
       ":   0.0842490842490843Precision\n",
       ":   0.991408934707904Recall\n",
       ":   0.90226739640344F1\n",
       ":   0.944740073679902Prevalence\n",
       ":   0.983467896962707Detection Rate\n",
       ":   0.887351018838908Detection Prevalence\n",
       ":   0.895040369088812Balanced Accuracy\n",
       ":   0.718575558666836\n",
       "\n"
      ],
      "text/plain": [
       "         Sensitivity          Specificity       Pos Pred Value \n",
       "          0.90226740           0.53488372           0.99140893 \n",
       "      Neg Pred Value            Precision               Recall \n",
       "          0.08424908           0.99140893           0.90226740 \n",
       "                  F1           Prevalence       Detection Rate \n",
       "          0.94474007           0.98346790           0.88735102 \n",
       "Detection Prevalence    Balanced Accuracy \n",
       "          0.89504037           0.71857556 "
      ]
     },
     "metadata": {},
     "output_type": "display_data"
    }
   ],
   "source": [
    "ctrl <- trainControl(method = \"repeatedcv\", number = 10, savePredictions = TRUE)\n",
    "model_fit <- caret::train(fraud_status ~ customer_status + ship_status + destination_int + \n",
    "                            Product_Charge_Price + num_valid,\n",
    "                          data = train, method = \"glm\", family = binomial(link =\"logit\"),\n",
    "                          trControl = ctrl, tuneLength = 10)\n",
    "pred <- predict(model_fit, newdata = select(test, -fraud_status))\n",
    "conf <- confusionMatrix(data = pred, test$fraud_status)\n",
    "conf\n",
    "conf$byClass"
   ]
  },
  {
   "cell_type": "markdown",
   "metadata": {},
   "source": [
    "### We build a GLM for site 11 without resampling tehniques"
   ]
  },
  {
   "cell_type": "markdown",
   "metadata": {},
   "source": [
    "### We turn the fraud status variable into a factor and remove the column corresponding to site key as it is no longer needed in addition to the product key."
   ]
  },
  {
   "cell_type": "code",
   "execution_count": 268,
   "metadata": {
    "collapsed": true
   },
   "outputs": [],
   "source": [
    "glm_data <- read.csv(\"dataset_11.csv\")\n",
    "glm_data$fraud_status <- as.factor((glm_data$fraud_status))\n",
    "glm_data <- select(glm_data, -Site_Key, -Ordered_Product_Key)"
   ]
  },
  {
   "cell_type": "markdown",
   "metadata": {},
   "source": [
    "### Select the data that we want to turn into factor type, turn all the variable type into factor, keep the factor which has more than two factor levels, then combine them together again"
   ]
  },
  {
   "cell_type": "code",
   "execution_count": 269,
   "metadata": {
    "collapsed": true
   },
   "outputs": [],
   "source": [
    "temp <- select(glm_data, -prop, -canc_prop, -Product_Charge_Price, -num_valid, \n",
    "               -count, -Order_Sequence_No, -Ordered_Qty, -Cancelled_Qty)\n",
    "temp[,(1:ncol(temp))] <- lapply(temp[,(1:ncol(temp))],as.factor)\n",
    "temp <- temp[, sapply(temp, nlevels) > 1]\n",
    "nums <- select(glm_data, prop, canc_prop, Product_Charge_Price, num_valid, \n",
    "               count, Order_Sequence_No, Ordered_Qty, Cancelled_Qty)\n",
    "glm_data <- cbind(temp, nums)"
   ]
  },
  {
   "cell_type": "markdown",
   "metadata": {},
   "source": [
    "### Omit conlumns we do not need "
   ]
  },
  {
   "cell_type": "code",
   "execution_count": 270,
   "metadata": {
    "collapsed": true
   },
   "outputs": [],
   "source": [
    "glm_data <- select(glm_data, -Campaign_Key, -Delivery_Option_Type_Key, -Payment_Method_Key,\n",
    "                   -Medium_Key, -pay_key_num, -Payment_Provider_Key, \n",
    "                   -Order_Payment_Status_Key, -occupation_int,\n",
    "                   -canc_prop, -Ordered_Qty, -priority_int, -Cancelled_Qty, -prop,\n",
    "                   -Order_Sequence_No, -count)\n",
    "\n",
    "glm_data <- select(glm_data, -Category_Level_2Accessories, \n",
    "                   -Category_Level_2Bags, -Category_Level_2Gifting)\n",
    "\n",
    "new_data <- glm_data"
   ]
  },
  {
   "cell_type": "markdown",
   "metadata": {},
   "source": [
    "### Create a partition to seperate the data into training and test parts"
   ]
  },
  {
   "cell_type": "code",
   "execution_count": 271,
   "metadata": {
    "collapsed": true
   },
   "outputs": [],
   "source": [
    "set.seed(123)\n",
    "index <- createDataPartition(glm_data$fraud_status, p = 0.7, list = FALSE)\n",
    "train <- new_data[index, ]\n",
    "test <- new_data[-index, ]"
   ]
  },
  {
   "cell_type": "markdown",
   "metadata": {},
   "source": [
    "### Bulid a GLM model, using binomial logit link function, and also calculate the running time"
   ]
  },
  {
   "cell_type": "code",
   "execution_count": 272,
   "metadata": {},
   "outputs": [
    {
     "data": {
      "text/plain": [
       "Time difference of 0.08856392 secs"
      ]
     },
     "metadata": {},
     "output_type": "display_data"
    },
    {
     "data": {
      "text/plain": [
       "\n",
       "Call:\n",
       "glm(formula = fraud_status ~ ., family = binomial(link = \"logit\"), \n",
       "    data = train)\n",
       "\n",
       "Deviance Residuals: \n",
       "    Min       1Q   Median       3Q      Max  \n",
       "-1.2809  -0.1366  -0.0951  -0.0895   3.4846  \n",
       "\n",
       "Coefficients:\n",
       "                           Estimate Std. Error z value Pr(>|z|)    \n",
       "(Intercept)               -0.938861   0.659948  -1.423 0.154844    \n",
       "Category_Level_2Clothing1  1.047219   0.701052   1.494 0.135232    \n",
       "Category_Level_2Footwear1 -0.093587   0.645808  -0.145 0.884778    \n",
       "customer_status2          -3.613580   0.277538 -13.020  < 2e-16 ***\n",
       "customer_status3          -2.639656   0.390141  -6.766 1.32e-11 ***\n",
       "customer_status4          -1.507553   0.275011  -5.482 4.21e-08 ***\n",
       "ship_status2              -0.641700   0.440661  -1.456 0.145331    \n",
       "destination_int2          -0.751565   0.214947  -3.497 0.000471 ***\n",
       "Product_Charge_Price      -0.002829   0.003060  -0.925 0.355181    \n",
       "num_valid                  0.032901   0.018025   1.825 0.067953 .  \n",
       "---\n",
       "Signif. codes:  0 '***' 0.001 '**' 0.01 '*' 0.05 '.' 0.1 ' ' 1\n",
       "\n",
       "(Dispersion parameter for binomial family taken to be 1)\n",
       "\n",
       "    Null deviance: 1045.8  on 6122  degrees of freedom\n",
       "Residual deviance:  823.7  on 6113  degrees of freedom\n",
       "AIC: 843.7\n",
       "\n",
       "Number of Fisher Scoring iterations: 8\n"
      ]
     },
     "metadata": {},
     "output_type": "display_data"
    }
   ],
   "source": [
    "start <- Sys.time()\n",
    "model <- glm(fraud_status ~., data = train, family = binomial(link = \"logit\"))\n",
    "end <- Sys.time()\n",
    "time <- end - start\n",
    "time\n",
    "summary(model)"
   ]
  },
  {
   "cell_type": "markdown",
   "metadata": {},
   "source": [
    "### We can see that the customer status is very significant"
   ]
  },
  {
   "cell_type": "markdown",
   "metadata": {},
   "source": [
    "### Then, choose a model by AIC in a Stepwise Algorithm, in this process, we gradually delete 2footwear, charge price and ship status, because these variables AIC are lower than others"
   ]
  },
  {
   "cell_type": "code",
   "execution_count": 273,
   "metadata": {},
   "outputs": [
    {
     "name": "stdout",
     "output_type": "stream",
     "text": [
      "Start:  AIC=843.7\n",
      "fraud_status ~ Category_Level_2Clothing + Category_Level_2Footwear + \n",
      "    customer_status + ship_status + destination_int + Product_Charge_Price + \n",
      "    num_valid\n",
      "\n",
      "                           Df Deviance     AIC\n",
      "- Category_Level_2Footwear  1   823.72  841.72\n",
      "- Product_Charge_Price      1   824.63  842.63\n",
      "<none>                          823.70  843.70\n",
      "- num_valid                 1   826.11  844.11\n",
      "- ship_status               1   826.19  844.19\n",
      "- Category_Level_2Clothing  1   826.27  844.27\n",
      "- destination_int           1   835.87  853.87\n",
      "- customer_status           3   988.29 1002.29\n",
      "\n",
      "Step:  AIC=841.72\n",
      "fraud_status ~ Category_Level_2Clothing + customer_status + ship_status + \n",
      "    destination_int + Product_Charge_Price + num_valid\n",
      "\n",
      "                           Df Deviance     AIC\n",
      "- Product_Charge_Price      1   824.70  840.70\n",
      "<none>                          823.72  841.72\n",
      "- num_valid                 1   826.14  842.14\n",
      "- ship_status               1   826.21  842.21\n",
      "- Category_Level_2Clothing  1   832.26  848.26\n",
      "- destination_int           1   835.88  851.88\n",
      "- customer_status           3   991.57 1003.57\n",
      "\n",
      "Step:  AIC=840.7\n",
      "fraud_status ~ Category_Level_2Clothing + customer_status + ship_status + \n",
      "    destination_int + num_valid\n",
      "\n",
      "                           Df Deviance     AIC\n",
      "<none>                          824.70  840.70\n",
      "- ship_status               1   827.25  841.25\n",
      "- num_valid                 1   827.26  841.26\n",
      "- destination_int           1   836.24  850.24\n",
      "- Category_Level_2Clothing  1   838.83  852.83\n",
      "- customer_status           3   992.19 1002.19\n"
     ]
    },
    {
     "data": {
      "text/plain": [
       "\n",
       "Call:\n",
       "glm(formula = fraud_status ~ Category_Level_2Clothing + customer_status + \n",
       "    ship_status + destination_int + num_valid, family = binomial(link = \"logit\"), \n",
       "    data = train)\n",
       "\n",
       "Deviance Residuals: \n",
       "    Min       1Q   Median       3Q      Max  \n",
       "-1.2820  -0.1349  -0.0928  -0.0892   3.3252  \n",
       "\n",
       "Coefficients:\n",
       "                          Estimate Std. Error z value Pr(>|z|)    \n",
       "(Intercept)               -1.20907    0.23475  -5.151 2.60e-07 ***\n",
       "Category_Level_2Clothing1  1.31620    0.32052   4.106 4.02e-05 ***\n",
       "customer_status2          -3.62189    0.27509 -13.166  < 2e-16 ***\n",
       "customer_status3          -2.68273    0.38852  -6.905 5.02e-12 ***\n",
       "customer_status4          -1.53690    0.27306  -5.628 1.82e-08 ***\n",
       "ship_status2              -0.64894    0.44033  -1.474 0.140545    \n",
       "destination_int2          -0.72729    0.21369  -3.403 0.000665 ***\n",
       "num_valid                  0.03386    0.01790   1.892 0.058479 .  \n",
       "---\n",
       "Signif. codes:  0 '***' 0.001 '**' 0.01 '*' 0.05 '.' 0.1 ' ' 1\n",
       "\n",
       "(Dispersion parameter for binomial family taken to be 1)\n",
       "\n",
       "    Null deviance: 1045.8  on 6122  degrees of freedom\n",
       "Residual deviance:  824.7  on 6115  degrees of freedom\n",
       "AIC: 840.7\n",
       "\n",
       "Number of Fisher Scoring iterations: 8\n"
      ]
     },
     "metadata": {},
     "output_type": "display_data"
    }
   ],
   "source": [
    "model <- step(model)\n",
    "summary(model)"
   ]
  },
  {
   "cell_type": "markdown",
   "metadata": {},
   "source": [
    "### We delete the first clothing variable then, and see the model evaluation, it's more significant for all the variables"
   ]
  },
  {
   "cell_type": "code",
   "execution_count": 274,
   "metadata": {},
   "outputs": [
    {
     "data": {
      "text/plain": [
       "\n",
       "Call:\n",
       "glm(formula = fraud_status ~ customer_status + ship_status + \n",
       "    destination_int + num_valid, family = binomial(link = \"logit\"), \n",
       "    data = train)\n",
       "\n",
       "Deviance Residuals: \n",
       "    Min       1Q   Median       3Q      Max  \n",
       "-0.8108  -0.1320  -0.0950  -0.0915   3.3101  \n",
       "\n",
       "Coefficients:\n",
       "                 Estimate Std. Error z value Pr(>|z|)    \n",
       "(Intercept)      -1.09325    0.22953  -4.763 1.91e-06 ***\n",
       "customer_status2 -3.75808    0.27006 -13.915  < 2e-16 ***\n",
       "customer_status3 -2.72191    0.38595  -7.053 1.76e-12 ***\n",
       "customer_status4 -1.51013    0.26960  -5.601 2.13e-08 ***\n",
       "ship_status2     -0.67354    0.43876  -1.535  0.12476    \n",
       "destination_int2 -0.66030    0.21064  -3.135  0.00172 ** \n",
       "num_valid         0.03738    0.01768   2.114  0.03453 *  \n",
       "---\n",
       "Signif. codes:  0 '***' 0.001 '**' 0.01 '*' 0.05 '.' 0.1 ' ' 1\n",
       "\n",
       "(Dispersion parameter for binomial family taken to be 1)\n",
       "\n",
       "    Null deviance: 1045.78  on 6122  degrees of freedom\n",
       "Residual deviance:  838.83  on 6116  degrees of freedom\n",
       "AIC: 852.83\n",
       "\n",
       "Number of Fisher Scoring iterations: 8\n"
      ]
     },
     "metadata": {},
     "output_type": "display_data"
    }
   ],
   "source": [
    "model <- update(model, .~. -Category_Level_2Clothing)\n",
    "summary(model)"
   ]
  },
  {
   "cell_type": "markdown",
   "metadata": {},
   "source": [
    "### Use our model to test our test data set, calculate the area under the ROC curve"
   ]
  },
  {
   "cell_type": "code",
   "execution_count": 275,
   "metadata": {},
   "outputs": [
    {
     "data": {
      "text/html": [
       "0.762619433928249"
      ],
      "text/latex": [
       "0.762619433928249"
      ],
      "text/markdown": [
       "0.762619433928249"
      ],
      "text/plain": [
       "[1] 0.7626194"
      ]
     },
     "metadata": {},
     "output_type": "display_data"
    },
    {
     "data": {
      "image/png": "[encoded data removed]",
      "text/plain": [
       "plot without title"
      ]
     },
     "metadata": {},
     "output_type": "display_data"
    }
   ],
   "source": [
    "model_predict <- predict(model, test, type = \"response\")\n",
    "ROC_predict <- prediction(model_predict, test$fraud_status)\n",
    "ROC_performance <- performance(ROC_predict, \"tpr\", \"fpr\")\n",
    "plot(ROC_performance, colorize = TRUE, text.adj = c(-0.2,1.7), lwd = 5)\n",
    "area_under_curve <- performance(ROC_predict, measure = \"auc\")\n",
    "area_under_curve@y.values[[1]]"
   ]
  },
  {
   "cell_type": "markdown",
   "metadata": {},
   "source": [
    "### Perform 10-fold cross validation"
   ]
  },
  {
   "cell_type": "code",
   "execution_count": 276,
   "metadata": {},
   "outputs": [
    {
     "data": {
      "text/plain": [
       "Confusion Matrix and Statistics\n",
       "\n",
       "          Reference\n",
       "Prediction    0    1\n",
       "         0 2580   43\n",
       "         1    0    0\n",
       "                                         \n",
       "               Accuracy : 0.9836         \n",
       "                 95% CI : (0.978, 0.9881)\n",
       "    No Information Rate : 0.9836         \n",
       "    P-Value [Acc > NIR] : 0.5404         \n",
       "                                         \n",
       "                  Kappa : 0              \n",
       " Mcnemar's Test P-Value : 1.504e-10      \n",
       "                                         \n",
       "            Sensitivity : 1.0000         \n",
       "            Specificity : 0.0000         \n",
       "         Pos Pred Value : 0.9836         \n",
       "         Neg Pred Value :    NaN         \n",
       "             Prevalence : 0.9836         \n",
       "         Detection Rate : 0.9836         \n",
       "   Detection Prevalence : 1.0000         \n",
       "      Balanced Accuracy : 0.5000         \n",
       "                                         \n",
       "       'Positive' Class : 0              \n",
       "                                         "
      ]
     },
     "metadata": {},
     "output_type": "display_data"
    },
    {
     "data": {
      "text/html": [
       "<dl class=dl-horizontal>\n",
       "\t<dt>Sensitivity</dt>\n",
       "\t\t<dd>1</dd>\n",
       "\t<dt>Specificity</dt>\n",
       "\t\t<dd>0</dd>\n",
       "\t<dt>Pos Pred Value</dt>\n",
       "\t\t<dd>0.983606557377049</dd>\n",
       "\t<dt>Neg Pred Value</dt>\n",
       "\t\t<dd>NaN</dd>\n",
       "\t<dt>Precision</dt>\n",
       "\t\t<dd>0.983606557377049</dd>\n",
       "\t<dt>Recall</dt>\n",
       "\t\t<dd>1</dd>\n",
       "\t<dt>F1</dt>\n",
       "\t\t<dd>0.991735537190083</dd>\n",
       "\t<dt>Prevalence</dt>\n",
       "\t\t<dd>0.983606557377049</dd>\n",
       "\t<dt>Detection Rate</dt>\n",
       "\t\t<dd>0.983606557377049</dd>\n",
       "\t<dt>Detection Prevalence</dt>\n",
       "\t\t<dd>1</dd>\n",
       "\t<dt>Balanced Accuracy</dt>\n",
       "\t\t<dd>0.5</dd>\n",
       "</dl>\n"
      ],
      "text/latex": [
       "\\begin{description*}\n",
       "\\item[Sensitivity] 1\n",
       "\\item[Specificity] 0\n",
       "\\item[Pos Pred Value] 0.983606557377049\n",
       "\\item[Neg Pred Value] NaN\n",
       "\\item[Precision] 0.983606557377049\n",
       "\\item[Recall] 1\n",
       "\\item[F1] 0.991735537190083\n",
       "\\item[Prevalence] 0.983606557377049\n",
       "\\item[Detection Rate] 0.983606557377049\n",
       "\\item[Detection Prevalence] 1\n",
       "\\item[Balanced Accuracy] 0.5\n",
       "\\end{description*}\n"
      ],
      "text/markdown": [
       "Sensitivity\n",
       ":   1Specificity\n",
       ":   0Pos Pred Value\n",
       ":   0.983606557377049Neg Pred Value\n",
       ":   NaNPrecision\n",
       ":   0.983606557377049Recall\n",
       ":   1F1\n",
       ":   0.991735537190083Prevalence\n",
       ":   0.983606557377049Detection Rate\n",
       ":   0.983606557377049Detection Prevalence\n",
       ":   1Balanced Accuracy\n",
       ":   0.5\n",
       "\n"
      ],
      "text/plain": [
       "         Sensitivity          Specificity       Pos Pred Value \n",
       "           1.0000000            0.0000000            0.9836066 \n",
       "      Neg Pred Value            Precision               Recall \n",
       "                 NaN            0.9836066            1.0000000 \n",
       "                  F1           Prevalence       Detection Rate \n",
       "           0.9917355            0.9836066            0.9836066 \n",
       "Detection Prevalence    Balanced Accuracy \n",
       "           1.0000000            0.5000000 "
      ]
     },
     "metadata": {},
     "output_type": "display_data"
    }
   ],
   "source": [
    "ctrl <- trainControl(method = \"repeatedcv\", number = 10, savePredictions = TRUE)\n",
    "model_fit <- caret::train(fraud_status ~ customer_status + ship_status + destination_int + \n",
    "                            Category_Level_2Clothing + num_valid ,\n",
    "                          data = train, method = \"glm\", family = binomial(link =\"logit\"),\n",
    "                          trControl = ctrl, tuneLength = 10)\n",
    "pred <- predict(model_fit, newdata = select(test, -fraud_status))\n",
    "conf <- confusionMatrix(data = pred, test$fraud_status)\n",
    "conf\n",
    "conf$byClass"
   ]
  },
  {
   "cell_type": "markdown",
   "metadata": {},
   "source": [
    "### We build a GLM for site 15 using resampling techniques"
   ]
  },
  {
   "cell_type": "markdown",
   "metadata": {},
   "source": [
    "### We turn the fraud status variable into a factor and remove the column corresponding to site key as it is no longer needed in addition to the product key."
   ]
  },
  {
   "cell_type": "code",
   "execution_count": 277,
   "metadata": {
    "collapsed": true
   },
   "outputs": [],
   "source": [
    "glm_data <- read.csv(\"dataset_15.csv\")\n",
    "glm_data$fraud_status <- as.factor((glm_data$fraud_status))\n",
    "glm_data <- select(glm_data, -Site_Key, -Ordered_Product_Key)"
   ]
  },
  {
   "cell_type": "markdown",
   "metadata": {},
   "source": [
    "### Firstly, in the data cleaning process, use the Tomek link to find the nearest point between fraud and non-fraud instance, which should be considered as noise and removed"
   ]
  },
  {
   "cell_type": "code",
   "execution_count": 278,
   "metadata": {},
   "outputs": [
    {
     "name": "stdout",
     "output_type": "stream",
     "text": [
      "Instances removed 88 : 0.14 % of 0 class ; 0.14 % of training ; Time needed 0.25 \n"
     ]
    }
   ],
   "source": [
    "set.seed(123)\n",
    "Tomek <- ubTomek(select(glm_data, -fraud_status), glm_data$fraud_status, verbose = TRUE)\n",
    "glm_data <- cbind(Tomek$X, Tomek$Y)\n",
    "glm_data <- rename(glm_data, fraud_status = \"Tomek$Y\")"
   ]
  },
  {
   "cell_type": "markdown",
   "metadata": {},
   "source": [
    "### Select the data that we want to turn into factor type, turn all the variable type into factor, keep the factor which has more than two factor levels, then combine them together again"
   ]
  },
  {
   "cell_type": "code",
   "execution_count": 279,
   "metadata": {
    "collapsed": true
   },
   "outputs": [],
   "source": [
    "temp <- select(glm_data, -prop, -canc_prop, -Product_Charge_Price, -num_valid, \n",
    "               -count, -Order_Sequence_No, -Ordered_Qty, -Cancelled_Qty)\n",
    "temp[,(1:ncol(temp))] <- lapply(temp[,(1:ncol(temp))],as.factor)\n",
    "temp <- temp[, sapply(temp, nlevels) > 1]\n",
    "nums <- select(glm_data, prop, canc_prop, Product_Charge_Price, num_valid, \n",
    "               count, Order_Sequence_No, Ordered_Qty, Cancelled_Qty)\n",
    "glm_data <- cbind(temp, nums)"
   ]
  },
  {
   "cell_type": "markdown",
   "metadata": {},
   "source": [
    "### Omit columns we do not need"
   ]
  },
  {
   "cell_type": "code",
   "execution_count": 280,
   "metadata": {
    "collapsed": true
   },
   "outputs": [],
   "source": [
    "glm_data <- select(glm_data, -Campaign_Key, -Delivery_Option_Type_Key, -Payment_Method_Key,\n",
    "                   -Medium_Key, -pay_key_num, -Payment_Provider_Key, \n",
    "                   -Order_Payment_Status_Key, -occupation_int,\n",
    "                   -canc_prop, -Ordered_Qty, -priority_int, -Cancelled_Qty, -prop,\n",
    "                   -Order_Sequence_No, -count)\n",
    "\n",
    "glm_data <- select(glm_data, -Category_Level_2Accessories, -Category_Level_2Beauty.Boxes,\n",
    "                   -Category_Level_2Books, -Category_Level_2Gifting, -Category_Level_2Gifts,\n",
    "                   -Category_Level_2Health.and.Beauty.Gift.Sets, -Category_Level_2Homeware,\n",
    "                   -Category_Level_2Nail.Care, -Category_Level_2Shaving, \n",
    "                   -Category_Level_2Sports.Nutrition, -Category_Level_2Fragrance,\n",
    "                   -Category_Level_2Hair.Care, -Category_Level_2Bags)\n",
    "\n",
    "new_data <- glm_data"
   ]
  },
  {
   "cell_type": "markdown",
   "metadata": {},
   "source": [
    "### Create a partition to seperate the data into training part and test part"
   ]
  },
  {
   "cell_type": "code",
   "execution_count": 281,
   "metadata": {
    "collapsed": true
   },
   "outputs": [],
   "source": [
    "set.seed(123)\n",
    "index <- createDataPartition(glm_data$fraud_status, p = 0.7, list = FALSE)\n",
    "train <- new_data[index, ]\n",
    "test <- new_data[-index, ]"
   ]
  },
  {
   "cell_type": "markdown",
   "metadata": {},
   "source": [
    "### Train our model using SOMTE"
   ]
  },
  {
   "cell_type": "code",
   "execution_count": 282,
   "metadata": {},
   "outputs": [
    {
     "data": {
      "text/plain": [
       "\n",
       "    0     1 \n",
       "63299   166 "
      ]
     },
     "metadata": {},
     "output_type": "display_data"
    },
    {
     "data": {
      "text/plain": [
       "\n",
       "          0           1 \n",
       "0.997384385 0.002615615 "
      ]
     },
     "metadata": {},
     "output_type": "display_data"
    }
   ],
   "source": [
    "set.seed(123)\n",
    "train <- SMOTE(fraud_status ~., train, perc.over = 1000, perc.under = 150)\n",
    "table(new_data$fraud_status)\n",
    "prop.table(table(new_data$fraud_status))"
   ]
  },
  {
   "cell_type": "markdown",
   "metadata": {},
   "source": [
    "### Bulid a GLM model, using binomial logit link function, and also calculate the running time"
   ]
  },
  {
   "cell_type": "code",
   "execution_count": 283,
   "metadata": {},
   "outputs": [
    {
     "data": {
      "text/plain": [
       "Time difference of 0.0400269 secs"
      ]
     },
     "metadata": {},
     "output_type": "display_data"
    },
    {
     "data": {
      "text/plain": [
       "\n",
       "Call:\n",
       "glm(formula = fraud_status ~ ., family = binomial(link = \"logit\"), \n",
       "    data = train)\n",
       "\n",
       "Deviance Residuals: \n",
       "    Min       1Q   Median       3Q      Max  \n",
       "-3.2113  -0.6011  -0.4096   0.2651   2.5785  \n",
       "\n",
       "Coefficients:\n",
       "                                                Estimate Std. Error z value\n",
       "(Intercept)                                     3.847827   0.529824   7.262\n",
       "Category_Level_2Body.Care1                     -0.884125   0.166790  -5.301\n",
       "Category_Level_2Health.and.Beauty.Electricals1  3.432335   0.340111  10.092\n",
       "Category_Level_2Make.Up1                        0.306530   0.181205   1.692\n",
       "Category_Level_2Skin.Care1                     -1.132699   0.120380  -9.409\n",
       "customer_status2                               -4.688980   0.518191  -9.049\n",
       "customer_status3                               -1.871732   0.736548  -2.541\n",
       "customer_status4                                0.266121   0.663640   0.401\n",
       "ship_status2                                    1.512699   0.125836  12.021\n",
       "destination_int2                               -0.382072   0.107354  -3.559\n",
       "Product_Charge_Price                            0.014334   0.001632   8.784\n",
       "num_valid                                      -0.020064   0.004123  -4.866\n",
       "                                               Pr(>|z|)    \n",
       "(Intercept)                                    3.80e-13 ***\n",
       "Category_Level_2Body.Care1                     1.15e-07 ***\n",
       "Category_Level_2Health.and.Beauty.Electricals1  < 2e-16 ***\n",
       "Category_Level_2Make.Up1                       0.090719 .  \n",
       "Category_Level_2Skin.Care1                      < 2e-16 ***\n",
       "customer_status2                                < 2e-16 ***\n",
       "customer_status3                               0.011047 *  \n",
       "customer_status4                               0.688419    \n",
       "ship_status2                                    < 2e-16 ***\n",
       "destination_int2                               0.000372 ***\n",
       "Product_Charge_Price                            < 2e-16 ***\n",
       "num_valid                                      1.14e-06 ***\n",
       "---\n",
       "Signif. codes:  0 '***' 0.001 '**' 0.01 '*' 0.05 '.' 0.1 ' ' 1\n",
       "\n",
       "(Dispersion parameter for binomial family taken to be 1)\n",
       "\n",
       "    Null deviance: 4144.8  on 3041  degrees of freedom\n",
       "Residual deviance: 2280.3  on 3030  degrees of freedom\n",
       "AIC: 2304.3\n",
       "\n",
       "Number of Fisher Scoring iterations: 7\n"
      ]
     },
     "metadata": {},
     "output_type": "display_data"
    }
   ],
   "source": [
    "start <- Sys.time()\n",
    "model <- glm(fraud_status ~., data = train, family = binomial(link = \"logit\"))\n",
    "end <- Sys.time()\n",
    "time <- end - start\n",
    "time\n",
    "summary(model)"
   ]
  },
  {
   "cell_type": "markdown",
   "metadata": {},
   "source": [
    "### Use our model to test our test data set, calculate the area under the ROC curve"
   ]
  },
  {
   "cell_type": "code",
   "execution_count": 284,
   "metadata": {},
   "outputs": [
    {
     "data": {
      "text/html": [
       "0.794003187667186"
      ],
      "text/latex": [
       "0.794003187667186"
      ],
      "text/markdown": [
       "0.794003187667186"
      ],
      "text/plain": [
       "[1] 0.7940032"
      ]
     },
     "metadata": {},
     "output_type": "display_data"
    },
    {
     "data": {
      "image/png": "[encoded data removed]",
      "text/plain": [
       "plot without title"
      ]
     },
     "metadata": {},
     "output_type": "display_data"
    }
   ],
   "source": [
    "model_predict <- predict(model, test, type = \"response\")\n",
    "ROC_predict <- prediction(model_predict, test$fraud_status)\n",
    "ROC_performance <- performance(ROC_predict, \"tpr\", \"fpr\")\n",
    "plot(ROC_performance, colorize = TRUE, text.adj = c(-0.2,1.7), lwd = 5)\n",
    "area_under_curve <- performance(ROC_predict, measure = \"auc\")\n",
    "area_under_curve@y.values[[1]]"
   ]
  },
  {
   "cell_type": "markdown",
   "metadata": {},
   "source": [
    "### Perform 10-fold cross validation"
   ]
  },
  {
   "cell_type": "code",
   "execution_count": 285,
   "metadata": {},
   "outputs": [
    {
     "data": {
      "text/plain": [
       "Confusion Matrix and Statistics\n",
       "\n",
       "          Reference\n",
       "Prediction     0     1\n",
       "         0 17795    21\n",
       "         1  1194    28\n",
       "                                          \n",
       "               Accuracy : 0.9362          \n",
       "                 95% CI : (0.9326, 0.9396)\n",
       "    No Information Rate : 0.9974          \n",
       "    P-Value [Acc > NIR] : 1               \n",
       "                                          \n",
       "                  Kappa : 0.0393          \n",
       " Mcnemar's Test P-Value : <2e-16          \n",
       "                                          \n",
       "            Sensitivity : 0.93712         \n",
       "            Specificity : 0.57143         \n",
       "         Pos Pred Value : 0.99882         \n",
       "         Neg Pred Value : 0.02291         \n",
       "             Prevalence : 0.99743         \n",
       "         Detection Rate : 0.93471         \n",
       "   Detection Prevalence : 0.93581         \n",
       "      Balanced Accuracy : 0.75428         \n",
       "                                          \n",
       "       'Positive' Class : 0               \n",
       "                                          "
      ]
     },
     "metadata": {},
     "output_type": "display_data"
    },
    {
     "data": {
      "text/html": [
       "<dl class=dl-horizontal>\n",
       "\t<dt>Sensitivity</dt>\n",
       "\t\t<dd>0.937121491389752</dd>\n",
       "\t<dt>Specificity</dt>\n",
       "\t\t<dd>0.571428571428571</dd>\n",
       "\t<dt>Pos Pred Value</dt>\n",
       "\t\t<dd>0.998821284238886</dd>\n",
       "\t<dt>Neg Pred Value</dt>\n",
       "\t\t<dd>0.0229132569558101</dd>\n",
       "\t<dt>Precision</dt>\n",
       "\t\t<dd>0.998821284238886</dd>\n",
       "\t<dt>Recall</dt>\n",
       "\t\t<dd>0.937121491389752</dd>\n",
       "\t<dt>F1</dt>\n",
       "\t\t<dd>0.966988180953675</dd>\n",
       "\t<dt>Prevalence</dt>\n",
       "\t\t<dd>0.997426200231117</dd>\n",
       "\t<dt>Detection Rate</dt>\n",
       "\t\t<dd>0.934709528311797</dd>\n",
       "\t<dt>Detection Prevalence</dt>\n",
       "\t\t<dd>0.935812585355605</dd>\n",
       "\t<dt>Balanced Accuracy</dt>\n",
       "\t\t<dd>0.754275031409162</dd>\n",
       "</dl>\n"
      ],
      "text/latex": [
       "\\begin{description*}\n",
       "\\item[Sensitivity] 0.937121491389752\n",
       "\\item[Specificity] 0.571428571428571\n",
       "\\item[Pos Pred Value] 0.998821284238886\n",
       "\\item[Neg Pred Value] 0.0229132569558101\n",
       "\\item[Precision] 0.998821284238886\n",
       "\\item[Recall] 0.937121491389752\n",
       "\\item[F1] 0.966988180953675\n",
       "\\item[Prevalence] 0.997426200231117\n",
       "\\item[Detection Rate] 0.934709528311797\n",
       "\\item[Detection Prevalence] 0.935812585355605\n",
       "\\item[Balanced Accuracy] 0.754275031409162\n",
       "\\end{description*}\n"
      ],
      "text/markdown": [
       "Sensitivity\n",
       ":   0.937121491389752Specificity\n",
       ":   0.571428571428571Pos Pred Value\n",
       ":   0.998821284238886Neg Pred Value\n",
       ":   0.0229132569558101Precision\n",
       ":   0.998821284238886Recall\n",
       ":   0.937121491389752F1\n",
       ":   0.966988180953675Prevalence\n",
       ":   0.997426200231117Detection Rate\n",
       ":   0.934709528311797Detection Prevalence\n",
       ":   0.935812585355605Balanced Accuracy\n",
       ":   0.754275031409162\n",
       "\n"
      ],
      "text/plain": [
       "         Sensitivity          Specificity       Pos Pred Value \n",
       "          0.93712149           0.57142857           0.99882128 \n",
       "      Neg Pred Value            Precision               Recall \n",
       "          0.02291326           0.99882128           0.93712149 \n",
       "                  F1           Prevalence       Detection Rate \n",
       "          0.96698818           0.99742620           0.93470953 \n",
       "Detection Prevalence    Balanced Accuracy \n",
       "          0.93581259           0.75427503 "
      ]
     },
     "metadata": {},
     "output_type": "display_data"
    }
   ],
   "source": [
    "ctrl <- trainControl(method = \"repeatedcv\", number = 10, savePredictions = TRUE)\n",
    "model_fit <- caret::train(fraud_status ~ Category_Level_2Skin.Care + Category_Level_2Make.Up +\n",
    "                            Category_Level_2Health.and.Beauty.Electricals + \n",
    "                            customer_status + Category_Level_2Body.Care +\n",
    "                            ship_status + destination_int + Product_Charge_Price + num_valid,\n",
    "                          data = train, method = \"glm\", family = binomial(link =\"logit\"),\n",
    "                          trControl = ctrl, tuneLength = 10)\n",
    "pred <- predict(model_fit, newdata = test)\n",
    "conf <- confusionMatrix(data = pred, test$fraud_status)\n",
    "conf\n",
    "conf$byClass"
   ]
  },
  {
   "cell_type": "markdown",
   "metadata": {},
   "source": [
    "### We build a GLM for site 121 using resampling techniques"
   ]
  },
  {
   "cell_type": "markdown",
   "metadata": {},
   "source": [
    "### We turn the fraud status variable into a factor, remove zero variance variables and remove the column corresponding to site key as it is no longer needed in addition to the product key"
   ]
  },
  {
   "cell_type": "code",
   "execution_count": 286,
   "metadata": {
    "collapsed": true
   },
   "outputs": [],
   "source": [
    "glm_data <- read.csv(\"dataset_121.csv\")\n",
    "\n",
    "glm_data <- select(glm_data, -Site_Key, -Ordered_Product_Key)\n",
    "\n",
    "#Removing zero variance variables\n",
    "glm_data <- Filter(function(x) var(x)!=0, glm_data)\n",
    "\n",
    "glm_data$fraud_status <- as.factor((glm_data$fraud_status))\n",
    "\n",
    "glm_data <- select(glm_data, -(1:24), -Campaign_Key, -Ordered_Qty, -Cancelled_Qty, -prop,\n",
    "                   -canc_prop, -count)\n",
    "# After building GLM\n",
    "glm_data <- select(glm_data, -Medium_Key, -pay_key_num, -Payment_Provider_Key,\n",
    "                   -Payment_Method_Key, -Delivery_Option_Type_Key, -Order_Payment_Status_Key,\n",
    "                   -num_valid, -Order_Sequence_No)"
   ]
  },
  {
   "cell_type": "markdown",
   "metadata": {},
   "source": [
    "### We use the Tomek link to find the nearest point between fraud and non-fraud instance, which should be considered as noise and removed"
   ]
  },
  {
   "cell_type": "code",
   "execution_count": 287,
   "metadata": {},
   "outputs": [
    {
     "name": "stdout",
     "output_type": "stream",
     "text": [
      "Instances removed 306 : 0.11 % of 0 class ; 0.11 % of training ; Time needed 0.35 \n"
     ]
    }
   ],
   "source": [
    "set.seed(123)\n",
    "Tomek <- ubTomek(select(glm_data, -fraud_status), glm_data$fraud_status, verbose = TRUE)\n",
    "glm_data <- cbind(Tomek$X, Tomek$Y)\n",
    "glm_data <- rename(glm_data, fraud_status = \"Tomek$Y\")"
   ]
  },
  {
   "cell_type": "markdown",
   "metadata": {},
   "source": [
    "### Select the data that we want to turn into factor type, turn all the variable type into factor, keep the factor which has more than two factor levels, then combine them together again"
   ]
  },
  {
   "cell_type": "code",
   "execution_count": 288,
   "metadata": {
    "collapsed": true
   },
   "outputs": [],
   "source": [
    "temp <- select(glm_data, -Product_Charge_Price)\n",
    "temp[,(1:ncol(temp))] <- lapply(temp[,(1:ncol(temp))],as.factor)\n",
    "nums <- select(glm_data, Product_Charge_Price)\n",
    "glm_data <- cbind(temp, nums)\n",
    "\n",
    "new_data <- glm_data"
   ]
  },
  {
   "cell_type": "markdown",
   "metadata": {},
   "source": [
    "### Create a partition to seperate the data into training and test parts"
   ]
  },
  {
   "cell_type": "code",
   "execution_count": 289,
   "metadata": {
    "collapsed": true
   },
   "outputs": [],
   "source": [
    "set.seed(123)\n",
    "index <- createDataPartition(new_data$fraud_status, p = 0.6, list = FALSE)\n",
    "train <- new_data[index, ]\n",
    "test <- new_data[-index, ]"
   ]
  },
  {
   "cell_type": "markdown",
   "metadata": {},
   "source": [
    "### Train our model using SOMTE"
   ]
  },
  {
   "cell_type": "code",
   "execution_count": 290,
   "metadata": {},
   "outputs": [
    {
     "data": {
      "text/plain": [
       "\n",
       "   0    1 \n",
       "7185 5269 "
      ]
     },
     "metadata": {},
     "output_type": "display_data"
    },
    {
     "data": {
      "text/plain": [
       "\n",
       "        0         1 \n",
       "0.5769231 0.4230769 "
      ]
     },
     "metadata": {},
     "output_type": "display_data"
    }
   ],
   "source": [
    "set.seed(123)\n",
    "train <- SMOTE(fraud_status ~. , train, perc.over = 1000, perc.under = 150)\n",
    "table(train$fraud_status)\n",
    "prop.table(table(train$fraud_status))"
   ]
  },
  {
   "cell_type": "markdown",
   "metadata": {},
   "source": [
    "### Bulid a GLM model, using binomial logit link function, and also calculate the running time"
   ]
  },
  {
   "cell_type": "code",
   "execution_count": 291,
   "metadata": {},
   "outputs": [
    {
     "data": {
      "text/plain": [
       "Time difference of 0.1216011 secs"
      ]
     },
     "metadata": {},
     "output_type": "display_data"
    },
    {
     "data": {
      "text/plain": [
       "\n",
       "Call:\n",
       "glm(formula = fraud_status ~ . - 1, family = binomial(link = \"logit\"), \n",
       "    data = train)\n",
       "\n",
       "Deviance Residuals: \n",
       "    Min       1Q   Median       3Q      Max  \n",
       "-4.1384  -0.4763  -0.4471   0.3664   2.1835  \n",
       "\n",
       "Coefficients:\n",
       "                       Estimate Std. Error z value Pr(>|z|)    \n",
       "customer_status1      3.7752919  0.1623836  23.249  < 2e-16 ***\n",
       "customer_status2      0.4338361  0.0692032   6.269 3.63e-10 ***\n",
       "customer_status3      2.5818043  0.1719953  15.011  < 2e-16 ***\n",
       "customer_status4      3.5504667  0.1195853  29.690  < 2e-16 ***\n",
       "ship_status2          1.6110934  0.0594499  27.100  < 2e-16 ***\n",
       "destination_int2     -2.2594442  0.0696058 -32.461  < 2e-16 ***\n",
       "priority_int2        -0.4614780  0.0555332  -8.310  < 2e-16 ***\n",
       "occupation_int2       4.3573642  0.3282497  13.275  < 2e-16 ***\n",
       "Product_Charge_Price  0.0042987  0.0006443   6.672 2.52e-11 ***\n",
       "---\n",
       "Signif. codes:  0 '***' 0.001 '**' 0.01 '*' 0.05 '.' 0.1 ' ' 1\n",
       "\n",
       "(Dispersion parameter for binomial family taken to be 1)\n",
       "\n",
       "    Null deviance: 17264.9  on 12454  degrees of freedom\n",
       "Residual deviance:  9108.1  on 12445  degrees of freedom\n",
       "AIC: 9126.1\n",
       "\n",
       "Number of Fisher Scoring iterations: 7\n"
      ]
     },
     "metadata": {},
     "output_type": "display_data"
    }
   ],
   "source": [
    "start <- Sys.time()\n",
    "model <- glm(fraud_status ~.-1, data = train, family = binomial(link = \"logit\"))\n",
    "end <- Sys.time()\n",
    "time <- end - start\n",
    "time\n",
    "summary(model)"
   ]
  },
  {
   "cell_type": "markdown",
   "metadata": {},
   "source": [
    "### Use our model to test our test data set, calculate the area under the ROC curve"
   ]
  },
  {
   "cell_type": "code",
   "execution_count": 292,
   "metadata": {},
   "outputs": [
    {
     "data": {
      "text/html": [
       "0.735762815124983"
      ],
      "text/latex": [
       "0.735762815124983"
      ],
      "text/markdown": [
       "0.735762815124983"
      ],
      "text/plain": [
       "[1] 0.7357628"
      ]
     },
     "metadata": {},
     "output_type": "display_data"
    },
    {
     "data": {
      "image/png": "[encoded data removed]",
      "text/plain": [
       "plot without title"
      ]
     },
     "metadata": {},
     "output_type": "display_data"
    }
   ],
   "source": [
    "model_predict <- predict(model, test, type = \"response\")\n",
    "ROC_predict <- prediction(model_predict, test$fraud_status)\n",
    "ROC_performance <- performance(ROC_predict, \"tpr\", \"fpr\")\n",
    "plot(ROC_performance, colorize = TRUE, text.adj = c(-0.2,1.7), lwd = 5)\n",
    "area_under_curve <- performance(ROC_predict, measure = \"auc\")\n",
    "area_under_curve@y.values[[1]]"
   ]
  },
  {
   "cell_type": "markdown",
   "metadata": {},
   "source": [
    "### Perform 10-fold cross validation"
   ]
  },
  {
   "cell_type": "code",
   "execution_count": 293,
   "metadata": {},
   "outputs": [
    {
     "data": {
      "text/plain": [
       "Confusion Matrix and Statistics\n",
       "\n",
       "          Reference\n",
       "Prediction      0      1\n",
       "         0 105586    159\n",
       "         1   8362    159\n",
       "                                          \n",
       "               Accuracy : 0.9254          \n",
       "                 95% CI : (0.9239, 0.9269)\n",
       "    No Information Rate : 0.9972          \n",
       "    P-Value [Acc > NIR] : 1               \n",
       "                                          \n",
       "                  Kappa : 0.0308          \n",
       " Mcnemar's Test P-Value : <2e-16          \n",
       "                                          \n",
       "            Sensitivity : 0.92662         \n",
       "            Specificity : 0.50000         \n",
       "         Pos Pred Value : 0.99850         \n",
       "         Neg Pred Value : 0.01866         \n",
       "             Prevalence : 0.99722         \n",
       "         Detection Rate : 0.92404         \n",
       "   Detection Prevalence : 0.92543         \n",
       "      Balanced Accuracy : 0.71331         \n",
       "                                          \n",
       "       'Positive' Class : 0               \n",
       "                                          "
      ]
     },
     "metadata": {},
     "output_type": "display_data"
    },
    {
     "data": {
      "text/html": [
       "<dl class=dl-horizontal>\n",
       "\t<dt>Sensitivity</dt>\n",
       "\t\t<dd>0.926615649243515</dd>\n",
       "\t<dt>Specificity</dt>\n",
       "\t\t<dd>0.5</dd>\n",
       "\t<dt>Pos Pred Value</dt>\n",
       "\t\t<dd>0.998496382807698</dd>\n",
       "\t<dt>Neg Pred Value</dt>\n",
       "\t\t<dd>0.0186597817157613</dd>\n",
       "\t<dt>Precision</dt>\n",
       "\t\t<dd>0.998496382807698</dd>\n",
       "\t<dt>Recall</dt>\n",
       "\t\t<dd>0.926615649243515</dd>\n",
       "\t<dt>F1</dt>\n",
       "\t\t<dd>0.961214057798838</dd>\n",
       "\t<dt>Prevalence</dt>\n",
       "\t\t<dd>0.997217019935939</dd>\n",
       "\t<dt>Detection Rate</dt>\n",
       "\t\t<dd>0.924036896364623</dd>\n",
       "\t<dt>Detection Prevalence</dt>\n",
       "\t\t<dd>0.925428386396653</dd>\n",
       "\t<dt>Balanced Accuracy</dt>\n",
       "\t\t<dd>0.713307824621757</dd>\n",
       "</dl>\n"
      ],
      "text/latex": [
       "\\begin{description*}\n",
       "\\item[Sensitivity] 0.926615649243515\n",
       "\\item[Specificity] 0.5\n",
       "\\item[Pos Pred Value] 0.998496382807698\n",
       "\\item[Neg Pred Value] 0.0186597817157613\n",
       "\\item[Precision] 0.998496382807698\n",
       "\\item[Recall] 0.926615649243515\n",
       "\\item[F1] 0.961214057798838\n",
       "\\item[Prevalence] 0.997217019935939\n",
       "\\item[Detection Rate] 0.924036896364623\n",
       "\\item[Detection Prevalence] 0.925428386396653\n",
       "\\item[Balanced Accuracy] 0.713307824621757\n",
       "\\end{description*}\n"
      ],
      "text/markdown": [
       "Sensitivity\n",
       ":   0.926615649243515Specificity\n",
       ":   0.5Pos Pred Value\n",
       ":   0.998496382807698Neg Pred Value\n",
       ":   0.0186597817157613Precision\n",
       ":   0.998496382807698Recall\n",
       ":   0.926615649243515F1\n",
       ":   0.961214057798838Prevalence\n",
       ":   0.997217019935939Detection Rate\n",
       ":   0.924036896364623Detection Prevalence\n",
       ":   0.925428386396653Balanced Accuracy\n",
       ":   0.713307824621757\n",
       "\n"
      ],
      "text/plain": [
       "         Sensitivity          Specificity       Pos Pred Value \n",
       "          0.92661565           0.50000000           0.99849638 \n",
       "      Neg Pred Value            Precision               Recall \n",
       "          0.01865978           0.99849638           0.92661565 \n",
       "                  F1           Prevalence       Detection Rate \n",
       "          0.96121406           0.99721702           0.92403690 \n",
       "Detection Prevalence    Balanced Accuracy \n",
       "          0.92542839           0.71330782 "
      ]
     },
     "metadata": {},
     "output_type": "display_data"
    }
   ],
   "source": [
    "ctrl <- trainControl(method = \"repeatedcv\", number = 10, savePredictions = TRUE)\n",
    "model_fit <- caret::train(fraud_status ~ customer_status + Product_Charge_Price +\n",
    "                            ship_status + destination_int +\n",
    "                            priority_int + occupation_int,\n",
    "                          data = train, method = \"glm\", family = binomial(link =\"logit\"),\n",
    "                          trControl = ctrl, tuneLength = 10)\n",
    "pred <- predict(model_fit, newdata = test)\n",
    "conf <- confusionMatrix(data = pred, test$fraud_status)\n",
    "conf\n",
    "conf$byClass"
   ]
  },
  {
   "cell_type": "markdown",
   "metadata": {},
   "source": [
    "### We build a GLM for site 153 using resampling techniques"
   ]
  },
  {
   "cell_type": "markdown",
   "metadata": {},
   "source": [
    "### We turn the fraud status variable into a factor, remove zero variance variables and remove the column corresponding to site key as it is no longer needed in addition to the product key"
   ]
  },
  {
   "cell_type": "code",
   "execution_count": 294,
   "metadata": {
    "collapsed": true
   },
   "outputs": [],
   "source": [
    "glm_data <- read.csv(\"dataset_153.csv\")\n",
    "\n",
    "glm_data <- select(glm_data, -Site_Key, -Ordered_Product_Key)\n",
    "\n",
    "#Removing zero variance variables\n",
    "glm_data <- Filter(function(x) var(x)!=0, glm_data)\n",
    "\n",
    "glm_data$fraud_status <- as.factor((glm_data$fraud_status))\n",
    "\n",
    "glm_data <- select(glm_data, -(1:19), -Campaign_Key, -Ordered_Qty, -Cancelled_Qty, -prop,\n",
    "                   -canc_prop, -count)\n",
    "\n",
    "# After building GLM\n",
    "glm_data <- select(glm_data, -Medium_Key, -pay_key_num, -Payment_Provider_Key,\n",
    "                   -Payment_Method_Key, -Delivery_Option_Type_Key, -Order_Payment_Status_Key,\n",
    "                   -num_valid, -Order_Sequence_No, -priority_int)"
   ]
  },
  {
   "cell_type": "markdown",
   "metadata": {},
   "source": [
    "### We use the Tomek link to find the nearest point between fraud and non-fraud instance, which should be considered as noise and removed"
   ]
  },
  {
   "cell_type": "code",
   "execution_count": 295,
   "metadata": {},
   "outputs": [
    {
     "name": "stdout",
     "output_type": "stream",
     "text": [
      "Instances removed 72 : 0.22 % of 0 class ; 0.22 % of training ; Time needed 0.03 \n"
     ]
    }
   ],
   "source": [
    "set.seed(123)\n",
    "Tomek <- ubTomek(select(glm_data, -fraud_status), glm_data$fraud_status, verbose = TRUE)\n",
    "glm_data <- cbind(Tomek$X, Tomek$Y)\n",
    "glm_data <- rename(glm_data, fraud_status = \"Tomek$Y\")"
   ]
  },
  {
   "cell_type": "markdown",
   "metadata": {},
   "source": [
    "### Turn into factors"
   ]
  },
  {
   "cell_type": "code",
   "execution_count": 296,
   "metadata": {
    "collapsed": true
   },
   "outputs": [],
   "source": [
    "temp <- select(glm_data, -Product_Charge_Price)\n",
    "temp[,(1:ncol(temp))] <- lapply(temp[,(1:ncol(temp))],as.factor)\n",
    "nums <- select(glm_data, Product_Charge_Price)\n",
    "glm_data <- cbind(temp, nums)\n",
    "\n",
    "new_data <- glm_data"
   ]
  },
  {
   "cell_type": "markdown",
   "metadata": {},
   "source": [
    "### Create a partition to seperate the data into training and test parts"
   ]
  },
  {
   "cell_type": "code",
   "execution_count": 297,
   "metadata": {
    "collapsed": true
   },
   "outputs": [],
   "source": [
    "index <- createDataPartition(new_data$fraud_status, p = 0.6, list = FALSE)\n",
    "train <- new_data[index, ]\n",
    "test <- new_data[-index, ]"
   ]
  },
  {
   "cell_type": "markdown",
   "metadata": {},
   "source": [
    "### Train our model using SOMTE"
   ]
  },
  {
   "cell_type": "code",
   "execution_count": 298,
   "metadata": {},
   "outputs": [
    {
     "data": {
      "text/plain": [
       "\n",
       "  0   1 \n",
       "930 682 "
      ]
     },
     "metadata": {},
     "output_type": "display_data"
    },
    {
     "data": {
      "text/plain": [
       "\n",
       "        0         1 \n",
       "0.5769231 0.4230769 "
      ]
     },
     "metadata": {},
     "output_type": "display_data"
    }
   ],
   "source": [
    "set.seed(123)\n",
    "train <- SMOTE(fraud_status ~., train, perc.over = 1000, perc.under = 150)\n",
    "table(train$fraud_status)\n",
    "prop.table(table(train$fraud_status))"
   ]
  },
  {
   "cell_type": "markdown",
   "metadata": {},
   "source": [
    "### Build a GLM model"
   ]
  },
  {
   "cell_type": "code",
   "execution_count": 299,
   "metadata": {},
   "outputs": [
    {
     "data": {
      "text/plain": [
       "Time difference of 0.01702595 secs"
      ]
     },
     "metadata": {},
     "output_type": "display_data"
    },
    {
     "data": {
      "text/plain": [
       "\n",
       "Call:\n",
       "glm(formula = fraud_status ~ . - 1, family = binomial(link = \"logit\"), \n",
       "    data = train)\n",
       "\n",
       "Deviance Residuals: \n",
       "    Min       1Q   Median       3Q      Max  \n",
       "-3.6470  -0.6247  -0.3351   0.4735   2.4049  \n",
       "\n",
       "Coefficients:\n",
       "                      Estimate Std. Error z value Pr(>|z|)    \n",
       "Locale_Key2           1.625789   0.459858   3.535 0.000407 ***\n",
       "Locale_Key6           2.952784   0.446425   6.614 3.73e-11 ***\n",
       "Locale_Key9           2.240471   0.737982   3.036 0.002398 ** \n",
       "Locale_Key12          4.203225   0.470633   8.931  < 2e-16 ***\n",
       "customer_status2     -2.767620   0.414466  -6.678 2.43e-11 ***\n",
       "customer_status3     -2.094661   0.510021  -4.107 4.01e-05 ***\n",
       "customer_status4     -1.645483   0.444370  -3.703 0.000213 ***\n",
       "ship_status2          2.299832   0.235397   9.770  < 2e-16 ***\n",
       "destination_int2     -1.760108   0.178199  -9.877  < 2e-16 ***\n",
       "Product_Charge_Price  0.006244   0.001890   3.304 0.000954 ***\n",
       "---\n",
       "Signif. codes:  0 '***' 0.001 '**' 0.01 '*' 0.05 '.' 0.1 ' ' 1\n",
       "\n",
       "(Dispersion parameter for binomial family taken to be 1)\n",
       "\n",
       "    Null deviance: 2234.7  on 1612  degrees of freedom\n",
       "Residual deviance: 1197.6  on 1602  degrees of freedom\n",
       "AIC: 1217.6\n",
       "\n",
       "Number of Fisher Scoring iterations: 5\n"
      ]
     },
     "metadata": {},
     "output_type": "display_data"
    }
   ],
   "source": [
    "start <- Sys.time()\n",
    "model <- glm(fraud_status ~.-1, data = train, family = binomial(link = \"logit\"))\n",
    "end <- Sys.time()\n",
    "time <- end - start\n",
    "time\n",
    "summary(model)"
   ]
  },
  {
   "cell_type": "markdown",
   "metadata": {},
   "source": [
    "### Use our model to test our test data set, calculate the area under the ROC curve"
   ]
  },
  {
   "cell_type": "code",
   "execution_count": 300,
   "metadata": {},
   "outputs": [
    {
     "data": {
      "text/html": [
       "0.916987928348921"
      ],
      "text/latex": [
       "0.916987928348921"
      ],
      "text/markdown": [
       "0.916987928348921"
      ],
      "text/plain": [
       "[1] 0.9169879"
      ]
     },
     "metadata": {},
     "output_type": "display_data"
    },
    {
     "data": {
      "image/png": "[encoded data removed]",
      "text/plain": [
       "plot without title"
      ]
     },
     "metadata": {},
     "output_type": "display_data"
    }
   ],
   "source": [
    "model_predict <- predict(model, test, type = \"response\")\n",
    "ROC_predict <- prediction(model_predict, test$fraud_status)\n",
    "ROC_performance <- performance(ROC_predict, \"tpr\", \"fpr\")\n",
    "plot(ROC_performance, colorize = TRUE, text.adj = c(-0.2,1.7), lwd = 5)\n",
    "area_under_curve <- performance(ROC_predict, measure = \"auc\")\n",
    "area_under_curve@y.values[[1]]"
   ]
  },
  {
   "cell_type": "markdown",
   "metadata": {},
   "source": [
    "### Perform 10-fold cross validation"
   ]
  },
  {
   "cell_type": "code",
   "execution_count": 301,
   "metadata": {},
   "outputs": [
    {
     "data": {
      "text/plain": [
       "Confusion Matrix and Statistics\n",
       "\n",
       "          Reference\n",
       "Prediction     0     1\n",
       "         0 11556     9\n",
       "         1  1284    31\n",
       "                                          \n",
       "               Accuracy : 0.8996          \n",
       "                 95% CI : (0.8943, 0.9047)\n",
       "    No Information Rate : 0.9969          \n",
       "    P-Value [Acc > NIR] : 1               \n",
       "                                          \n",
       "                  Kappa : 0.04            \n",
       " Mcnemar's Test P-Value : <2e-16          \n",
       "                                          \n",
       "            Sensitivity : 0.90000         \n",
       "            Specificity : 0.77500         \n",
       "         Pos Pred Value : 0.99922         \n",
       "         Neg Pred Value : 0.02357         \n",
       "             Prevalence : 0.99689         \n",
       "         Detection Rate : 0.89720         \n",
       "   Detection Prevalence : 0.89790         \n",
       "      Balanced Accuracy : 0.83750         \n",
       "                                          \n",
       "       'Positive' Class : 0               \n",
       "                                          "
      ]
     },
     "metadata": {},
     "output_type": "display_data"
    },
    {
     "data": {
      "text/html": [
       "<dl class=dl-horizontal>\n",
       "\t<dt>Sensitivity</dt>\n",
       "\t\t<dd>0.9</dd>\n",
       "\t<dt>Specificity</dt>\n",
       "\t\t<dd>0.775</dd>\n",
       "\t<dt>Pos Pred Value</dt>\n",
       "\t\t<dd>0.999221789883269</dd>\n",
       "\t<dt>Neg Pred Value</dt>\n",
       "\t\t<dd>0.0235741444866917</dd>\n",
       "\t<dt>Precision</dt>\n",
       "\t\t<dd>0.999221789883268</dd>\n",
       "\t<dt>Recall</dt>\n",
       "\t\t<dd>0.9</dd>\n",
       "\t<dt>F1</dt>\n",
       "\t\t<dd>0.947019053472649</dd>\n",
       "\t<dt>Prevalence</dt>\n",
       "\t\t<dd>0.996894409937888</dd>\n",
       "\t<dt>Detection Rate</dt>\n",
       "\t\t<dd>0.897204968944099</dd>\n",
       "\t<dt>Detection Prevalence</dt>\n",
       "\t\t<dd>0.897903726708075</dd>\n",
       "\t<dt>Balanced Accuracy</dt>\n",
       "\t\t<dd>0.8375</dd>\n",
       "</dl>\n"
      ],
      "text/latex": [
       "\\begin{description*}\n",
       "\\item[Sensitivity] 0.9\n",
       "\\item[Specificity] 0.775\n",
       "\\item[Pos Pred Value] 0.999221789883269\n",
       "\\item[Neg Pred Value] 0.0235741444866917\n",
       "\\item[Precision] 0.999221789883268\n",
       "\\item[Recall] 0.9\n",
       "\\item[F1] 0.947019053472649\n",
       "\\item[Prevalence] 0.996894409937888\n",
       "\\item[Detection Rate] 0.897204968944099\n",
       "\\item[Detection Prevalence] 0.897903726708075\n",
       "\\item[Balanced Accuracy] 0.8375\n",
       "\\end{description*}\n"
      ],
      "text/markdown": [
       "Sensitivity\n",
       ":   0.9Specificity\n",
       ":   0.775Pos Pred Value\n",
       ":   0.999221789883269Neg Pred Value\n",
       ":   0.0235741444866917Precision\n",
       ":   0.999221789883268Recall\n",
       ":   0.9F1\n",
       ":   0.947019053472649Prevalence\n",
       ":   0.996894409937888Detection Rate\n",
       ":   0.897204968944099Detection Prevalence\n",
       ":   0.897903726708075Balanced Accuracy\n",
       ":   0.8375\n",
       "\n"
      ],
      "text/plain": [
       "         Sensitivity          Specificity       Pos Pred Value \n",
       "          0.90000000           0.77500000           0.99922179 \n",
       "      Neg Pred Value            Precision               Recall \n",
       "          0.02357414           0.99922179           0.90000000 \n",
       "                  F1           Prevalence       Detection Rate \n",
       "          0.94701905           0.99689441           0.89720497 \n",
       "Detection Prevalence    Balanced Accuracy \n",
       "          0.89790373           0.83750000 "
      ]
     },
     "metadata": {},
     "output_type": "display_data"
    }
   ],
   "source": [
    "ctrl <- trainControl(method = \"repeatedcv\", number = 10, savePredictions = TRUE)\n",
    "model_fit <- caret::train(fraud_status ~ customer_status + Product_Charge_Price +\n",
    "                            ship_status + destination_int + Locale_Key,\n",
    "                          data = train, method = \"glm\", family = binomial(link =\"logit\"),\n",
    "                          trControl = ctrl, tuneLength = 10)\n",
    "pred <- predict(model_fit, newdata = test)\n",
    "conf <- confusionMatrix(data = pred, test$fraud_status)\n",
    "conf\n",
    "conf$byClass"
   ]
  },
  {
   "cell_type": "markdown",
   "metadata": {},
   "source": [
    "### We build a GLM for all the sites using resampling techniques"
   ]
  },
  {
   "cell_type": "markdown",
   "metadata": {},
   "source": [
    "### We turn the fraud status variable into a factor, remove zero variance variables and remove the column corresponding to site key as it is no longer needed in addition to the product key"
   ]
  },
  {
   "cell_type": "code",
   "execution_count": 309,
   "metadata": {
    "collapsed": true
   },
   "outputs": [],
   "source": [
    "glm_data <- read.csv(\"ALL_Data.csv\")\n",
    "glm_data <- select(glm_data, -Ordered_Product_Key)\n",
    "\n",
    "glm_data <- filter(glm_data, Site_Key!='119')\n",
    "glm_data <- filter(glm_data, Site_Key!='120')\n",
    "\n",
    "#Removing zero variance variables\n",
    "glm_data <- Filter(function(x) var(x)!=0, glm_data)\n",
    "\n",
    "glm_data$fraud_status <- as.factor((glm_data$fraud_status))\n",
    "\n",
    "glm_data <- select(glm_data, -(1:28), -Campaign_Key, -Ordered_Qty, -Cancelled_Qty, -prop,\n",
    "                   -canc_prop, -count, -num_valid)"
   ]
  },
  {
   "cell_type": "markdown",
   "metadata": {},
   "source": [
    "### We use the Tomek link to find the nearest point between fraud and non-fraud instance, which should be considered as noise and removed"
   ]
  },
  {
   "cell_type": "code",
   "execution_count": 310,
   "metadata": {},
   "outputs": [
    {
     "name": "stdout",
     "output_type": "stream",
     "text": [
      "Instances removed 578 : 0.15 % of 0 class ; 0.15 % of training ; Time needed 0.78 \n"
     ]
    }
   ],
   "source": [
    "set.seed(123)\n",
    "Tomek <- ubTomek(select(glm_data, -fraud_status), glm_data$fraud_status, verbose = TRUE)\n",
    "glm_data <- cbind(Tomek$X, Tomek$Y)\n",
    "glm_data <- rename(glm_data, fraud_status = \"Tomek$Y\")"
   ]
  },
  {
   "cell_type": "markdown",
   "metadata": {},
   "source": [
    "### Turn into factors"
   ]
  },
  {
   "cell_type": "code",
   "execution_count": 311,
   "metadata": {
    "collapsed": true
   },
   "outputs": [],
   "source": [
    "# After building GLM\n",
    "glm_data <- select(glm_data, -Order_Sequence_No, -Payment_Method_Key, -pay_key_num,\n",
    "                   -Medium_Key)\n",
    "temp <- select(glm_data, -Product_Charge_Price)\n",
    "temp[,(1:ncol(temp))] <- lapply(temp[,(1:ncol(temp))],as.factor)\n",
    "nums <- select(glm_data, Product_Charge_Price)\n",
    "glm_data <- cbind(temp, nums)\n",
    "\n",
    "new_data <- glm_data"
   ]
  },
  {
   "cell_type": "markdown",
   "metadata": {},
   "source": [
    "### Create a partition to seperate the data into training and test parts"
   ]
  },
  {
   "cell_type": "code",
   "execution_count": 312,
   "metadata": {
    "collapsed": true
   },
   "outputs": [],
   "source": [
    "set.seed(123)\n",
    "index <- createDataPartition(new_data$fraud_status, p = 0.6, list = FALSE)\n",
    "train <- new_data[index, ]\n",
    "test <- new_data[-index, ]"
   ]
  },
  {
   "cell_type": "markdown",
   "metadata": {},
   "source": [
    "### Train our model using SOMTE"
   ]
  },
  {
   "cell_type": "code",
   "execution_count": 313,
   "metadata": {},
   "outputs": [
    {
     "data": {
      "text/plain": [
       "\n",
       "    0     1 \n",
       "10905  7997 "
      ]
     },
     "metadata": {},
     "output_type": "display_data"
    },
    {
     "data": {
      "text/plain": [
       "\n",
       "        0         1 \n",
       "0.5769231 0.4230769 "
      ]
     },
     "metadata": {},
     "output_type": "display_data"
    }
   ],
   "source": [
    "set.seed(123)\n",
    "train <- SMOTE(fraud_status ~., train, perc.over = 1000, perc.under = 150)\n",
    "table(train$fraud_status)\n",
    "prop.table(table(train$fraud_status))"
   ]
  },
  {
   "cell_type": "markdown",
   "metadata": {},
   "source": [
    "### Build a GLM model"
   ]
  },
  {
   "cell_type": "code",
   "execution_count": 314,
   "metadata": {},
   "outputs": [
    {
     "data": {
      "text/plain": [
       "Time difference of 1.017732 secs"
      ]
     },
     "metadata": {},
     "output_type": "display_data"
    },
    {
     "data": {
      "text/plain": [
       "\n",
       "Call:\n",
       "glm(formula = fraud_status ~ ., family = binomial(link = \"logit\"), \n",
       "    data = train)\n",
       "\n",
       "Deviance Residuals: \n",
       "    Min       1Q   Median       3Q      Max  \n",
       "-4.1592  -0.2979   0.0000   0.2506   3.4193  \n",
       "\n",
       "Coefficients:\n",
       "                             Estimate Std. Error z value Pr(>|z|)    \n",
       "(Intercept)                 2.139e+00  8.954e-01   2.389 0.016889 *  \n",
       "Delivery_Option_Type_Key1  -8.220e-01  8.071e-01  -1.018 0.308463    \n",
       "Delivery_Option_Type_Key2   1.663e+00  8.195e-01   2.029 0.042470 *  \n",
       "Delivery_Option_Type_Key3   2.080e+00  8.837e-01   2.354 0.018590 *  \n",
       "Delivery_Option_Type_Key5  -1.113e-01  8.102e-01  -0.137 0.890734    \n",
       "Delivery_Option_Type_Key6   3.343e-01  8.091e-01   0.413 0.679520    \n",
       "Delivery_Option_Type_Key7   8.731e-01  8.119e-01   1.075 0.282212    \n",
       "Delivery_Option_Type_Key11  3.460e+00  1.010e+00   3.427 0.000611 ***\n",
       "Delivery_Option_Type_Key12 -2.497e+01  1.075e+04  -0.002 0.998147    \n",
       "Locale_Key3                 2.811e+00  3.203e-01   8.775  < 2e-16 ***\n",
       "Locale_Key6                 4.039e+00  3.254e-01  12.413  < 2e-16 ***\n",
       "Locale_Key9                 1.329e+00  7.872e-01   1.688 0.091393 .  \n",
       "Locale_Key12                4.628e+00  3.426e-01  13.508  < 2e-16 ***\n",
       "Order_Payment_Status_Key1  -1.298e+00  3.051e-01  -4.255 2.09e-05 ***\n",
       "Order_Payment_Status_Key6  -2.420e+01  6.134e+03  -0.004 0.996852    \n",
       "Order_Payment_Status_Key7   1.698e+00  7.715e-02  22.006  < 2e-16 ***\n",
       "Order_Payment_Status_Key9  -2.693e+00  5.205e-01  -5.174 2.30e-07 ***\n",
       "Payment_Provider_Key1      -2.104e+00  9.716e-02 -21.654  < 2e-16 ***\n",
       "Payment_Provider_Key2      -2.025e+01  2.041e+02  -0.099 0.920964    \n",
       "Payment_Provider_Key3      -2.625e+00  3.294e-01  -7.967 1.62e-15 ***\n",
       "Payment_Provider_Key4      -2.077e+01  4.263e+02  -0.049 0.961134    \n",
       "Payment_Provider_Key5      -7.763e-01  1.308e-01  -5.934 2.95e-09 ***\n",
       "customer_status2           -3.305e+00  1.776e-01 -18.615  < 2e-16 ***\n",
       "customer_status3           -1.933e+00  2.091e-01  -9.246  < 2e-16 ***\n",
       "customer_status4           -1.449e+00  1.939e-01  -7.474 7.77e-14 ***\n",
       "ship_status2                1.210e+00  5.959e-02  20.314  < 2e-16 ***\n",
       "destination_int2           -8.294e-01  7.287e-02 -11.383  < 2e-16 ***\n",
       "priority_int2              -4.522e-02  8.566e-02  -0.528 0.597546    \n",
       "occupation_int2             2.500e+00  3.768e-01   6.635 3.25e-11 ***\n",
       "Site_Key15                 -8.046e-01  1.364e-01  -5.897 3.69e-09 ***\n",
       "Site_Key121                -1.023e+00  1.231e-01  -8.311  < 2e-16 ***\n",
       "Site_Key153                 4.624e-01  1.454e-01   3.180 0.001472 ** \n",
       "Product_Charge_Price        2.867e-03  5.563e-04   5.153 2.56e-07 ***\n",
       "---\n",
       "Signif. codes:  0 '***' 0.001 '**' 0.01 '*' 0.05 '.' 0.1 ' ' 1\n",
       "\n",
       "(Dispersion parameter for binomial family taken to be 1)\n",
       "\n",
       "    Null deviance: 25754.6  on 18901  degrees of freedom\n",
       "Residual deviance:  9191.4  on 18869  degrees of freedom\n",
       "AIC: 9257.4\n",
       "\n",
       "Number of Fisher Scoring iterations: 18\n"
      ]
     },
     "metadata": {},
     "output_type": "display_data"
    }
   ],
   "source": [
    "start <- Sys.time()\n",
    "model <- glm(fraud_status ~., data = train, family = binomial(link = \"logit\"))\n",
    "end <- Sys.time()\n",
    "time <- end - start\n",
    "time\n",
    "summary(model)"
   ]
  },
  {
   "cell_type": "markdown",
   "metadata": {},
   "source": [
    "### Use our model to test our test data set, calculate the area under the ROC curve"
   ]
  },
  {
   "cell_type": "code",
   "execution_count": 315,
   "metadata": {},
   "outputs": [
    {
     "data": {
      "text/html": [
       "0.883512949950787"
      ],
      "text/latex": [
       "0.883512949950787"
      ],
      "text/markdown": [
       "0.883512949950787"
      ],
      "text/plain": [
       "[1] 0.8835129"
      ]
     },
     "metadata": {},
     "output_type": "display_data"
    },
    {
     "data": {
      "image/png": "[encoded data removed]",
      "text/plain": [
       "plot without title"
      ]
     },
     "metadata": {},
     "output_type": "display_data"
    }
   ],
   "source": [
    "model_predict <- predict(model, test, type = \"response\")\n",
    "ROC_predict <- prediction(model_predict, test$fraud_status)\n",
    "ROC_performance <- performance(ROC_predict, \"tpr\", \"fpr\")\n",
    "plot(ROC_performance, colorize = TRUE, text.adj = c(-0.2,1.7), lwd = 5)\n",
    "area_under_curve <- performance(ROC_predict, measure = \"auc\")\n",
    "area_under_curve@y.values[[1]]"
   ]
  },
  {
   "cell_type": "markdown",
   "metadata": {},
   "source": [
    "### We build a GLM for all the sites without using resampling techniques"
   ]
  },
  {
   "cell_type": "markdown",
   "metadata": {},
   "source": [
    "### We turn the fraud status variable into a factor, remove zero variance variables and remove the column corresponding to site key as it is no longer needed in addition to the product key"
   ]
  },
  {
   "cell_type": "code",
   "execution_count": 1,
   "metadata": {},
   "outputs": [
    {
     "name": "stderr",
     "output_type": "stream",
     "text": [
      "Warning message in file(file, \"rt\"):\n",
      "\"cannot open file 'ALL_Data.csv': No such file or directory\""
     ]
    },
    {
     "ename": "ERROR",
     "evalue": "Error in file(file, \"rt\"): cannot open the connection\n",
     "output_type": "error",
     "traceback": [
      "Error in file(file, \"rt\"): cannot open the connection\nTraceback:\n",
      "1. read.csv(\"ALL_Data.csv\")",
      "2. read.table(file = file, header = header, sep = sep, quote = quote, \n .     dec = dec, fill = fill, comment.char = comment.char, ...)",
      "3. file(file, \"rt\")"
     ]
    }
   ],
   "source": [
    "glm_data <- read.csv(\"ALL_Data.csv\")\n",
    "glm_data <- select(glm_data, -Ordered_Product_Key)\n",
    "\n",
    "glm_data <- filter(glm_data, Site_Key!='119')\n",
    "glm_data <- filter(glm_data, Site_Key!='120')\n",
    "\n",
    "#Removing zero variance variables\n",
    "glm_data <- Filter(function(x) var(x)!=0, glm_data)\n",
    "\n",
    "glm_data$fraud_status <- as.factor((glm_data$fraud_status))\n",
    "\n",
    "glm_data <- select(glm_data, -(1:28), -Campaign_Key, -Ordered_Qty, -Cancelled_Qty, -prop,\n",
    "                   -canc_prop, -count, -num_valid)"
   ]
  },
  {
   "cell_type": "markdown",
   "metadata": {},
   "source": [
    "### We use the Tomek link to find the nearest point between fraud and non-fraud instance, which should be considered as noise and removed"
   ]
  },
  {
   "cell_type": "code",
   "execution_count": 318,
   "metadata": {},
   "outputs": [
    {
     "name": "stdout",
     "output_type": "stream",
     "text": [
      "Instances removed 578 : 0.15 % of 0 class ; 0.15 % of training ; Time needed 0.95 \n"
     ]
    }
   ],
   "source": [
    "set.seed(123)\n",
    "Tomek <- ubTomek(select(glm_data, -fraud_status), glm_data$fraud_status, verbose = TRUE)\n",
    "glm_data <- cbind(Tomek$X, Tomek$Y)\n",
    "glm_data <- rename(glm_data, fraud_status = \"Tomek$Y\")"
   ]
  },
  {
   "cell_type": "markdown",
   "metadata": {},
   "source": [
    "### Turn into factors"
   ]
  },
  {
   "cell_type": "code",
   "execution_count": 319,
   "metadata": {
    "collapsed": true
   },
   "outputs": [],
   "source": [
    "# Turn into factors\n",
    "temp <- select(glm_data, -Product_Charge_Price)\n",
    "temp[,(1:ncol(temp))] <- lapply(temp[,(1:ncol(temp))],as.factor)\n",
    "nums <- select(glm_data, Product_Charge_Price)\n",
    "glm_data <- cbind(temp, nums)\n",
    "\n",
    "new_data <- glm_data"
   ]
  },
  {
   "cell_type": "markdown",
   "metadata": {},
   "source": [
    "### Create a partition to seperate the data into training and test parts"
   ]
  },
  {
   "cell_type": "code",
   "execution_count": null,
   "metadata": {
    "collapsed": true
   },
   "outputs": [],
   "source": [
    "set.seed(123)\n",
    "index <- createDataPartition(new_data$fraud_status, p = 0.6, list = FALSE)\n",
    "train <- new_data[index, ]\n",
    "test <- new_data[-index, ]"
   ]
  },
  {
   "cell_type": "markdown",
   "metadata": {},
   "source": [
    "### Build a GLM model"
   ]
  },
  {
   "cell_type": "code",
   "execution_count": null,
   "metadata": {
    "collapsed": true
   },
   "outputs": [],
   "source": [
    "start <- Sys.time()\n",
    "model <- glm(fraud_status ~., data = train, family = binomial(link = \"logit\"))\n",
    "end <- Sys.time()\n",
    "time <- end - start\n",
    "time\n",
    "summary(model)"
   ]
  },
  {
   "cell_type": "markdown",
   "metadata": {},
   "source": [
    "### Use our model to test our test data set, calculate the area under the ROC curve\n"
   ]
  },
  {
   "cell_type": "code",
   "execution_count": null,
   "metadata": {
    "collapsed": true
   },
   "outputs": [],
   "source": [
    "model_predict <- predict(model, test, type = \"response\")\n",
    "ROC_predict <- prediction(model_predict, test$fraud_status)\n",
    "ROC_performance <- performance(ROC_predict, \"tpr\", \"fpr\")\n",
    "plot(ROC_performance, colorize = TRUE, text.adj = c(-0.2,1.7), lwd = 5)\n",
    "area_under_curve <- performance(ROC_predict, measure = \"auc\")\n",
    "area_under_curve@y.values[[1]]"
   ]
  },
  {
   "cell_type": "markdown",
   "metadata": {},
   "source": [
    "### Perform 10-fold cross validation"
   ]
  },
  {
   "cell_type": "code",
   "execution_count": null,
   "metadata": {
    "collapsed": true
   },
   "outputs": [],
   "source": [
    "ctrl <- trainControl(method = \"repeatedcv\", number = 10, savePredictions = TRUE)\n",
    "model_fit <- caret::train(fraud_status ~.,\n",
    "                          data = train, method = \"glm\", family = binomial(link =\"logit\"),\n",
    "                          trControl = ctrl, tuneLength = 10)\n",
    "pred <- predict(model_fit, newdata = test)\n",
    "conf <- confusionMatrix(data = pred, test$fraud_status)\n",
    "conf\n",
    "conf$byClass"
   ]
  }
 ],
 "metadata": {
  "kernelspec": {
   "display_name": "R",
   "language": "R",
   "name": "ir"
  },
  "language_info": {
   "codemirror_mode": "r",
   "file_extension": ".r",
   "mimetype": "text/x-r-source",
   "name": "R",
   "pygments_lexer": "r",
   "version": "3.4.2"
  }
 },
 "nbformat": 4,
 "nbformat_minor": 2
}
