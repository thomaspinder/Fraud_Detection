{
 "cells": [
  {
   "cell_type": "markdown",
   "metadata": {},
   "source": [
    "<h1><center>GLM Site11 with no SMOTE</center></h1>\n",
    "\n",
    "#### Author: Luke\n"
   ]
  },
  {
   "cell_type": "markdown",
   "metadata": {},
   "source": [
    "### Load all the packages that we need"
   ]
  },
  {
   "cell_type": "code",
   "execution_count": 2,
   "metadata": {
    "collapsed": true
   },
   "outputs": [],
   "source": [
    "options(warn = -1)\n",
    "library(caret)\n",
    "library(dplyr)\n",
    "library(corrplot)\n",
    "library(DMwR)\n",
    "library(unbalanced)\n",
    "library(ROCR)\n",
    "library(pROC)\n",
    "library(boot)\n"
   ]
  },
  {
   "cell_type": "markdown",
   "metadata": {},
   "source": [
    "### Set working directory and read data, change fraud status as factor, omit the site key and ordered product key which we do not need"
   ]
  },
  {
   "cell_type": "code",
   "execution_count": 3,
   "metadata": {},
   "outputs": [
    {
     "data": {
      "text/html": [
       "<table>\n",
       "<thead><tr><th scope=col>Category_Level_2Accessories</th><th scope=col>Category_Level_2Bags</th><th scope=col>Category_Level_2Beauty.Boxes</th><th scope=col>Category_Level_2Body.Care</th><th scope=col>Category_Level_2Books</th><th scope=col>Category_Level_2Clothing</th><th scope=col>Category_Level_2DVD.and.Blu.Ray</th><th scope=col>Category_Level_2Footwear</th><th scope=col>Category_Level_2Fragrance</th><th scope=col>Category_Level_2Games</th><th scope=col>⋯</th><th scope=col>num_valid</th><th scope=col>count</th><th scope=col>prop</th><th scope=col>customer_status</th><th scope=col>canc_prop</th><th scope=col>ship_status</th><th scope=col>fraud_status</th><th scope=col>destination_int</th><th scope=col>priority_int</th><th scope=col>occupation_int</th></tr></thead>\n",
       "<tbody>\n",
       "\t<tr><td>0</td><td>0</td><td>0</td><td>0</td><td>0</td><td>0</td><td>0</td><td>1</td><td>0</td><td>0</td><td>⋯</td><td>1</td><td>1</td><td>1</td><td>2</td><td>0</td><td>1</td><td>0</td><td>2</td><td>2</td><td>1</td></tr>\n",
       "\t<tr><td>0</td><td>0</td><td>0</td><td>0</td><td>0</td><td>0</td><td>0</td><td>1</td><td>0</td><td>0</td><td>⋯</td><td>1</td><td>1</td><td>1</td><td>2</td><td>0</td><td>1</td><td>0</td><td>2</td><td>2</td><td>1</td></tr>\n",
       "\t<tr><td>0</td><td>0</td><td>0</td><td>0</td><td>0</td><td>0</td><td>0</td><td>1</td><td>0</td><td>0</td><td>⋯</td><td>0</td><td>2</td><td>0</td><td>3</td><td>1</td><td>1</td><td>0</td><td>1</td><td>1</td><td>1</td></tr>\n",
       "\t<tr><td>0</td><td>0</td><td>0</td><td>0</td><td>0</td><td>0</td><td>0</td><td>1</td><td>0</td><td>0</td><td>⋯</td><td>2</td><td>2</td><td>1</td><td>2</td><td>0</td><td>1</td><td>0</td><td>1</td><td>1</td><td>1</td></tr>\n",
       "\t<tr><td>0</td><td>0</td><td>0</td><td>0</td><td>0</td><td>0</td><td>0</td><td>1</td><td>0</td><td>0</td><td>⋯</td><td>2</td><td>2</td><td>1</td><td>2</td><td>0</td><td>1</td><td>0</td><td>1</td><td>1</td><td>1</td></tr>\n",
       "\t<tr><td>0</td><td>0</td><td>0</td><td>0</td><td>0</td><td>0</td><td>0</td><td>1</td><td>0</td><td>0</td><td>⋯</td><td>0</td><td>2</td><td>0</td><td>3</td><td>1</td><td>1</td><td>0</td><td>2</td><td>1</td><td>1</td></tr>\n",
       "</tbody>\n",
       "</table>\n"
      ],
      "text/latex": [
       "\\begin{tabular}{r|llllllllllllllllllllllllllllllllllllllllllllllllll}\n",
       " Category\\_Level\\_2Accessories & Category\\_Level\\_2Bags & Category\\_Level\\_2Beauty.Boxes & Category\\_Level\\_2Body.Care & Category\\_Level\\_2Books & Category\\_Level\\_2Clothing & Category\\_Level\\_2DVD.and.Blu.Ray & Category\\_Level\\_2Footwear & Category\\_Level\\_2Fragrance & Category\\_Level\\_2Games & ⋯ & num\\_valid & count & prop & customer\\_status & canc\\_prop & ship\\_status & fraud\\_status & destination\\_int & priority\\_int & occupation\\_int\\\\\n",
       "\\hline\n",
       "\t 0 & 0 & 0 & 0 & 0 & 0 & 0 & 1 & 0 & 0 & ⋯ & 1 & 1 & 1 & 2 & 0 & 1 & 0 & 2 & 2 & 1\\\\\n",
       "\t 0 & 0 & 0 & 0 & 0 & 0 & 0 & 1 & 0 & 0 & ⋯ & 1 & 1 & 1 & 2 & 0 & 1 & 0 & 2 & 2 & 1\\\\\n",
       "\t 0 & 0 & 0 & 0 & 0 & 0 & 0 & 1 & 0 & 0 & ⋯ & 0 & 2 & 0 & 3 & 1 & 1 & 0 & 1 & 1 & 1\\\\\n",
       "\t 0 & 0 & 0 & 0 & 0 & 0 & 0 & 1 & 0 & 0 & ⋯ & 2 & 2 & 1 & 2 & 0 & 1 & 0 & 1 & 1 & 1\\\\\n",
       "\t 0 & 0 & 0 & 0 & 0 & 0 & 0 & 1 & 0 & 0 & ⋯ & 2 & 2 & 1 & 2 & 0 & 1 & 0 & 1 & 1 & 1\\\\\n",
       "\t 0 & 0 & 0 & 0 & 0 & 0 & 0 & 1 & 0 & 0 & ⋯ & 0 & 2 & 0 & 3 & 1 & 1 & 0 & 2 & 1 & 1\\\\\n",
       "\\end{tabular}\n"
      ],
      "text/markdown": [
       "\n",
       "Category_Level_2Accessories | Category_Level_2Bags | Category_Level_2Beauty.Boxes | Category_Level_2Body.Care | Category_Level_2Books | Category_Level_2Clothing | Category_Level_2DVD.and.Blu.Ray | Category_Level_2Footwear | Category_Level_2Fragrance | Category_Level_2Games | ⋯ | num_valid | count | prop | customer_status | canc_prop | ship_status | fraud_status | destination_int | priority_int | occupation_int | \n",
       "|---|---|---|---|---|---|\n",
       "| 0 | 0 | 0 | 0 | 0 | 0 | 0 | 1 | 0 | 0 | ⋯ | 1 | 1 | 1 | 2 | 0 | 1 | 0 | 2 | 2 | 1 | \n",
       "| 0 | 0 | 0 | 0 | 0 | 0 | 0 | 1 | 0 | 0 | ⋯ | 1 | 1 | 1 | 2 | 0 | 1 | 0 | 2 | 2 | 1 | \n",
       "| 0 | 0 | 0 | 0 | 0 | 0 | 0 | 1 | 0 | 0 | ⋯ | 0 | 2 | 0 | 3 | 1 | 1 | 0 | 1 | 1 | 1 | \n",
       "| 0 | 0 | 0 | 0 | 0 | 0 | 0 | 1 | 0 | 0 | ⋯ | 2 | 2 | 1 | 2 | 0 | 1 | 0 | 1 | 1 | 1 | \n",
       "| 0 | 0 | 0 | 0 | 0 | 0 | 0 | 1 | 0 | 0 | ⋯ | 2 | 2 | 1 | 2 | 0 | 1 | 0 | 1 | 1 | 1 | \n",
       "| 0 | 0 | 0 | 0 | 0 | 0 | 0 | 1 | 0 | 0 | ⋯ | 0 | 2 | 0 | 3 | 1 | 1 | 0 | 2 | 1 | 1 | \n",
       "\n",
       "\n"
      ],
      "text/plain": [
       "  Category_Level_2Accessories Category_Level_2Bags Category_Level_2Beauty.Boxes\n",
       "1 0                           0                    0                           \n",
       "2 0                           0                    0                           \n",
       "3 0                           0                    0                           \n",
       "4 0                           0                    0                           \n",
       "5 0                           0                    0                           \n",
       "6 0                           0                    0                           \n",
       "  Category_Level_2Body.Care Category_Level_2Books Category_Level_2Clothing\n",
       "1 0                         0                     0                       \n",
       "2 0                         0                     0                       \n",
       "3 0                         0                     0                       \n",
       "4 0                         0                     0                       \n",
       "5 0                         0                     0                       \n",
       "6 0                         0                     0                       \n",
       "  Category_Level_2DVD.and.Blu.Ray Category_Level_2Footwear\n",
       "1 0                               1                       \n",
       "2 0                               1                       \n",
       "3 0                               1                       \n",
       "4 0                               1                       \n",
       "5 0                               1                       \n",
       "6 0                               1                       \n",
       "  Category_Level_2Fragrance Category_Level_2Games ⋯ num_valid count prop\n",
       "1 0                         0                     ⋯ 1         1     1   \n",
       "2 0                         0                     ⋯ 1         1     1   \n",
       "3 0                         0                     ⋯ 0         2     0   \n",
       "4 0                         0                     ⋯ 2         2     1   \n",
       "5 0                         0                     ⋯ 2         2     1   \n",
       "6 0                         0                     ⋯ 0         2     0   \n",
       "  customer_status canc_prop ship_status fraud_status destination_int\n",
       "1 2               0         1           0            2              \n",
       "2 2               0         1           0            2              \n",
       "3 3               1         1           0            1              \n",
       "4 2               0         1           0            1              \n",
       "5 2               0         1           0            1              \n",
       "6 3               1         1           0            2              \n",
       "  priority_int occupation_int\n",
       "1 2            1             \n",
       "2 2            1             \n",
       "3 1            1             \n",
       "4 1            1             \n",
       "5 1            1             \n",
       "6 1            1             "
      ]
     },
     "metadata": {},
     "output_type": "display_data"
    }
   ],
   "source": [
    "setwd(\"/Users/sunmengnan/Documents/Github2/thgfd/data/stratified\")\n",
    "glm_data <- read.csv(\"dataset_11.csv\")\n",
    "glm_data$fraud_status <- as.factor((glm_data$fraud_status))\n",
    "glm_data <- select(glm_data, -Site_Key, -Ordered_Product_Key)\n",
    "head(glm_data)"
   ]
  },
  {
   "cell_type": "markdown",
   "metadata": {},
   "source": [
    "### select the data that we want to turn into factor type, turn all the variable type into factor, keep the factor which has more than two factor levels, then combine them together again"
   ]
  },
  {
   "cell_type": "code",
   "execution_count": 5,
   "metadata": {
    "collapsed": true
   },
   "outputs": [],
   "source": [
    "temp <- select(glm_data, -prop, -canc_prop, -Product_Charge_Price, -num_valid, \n",
    "               -count, -Order_Sequence_No, -Ordered_Qty, -Cancelled_Qty)\n",
    "temp[,(1:ncol(temp))] <- lapply(temp[,(1:ncol(temp))],as.factor)\n",
    "temp <- temp[, sapply(temp, nlevels) > 1]\n",
    "nums <- select(glm_data, prop, canc_prop, Product_Charge_Price, num_valid, \n",
    "               count, Order_Sequence_No, Ordered_Qty, Cancelled_Qty)\n",
    "glm_data <- cbind(temp, nums)\n"
   ]
  },
  {
   "cell_type": "markdown",
   "metadata": {},
   "source": [
    "### Omitting some conlumns which we do not need and view that top rows of the data "
   ]
  },
  {
   "cell_type": "code",
   "execution_count": 6,
   "metadata": {},
   "outputs": [
    {
     "data": {
      "text/html": [
       "<table>\n",
       "<thead><tr><th scope=col>Category_Level_2Accessories</th><th scope=col>Category_Level_2Bags</th><th scope=col>Category_Level_2Clothing</th><th scope=col>Category_Level_2Footwear</th><th scope=col>Category_Level_2Gifting</th><th scope=col>customer_status</th><th scope=col>ship_status</th><th scope=col>fraud_status</th><th scope=col>destination_int</th><th scope=col>Product_Charge_Price</th><th scope=col>num_valid</th></tr></thead>\n",
       "<tbody>\n",
       "\t<tr><td>0    </td><td>0    </td><td>0    </td><td>1    </td><td>0    </td><td>2    </td><td>1    </td><td>0    </td><td>2    </td><td>59.40</td><td>1    </td></tr>\n",
       "\t<tr><td>0    </td><td>0    </td><td>0    </td><td>1    </td><td>0    </td><td>2    </td><td>1    </td><td>0    </td><td>2    </td><td>45.90</td><td>1    </td></tr>\n",
       "\t<tr><td>0    </td><td>0    </td><td>0    </td><td>1    </td><td>0    </td><td>3    </td><td>1    </td><td>0    </td><td>1    </td><td>54.95</td><td>0    </td></tr>\n",
       "\t<tr><td>0    </td><td>0    </td><td>0    </td><td>1    </td><td>0    </td><td>2    </td><td>1    </td><td>0    </td><td>1    </td><td>11.00</td><td>2    </td></tr>\n",
       "\t<tr><td>0    </td><td>0    </td><td>0    </td><td>1    </td><td>0    </td><td>2    </td><td>1    </td><td>0    </td><td>1    </td><td>48.00</td><td>2    </td></tr>\n",
       "\t<tr><td>0    </td><td>0    </td><td>0    </td><td>1    </td><td>0    </td><td>3    </td><td>1    </td><td>0    </td><td>2    </td><td>54.95</td><td>0    </td></tr>\n",
       "</tbody>\n",
       "</table>\n"
      ],
      "text/latex": [
       "\\begin{tabular}{r|lllllllllll}\n",
       " Category\\_Level\\_2Accessories & Category\\_Level\\_2Bags & Category\\_Level\\_2Clothing & Category\\_Level\\_2Footwear & Category\\_Level\\_2Gifting & customer\\_status & ship\\_status & fraud\\_status & destination\\_int & Product\\_Charge\\_Price & num\\_valid\\\\\n",
       "\\hline\n",
       "\t 0     & 0     & 0     & 1     & 0     & 2     & 1     & 0     & 2     & 59.40 & 1    \\\\\n",
       "\t 0     & 0     & 0     & 1     & 0     & 2     & 1     & 0     & 2     & 45.90 & 1    \\\\\n",
       "\t 0     & 0     & 0     & 1     & 0     & 3     & 1     & 0     & 1     & 54.95 & 0    \\\\\n",
       "\t 0     & 0     & 0     & 1     & 0     & 2     & 1     & 0     & 1     & 11.00 & 2    \\\\\n",
       "\t 0     & 0     & 0     & 1     & 0     & 2     & 1     & 0     & 1     & 48.00 & 2    \\\\\n",
       "\t 0     & 0     & 0     & 1     & 0     & 3     & 1     & 0     & 2     & 54.95 & 0    \\\\\n",
       "\\end{tabular}\n"
      ],
      "text/markdown": [
       "\n",
       "Category_Level_2Accessories | Category_Level_2Bags | Category_Level_2Clothing | Category_Level_2Footwear | Category_Level_2Gifting | customer_status | ship_status | fraud_status | destination_int | Product_Charge_Price | num_valid | \n",
       "|---|---|---|---|---|---|\n",
       "| 0     | 0     | 0     | 1     | 0     | 2     | 1     | 0     | 2     | 59.40 | 1     | \n",
       "| 0     | 0     | 0     | 1     | 0     | 2     | 1     | 0     | 2     | 45.90 | 1     | \n",
       "| 0     | 0     | 0     | 1     | 0     | 3     | 1     | 0     | 1     | 54.95 | 0     | \n",
       "| 0     | 0     | 0     | 1     | 0     | 2     | 1     | 0     | 1     | 11.00 | 2     | \n",
       "| 0     | 0     | 0     | 1     | 0     | 2     | 1     | 0     | 1     | 48.00 | 2     | \n",
       "| 0     | 0     | 0     | 1     | 0     | 3     | 1     | 0     | 2     | 54.95 | 0     | \n",
       "\n",
       "\n"
      ],
      "text/plain": [
       "  Category_Level_2Accessories Category_Level_2Bags Category_Level_2Clothing\n",
       "1 0                           0                    0                       \n",
       "2 0                           0                    0                       \n",
       "3 0                           0                    0                       \n",
       "4 0                           0                    0                       \n",
       "5 0                           0                    0                       \n",
       "6 0                           0                    0                       \n",
       "  Category_Level_2Footwear Category_Level_2Gifting customer_status ship_status\n",
       "1 1                        0                       2               1          \n",
       "2 1                        0                       2               1          \n",
       "3 1                        0                       3               1          \n",
       "4 1                        0                       2               1          \n",
       "5 1                        0                       2               1          \n",
       "6 1                        0                       3               1          \n",
       "  fraud_status destination_int Product_Charge_Price num_valid\n",
       "1 0            2               59.40                1        \n",
       "2 0            2               45.90                1        \n",
       "3 0            1               54.95                0        \n",
       "4 0            1               11.00                2        \n",
       "5 0            1               48.00                2        \n",
       "6 0            2               54.95                0        "
      ]
     },
     "metadata": {},
     "output_type": "display_data"
    }
   ],
   "source": [
    "glm_data <- select(glm_data, -Campaign_Key, -Delivery_Option_Type_Key, -Payment_Method_Key,\n",
    "                   -Medium_Key, -pay_key_num, -Payment_Provider_Key, \n",
    "                   -Order_Payment_Status_Key, -occupation_int,\n",
    "                   -canc_prop, -Ordered_Qty, -priority_int, -Cancelled_Qty, -prop,\n",
    "                   -Order_Sequence_No, -count)\n",
    "head(glm_data)"
   ]
  },
  {
   "cell_type": "markdown",
   "metadata": {},
   "source": [
    "### Omitting some columns again and form a new data frame"
   ]
  },
  {
   "cell_type": "code",
   "execution_count": 7,
   "metadata": {
    "collapsed": true
   },
   "outputs": [],
   "source": [
    "glm_data <- select(glm_data, -Category_Level_2Accessories, \n",
    "                   -Category_Level_2Bags, -Category_Level_2Gifting)\n",
    "\n",
    "new_data <- glm_data"
   ]
  },
  {
   "cell_type": "markdown",
   "metadata": {},
   "source": [
    "### Create a partition to seperate the data into training part and test part"
   ]
  },
  {
   "cell_type": "code",
   "execution_count": 15,
   "metadata": {
    "collapsed": true
   },
   "outputs": [],
   "source": [
    "set.seed(123)\n",
    "index <- createDataPartition(glm_data$fraud_status, p = 0.7, list = FALSE)\n",
    "train <- new_data[index, ]\n",
    "test <- new_data[-index, ]\n"
   ]
  },
  {
   "cell_type": "markdown",
   "metadata": {},
   "source": [
    "### Bulid a GLM model, using binomial logit link function, and also calculate the running time"
   ]
  },
  {
   "cell_type": "code",
   "execution_count": 16,
   "metadata": {},
   "outputs": [
    {
     "data": {
      "text/plain": [
       "Time difference of 0.1106429 secs"
      ]
     },
     "metadata": {},
     "output_type": "display_data"
    },
    {
     "data": {
      "text/plain": [
       "\n",
       "Call:\n",
       "glm(formula = fraud_status ~ ., family = binomial(link = \"logit\"), \n",
       "    data = train)\n",
       "\n",
       "Deviance Residuals: \n",
       "    Min       1Q   Median       3Q      Max  \n",
       "-1.2809  -0.1366  -0.0951  -0.0895   3.4846  \n",
       "\n",
       "Coefficients:\n",
       "                           Estimate Std. Error z value Pr(>|z|)    \n",
       "(Intercept)               -0.938861   0.659948  -1.423 0.154844    \n",
       "Category_Level_2Clothing1  1.047219   0.701052   1.494 0.135232    \n",
       "Category_Level_2Footwear1 -0.093587   0.645808  -0.145 0.884778    \n",
       "customer_status2          -3.613580   0.277538 -13.020  < 2e-16 ***\n",
       "customer_status3          -2.639656   0.390141  -6.766 1.32e-11 ***\n",
       "customer_status4          -1.507553   0.275011  -5.482 4.21e-08 ***\n",
       "ship_status2              -0.641700   0.440661  -1.456 0.145331    \n",
       "destination_int2          -0.751565   0.214947  -3.497 0.000471 ***\n",
       "Product_Charge_Price      -0.002829   0.003060  -0.925 0.355181    \n",
       "num_valid                  0.032901   0.018025   1.825 0.067953 .  \n",
       "---\n",
       "Signif. codes:  0 ‘***’ 0.001 ‘**’ 0.01 ‘*’ 0.05 ‘.’ 0.1 ‘ ’ 1\n",
       "\n",
       "(Dispersion parameter for binomial family taken to be 1)\n",
       "\n",
       "    Null deviance: 1045.8  on 6122  degrees of freedom\n",
       "Residual deviance:  823.7  on 6113  degrees of freedom\n",
       "AIC: 843.7\n",
       "\n",
       "Number of Fisher Scoring iterations: 8\n"
      ]
     },
     "metadata": {},
     "output_type": "display_data"
    }
   ],
   "source": [
    "start <- Sys.time()\n",
    "model <- glm(fraud_status ~., data = train, family = binomial(link = \"logit\"))\n",
    "end <- Sys.time()\n",
    "time <- end - start\n",
    "time\n",
    "summary(model)"
   ]
  },
  {
   "cell_type": "markdown",
   "metadata": {},
   "source": [
    "### We can see that the customer status is very significant"
   ]
  },
  {
   "cell_type": "markdown",
   "metadata": {},
   "source": [
    "### Then, choose a model by AIC in a Stepwise Algorithm, in this process, we gradually delete 2footwear, charge price and ship status, because these variables AIC are lower than others\n"
   ]
  },
  {
   "cell_type": "code",
   "execution_count": 17,
   "metadata": {},
   "outputs": [
    {
     "name": "stdout",
     "output_type": "stream",
     "text": [
      "Start:  AIC=843.7\n",
      "fraud_status ~ Category_Level_2Clothing + Category_Level_2Footwear + \n",
      "    customer_status + ship_status + destination_int + Product_Charge_Price + \n",
      "    num_valid\n",
      "\n",
      "                           Df Deviance     AIC\n",
      "- Category_Level_2Footwear  1   823.72  841.72\n",
      "- Product_Charge_Price      1   824.63  842.63\n",
      "<none>                          823.70  843.70\n",
      "- num_valid                 1   826.11  844.11\n",
      "- ship_status               1   826.19  844.19\n",
      "- Category_Level_2Clothing  1   826.27  844.27\n",
      "- destination_int           1   835.87  853.87\n",
      "- customer_status           3   988.29 1002.29\n",
      "\n",
      "Step:  AIC=841.72\n",
      "fraud_status ~ Category_Level_2Clothing + customer_status + ship_status + \n",
      "    destination_int + Product_Charge_Price + num_valid\n",
      "\n",
      "                           Df Deviance     AIC\n",
      "- Product_Charge_Price      1   824.70  840.70\n",
      "<none>                          823.72  841.72\n",
      "- num_valid                 1   826.14  842.14\n",
      "- ship_status               1   826.21  842.21\n",
      "- Category_Level_2Clothing  1   832.26  848.26\n",
      "- destination_int           1   835.88  851.88\n",
      "- customer_status           3   991.57 1003.57\n",
      "\n",
      "Step:  AIC=840.7\n",
      "fraud_status ~ Category_Level_2Clothing + customer_status + ship_status + \n",
      "    destination_int + num_valid\n",
      "\n",
      "                           Df Deviance     AIC\n",
      "<none>                          824.70  840.70\n",
      "- ship_status               1   827.25  841.25\n",
      "- num_valid                 1   827.26  841.26\n",
      "- destination_int           1   836.24  850.24\n",
      "- Category_Level_2Clothing  1   838.83  852.83\n",
      "- customer_status           3   992.19 1002.19\n"
     ]
    },
    {
     "data": {
      "text/plain": [
       "\n",
       "Call:\n",
       "glm(formula = fraud_status ~ Category_Level_2Clothing + customer_status + \n",
       "    ship_status + destination_int + num_valid, family = binomial(link = \"logit\"), \n",
       "    data = train)\n",
       "\n",
       "Deviance Residuals: \n",
       "    Min       1Q   Median       3Q      Max  \n",
       "-1.2820  -0.1349  -0.0928  -0.0892   3.3252  \n",
       "\n",
       "Coefficients:\n",
       "                          Estimate Std. Error z value Pr(>|z|)    \n",
       "(Intercept)               -1.20907    0.23475  -5.151 2.60e-07 ***\n",
       "Category_Level_2Clothing1  1.31620    0.32052   4.106 4.02e-05 ***\n",
       "customer_status2          -3.62189    0.27509 -13.166  < 2e-16 ***\n",
       "customer_status3          -2.68273    0.38852  -6.905 5.02e-12 ***\n",
       "customer_status4          -1.53690    0.27306  -5.628 1.82e-08 ***\n",
       "ship_status2              -0.64894    0.44033  -1.474 0.140545    \n",
       "destination_int2          -0.72729    0.21369  -3.403 0.000665 ***\n",
       "num_valid                  0.03386    0.01790   1.892 0.058479 .  \n",
       "---\n",
       "Signif. codes:  0 ‘***’ 0.001 ‘**’ 0.01 ‘*’ 0.05 ‘.’ 0.1 ‘ ’ 1\n",
       "\n",
       "(Dispersion parameter for binomial family taken to be 1)\n",
       "\n",
       "    Null deviance: 1045.8  on 6122  degrees of freedom\n",
       "Residual deviance:  824.7  on 6115  degrees of freedom\n",
       "AIC: 840.7\n",
       "\n",
       "Number of Fisher Scoring iterations: 8\n"
      ]
     },
     "metadata": {},
     "output_type": "display_data"
    }
   ],
   "source": [
    "model <- step(model)\n",
    "summary(model)"
   ]
  },
  {
   "cell_type": "markdown",
   "metadata": {},
   "source": [
    "### We delete the first clothing variable then, and see the model evaluation, it's more significant for all the variables"
   ]
  },
  {
   "cell_type": "code",
   "execution_count": 18,
   "metadata": {},
   "outputs": [
    {
     "data": {
      "text/plain": [
       "\n",
       "Call:\n",
       "glm(formula = fraud_status ~ customer_status + ship_status + \n",
       "    destination_int + num_valid, family = binomial(link = \"logit\"), \n",
       "    data = train)\n",
       "\n",
       "Deviance Residuals: \n",
       "    Min       1Q   Median       3Q      Max  \n",
       "-0.8108  -0.1320  -0.0950  -0.0915   3.3101  \n",
       "\n",
       "Coefficients:\n",
       "                 Estimate Std. Error z value Pr(>|z|)    \n",
       "(Intercept)      -1.09325    0.22953  -4.763 1.91e-06 ***\n",
       "customer_status2 -3.75808    0.27006 -13.915  < 2e-16 ***\n",
       "customer_status3 -2.72191    0.38595  -7.053 1.76e-12 ***\n",
       "customer_status4 -1.51013    0.26960  -5.601 2.13e-08 ***\n",
       "ship_status2     -0.67354    0.43876  -1.535  0.12476    \n",
       "destination_int2 -0.66030    0.21064  -3.135  0.00172 ** \n",
       "num_valid         0.03738    0.01768   2.114  0.03453 *  \n",
       "---\n",
       "Signif. codes:  0 ‘***’ 0.001 ‘**’ 0.01 ‘*’ 0.05 ‘.’ 0.1 ‘ ’ 1\n",
       "\n",
       "(Dispersion parameter for binomial family taken to be 1)\n",
       "\n",
       "    Null deviance: 1045.78  on 6122  degrees of freedom\n",
       "Residual deviance:  838.83  on 6116  degrees of freedom\n",
       "AIC: 852.83\n",
       "\n",
       "Number of Fisher Scoring iterations: 8\n"
      ]
     },
     "metadata": {},
     "output_type": "display_data"
    }
   ],
   "source": [
    "model <- update(model, .~. -Category_Level_2Clothing)\n",
    "summary(model)"
   ]
  },
  {
   "cell_type": "markdown",
   "metadata": {},
   "source": [
    "### Use our model to test our test data set"
   ]
  },
  {
   "cell_type": "code",
   "execution_count": 21,
   "metadata": {},
   "outputs": [
    {
     "data": {
      "text/html": [
       "<dl class=dl-horizontal>\n",
       "\t<dt>2</dt>\n",
       "\t\t<dd>0.00417588106991046</dd>\n",
       "\t<dt>3</dt>\n",
       "\t\t<dd>0.0215592264919255</dd>\n",
       "\t<dt>11</dt>\n",
       "\t\t<dd>0.00417588106991046</dd>\n",
       "\t<dt>12</dt>\n",
       "\t\t<dd>0.00835444738570519</dd>\n",
       "\t<dt>14</dt>\n",
       "\t\t<dd>0.00805040473476001</dd>\n",
       "\t<dt>18</dt>\n",
       "\t\t<dd>0.00433423251241658</dd>\n",
       "</dl>\n"
      ],
      "text/latex": [
       "\\begin{description*}\n",
       "\\item[2] 0.00417588106991046\n",
       "\\item[3] 0.0215592264919255\n",
       "\\item[11] 0.00417588106991046\n",
       "\\item[12] 0.00835444738570519\n",
       "\\item[14] 0.00805040473476001\n",
       "\\item[18] 0.00433423251241658\n",
       "\\end{description*}\n"
      ],
      "text/markdown": [
       "2\n",
       ":   0.004175881069910463\n",
       ":   0.021559226491925511\n",
       ":   0.0041758810699104612\n",
       ":   0.0083544473857051914\n",
       ":   0.0080504047347600118\n",
       ":   0.00433423251241658\n",
       "\n"
      ],
      "text/plain": [
       "          2           3          11          12          14          18 \n",
       "0.004175881 0.021559226 0.004175881 0.008354447 0.008050405 0.004334233 "
      ]
     },
     "metadata": {},
     "output_type": "display_data"
    }
   ],
   "source": [
    "model_predict <- predict(model, test, type = \"response\")\n",
    "head(model_predict)"
   ]
  },
  {
   "cell_type": "code",
   "execution_count": 24,
   "metadata": {},
   "outputs": [
    {
     "data": {
      "image/png": "[encoded data removed]",
      "text/plain": [
       "plot without title"
      ]
     },
     "metadata": {},
     "output_type": "display_data"
    }
   ],
   "source": [
    "ROC_predict <- prediction(model_predict, test$fraud_status)\n",
    "ROC_performance <- performance(ROC_predict, \"tpr\", \"fpr\")\n",
    "plot(ROC_performance, colorize = TRUE, text.adj = c(-0.2,1.7), lwd = 5)\n"
   ]
  },
  {
   "cell_type": "markdown",
   "metadata": {},
   "source": [
    "### Calculate the curve area value "
   ]
  },
  {
   "cell_type": "code",
   "execution_count": 27,
   "metadata": {},
   "outputs": [
    {
     "data": {
      "text/plain": [
       "An object of class \"performance\"\n",
       "Slot \"x.name\":\n",
       "[1] \"None\"\n",
       "\n",
       "Slot \"y.name\":\n",
       "[1] \"Area under the ROC curve\"\n",
       "\n",
       "Slot \"alpha.name\":\n",
       "[1] \"none\"\n",
       "\n",
       "Slot \"x.values\":\n",
       "list()\n",
       "\n",
       "Slot \"y.values\":\n",
       "[[1]]\n",
       "[1] 0.7626194\n",
       "\n",
       "\n",
       "Slot \"alpha.values\":\n",
       "list()\n"
      ]
     },
     "metadata": {},
     "output_type": "display_data"
    }
   ],
   "source": [
    "area_under_curve <- performance(ROC_predict, measure = \"auc\")\n"
   ]
  },
  {
   "cell_type": "code",
   "execution_count": 26,
   "metadata": {},
   "outputs": [
    {
     "data": {
      "text/html": [
       "0.762619433928249"
      ],
      "text/latex": [
       "0.762619433928249"
      ],
      "text/markdown": [
       "0.762619433928249"
      ],
      "text/plain": [
       "[1] 0.7626194"
      ]
     },
     "metadata": {},
     "output_type": "display_data"
    }
   ],
   "source": [
    "area_under_curve@y.values[[1]]\n"
   ]
  },
  {
   "cell_type": "markdown",
   "metadata": {},
   "source": [
    "### Set training control parameter and use this model to predict the fraud status"
   ]
  },
  {
   "cell_type": "code",
   "execution_count": 30,
   "metadata": {
    "collapsed": true
   },
   "outputs": [],
   "source": [
    "ctrl <- trainControl(method = \"repeatedcv\", number = 10, savePredictions = TRUE)\n"
   ]
  },
  {
   "cell_type": "code",
   "execution_count": 31,
   "metadata": {
    "collapsed": true
   },
   "outputs": [],
   "source": [
    "model_fit <- caret::train(fraud_status ~ customer_status + ship_status + destination_int + \n",
    "                     Category_Level_2Clothing + num_valid ,\n",
    "                   data = train, method = \"glm\", family = binomial(link =\"logit\"),\n",
    "                   trControl = ctrl, tuneLength = 10)\n"
   ]
  },
  {
   "cell_type": "markdown",
   "metadata": {},
   "source": [
    "### If we summary the predict values, we can find that all the value predicted are 0"
   ]
  },
  {
   "cell_type": "code",
   "execution_count": 38,
   "metadata": {},
   "outputs": [
    {
     "data": {
      "text/html": [
       "<dl class=dl-horizontal>\n",
       "\t<dt>0</dt>\n",
       "\t\t<dd>2623</dd>\n",
       "\t<dt>1</dt>\n",
       "\t\t<dd>0</dd>\n",
       "</dl>\n"
      ],
      "text/latex": [
       "\\begin{description*}\n",
       "\\item[0] 2623\n",
       "\\item[1] 0\n",
       "\\end{description*}\n"
      ],
      "text/markdown": [
       "0\n",
       ":   26231\n",
       ":   0\n",
       "\n"
      ],
      "text/plain": [
       "   0    1 \n",
       "2623    0 "
      ]
     },
     "metadata": {},
     "output_type": "display_data"
    }
   ],
   "source": [
    "pred <- predict(model_fit, newdata = select(test, -fraud_status))\n",
    "summary(pred)"
   ]
  },
  {
   "cell_type": "markdown",
   "metadata": {},
   "source": [
    "### Finally, compare the actual fraud status vaule with our predict value and make a confusion matrix"
   ]
  },
  {
   "cell_type": "code",
   "execution_count": 33,
   "metadata": {
    "collapsed": true
   },
   "outputs": [],
   "source": [
    "conf <- confusionMatrix(data = pred, test$fraud_status)\n"
   ]
  },
  {
   "cell_type": "code",
   "execution_count": 34,
   "metadata": {},
   "outputs": [
    {
     "data": {
      "text/plain": [
       "Confusion Matrix and Statistics\n",
       "\n",
       "          Reference\n",
       "Prediction    0    1\n",
       "         0 2580   43\n",
       "         1    0    0\n",
       "                                         \n",
       "               Accuracy : 0.9836         \n",
       "                 95% CI : (0.978, 0.9881)\n",
       "    No Information Rate : 0.9836         \n",
       "    P-Value [Acc > NIR] : 0.5404         \n",
       "                                         \n",
       "                  Kappa : 0              \n",
       " Mcnemar's Test P-Value : 1.504e-10      \n",
       "                                         \n",
       "            Sensitivity : 1.0000         \n",
       "            Specificity : 0.0000         \n",
       "         Pos Pred Value : 0.9836         \n",
       "         Neg Pred Value :    NaN         \n",
       "             Prevalence : 0.9836         \n",
       "         Detection Rate : 0.9836         \n",
       "   Detection Prevalence : 1.0000         \n",
       "      Balanced Accuracy : 0.5000         \n",
       "                                         \n",
       "       'Positive' Class : 0              \n",
       "                                         "
      ]
     },
     "metadata": {},
     "output_type": "display_data"
    }
   ],
   "source": [
    "conf"
   ]
  },
  {
   "cell_type": "code",
   "execution_count": 35,
   "metadata": {},
   "outputs": [
    {
     "data": {
      "text/html": [
       "<dl class=dl-horizontal>\n",
       "\t<dt>Sensitivity</dt>\n",
       "\t\t<dd>1</dd>\n",
       "\t<dt>Specificity</dt>\n",
       "\t\t<dd>0</dd>\n",
       "\t<dt>Pos Pred Value</dt>\n",
       "\t\t<dd>0.983606557377049</dd>\n",
       "\t<dt>Neg Pred Value</dt>\n",
       "\t\t<dd>NaN</dd>\n",
       "\t<dt>Precision</dt>\n",
       "\t\t<dd>0.983606557377049</dd>\n",
       "\t<dt>Recall</dt>\n",
       "\t\t<dd>1</dd>\n",
       "\t<dt>F1</dt>\n",
       "\t\t<dd>0.991735537190083</dd>\n",
       "\t<dt>Prevalence</dt>\n",
       "\t\t<dd>0.983606557377049</dd>\n",
       "\t<dt>Detection Rate</dt>\n",
       "\t\t<dd>0.983606557377049</dd>\n",
       "\t<dt>Detection Prevalence</dt>\n",
       "\t\t<dd>1</dd>\n",
       "\t<dt>Balanced Accuracy</dt>\n",
       "\t\t<dd>0.5</dd>\n",
       "</dl>\n"
      ],
      "text/latex": [
       "\\begin{description*}\n",
       "\\item[Sensitivity] 1\n",
       "\\item[Specificity] 0\n",
       "\\item[Pos Pred Value] 0.983606557377049\n",
       "\\item[Neg Pred Value] NaN\n",
       "\\item[Precision] 0.983606557377049\n",
       "\\item[Recall] 1\n",
       "\\item[F1] 0.991735537190083\n",
       "\\item[Prevalence] 0.983606557377049\n",
       "\\item[Detection Rate] 0.983606557377049\n",
       "\\item[Detection Prevalence] 1\n",
       "\\item[Balanced Accuracy] 0.5\n",
       "\\end{description*}\n"
      ],
      "text/markdown": [
       "Sensitivity\n",
       ":   1Specificity\n",
       ":   0Pos Pred Value\n",
       ":   0.983606557377049Neg Pred Value\n",
       ":   NaNPrecision\n",
       ":   0.983606557377049Recall\n",
       ":   1F1\n",
       ":   0.991735537190083Prevalence\n",
       ":   0.983606557377049Detection Rate\n",
       ":   0.983606557377049Detection Prevalence\n",
       ":   1Balanced Accuracy\n",
       ":   0.5\n",
       "\n"
      ],
      "text/plain": [
       "         Sensitivity          Specificity       Pos Pred Value \n",
       "           1.0000000            0.0000000            0.9836066 \n",
       "      Neg Pred Value            Precision               Recall \n",
       "                 NaN            0.9836066            1.0000000 \n",
       "                  F1           Prevalence       Detection Rate \n",
       "           0.9917355            0.9836066            0.9836066 \n",
       "Detection Prevalence    Balanced Accuracy \n",
       "           1.0000000            0.5000000 "
      ]
     },
     "metadata": {},
     "output_type": "display_data"
    }
   ],
   "source": [
    "conf$byClass"
   ]
  }
 ],
 "metadata": {
  "kernelspec": {
   "display_name": "R",
   "language": "R",
   "name": "ir"
  },
  "language_info": {
   "codemirror_mode": "r",
   "file_extension": ".r",
   "mimetype": "text/x-r-source",
   "name": "R",
   "pygments_lexer": "r",
   "version": "3.4.2"
  }
 },
 "nbformat": 4,
 "nbformat_minor": 2
}
