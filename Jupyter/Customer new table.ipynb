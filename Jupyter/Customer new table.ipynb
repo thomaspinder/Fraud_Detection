{
 "cells": [
  {
   "cell_type": "markdown",
   "metadata": {},
   "source": [
    "# Customer New Variables and new Table"
   ]
  },
  {
   "cell_type": "markdown",
   "metadata": {},
   "source": [
    "### load package"
   ]
  },
  {
   "cell_type": "code",
   "execution_count": 2,
   "metadata": {},
   "outputs": [],
   "source": [
    "library('dplyr',warn.conflicts = F) \n",
    "library('data.table',warn.conflicts = F)\n",
    "library('lubridate',warn.conflicts = F)"
   ]
  },
  {
   "cell_type": "markdown",
   "metadata": {},
   "source": [
    "### read data and view data structure"
   ]
  },
  {
   "cell_type": "code",
   "execution_count": 27,
   "metadata": {},
   "outputs": [
    {
     "name": "stdout",
     "output_type": "stream",
     "text": [
      "'data.frame':\t151888 obs. of  10 variables:\n",
      " $ Account_Key       : int  7605 5170 6412 39661 37432 36829 36503 36169 33260 26685 ...\n",
      " $ Registered_Date   : chr  \"28/06/2010\" \"28/06/2010\" \"28/06/2010\" \"12/07/2010\" ...\n",
      " $ Country           : chr  \"United Kingdom\" \"Spain\" \"United Kingdom\" \"United Kingdom\" ...\n",
      " $ PostCode          : chr  \"KW1 5QQ\" \"8032\" \"DE21 7SA\" \"DL5 7QX\" ...\n",
      " $ First_Order_Placed: chr  \"29/06/2010\" \"28/06/2010\" \"28/06/2010\" \"12/07/2010\" ...\n",
      " $ Site_Key          : chr  \"121\" \"120\" \"121\" \"121\" ...\n",
      " $ Locale            : chr  \"en_GB\" \"es_ES\" \"en_GB\" \"en_GB\" ...\n",
      " $ SCV_Key           : chr  \"982885\" \"5187134\" \"2502778\" \"4841243\" ...\n",
      " $ EDomain           : chr  \"gmail.com\" \"gmail.com\" \"hotmail.co.uk\" \"hotmail.com\" ...\n",
      " $ X                 : chr  \"\" \"\" \"\" \"\" ...\n",
      "'data.frame':\t248 obs. of  4 variables:\n",
      " $ Country_Code      : chr  \"--\" \"AD\" \"AE\" \"AF\" ...\n",
      " $ Country_Name      : chr  \"UNKNOWN\" \"Andorra\" \"United Arab Emirates\" \"Afghanistan\" ...\n",
      " $ Continental_Region: chr  \"UNKNOWN\" \"Southern Europe\" \"Western Asia\" \"Southern Asia\" ...\n",
      " $ Continent         : chr  \"UNKNOWN\" \"Europe\" \"Asia\" \"Asia\" ...\n"
     ]
    }
   ],
   "source": [
    "setwd(\"/Users/sunmengnan/Documents/GitHub/thgfd/data\")\n",
    "customer <- read.csv('MAIN_customer_data.csv', stringsAsFactors = F)\n",
    "country_code <- read.csv('country_code_lookup.csv', stringsAsFactors = F)\n",
    "str(customer)\n",
    "str(country_code)"
   ]
  },
  {
   "cell_type": "markdown",
   "metadata": {},
   "source": [
    "### view number of missing values"
   ]
  },
  {
   "cell_type": "code",
   "execution_count": 6,
   "metadata": {},
   "outputs": [
    {
     "data": {
      "text/html": [
       "29"
      ],
      "text/latex": [
       "29"
      ],
      "text/markdown": [
       "29"
      ],
      "text/plain": [
       "[1] 29"
      ]
     },
     "metadata": {},
     "output_type": "display_data"
    },
    {
     "data": {
      "text/html": [
       "1"
      ],
      "text/latex": [
       "1"
      ],
      "text/markdown": [
       "1"
      ],
      "text/plain": [
       "[1] 1"
      ]
     },
     "metadata": {},
     "output_type": "display_data"
    }
   ],
   "source": [
    "sum(is.na(customer))\n",
    "sum(is.na(country_code))"
   ]
  },
  {
   "cell_type": "markdown",
   "metadata": {},
   "source": [
    "### clean data, trun registered data and first order placed into date type, trun country code of GB into UK"
   ]
  },
  {
   "cell_type": "code",
   "execution_count": 28,
   "metadata": {
    "collapsed": true
   },
   "outputs": [],
   "source": [
    "customer$Registered_Date <- as.Date(customer$Registered_Date, format = \"%d/%m/%Y\")\n",
    "customer$First_Order_Placed <- as.Date(customer$First_Order_Placed,format = \"%d/%m/%Y\")\n",
    "country_code$Country_Code <- gsub(\"GB\", \"UK\", country_code$Country_Code)"
   ]
  },
  {
   "cell_type": "markdown",
   "metadata": {},
   "source": [
    "### create a new data frame named c_code, which shows unique country code and name, view data head"
   ]
  },
  {
   "cell_type": "code",
   "execution_count": 29,
   "metadata": {},
   "outputs": [
    {
     "data": {
      "text/html": [
       "<table>\n",
       "<thead><tr><th scope=col>Country_Code</th><th scope=col>Country_Name</th></tr></thead>\n",
       "<tbody>\n",
       "\t<tr><td>--                  </td><td>UNKNOWN             </td></tr>\n",
       "\t<tr><td>AD                  </td><td>Andorra             </td></tr>\n",
       "\t<tr><td>AE                  </td><td>United Arab Emirates</td></tr>\n",
       "\t<tr><td>AF                  </td><td>Afghanistan         </td></tr>\n",
       "\t<tr><td>AG                  </td><td>Antigua and Barbuda </td></tr>\n",
       "\t<tr><td>AI                  </td><td>Anguilla            </td></tr>\n",
       "</tbody>\n",
       "</table>\n"
      ],
      "text/latex": [
       "\\begin{tabular}{r|ll}\n",
       " Country\\_Code & Country\\_Name\\\\\n",
       "\\hline\n",
       "\t --                   & UNKNOWN             \\\\\n",
       "\t AD                   & Andorra             \\\\\n",
       "\t AE                   & United Arab Emirates\\\\\n",
       "\t AF                   & Afghanistan         \\\\\n",
       "\t AG                   & Antigua and Barbuda \\\\\n",
       "\t AI                   & Anguilla            \\\\\n",
       "\\end{tabular}\n"
      ],
      "text/markdown": [
       "\n",
       "Country_Code | Country_Name | \n",
       "|---|---|---|---|---|---|\n",
       "| --                   | UNKNOWN              | \n",
       "| AD                   | Andorra              | \n",
       "| AE                   | United Arab Emirates | \n",
       "| AF                   | Afghanistan          | \n",
       "| AG                   | Antigua and Barbuda  | \n",
       "| AI                   | Anguilla             | \n",
       "\n",
       "\n"
      ],
      "text/plain": [
       "  Country_Code Country_Name        \n",
       "1 --           UNKNOWN             \n",
       "2 AD           Andorra             \n",
       "3 AE           United Arab Emirates\n",
       "4 AF           Afghanistan         \n",
       "5 AG           Antigua and Barbuda \n",
       "6 AI           Anguilla            "
      ]
     },
     "metadata": {},
     "output_type": "display_data"
    }
   ],
   "source": [
    "c_code <-data.frame(Country_Code=unique(country_code$Country_Code),\n",
    "                    Country_Name=unique(country_code$Country_Name))\n",
    "head(c_code)"
   ]
  },
  {
   "cell_type": "markdown",
   "metadata": {},
   "source": [
    "### turn the data type into character and change the column name of customer into Country_name"
   ]
  },
  {
   "cell_type": "code",
   "execution_count": 30,
   "metadata": {},
   "outputs": [
    {
     "data": {
      "text/html": [
       "<table>\n",
       "<thead><tr><th scope=col>Account_Key</th><th scope=col>Registered_Date</th><th scope=col>Country_Name</th><th scope=col>PostCode</th><th scope=col>First_Order_Placed</th><th scope=col>Site_Key</th><th scope=col>Locale</th><th scope=col>SCV_Key</th><th scope=col>EDomain</th><th scope=col>X</th></tr></thead>\n",
       "<tbody>\n",
       "\t<tr><td> 7605          </td><td>2010-06-28     </td><td>United Kingdom </td><td>KW1 5QQ        </td><td>2010-06-29     </td><td>121            </td><td>en_GB          </td><td>982885         </td><td>gmail.com      </td><td>               </td></tr>\n",
       "\t<tr><td> 5170          </td><td>2010-06-28     </td><td>Spain          </td><td>8032           </td><td>2010-06-28     </td><td>120            </td><td>es_ES          </td><td>5187134        </td><td>gmail.com      </td><td>               </td></tr>\n",
       "\t<tr><td> 6412          </td><td>2010-06-28     </td><td>United Kingdom </td><td>DE21 7SA       </td><td>2010-06-28     </td><td>121            </td><td>en_GB          </td><td>2502778        </td><td>hotmail.co.uk  </td><td>               </td></tr>\n",
       "\t<tr><td>39661          </td><td>2010-07-12     </td><td>United Kingdom </td><td>DL5 7QX        </td><td>2010-07-12     </td><td>121            </td><td>en_GB          </td><td>4841243        </td><td>hotmail.com    </td><td>               </td></tr>\n",
       "\t<tr><td>37432          </td><td>2010-07-12     </td><td>United Kingdom </td><td>B21 8BE        </td><td>2010-07-12     </td><td>121            </td><td>en_GB          </td><td>6552130        </td><td>tiscali.co.uk  </td><td>               </td></tr>\n",
       "\t<tr><td>36829          </td><td>2010-07-11     </td><td>United Kingdom </td><td>BH23 1DW       </td><td>2010-07-11     </td><td>121            </td><td>en_GB          </td><td>1727308        </td><td>tpsreport.co.uk</td><td>               </td></tr>\n",
       "</tbody>\n",
       "</table>\n"
      ],
      "text/latex": [
       "\\begin{tabular}{r|llllllllll}\n",
       " Account\\_Key & Registered\\_Date & Country\\_Name & PostCode & First\\_Order\\_Placed & Site\\_Key & Locale & SCV\\_Key & EDomain & X\\\\\n",
       "\\hline\n",
       "\t  7605           & 2010-06-28      & United Kingdom  & KW1 5QQ         & 2010-06-29      & 121             & en\\_GB         & 982885          & gmail.com       &                \\\\\n",
       "\t  5170           & 2010-06-28      & Spain           & 8032            & 2010-06-28      & 120             & es\\_ES         & 5187134         & gmail.com       &                \\\\\n",
       "\t  6412           & 2010-06-28      & United Kingdom  & DE21 7SA        & 2010-06-28      & 121             & en\\_GB         & 2502778         & hotmail.co.uk   &                \\\\\n",
       "\t 39661           & 2010-07-12      & United Kingdom  & DL5 7QX         & 2010-07-12      & 121             & en\\_GB         & 4841243         & hotmail.com     &                \\\\\n",
       "\t 37432           & 2010-07-12      & United Kingdom  & B21 8BE         & 2010-07-12      & 121             & en\\_GB         & 6552130         & tiscali.co.uk   &                \\\\\n",
       "\t 36829           & 2010-07-11      & United Kingdom  & BH23 1DW        & 2010-07-11      & 121             & en\\_GB         & 1727308         & tpsreport.co.uk &                \\\\\n",
       "\\end{tabular}\n"
      ],
      "text/markdown": [
       "\n",
       "Account_Key | Registered_Date | Country_Name | PostCode | First_Order_Placed | Site_Key | Locale | SCV_Key | EDomain | X | \n",
       "|---|---|---|---|---|---|\n",
       "|  7605           | 2010-06-28      | United Kingdom  | KW1 5QQ         | 2010-06-29      | 121             | en_GB           | 982885          | gmail.com       |                 | \n",
       "|  5170           | 2010-06-28      | Spain           | 8032            | 2010-06-28      | 120             | es_ES           | 5187134         | gmail.com       |                 | \n",
       "|  6412           | 2010-06-28      | United Kingdom  | DE21 7SA        | 2010-06-28      | 121             | en_GB           | 2502778         | hotmail.co.uk   |                 | \n",
       "| 39661           | 2010-07-12      | United Kingdom  | DL5 7QX         | 2010-07-12      | 121             | en_GB           | 4841243         | hotmail.com     |                 | \n",
       "| 37432           | 2010-07-12      | United Kingdom  | B21 8BE         | 2010-07-12      | 121             | en_GB           | 6552130         | tiscali.co.uk   |                 | \n",
       "| 36829           | 2010-07-11      | United Kingdom  | BH23 1DW        | 2010-07-11      | 121             | en_GB           | 1727308         | tpsreport.co.uk |                 | \n",
       "\n",
       "\n"
      ],
      "text/plain": [
       "  Account_Key Registered_Date Country_Name   PostCode First_Order_Placed\n",
       "1  7605       2010-06-28      United Kingdom KW1 5QQ  2010-06-29        \n",
       "2  5170       2010-06-28      Spain          8032     2010-06-28        \n",
       "3  6412       2010-06-28      United Kingdom DE21 7SA 2010-06-28        \n",
       "4 39661       2010-07-12      United Kingdom DL5 7QX  2010-07-12        \n",
       "5 37432       2010-07-12      United Kingdom B21 8BE  2010-07-12        \n",
       "6 36829       2010-07-11      United Kingdom BH23 1DW 2010-07-11        \n",
       "  Site_Key Locale SCV_Key EDomain         X\n",
       "1 121      en_GB  982885  gmail.com        \n",
       "2 120      es_ES  5187134 gmail.com        \n",
       "3 121      en_GB  2502778 hotmail.co.uk    \n",
       "4 121      en_GB  4841243 hotmail.com      \n",
       "5 121      en_GB  6552130 tiscali.co.uk    \n",
       "6 121      en_GB  1727308 tpsreport.co.uk  "
      ]
     },
     "metadata": {},
     "output_type": "display_data"
    }
   ],
   "source": [
    "c_code$Country_Code=as.character(c_code$Country_Code)\n",
    "c_code$Country_Name=as.character(c_code$Country_Name)\n",
    "colnames(customer)[colnames(customer)==\"Country\"]<- \"Country_Name\"\n",
    "head(customer)"
   ]
  },
  {
   "cell_type": "markdown",
   "metadata": {},
   "source": [
    "### combine the customer table with country id"
   ]
  },
  {
   "cell_type": "code",
   "execution_count": 32,
   "metadata": {},
   "outputs": [
    {
     "data": {
      "text/html": [
       "151888"
      ],
      "text/latex": [
       "151888"
      ],
      "text/markdown": [
       "151888"
      ],
      "text/plain": [
       "[1] 151888"
      ]
     },
     "metadata": {},
     "output_type": "display_data"
    }
   ],
   "source": [
    "nrow(customer)\n",
    "customer<-left_join(customer,c_code,by=\"Country_Name\") "
   ]
  },
  {
   "cell_type": "markdown",
   "metadata": {},
   "source": [
    "### Create a new column named joined year, which is the time interval between the registrated time and the first trading time, also we view the number of different time interval"
   ]
  },
  {
   "cell_type": "code",
   "execution_count": 57,
   "metadata": {},
   "outputs": [
    {
     "data": {
      "text/html": [
       "<table>\n",
       "<thead><tr><th scope=col>Account_Key</th><th scope=col>Registered_Date</th><th scope=col>Country_Name</th><th scope=col>PostCode</th><th scope=col>First_Order_Placed</th><th scope=col>Site_Key</th><th scope=col>Locale</th><th scope=col>SCV_Key</th><th scope=col>EDomain</th><th scope=col>X</th><th scope=col>Country_Code.x</th><th scope=col>Country_Code.y</th><th scope=col>Joined_years</th><th scope=col>time_category</th></tr></thead>\n",
       "<tbody>\n",
       "\t<tr><td> 7605          </td><td>2010-06-28     </td><td>United Kingdom </td><td>KW1 5QQ        </td><td>2010-06-29     </td><td>121            </td><td>en_GB          </td><td>982885         </td><td>gmail.com      </td><td>               </td><td>UK             </td><td>UK             </td><td>6.5 days       </td><td>6.5            </td></tr>\n",
       "\t<tr><td> 5170          </td><td>2010-06-28     </td><td>Spain          </td><td>8032           </td><td>2010-06-28     </td><td>120            </td><td>es_ES          </td><td>5187134        </td><td>gmail.com      </td><td>               </td><td>ES             </td><td>ES             </td><td>6.5 days       </td><td>6.5            </td></tr>\n",
       "\t<tr><td> 6412          </td><td>2010-06-28     </td><td>United Kingdom </td><td>DE21 7SA       </td><td>2010-06-28     </td><td>121            </td><td>en_GB          </td><td>2502778        </td><td>hotmail.co.uk  </td><td>               </td><td>UK             </td><td>UK             </td><td>6.5 days       </td><td>6.5            </td></tr>\n",
       "\t<tr><td>39661          </td><td>2010-07-12     </td><td>United Kingdom </td><td>DL5 7QX        </td><td>2010-07-12     </td><td>121            </td><td>en_GB          </td><td>4841243        </td><td>hotmail.com    </td><td>               </td><td>UK             </td><td>UK             </td><td>6.5 days       </td><td>6.5            </td></tr>\n",
       "\t<tr><td>37432          </td><td>2010-07-12     </td><td>United Kingdom </td><td>B21 8BE        </td><td>2010-07-12     </td><td>121            </td><td>en_GB          </td><td>6552130        </td><td>tiscali.co.uk  </td><td>               </td><td>UK             </td><td>UK             </td><td>6.5 days       </td><td>6.5            </td></tr>\n",
       "\t<tr><td>36829          </td><td>2010-07-11     </td><td>United Kingdom </td><td>BH23 1DW       </td><td>2010-07-11     </td><td>121            </td><td>en_GB          </td><td>1727308        </td><td>tpsreport.co.uk</td><td>               </td><td>UK             </td><td>UK             </td><td>6.5 days       </td><td>6.5            </td></tr>\n",
       "</tbody>\n",
       "</table>\n"
      ],
      "text/latex": [
       "\\begin{tabular}{r|llllllllllllll}\n",
       " Account\\_Key & Registered\\_Date & Country\\_Name & PostCode & First\\_Order\\_Placed & Site\\_Key & Locale & SCV\\_Key & EDomain & X & Country\\_Code.x & Country\\_Code.y & Joined\\_years & time\\_category\\\\\n",
       "\\hline\n",
       "\t  7605           & 2010-06-28      & United Kingdom  & KW1 5QQ         & 2010-06-29      & 121             & en\\_GB         & 982885          & gmail.com       &                 & UK              & UK              & 6.5 days        & 6.5            \\\\\n",
       "\t  5170           & 2010-06-28      & Spain           & 8032            & 2010-06-28      & 120             & es\\_ES         & 5187134         & gmail.com       &                 & ES              & ES              & 6.5 days        & 6.5            \\\\\n",
       "\t  6412           & 2010-06-28      & United Kingdom  & DE21 7SA        & 2010-06-28      & 121             & en\\_GB         & 2502778         & hotmail.co.uk   &                 & UK              & UK              & 6.5 days        & 6.5            \\\\\n",
       "\t 39661           & 2010-07-12      & United Kingdom  & DL5 7QX         & 2010-07-12      & 121             & en\\_GB         & 4841243         & hotmail.com     &                 & UK              & UK              & 6.5 days        & 6.5            \\\\\n",
       "\t 37432           & 2010-07-12      & United Kingdom  & B21 8BE         & 2010-07-12      & 121             & en\\_GB         & 6552130         & tiscali.co.uk   &                 & UK              & UK              & 6.5 days        & 6.5            \\\\\n",
       "\t 36829           & 2010-07-11      & United Kingdom  & BH23 1DW        & 2010-07-11      & 121             & en\\_GB         & 1727308         & tpsreport.co.uk &                 & UK              & UK              & 6.5 days        & 6.5            \\\\\n",
       "\\end{tabular}\n"
      ],
      "text/markdown": [
       "\n",
       "Account_Key | Registered_Date | Country_Name | PostCode | First_Order_Placed | Site_Key | Locale | SCV_Key | EDomain | X | Country_Code.x | Country_Code.y | Joined_years | time_category | \n",
       "|---|---|---|---|---|---|\n",
       "|  7605           | 2010-06-28      | United Kingdom  | KW1 5QQ         | 2010-06-29      | 121             | en_GB           | 982885          | gmail.com       |                 | UK              | UK              | 6.5 days        | 6.5             | \n",
       "|  5170           | 2010-06-28      | Spain           | 8032            | 2010-06-28      | 120             | es_ES           | 5187134         | gmail.com       |                 | ES              | ES              | 6.5 days        | 6.5             | \n",
       "|  6412           | 2010-06-28      | United Kingdom  | DE21 7SA        | 2010-06-28      | 121             | en_GB           | 2502778         | hotmail.co.uk   |                 | UK              | UK              | 6.5 days        | 6.5             | \n",
       "| 39661           | 2010-07-12      | United Kingdom  | DL5 7QX         | 2010-07-12      | 121             | en_GB           | 4841243         | hotmail.com     |                 | UK              | UK              | 6.5 days        | 6.5             | \n",
       "| 37432           | 2010-07-12      | United Kingdom  | B21 8BE         | 2010-07-12      | 121             | en_GB           | 6552130         | tiscali.co.uk   |                 | UK              | UK              | 6.5 days        | 6.5             | \n",
       "| 36829           | 2010-07-11      | United Kingdom  | BH23 1DW        | 2010-07-11      | 121             | en_GB           | 1727308         | tpsreport.co.uk |                 | UK              | UK              | 6.5 days        | 6.5             | \n",
       "\n",
       "\n"
      ],
      "text/plain": [
       "  Account_Key Registered_Date Country_Name   PostCode First_Order_Placed\n",
       "1  7605       2010-06-28      United Kingdom KW1 5QQ  2010-06-29        \n",
       "2  5170       2010-06-28      Spain          8032     2010-06-28        \n",
       "3  6412       2010-06-28      United Kingdom DE21 7SA 2010-06-28        \n",
       "4 39661       2010-07-12      United Kingdom DL5 7QX  2010-07-12        \n",
       "5 37432       2010-07-12      United Kingdom B21 8BE  2010-07-12        \n",
       "6 36829       2010-07-11      United Kingdom BH23 1DW 2010-07-11        \n",
       "  Site_Key Locale SCV_Key EDomain         X Country_Code.x Country_Code.y\n",
       "1 121      en_GB  982885  gmail.com         UK             UK            \n",
       "2 120      es_ES  5187134 gmail.com         ES             ES            \n",
       "3 121      en_GB  2502778 hotmail.co.uk     UK             UK            \n",
       "4 121      en_GB  4841243 hotmail.com       UK             UK            \n",
       "5 121      en_GB  6552130 tiscali.co.uk     UK             UK            \n",
       "6 121      en_GB  1727308 tpsreport.co.uk   UK             UK            \n",
       "  Joined_years time_category\n",
       "1 6.5 days     6.5          \n",
       "2 6.5 days     6.5          \n",
       "3 6.5 days     6.5          \n",
       "4 6.5 days     6.5          \n",
       "5 6.5 days     6.5          \n",
       "6 6.5 days     6.5          "
      ]
     },
     "metadata": {},
     "output_type": "display_data"
    },
    {
     "data": {
      "text/html": [
       "<table>\n",
       "<thead><tr><th scope=col>Account_Key</th><th scope=col>Registered_Date</th><th scope=col>Country_Name</th><th scope=col>PostCode</th><th scope=col>First_Order_Placed</th><th scope=col>Site_Key</th><th scope=col>Locale</th><th scope=col>SCV_Key</th><th scope=col>EDomain</th><th scope=col>X</th><th scope=col>Country_Code.x</th><th scope=col>Country_Code.y</th><th scope=col>Joined_years</th><th scope=col>time_category</th></tr></thead>\n",
       "<tbody>\n",
       "\t<tr><td> 7605          </td><td>2010-06-28     </td><td>United Kingdom </td><td>KW1 5QQ        </td><td>2010-06-29     </td><td>121            </td><td>en_GB          </td><td>982885         </td><td>gmail.com      </td><td>               </td><td>UK             </td><td>UK             </td><td>6.5 days       </td><td>6.5            </td></tr>\n",
       "\t<tr><td> 5170          </td><td>2010-06-28     </td><td>Spain          </td><td>8032           </td><td>2010-06-28     </td><td>120            </td><td>es_ES          </td><td>5187134        </td><td>gmail.com      </td><td>               </td><td>ES             </td><td>ES             </td><td>6.5 days       </td><td>6.5            </td></tr>\n",
       "\t<tr><td> 6412          </td><td>2010-06-28     </td><td>United Kingdom </td><td>DE21 7SA       </td><td>2010-06-28     </td><td>121            </td><td>en_GB          </td><td>2502778        </td><td>hotmail.co.uk  </td><td>               </td><td>UK             </td><td>UK             </td><td>6.5 days       </td><td>6.5            </td></tr>\n",
       "\t<tr><td>39661          </td><td>2010-07-12     </td><td>United Kingdom </td><td>DL5 7QX        </td><td>2010-07-12     </td><td>121            </td><td>en_GB          </td><td>4841243        </td><td>hotmail.com    </td><td>               </td><td>UK             </td><td>UK             </td><td>6.5 days       </td><td>6.5            </td></tr>\n",
       "\t<tr><td>37432          </td><td>2010-07-12     </td><td>United Kingdom </td><td>B21 8BE        </td><td>2010-07-12     </td><td>121            </td><td>en_GB          </td><td>6552130        </td><td>tiscali.co.uk  </td><td>               </td><td>UK             </td><td>UK             </td><td>6.5 days       </td><td>6.5            </td></tr>\n",
       "\t<tr><td>36829          </td><td>2010-07-11     </td><td>United Kingdom </td><td>BH23 1DW       </td><td>2010-07-11     </td><td>121            </td><td>en_GB          </td><td>1727308        </td><td>tpsreport.co.uk</td><td>               </td><td>UK             </td><td>UK             </td><td>6.5 days       </td><td>6.5            </td></tr>\n",
       "</tbody>\n",
       "</table>\n"
      ],
      "text/latex": [
       "\\begin{tabular}{r|llllllllllllll}\n",
       " Account\\_Key & Registered\\_Date & Country\\_Name & PostCode & First\\_Order\\_Placed & Site\\_Key & Locale & SCV\\_Key & EDomain & X & Country\\_Code.x & Country\\_Code.y & Joined\\_years & time\\_category\\\\\n",
       "\\hline\n",
       "\t  7605           & 2010-06-28      & United Kingdom  & KW1 5QQ         & 2010-06-29      & 121             & en\\_GB         & 982885          & gmail.com       &                 & UK              & UK              & 6.5 days        & 6.5            \\\\\n",
       "\t  5170           & 2010-06-28      & Spain           & 8032            & 2010-06-28      & 120             & es\\_ES         & 5187134         & gmail.com       &                 & ES              & ES              & 6.5 days        & 6.5            \\\\\n",
       "\t  6412           & 2010-06-28      & United Kingdom  & DE21 7SA        & 2010-06-28      & 121             & en\\_GB         & 2502778         & hotmail.co.uk   &                 & UK              & UK              & 6.5 days        & 6.5            \\\\\n",
       "\t 39661           & 2010-07-12      & United Kingdom  & DL5 7QX         & 2010-07-12      & 121             & en\\_GB         & 4841243         & hotmail.com     &                 & UK              & UK              & 6.5 days        & 6.5            \\\\\n",
       "\t 37432           & 2010-07-12      & United Kingdom  & B21 8BE         & 2010-07-12      & 121             & en\\_GB         & 6552130         & tiscali.co.uk   &                 & UK              & UK              & 6.5 days        & 6.5            \\\\\n",
       "\t 36829           & 2010-07-11      & United Kingdom  & BH23 1DW        & 2010-07-11      & 121             & en\\_GB         & 1727308         & tpsreport.co.uk &                 & UK              & UK              & 6.5 days        & 6.5            \\\\\n",
       "\\end{tabular}\n"
      ],
      "text/markdown": [
       "\n",
       "Account_Key | Registered_Date | Country_Name | PostCode | First_Order_Placed | Site_Key | Locale | SCV_Key | EDomain | X | Country_Code.x | Country_Code.y | Joined_years | time_category | \n",
       "|---|---|---|---|---|---|\n",
       "|  7605           | 2010-06-28      | United Kingdom  | KW1 5QQ         | 2010-06-29      | 121             | en_GB           | 982885          | gmail.com       |                 | UK              | UK              | 6.5 days        | 6.5             | \n",
       "|  5170           | 2010-06-28      | Spain           | 8032            | 2010-06-28      | 120             | es_ES           | 5187134         | gmail.com       |                 | ES              | ES              | 6.5 days        | 6.5             | \n",
       "|  6412           | 2010-06-28      | United Kingdom  | DE21 7SA        | 2010-06-28      | 121             | en_GB           | 2502778         | hotmail.co.uk   |                 | UK              | UK              | 6.5 days        | 6.5             | \n",
       "| 39661           | 2010-07-12      | United Kingdom  | DL5 7QX         | 2010-07-12      | 121             | en_GB           | 4841243         | hotmail.com     |                 | UK              | UK              | 6.5 days        | 6.5             | \n",
       "| 37432           | 2010-07-12      | United Kingdom  | B21 8BE         | 2010-07-12      | 121             | en_GB           | 6552130         | tiscali.co.uk   |                 | UK              | UK              | 6.5 days        | 6.5             | \n",
       "| 36829           | 2010-07-11      | United Kingdom  | BH23 1DW        | 2010-07-11      | 121             | en_GB           | 1727308         | tpsreport.co.uk |                 | UK              | UK              | 6.5 days        | 6.5             | \n",
       "\n",
       "\n"
      ],
      "text/plain": [
       "  Account_Key Registered_Date Country_Name   PostCode First_Order_Placed\n",
       "1  7605       2010-06-28      United Kingdom KW1 5QQ  2010-06-29        \n",
       "2  5170       2010-06-28      Spain          8032     2010-06-28        \n",
       "3  6412       2010-06-28      United Kingdom DE21 7SA 2010-06-28        \n",
       "4 39661       2010-07-12      United Kingdom DL5 7QX  2010-07-12        \n",
       "5 37432       2010-07-12      United Kingdom B21 8BE  2010-07-12        \n",
       "6 36829       2010-07-11      United Kingdom BH23 1DW 2010-07-11        \n",
       "  Site_Key Locale SCV_Key EDomain         X Country_Code.x Country_Code.y\n",
       "1 121      en_GB  982885  gmail.com         UK             UK            \n",
       "2 120      es_ES  5187134 gmail.com         ES             ES            \n",
       "3 121      en_GB  2502778 hotmail.co.uk     UK             UK            \n",
       "4 121      en_GB  4841243 hotmail.com       UK             UK            \n",
       "5 121      en_GB  6552130 tiscali.co.uk     UK             UK            \n",
       "6 121      en_GB  1727308 tpsreport.co.uk   UK             UK            \n",
       "  Joined_years time_category\n",
       "1 6.5 days     6.5          \n",
       "2 6.5 days     6.5          \n",
       "3 6.5 days     6.5          \n",
       "4 6.5 days     6.5          \n",
       "5 6.5 days     6.5          \n",
       "6 6.5 days     6.5          "
      ]
     },
     "metadata": {},
     "output_type": "display_data"
    },
    {
     "data": {
      "text/plain": [
       "\n",
       "  0.6   0.7   0.8   0.9   1.1   1.2   1.3   1.4   1.5   1.6   1.7   1.8   1.9 \n",
       "17773 29401 28575  3355  4729  2642  1874  1846  1615  1787  1833  1577  1402 \n",
       "  2.1   2.2   2.3   2.4   2.5   2.6   2.7   2.8   2.9   3.1   3.2   3.3   3.4 \n",
       " 2795  1524  1046  1028   895  1012  1024  1158  1030  1752  1028   919   839 \n",
       "  3.5   3.6   3.7   3.8   3.9   4.1   4.2   4.3   4.4   4.5   4.6   4.7   4.8 \n",
       "  847  1074  1080  1096  1276  1341   795   625   412   397   526   566   617 \n",
       "  4.9   5.1   5.2   5.3   5.4   5.5   5.6   5.7   5.8   5.9   6.1   6.2   6.3 \n",
       "  648  1249   649   618   537   567   429  1153   501   569   982   668   596 \n",
       "  6.4   6.5   6.6   6.7   6.8   6.9   7.1   7.2   7.3   7.4   7.5   7.6   7.7 \n",
       "  381   361   456   503   436   639  1268   474   559   522   430   670   853 \n",
       "  7.8 \n",
       "  876 "
      ]
     },
     "metadata": {},
     "output_type": "display_data"
    }
   ],
   "source": [
    "customer$Joined_years <- round((dmy(\"31/12/2016\")-customer$Registered_Date)/365, 1)\n",
    "head(customer)\n",
    "library(stringr,warn.conflicts=F)\n",
    "expr=\"\\\\d+[\\\\.?]\\\\d?\"\n",
    "customer$time_category<-str_extract(customer$Joined_years,expr)\n",
    "head(customer)\n",
    "table(customer$time_category)"
   ]
  },
  {
   "cell_type": "markdown",
   "metadata": {},
   "source": [
    "### upload the new dataframe to local drive"
   ]
  },
  {
   "cell_type": "code",
   "execution_count": 58,
   "metadata": {
    "collapsed": true
   },
   "outputs": [],
   "source": [
    "write.csv(customer, file = 'customer-new.csv', row.names = F)"
   ]
  }
 ],
 "metadata": {
  "kernelspec": {
   "display_name": "R",
   "language": "R",
   "name": "ir"
  },
  "language_info": {
   "codemirror_mode": "r",
   "file_extension": ".r",
   "mimetype": "text/x-r-source",
   "name": "R",
   "pygments_lexer": "r",
   "version": "3.4.2"
  }
 },
 "nbformat": 4,
 "nbformat_minor": 2
}
